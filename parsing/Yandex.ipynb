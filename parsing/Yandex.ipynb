{
 "cells": [
  {
   "cell_type": "code",
   "execution_count": 1,
   "id": "d2c37a8b",
   "metadata": {},
   "outputs": [],
   "source": [
    "from selenium import webdriver\n",
    "from selenium.webdriver.chrome.options import Options\n",
    "from selenium.webdriver.common.keys import Keys\n",
    "import pandas as pd\n",
    "import time\n",
    "import random\n",
    "import tqdm\n",
    "import pyautogui\n",
    "from bs4 import BeautifulSoup\n",
    "import requests\n",
    "from selenium.webdriver.common.by import By\n",
    "import datetime"
   ]
  },
  {
   "cell_type": "code",
   "execution_count": 2,
   "id": "dbc33a5a",
   "metadata": {},
   "outputs": [],
   "source": [
    "browser = webdriver.Chrome()"
   ]
  },
  {
   "cell_type": "code",
   "execution_count": 3,
   "id": "9cb9fa61",
   "metadata": {},
   "outputs": [],
   "source": [
    "url = 'https://yandex.ru/maps/?display-text=%D0%BA%D0%B0%D0%BB%D1%83%D0%B6%D1%81%D0%BA%D0%B0%D1%8F%20%D0%BE%D0%B1%D0%BB%D0%B0%D1%81%D1%82%D1%8C%20%D0%B1%D0%B0%D0%BD%D0%BA%D0%BE%D0%BC%D0%B0%D1%82%D1%8B%20%D1%81%D0%B1%D0%B5%D1%80%D0%B1%D0%B0%D0%BD%D0%BA&ll=35.715894%2C54.640877&mode=search&sll=38.204526%2C55.019035&sspn=10.058739%2C4.136658&text=%D0%BA%D0%B0%D0%BB%D1%83%D0%B6%D1%81%D0%BA%D0%B0%D1%8F%20%D0%BE%D0%B1%D0%BB%D0%B0%D1%81%D1%82%D1%8C%20%D0%B1%D0%B0%D0%BD%D0%BA%D0%BE%D0%BC%D0%B0%D1%82%D1%8B%20%D1%81%D0%B1%D0%B5%D1%80%D0%B1%D0%B0%D0%BD%D0%BA&z=7.27'\n",
    "browser.get(url)"
   ]
  },
  {
   "cell_type": "code",
   "execution_count": 4,
   "id": "45ab6fa0",
   "metadata": {},
   "outputs": [],
   "source": [
    "inp = browser.find_element(By.XPATH,'/html/body/div[1]/div[2]/div[3]/header/div/div/div/form/div[2]/div/span/span/input')"
   ]
  },
  {
   "cell_type": "code",
   "execution_count": 5,
   "id": "42b1c473",
   "metadata": {},
   "outputs": [],
   "source": [
    "inp.send_keys(Keys.CONTROL + \"a\")\n",
    "inp.send_keys(Keys.DELETE)\n",
    "inp.send_keys(\"Камчатский край банкоматы Сбербанк\")\n",
    "time.sleep(3)\n",
    "inp.send_keys(Keys.ENTER)\n",
    "time.sleep(5)"
   ]
  },
  {
   "cell_type": "code",
   "execution_count": 6,
   "id": "e43574a8",
   "metadata": {},
   "outputs": [],
   "source": [
    "h = ''\n",
    "elem = browser.find_elements(By.CLASS_NAME,'search-business-snippet-view')\n",
    "while h != elem[-1]:\n",
    "    h = elem[-1]\n",
    "    browser.execute_script(\"arguments[0].scrollIntoView(true);\",elem[-1])\n",
    "    time.sleep(5)\n",
    "    elem = browser.find_elements(By.CLASS_NAME,'search-business-snippet-view')\n",
    "    \n",
    "    time.sleep(2)"
   ]
  },
  {
   "cell_type": "code",
   "execution_count": 7,
   "id": "31f4aff0",
   "metadata": {},
   "outputs": [],
   "source": [
    "ee = browser.find_elements(By.XPATH,'//a[@class=\"search-snippet-view__link-overlay _focusable\"]')\n",
    "Links = [ee[i].get_attribute('href') for i in range(len(ee))]"
   ]
  },
  {
   "cell_type": "code",
   "execution_count": 14,
   "id": "5701d2b2",
   "metadata": {},
   "outputs": [],
   "source": [
    "df = pd.DataFrame(columns = ['link', 'adr','work','ost','otz','osob','inf', 'time_added'])"
   ]
  },
  {
   "cell_type": "code",
   "execution_count": null,
   "id": "2be60359",
   "metadata": {},
   "outputs": [],
   "source": [
    "for j in Links:\n",
    "    browser.get(j)\n",
    "    time.sleep(5)\n",
    "    browser.find_elements(By.CLASS_NAME, 'business-working-status-view')[0].click()\n",
    "    time.sleep(2)\n",
    "    work = ''\n",
    "    el_d = browser.find_elements(By.CLASS_NAME, 'business-working-intervals-view__day')\n",
    "    el_t = browser.find_elements(By.CLASS_NAME, 'business-working-intervals-view__intervals')\n",
    "    if len(el_d) != len(el_t):\n",
    "        print('error')\n",
    "        continue\n",
    "    else:\n",
    "        for i in range(len(el_d)):\n",
    "            work = work + el_d[i].text + ' : '\n",
    "            work = work + el_t[i].text + '/n'\n",
    "\n",
    "    close = browser.find_elements(By.CLASS_NAME, 'close-button')\n",
    "    if len(close) > 0:\n",
    "        close[0].click()\n",
    "    time.sleep(1)\n",
    "\n",
    "    link = j\n",
    "\n",
    "    adr = browser.find_elements(By.CLASS_NAME, 'business-contacts-view__address-link')\n",
    "    if len(adr) > 0:\n",
    "        adr = adr[0].text\n",
    "    else:\n",
    "        adr = ''\n",
    "\n",
    "    ost = browser.find_element(By.CLASS_NAME, 'masstransit-stops-view__stop-name')\n",
    "    metrs = browser.find_element(By.CLASS_NAME, 'masstransit-stops-view__stop-distance')\n",
    "    ost = ost.text + '  ' + metrs.text\n",
    "\n",
    "    features = browser.find_elements(By.CLASS_NAME, 'business-features-view__bool-text')\n",
    "\n",
    "    vkl = browser.find_elements(By.CLASS_NAME, 'tabs-select-view__title')\n",
    "\n",
    "    vkl[2].click()\n",
    "    time.sleep(5)\n",
    "\n",
    "    o = browser.find_elements(By.CLASS_NAME, 'business-review-view__body-text')\n",
    "    otz = []\n",
    "    for i in range(len(o)):\n",
    "        otz.append(o[i].text)\n",
    "\n",
    "    vkl[4].click()\n",
    "    time.sleep(5)\n",
    "\n",
    "    o = browser.find_elements(By.CLASS_NAME, 'business-features-view__bool-text')\n",
    "    osob = []\n",
    "    for i in range(len(o)):\n",
    "        osob.append(o[i].text)\n",
    "\n",
    "    time.sleep(3)\n",
    "\n",
    "    o = browser.find_elements(By.CLASS_NAME, 'business-features-view__valued-value')\n",
    "    oper = []\n",
    "    for i in range(len(o)):\n",
    "        oper.append(o[i].text)\n",
    "\n",
    "    current_time = datetime.datetime.now()\n",
    "\n",
    "    df = df.append({'link': link, 'adr': adr, 'work': work, 'ost': ost, 'otz': otz,\n",
    "                    'osob': osob, 'inf': oper, 'time_added': current_time}, ignore_index=True)"
   ]
  },
  {
   "cell_type": "code",
   "execution_count": 16,
   "id": "6b37bf78",
   "metadata": {},
   "outputs": [],
   "source": [
    "df.to_excel('Камчатский.xlsx')"
   ]
  }
 ],
 "metadata": {
  "kernelspec": {
   "display_name": "Python 3 (ipykernel)",
   "language": "python",
   "name": "python3"
  },
  "language_info": {
   "codemirror_mode": {
    "name": "ipython",
    "version": 3
   },
   "file_extension": ".py",
   "mimetype": "text/x-python",
   "name": "python",
   "nbconvert_exporter": "python",
   "pygments_lexer": "ipython3",
   "version": "3.11.4"
  }
 },
 "nbformat": 4,
 "nbformat_minor": 5
}
