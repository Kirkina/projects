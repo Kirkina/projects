{
 "cells": [
  {
   "cell_type": "code",
   "execution_count": 1,
   "id": "e629341b",
   "metadata": {},
   "outputs": [],
   "source": [
    "from bs4 import BeautifulSoup\n",
    "import requests\n",
    "import pandas as pd\n",
    "import json\n",
    "import re\n",
    "import time\n",
    "from selenium import webdriver\n",
    "from selenium.webdriver.common.by import By\n",
    "import warnings\n",
    "warnings.filterwarnings(\"ignore\")"
   ]
  },
  {
   "cell_type": "code",
   "execution_count": 2,
   "id": "be76c4b7",
   "metadata": {},
   "outputs": [],
   "source": [
    "headers = {'User-Agent': 'Mozilla/5.0 (Windows NT 10.0; Win64; x64) AppleWebKit/537.36 (KHTML, like Gecko) Chrome/114.0.0.0'}"
   ]
  },
  {
   "cell_type": "code",
   "execution_count": 3,
   "id": "23b77bef",
   "metadata": {},
   "outputs": [
    {
     "name": "stderr",
     "output_type": "stream",
     "text": [
      "The chromedriver version (114.0.5735.90) detected in PATH at C:\\chromedriver\\chromedriver.exe might not be compatible with the detected chrome version (115.0.5790.170); currently, chromedriver 115.0.5790.170 is recommended for chrome 115.*, so it is advised to delete the driver in PATH and retry\n"
     ]
    }
   ],
   "source": [
    "start_time = time.time()\n",
    "\n",
    "result_df1 = pd.DataFrame(columns=['Название вакансии', 'з/п', 'город', 'описание вакансии', 'дата размещения', 'ссылка'])\n",
    "num_of_page = 2\n",
    "\n",
    "with webdriver.Chrome() as browser:\n",
    "    for i in range(num_of_page):\n",
    "        url = f'https://nn.hh.ru/search/vacancy?L_is_autosearch=false&ored_clusters=true&employer_id=3529&page={i+1}'\n",
    "        \n",
    "        browser.get(url)\n",
    "        time.sleep(1)\n",
    "        soup = BeautifulSoup(browser.page_source, 'html.parser')\n",
    "        links_ = soup.find_all('a', class_='serp-item__title')\n",
    "        links = [link['href'] for link in links_]\n",
    "\n",
    "        for link in links:\n",
    "            result = requests.get(link, headers=headers)\n",
    "            content = result.text \n",
    "            soup = BeautifulSoup(content, 'html.parser')\n",
    "\n",
    "            name_vac = soup.find('h1', class_='bloko-header-section-1')\n",
    "            name_vac = name_vac.get_text() if name_vac else 'No information'\n",
    "\n",
    "            sal = soup.find('div', class_='wrapper-flat--H4DVL_qLjKLCo1sytcNI')\n",
    "            salary_text = sal.find('span', class_='bloko-header-section-2 bloko-header-section-2_lite').text.strip() if sal and sal.find('span', class_='bloko-header-section-2 bloko-header-section-2_lite') else 'No information'\n",
    "            salary = salary_text.split('до вычета налогов')[0].strip()\n",
    "\n",
    "            city_element = soup.find('a', class_='bloko-link bloko-link_kind-tertiary bloko-link_disable-visited')\n",
    "            city = city_element.get_text() if city_element else soup.find('div', class_='vacancy-company-redesigned').find_all('p')[-1].get_text() if soup.find('div', class_='vacancy-company-redesigned') else 'No information'\n",
    "\n",
    "            description_el = soup.find('div', class_='vacancy-branded-user-content')\n",
    "            description = description_el.find_all('p')[1].get_text() if description_el else 'No information'\n",
    "\n",
    "            date_el = soup.find('p', class_='vacancy-creation-time-redesigned')\n",
    "            date = date_el.find('span').get_text().replace('₽', '').strip() if date_el else 'No information'\n",
    "\n",
    "            link_vac = soup.find('link', href=True, rel=\"canonical\")['href']\n",
    "            \n",
    "            new_row = {'Название вакансии': name_vac, 'з/п': salary, 'город': city, 'описание вакансии': description, 'дата размещения': date, 'ссылка': link_vac}\n",
    "            result_df1 = result_df1.append(new_row, ignore_index=True)\n",
    "\n",
    "end_time = time.time()\n",
    "execution_time = end_time - start_time\n",
    "#print(f\"Время выполнения: {execution_time} сек.\")\n",
    "\n",
    "#print(result_df1)\n",
    "\n",
    "# result_df1.to_excel('r.xlsx')"
   ]
  }
 ],
 "metadata": {
  "kernelspec": {
   "display_name": "Python 3 (ipykernel)",
   "language": "python",
   "name": "python3"
  },
  "language_info": {
   "codemirror_mode": {
    "name": "ipython",
    "version": 3
   },
   "file_extension": ".py",
   "mimetype": "text/x-python",
   "name": "python",
   "nbconvert_exporter": "python",
   "pygments_lexer": "ipython3",
   "version": "3.11.4"
  }
 },
 "nbformat": 4,
 "nbformat_minor": 5
}
