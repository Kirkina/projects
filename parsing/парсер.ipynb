{
 "cells": [
  {
   "cell_type": "code",
   "execution_count": 67,
   "id": "c58b6336",
   "metadata": {},
   "outputs": [
    {
     "name": "stdout",
     "output_type": "stream",
     "text": [
      "Response status code: 200\n",
      "Response data: {'type': 'FeatureCollection', 'properties': {'ResponseMetaData': {'SearchResponse': {'found': 20, 'display': 'multiple', 'boundedBy': [[43.9705567, 56.26547463], [44.0681153, 56.36019282]]}, 'SearchRequest': {'request': 'банкомат Сбербанка', 'skip': 0, 'results': 10, 'boundedBy': [[18.996895, 23.89169256], [68.996895, 73.92836434]]}}}, 'features': [{'type': 'Feature', 'geometry': {'type': 'Point', 'coordinates': [43.990264, 56.314297]}, 'properties': {'name': 'Сбербанк', 'description': 'площадь Максима Горького, 4, Нижний Новгород, Россия', 'boundedBy': [[43.986089, 56.311976], [43.994299, 56.316539]], 'uri': 'ymapsbm1://org?oid=78310936253', 'CompanyMetaData': {'id': '78310936253', 'name': 'Сбербанк', 'address': 'Нижний Новгород, площадь Максима Горького, 4', 'url': 'https://www.sberbank.ru/', 'Phones': [{'type': 'phone', 'formatted': '8 (800) 555-55-50'}, {'type': 'phone', 'formatted': '900'}], 'Categories': [{'class': 'currency exchange', 'name': 'Банкомат'}], 'Hours': {'text': 'ежедневно, круглосуточно', 'Availabilities': [{'TwentyFourHours': True, 'Everyday': True}]}}}}, {'type': 'Feature', 'geometry': {'type': 'Point', 'coordinates': [43.986452, 56.30943]}, 'properties': {'name': 'Сбербанк', 'description': 'Большая Покровская ул., 82, Нижний Новгород, Россия', 'boundedBy': [[43.985433, 56.308865], [43.987481, 56.310003]], 'uri': 'ymapsbm1://org?oid=207699049012', 'CompanyMetaData': {'id': '207699049012', 'name': 'Сбербанк', 'address': 'Нижний Новгород, Большая Покровская улица, 82', 'url': 'https://www.sberbank.ru/', 'Phones': [{'type': 'phone', 'formatted': '8 (800) 555-55-50'}, {'type': 'phone', 'formatted': '900'}], 'Categories': [{'class': 'currency exchange', 'name': 'Банкомат'}], 'Hours': {'text': 'ежедневно, 08:00–23:00', 'Availabilities': [{'Intervals': [{'from': '08:00:00', 'to': '23:00:00'}], 'Everyday': True}]}}}}, {'type': 'Feature', 'geometry': {'type': 'Point', 'coordinates': [43.986318, 56.318331]}, 'properties': {'name': 'Сбербанк', 'description': 'ул. Гоголя, 1А, Нижний Новгород, Россия', 'boundedBy': [[43.982451, 56.316279], [43.990661, 56.320842]], 'uri': 'ymapsbm1://org?oid=40672781754', 'CompanyMetaData': {'id': '40672781754', 'name': 'Сбербанк', 'address': 'Нижний Новгород, улица Гоголя, 1А', 'url': 'https://www.sberbank.ru/', 'Phones': [{'type': 'phone', 'formatted': '900'}], 'Categories': [{'class': 'currency exchange', 'name': 'Банкомат'}]}}}, {'type': 'Feature', 'geometry': {'type': 'Point', 'coordinates': [44.022453, 56.317647]}, 'properties': {'name': 'Сбербанк', 'description': 'ул. Белинского, 69, Нижний Новгород, Россия', 'boundedBy': [[44.018168, 56.315296], [44.026378, 56.319859]], 'uri': 'ymapsbm1://org?oid=40254808957', 'CompanyMetaData': {'id': '40254808957', 'name': 'Сбербанк', 'address': 'Нижний Новгород, улица Белинского, 69', 'url': 'https://www.sberbank.ru/', 'Phones': [{'type': 'phone', 'formatted': '8 (800) 555-55-50'}, {'type': 'phone', 'formatted': '900'}], 'Categories': [{'class': 'currency exchange', 'name': 'Банкомат'}], 'Hours': {'text': 'ежедневно, 05:00–00:00', 'Availabilities': [{'Intervals': [{'from': '05:00:00', 'to': '00:00:00'}], 'Everyday': True}]}}}}, {'type': 'Feature', 'geometry': {'type': 'Point', 'coordinates': [43.99814, 56.310389]}, 'properties': {'name': 'Сбербанк', 'description': 'ул. Белинского, 38, Нижний Новгород, Россия', 'boundedBy': [[43.994236, 56.308221], [44.002447, 56.312784]], 'uri': 'ymapsbm1://org?oid=230240756968', 'CompanyMetaData': {'id': '230240756968', 'name': 'Сбербанк', 'address': 'Нижний Новгород, улица Белинского, 38', 'url': 'https://www.sberbank.ru/', 'Phones': [{'type': 'phone', 'formatted': '8 (800) 555-55-50'}, {'type': 'phone', 'formatted': '+7 (495) 500-55-50'}, {'type': 'phone', 'formatted': '900'}], 'Categories': [{'class': 'currency exchange', 'name': 'Банкомат'}], 'Hours': {'text': 'ежедневно, круглосуточно', 'Availabilities': [{'TwentyFourHours': True, 'Everyday': True}]}}}}, {'type': 'Feature', 'geometry': {'type': 'Point', 'coordinates': [44.023418, 56.308783]}, 'properties': {'name': 'Сбербанк', 'description': 'ул. Ванеева, 24, Нижний Новгород, Россия', 'boundedBy': [[44.019102, 56.306782], [44.027312, 56.311346]], 'uri': 'ymapsbm1://org?oid=81391156549', 'CompanyMetaData': {'id': '81391156549', 'name': 'Сбербанк', 'address': 'Нижний Новгород, улица Ванеева, 24', 'url': 'https://www.sberbank.ru/', 'Phones': [{'type': 'phone', 'formatted': '8 (800) 555-55-50'}, {'type': 'phone', 'formatted': '900'}], 'Categories': [{'class': 'currency exchange', 'name': 'Банкомат'}], 'Hours': {'text': 'ежедневно, 05:00–00:00', 'Availabilities': [{'Intervals': [{'from': '05:00:00', 'to': '00:00:00'}], 'Everyday': True}]}}}}, {'type': 'Feature', 'geometry': {'type': 'Point', 'coordinates': [44.010065, 56.322124]}, 'properties': {'name': 'Сбербанк', 'description': 'Октябрьская ул., 35, Нижний Новгород, Россия', 'boundedBy': [[44.005861, 56.319794], [44.014071, 56.324356]], 'uri': 'ymapsbm1://org?oid=1123551926', 'CompanyMetaData': {'id': '1123551926', 'name': 'Сбербанк', 'address': 'Нижний Новгород, Октябрьская улица, 35', 'url': 'https://www.sberbank.ru/', 'Phones': [{'type': 'phone', 'formatted': '8 (800) 555-55-50'}, {'type': 'phone', 'formatted': '900'}], 'Categories': [{'class': 'currency exchange', 'name': 'Банкомат'}], 'Hours': {'text': 'ежедневно, круглосуточно', 'Availabilities': [{'TwentyFourHours': True, 'Everyday': True}]}}}}, {'type': 'Feature', 'geometry': {'type': 'Point', 'coordinates': [44.021773, 56.324975]}, 'properties': {'name': 'Сбербанк', 'description': 'Большая Печёрская ул., 25/12, Нижний Новгород, Россия', 'boundedBy': [[44.018033, 56.322599], [44.026243, 56.327161]], 'uri': 'ymapsbm1://org?oid=9002430593', 'CompanyMetaData': {'id': '9002430593', 'name': 'Сбербанк', 'address': 'Нижний Новгород, Большая Печёрская улица, 25/12', 'url': 'https://www.sberbank.ru/', 'Phones': [{'type': 'phone', 'formatted': '8 (800) 555-55-50'}, {'type': 'phone', 'formatted': '+7 (495) 555-55-50'}, {'type': 'phone', 'formatted': '900'}], 'Categories': [{'class': 'currency exchange', 'name': 'Банкомат'}], 'Hours': {'text': 'пн-пт 09:00–17:00', 'Availabilities': [{'Intervals': [{'from': '09:00:00', 'to': '17:00:00'}], 'Monday': True, 'Tuesday': True, 'Wednesday': True, 'Thursday': True, 'Friday': True}]}}}}, {'type': 'Feature', 'geometry': {'type': 'Point', 'coordinates': [43.996871, 56.306249]}, 'properties': {'name': 'Сбербанк', 'description': 'ул. Тимирязева, 3, Нижний Новгород, Россия', 'boundedBy': [[43.991407, 56.303811], [43.999617, 56.308375]], 'uri': 'ymapsbm1://org?oid=1050317659', 'CompanyMetaData': {'id': '1050317659', 'name': 'Сбербанк', 'address': 'Нижний Новгород, улица Тимирязева, 3', 'url': 'https://www.sberbank.ru/', 'Phones': [{'type': 'phone', 'formatted': '8 (800) 555-55-50'}, {'type': 'phone', 'formatted': '900'}], 'Categories': [{'class': 'currency exchange', 'name': 'Банкомат'}], 'Hours': {'text': 'ежедневно, круглосуточно', 'Availabilities': [{'TwentyFourHours': True, 'Everyday': True}]}}}}, {'type': 'Feature', 'geometry': {'type': 'Point', 'coordinates': [44.053718, 56.319693]}, 'properties': {'name': 'Сбербанк', 'description': 'ул. Родионова, 17, Нижний Новгород, Россия', 'boundedBy': [[44.050121, 56.317248], [44.058331, 56.32181]], 'uri': 'ymapsbm1://org?oid=30065222211', 'CompanyMetaData': {'id': '30065222211', 'name': 'Сбербанк', 'address': 'Нижний Новгород, улица Родионова, 17', 'url': 'https://www.sberbank.ru/', 'Phones': [{'type': 'phone', 'formatted': '8 (800) 555-55-50'}, {'type': 'phone', 'formatted': '900'}], 'Categories': [{'class': 'currency exchange', 'name': 'Банкомат'}], 'Hours': {'text': 'ежедневно, 05:00–00:00', 'Availabilities': [{'Intervals': [{'from': '05:00:00', 'to': '00:00:00'}], 'Everyday': True}]}}}}]}\n",
      "       name                                          address  \\\n",
      "0  Сбербанк     Нижний Новгород, площадь Максима Горького, 4   \n",
      "1  Сбербанк    Нижний Новгород, Большая Покровская улица, 82   \n",
      "2  Сбербанк                Нижний Новгород, улица Гоголя, 1А   \n",
      "3  Сбербанк            Нижний Новгород, улица Белинского, 69   \n",
      "4  Сбербанк            Нижний Новгород, улица Белинского, 38   \n",
      "5  Сбербанк               Нижний Новгород, улица Ванеева, 24   \n",
      "6  Сбербанк           Нижний Новгород, Октябрьская улица, 35   \n",
      "7  Сбербанк  Нижний Новгород, Большая Печёрская улица, 25/12   \n",
      "8  Сбербанк             Нижний Новгород, улица Тимирязева, 3   \n",
      "9  Сбербанк             Нижний Новгород, улица Родионова, 17   \n",
      "\n",
      "                                               hours  \n",
      "0  {'text': 'ежедневно, круглосуточно', 'Availabi...  \n",
      "1  {'text': 'ежедневно, 08:00–23:00', 'Availabili...  \n",
      "2                                            Unknown  \n",
      "3  {'text': 'ежедневно, 05:00–00:00', 'Availabili...  \n",
      "4  {'text': 'ежедневно, круглосуточно', 'Availabi...  \n",
      "5  {'text': 'ежедневно, 05:00–00:00', 'Availabili...  \n",
      "6  {'text': 'ежедневно, круглосуточно', 'Availabi...  \n",
      "7  {'text': 'пн-пт 09:00–17:00', 'Availabilities'...  \n",
      "8  {'text': 'ежедневно, круглосуточно', 'Availabi...  \n",
      "9  {'text': 'ежедневно, 05:00–00:00', 'Availabili...  \n",
      "Данные успешно сохранены в файл 'банкоматы.xlsx'\n"
     ]
    }
   ],
   "source": [
    "import requests\n",
    "import pandas as pd\n",
    "\n",
    "def get_atms(api_key, latitude, longitude, radius):\n",
    "    url = \"https://search-maps.yandex.ru/v1/\"\n",
    "    params = {\n",
    "        \"text\": \"банкомат Сбербанка\",\n",
    "        \"ll\": f\"{longitude},{latitude}\",\n",
    "        \"spn\": f\"{radius / 200},{radius / 200}\",\n",
    "        \"type\": \"biz\",\n",
    "        \"apikey\": api_key,\n",
    "        \"lang\": \"ru_RU\"\n",
    "    }\n",
    "\n",
    "    response = requests.get(url, params=params)\n",
    "    print(\"Response status code:\", response.status_code)\n",
    "    data = response.json()\n",
    "    print(\"Response data:\", data)\n",
    "\n",
    "    atms = []\n",
    "    if \"features\" in data:\n",
    "        for feature in data[\"features\"]:\n",
    "            name = feature[\"properties\"][\"name\"]\n",
    "            address = feature[\"properties\"][\"CompanyMetaData\"][\"address\"]\n",
    "            hours = feature[\"properties\"][\"CompanyMetaData\"].get(\"Hours\", \"Unknown\")\n",
    "            atms.append({\"name\": name, \"address\": address, \"hours\": hours})\n",
    "    \n",
    "    return atms\n",
    "\n",
    "api_key = \"5cccf681-14f9-4917-b12c-94f3642ee9c6\"\n",
    "\n",
    "latitude = 56.307227\n",
    "longitude = 43.996895\n",
    "radius = 10000  # в метрах\n",
    "\n",
    "# Получение информации о банкоматах\n",
    "atms = get_atms(api_key, latitude, longitude, radius)\n",
    "if atms:\n",
    "    df = pd.DataFrame(atms)\n",
    "    print(df)\n",
    "    df.to_excel('банкоматы.xlsx', index=False)\n",
    "    print(\"Данные успешно сохранены\")\n",
    "else:\n",
    "    print(\"В указанном радиусе нет банкоматов.\")"
   ]
  }
 ],
 "metadata": {
  "kernelspec": {
   "display_name": "Python 3 (ipykernel)",
   "language": "python",
   "name": "python3"
  },
  "language_info": {
   "codemirror_mode": {
    "name": "ipython",
    "version": 3
   },
   "file_extension": ".py",
   "mimetype": "text/x-python",
   "name": "python",
   "nbconvert_exporter": "python",
   "pygments_lexer": "ipython3",
   "version": "3.11.4"
  }
 },
 "nbformat": 4,
 "nbformat_minor": 5
}
