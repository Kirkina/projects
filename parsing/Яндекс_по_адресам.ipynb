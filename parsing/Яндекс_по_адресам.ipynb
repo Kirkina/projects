{
 "cells": [
  {
   "cell_type": "code",
   "execution_count": 1,
   "id": "fb83c23a",
   "metadata": {},
   "outputs": [],
   "source": [
    "from selenium import webdriver\n",
    "from selenium.webdriver.chrome.options import Options\n",
    "from selenium.webdriver.common.keys import Keys\n",
    "import pandas as pd\n",
    "import time\n",
    "import random\n",
    "import tqdm\n",
    "import pyautogui\n",
    "from bs4 import BeautifulSoup\n",
    "import requests\n",
    "from selenium.webdriver.common.by import By\n",
    "import time \n",
    "import datetime"
   ]
  },
  {
   "cell_type": "code",
   "execution_count": 2,
   "id": "d9f4a0b3",
   "metadata": {},
   "outputs": [],
   "source": [
    "browser = webdriver.Chrome()\n",
    "df = pd.DataFrame(columns = ['Что ищем','Время сбора','Ссылка','adr','work','ost','otz','osob','inf'])"
   ]
  },
  {
   "cell_type": "code",
   "execution_count": 3,
   "id": "0e115cab",
   "metadata": {},
   "outputs": [],
   "source": [
    "browser.get(r'https://yandex.ru/maps/')"
   ]
  },
  {
   "cell_type": "code",
   "execution_count": 4,
   "id": "42ad357d",
   "metadata": {},
   "outputs": [
    {
     "data": {
      "text/plain": [
       "['г. казань, ул. Петербургская, 28, отделение сбербанка',\n",
       " 'ул. Пушкина, 4, Казань, отделение сбербанка']"
      ]
     },
     "execution_count": 4,
     "metadata": {},
     "output_type": "execute_result"
    }
   ],
   "source": [
    "Poisk = browser.find_element(By.CLASS_NAME,'input__control')\n",
    "adress = pd.read_excel('адр_пробник.xlsx')\n",
    "adress = list(adress['адреса'])\n",
    "adress"
   ]
  },
  {
   "cell_type": "code",
   "execution_count": null,
   "id": "387b623d",
   "metadata": {},
   "outputs": [],
   "source": [
    "def sbor(aa):\n",
    "    temp = pd.DataFrame(columns = ['Что ищем','Время сбора','Ссылка','adr','work','ost','otz','osob','inf'])\n",
    "    time.sleep(1)\n",
    "    \n",
    "    work = ''\n",
    "    \n",
    "    if browser.find_elements(By.CLASS_NAME,'card-feature-view__value')[0].text == 'Добавить':\n",
    "        work = browser.find_elements(By.CLASS_NAME,'business-working-status-view')[-1].text\n",
    "    elif browser.find_elements(By.CLASS_NAME,'card-feature-view__value')[0].text == 'График':\n",
    "        browser.find_elements(By.CLASS_NAME,'card-feature-view__value')[0].click()\n",
    "        time.sleep(1)\n",
    "        #browser.find_elements(By.CLASS_NAME,'business-working-status-view')[0].click()\n",
    "        time.sleep(2)\n",
    "        e = browser.find_elements(By.CLASS_NAME,'business-working-intervals-view__item')\n",
    "        \n",
    "        for ee in e:\n",
    "            work = work + ' ' + ee.text\n",
    "        time.sleep(1)\n",
    "\n",
    "    adr = browser.find_elements(By.CLASS_NAME,'business-contacts-view__address-link')\n",
    "    adr = adr[0].text\n",
    "\n",
    "    ost = browser.find_element(By.CLASS_NAME,'masstransit-stops-view__stop-name')\n",
    "    metrs = browser.find_element(By.CLASS_NAME,'masstransit-stops-view__stop-distance')\n",
    "    ost = ost.text+'  '+metrs.text\n",
    "\n",
    "    features = browser.find_elements(By.CLASS_NAME,'business-features-view__bool-text')\n",
    "\n",
    "    vkl = browser.find_elements(By.CLASS_NAME,'tabs-select-view__title')\n",
    "\n",
    "    vkl[2].click()\n",
    "    time.sleep(5)\n",
    "\n",
    "    o = browser.find_elements(By.CLASS_NAME,'business-review-view__body-text')\n",
    "    otz = []\n",
    "    for i in range(len(o)):\n",
    "        otz.append(o[i].text)\n",
    "\n",
    "    vkl[4].click()\n",
    "    time.sleep(5)\n",
    "\n",
    "    o = browser.find_elements(By.CLASS_NAME,'business-features-view__bool-text')\n",
    "    osob = []\n",
    "    for i in range(len(o)):\n",
    "        osob.append(o[i].text)\n",
    "\n",
    "    time.sleep(3)\n",
    "\n",
    "    o = browser.find_elements(By.CLASS_NAME,'business-features-view__valued-value')\n",
    "    oper = []\n",
    "    for i in range(len(o)):\n",
    "        oper.append(o[i].text)\n",
    "    temp = temp.append({'Что ищем':aa,'Время сбора':datetime.datetime.now(),'Ссылка':browser.current_url,'adr':adr,'work':work,'ost':ost,'otz':otz,'osob':osob,'inf':oper},ignore_index=True)\n",
    "    return temp\n",
    "\n",
    "for aa in adress:\n",
    "    Poisk.send_keys(Keys.CONTROL + 'a')\n",
    "    Poisk.send_keys(Keys.DELETE)\n",
    "    time.sleep(0.5)\n",
    "    \n",
    "    \n",
    "    Poisk.send_keys(aa)\n",
    "    time.sleep(1.5)\n",
    "    Poisk.send_keys(Keys.ENTER)\n",
    "    time.sleep(5)\n",
    "    h = ''\n",
    "    elem = browser.find_elements(By.CLASS_NAME,'search-business-snippet-view')\n",
    "    if len(elem)>0:\n",
    "        while h != elem[-1]:\n",
    "            h = elem[-1]\n",
    "            browser.execute_script(\"arguments[0].scrollIntoView(true);\",elem[-1])\n",
    "            time.sleep(1)\n",
    "            elem = browser.find_elements(By.CLASS_NAME,'search-business-snippet-view')\n",
    "        \n",
    "    \n",
    "        for h in elem:\n",
    "            browser.execute_script(\"arguments[0].scrollIntoView(true);\",h)\n",
    "            time.sleep(1)\n",
    "            h.click()\n",
    "            df = df.append(sbor(aa))\n",
    "            \n",
    "    else:\n",
    "        df = df.append(sbor(aa))\n",
    "            "
   ]
  },
  {
   "cell_type": "markdown",
   "id": "a6c010cd",
   "metadata": {},
   "source": [
    "df"
   ]
  }
 ],
 "metadata": {
  "kernelspec": {
   "display_name": "Python 3 (ipykernel)",
   "language": "python",
   "name": "python3"
  },
  "language_info": {
   "codemirror_mode": {
    "name": "ipython",
    "version": 3
   },
   "file_extension": ".py",
   "mimetype": "text/x-python",
   "name": "python",
   "nbconvert_exporter": "python",
   "pygments_lexer": "ipython3",
   "version": "3.11.4"
  }
 },
 "nbformat": 4,
 "nbformat_minor": 5
}
