{
 "cells": [
  {
   "cell_type": "code",
   "execution_count": 3,
   "id": "8e25e1fe",
   "metadata": {},
   "outputs": [],
   "source": [
    "from geopy.geocoders import Nominatim"
   ]
  },
  {
   "cell_type": "code",
   "execution_count": 10,
   "id": "2c88a584",
   "metadata": {},
   "outputs": [
    {
     "name": "stdout",
     "output_type": "stream",
     "text": [
      "[(56.3178051, 43.9886726), (56.316649, 43.9896659)]\n"
     ]
    }
   ],
   "source": [
    "def geocode_address(address):\n",
    "    geolocator = Nominatim(user_agent=\"my_geocoder\")\n",
    "    location = geolocator.geocode(address)\n",
    "\n",
    "    if location:\n",
    "        latitude = location.latitude\n",
    "        longitude = location.longitude\n",
    "        return latitude, longitude\n",
    "    else:\n",
    "        print(f\"Адрес не найден: {address}\")\n",
    "        return None\n",
    "\n",
    "# Пример использования\n",
    "addresses = [\"Ильинская улица, 82В, Нижний Новгород, 603000\",\" улица Архитектора Харитонова, 1А, Нижний Новгород, 603000\"]\n",
    "\n",
    "\n",
    "\n",
    "\n",
    "coordinates = [geocode_address(address) for address in addresses]\n",
    "\n",
    "print(coordinates)"
   ]
  }
 ],
 "metadata": {
  "kernelspec": {
   "display_name": "Python 3 (ipykernel)",
   "language": "python",
   "name": "python3"
  },
  "language_info": {
   "codemirror_mode": {
    "name": "ipython",
    "version": 3
   },
   "file_extension": ".py",
   "mimetype": "text/x-python",
   "name": "python",
   "nbconvert_exporter": "python",
   "pygments_lexer": "ipython3",
   "version": "3.11.4"
  }
 },
 "nbformat": 4,
 "nbformat_minor": 5
}
