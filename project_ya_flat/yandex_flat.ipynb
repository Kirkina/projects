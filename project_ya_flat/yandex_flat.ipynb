{
 "cells": [
  {
   "cell_type": "markdown",
   "metadata": {},
   "source": [
    "# Исследование объявлений о продаже квартир\n",
    "\n",
    "В вашем распоряжении данные сервиса Яндекс.Недвижимость — архив объявлений о продаже квартир в Санкт-Петербурге и соседних населённых пунктов за несколько лет. Нужно научиться определять рыночную стоимость объектов недвижимости. Ваша задача — установить параметры. Это позволит построить автоматизированную систему: она отследит аномалии и мошенническую деятельность. \n",
    "\n",
    "По каждой квартире на продажу доступны два вида данных. Первые вписаны пользователем, вторые — получены автоматически на основе картографических данных. Например, расстояние до центра, аэропорта, ближайшего парка и водоёма. "
   ]
  },
  {
   "cell_type": "markdown",
   "metadata": {},
   "source": [
    "### Откройте файл с данными и изучите общую информацию. "
   ]
  },
  {
   "cell_type": "code",
   "execution_count": 1,
   "metadata": {},
   "outputs": [],
   "source": [
    "import pandas as pd"
   ]
  },
  {
   "cell_type": "code",
   "execution_count": 42,
   "metadata": {},
   "outputs": [
    {
     "data": {
      "text/html": [
       "<div>\n",
       "<style scoped>\n",
       "    .dataframe tbody tr th:only-of-type {\n",
       "        vertical-align: middle;\n",
       "    }\n",
       "\n",
       "    .dataframe tbody tr th {\n",
       "        vertical-align: top;\n",
       "    }\n",
       "\n",
       "    .dataframe thead th {\n",
       "        text-align: right;\n",
       "    }\n",
       "</style>\n",
       "<table border=\"1\" class=\"dataframe\">\n",
       "  <thead>\n",
       "    <tr style=\"text-align: right;\">\n",
       "      <th></th>\n",
       "      <th>total_images</th>\n",
       "      <th>last_price</th>\n",
       "      <th>total_area</th>\n",
       "      <th>first_day_exposition</th>\n",
       "      <th>rooms</th>\n",
       "      <th>ceiling_height</th>\n",
       "      <th>floors_total</th>\n",
       "      <th>living_area</th>\n",
       "      <th>floor</th>\n",
       "      <th>is_apartment</th>\n",
       "      <th>...</th>\n",
       "      <th>kitchen_area</th>\n",
       "      <th>balcony</th>\n",
       "      <th>locality_name</th>\n",
       "      <th>airports_nearest</th>\n",
       "      <th>cityCenters_nearest</th>\n",
       "      <th>parks_around3000</th>\n",
       "      <th>parks_nearest</th>\n",
       "      <th>ponds_around3000</th>\n",
       "      <th>ponds_nearest</th>\n",
       "      <th>days_exposition</th>\n",
       "    </tr>\n",
       "  </thead>\n",
       "  <tbody>\n",
       "    <tr>\n",
       "      <th>0</th>\n",
       "      <td>20</td>\n",
       "      <td>13000000.0</td>\n",
       "      <td>108.0</td>\n",
       "      <td>2019-03-07T00:00:00</td>\n",
       "      <td>3</td>\n",
       "      <td>2.70</td>\n",
       "      <td>16.0</td>\n",
       "      <td>51.0</td>\n",
       "      <td>8</td>\n",
       "      <td>NaN</td>\n",
       "      <td>...</td>\n",
       "      <td>25.0</td>\n",
       "      <td>NaN</td>\n",
       "      <td>Санкт-Петербург</td>\n",
       "      <td>18863.0</td>\n",
       "      <td>16028.0</td>\n",
       "      <td>1.0</td>\n",
       "      <td>482.0</td>\n",
       "      <td>2.0</td>\n",
       "      <td>755.0</td>\n",
       "      <td>NaN</td>\n",
       "    </tr>\n",
       "    <tr>\n",
       "      <th>1</th>\n",
       "      <td>7</td>\n",
       "      <td>3350000.0</td>\n",
       "      <td>40.4</td>\n",
       "      <td>2018-12-04T00:00:00</td>\n",
       "      <td>1</td>\n",
       "      <td>NaN</td>\n",
       "      <td>11.0</td>\n",
       "      <td>18.6</td>\n",
       "      <td>1</td>\n",
       "      <td>NaN</td>\n",
       "      <td>...</td>\n",
       "      <td>11.0</td>\n",
       "      <td>2.0</td>\n",
       "      <td>посёлок Шушары</td>\n",
       "      <td>12817.0</td>\n",
       "      <td>18603.0</td>\n",
       "      <td>0.0</td>\n",
       "      <td>NaN</td>\n",
       "      <td>0.0</td>\n",
       "      <td>NaN</td>\n",
       "      <td>81.0</td>\n",
       "    </tr>\n",
       "    <tr>\n",
       "      <th>2</th>\n",
       "      <td>10</td>\n",
       "      <td>5196000.0</td>\n",
       "      <td>56.0</td>\n",
       "      <td>2015-08-20T00:00:00</td>\n",
       "      <td>2</td>\n",
       "      <td>NaN</td>\n",
       "      <td>5.0</td>\n",
       "      <td>34.3</td>\n",
       "      <td>4</td>\n",
       "      <td>NaN</td>\n",
       "      <td>...</td>\n",
       "      <td>8.3</td>\n",
       "      <td>0.0</td>\n",
       "      <td>Санкт-Петербург</td>\n",
       "      <td>21741.0</td>\n",
       "      <td>13933.0</td>\n",
       "      <td>1.0</td>\n",
       "      <td>90.0</td>\n",
       "      <td>2.0</td>\n",
       "      <td>574.0</td>\n",
       "      <td>558.0</td>\n",
       "    </tr>\n",
       "    <tr>\n",
       "      <th>3</th>\n",
       "      <td>0</td>\n",
       "      <td>64900000.0</td>\n",
       "      <td>159.0</td>\n",
       "      <td>2015-07-24T00:00:00</td>\n",
       "      <td>3</td>\n",
       "      <td>NaN</td>\n",
       "      <td>14.0</td>\n",
       "      <td>NaN</td>\n",
       "      <td>9</td>\n",
       "      <td>NaN</td>\n",
       "      <td>...</td>\n",
       "      <td>NaN</td>\n",
       "      <td>0.0</td>\n",
       "      <td>Санкт-Петербург</td>\n",
       "      <td>28098.0</td>\n",
       "      <td>6800.0</td>\n",
       "      <td>2.0</td>\n",
       "      <td>84.0</td>\n",
       "      <td>3.0</td>\n",
       "      <td>234.0</td>\n",
       "      <td>424.0</td>\n",
       "    </tr>\n",
       "    <tr>\n",
       "      <th>4</th>\n",
       "      <td>2</td>\n",
       "      <td>10000000.0</td>\n",
       "      <td>100.0</td>\n",
       "      <td>2018-06-19T00:00:00</td>\n",
       "      <td>2</td>\n",
       "      <td>3.03</td>\n",
       "      <td>14.0</td>\n",
       "      <td>32.0</td>\n",
       "      <td>13</td>\n",
       "      <td>NaN</td>\n",
       "      <td>...</td>\n",
       "      <td>41.0</td>\n",
       "      <td>NaN</td>\n",
       "      <td>Санкт-Петербург</td>\n",
       "      <td>31856.0</td>\n",
       "      <td>8098.0</td>\n",
       "      <td>2.0</td>\n",
       "      <td>112.0</td>\n",
       "      <td>1.0</td>\n",
       "      <td>48.0</td>\n",
       "      <td>121.0</td>\n",
       "    </tr>\n",
       "  </tbody>\n",
       "</table>\n",
       "<p>5 rows × 22 columns</p>\n",
       "</div>"
      ],
      "text/plain": [
       "   total_images  last_price  total_area first_day_exposition  rooms  \\\n",
       "0            20  13000000.0       108.0  2019-03-07T00:00:00      3   \n",
       "1             7   3350000.0        40.4  2018-12-04T00:00:00      1   \n",
       "2            10   5196000.0        56.0  2015-08-20T00:00:00      2   \n",
       "3             0  64900000.0       159.0  2015-07-24T00:00:00      3   \n",
       "4             2  10000000.0       100.0  2018-06-19T00:00:00      2   \n",
       "\n",
       "   ceiling_height  floors_total  living_area  floor is_apartment  ...  \\\n",
       "0            2.70          16.0         51.0      8          NaN  ...   \n",
       "1             NaN          11.0         18.6      1          NaN  ...   \n",
       "2             NaN           5.0         34.3      4          NaN  ...   \n",
       "3             NaN          14.0          NaN      9          NaN  ...   \n",
       "4            3.03          14.0         32.0     13          NaN  ...   \n",
       "\n",
       "   kitchen_area  balcony    locality_name  airports_nearest  \\\n",
       "0          25.0      NaN  Санкт-Петербург           18863.0   \n",
       "1          11.0      2.0   посёлок Шушары           12817.0   \n",
       "2           8.3      0.0  Санкт-Петербург           21741.0   \n",
       "3           NaN      0.0  Санкт-Петербург           28098.0   \n",
       "4          41.0      NaN  Санкт-Петербург           31856.0   \n",
       "\n",
       "  cityCenters_nearest  parks_around3000  parks_nearest  ponds_around3000  \\\n",
       "0             16028.0               1.0          482.0               2.0   \n",
       "1             18603.0               0.0            NaN               0.0   \n",
       "2             13933.0               1.0           90.0               2.0   \n",
       "3              6800.0               2.0           84.0               3.0   \n",
       "4              8098.0               2.0          112.0               1.0   \n",
       "\n",
       "   ponds_nearest  days_exposition  \n",
       "0          755.0              NaN  \n",
       "1            NaN             81.0  \n",
       "2          574.0            558.0  \n",
       "3          234.0            424.0  \n",
       "4           48.0            121.0  \n",
       "\n",
       "[5 rows x 22 columns]"
      ]
     },
     "execution_count": 42,
     "metadata": {},
     "output_type": "execute_result"
    }
   ],
   "source": [
    "data=pd.read_csv('/datasets/real_estate_data.csv', sep='\\t')\n",
    "data.head()"
   ]
  },
  {
   "cell_type": "code",
   "execution_count": 3,
   "metadata": {},
   "outputs": [
    {
     "data": {
      "text/plain": [
       "array([[<AxesSubplot:title={'center':'total_images'}>,\n",
       "        <AxesSubplot:title={'center':'last_price'}>,\n",
       "        <AxesSubplot:title={'center':'total_area'}>,\n",
       "        <AxesSubplot:title={'center':'rooms'}>],\n",
       "       [<AxesSubplot:title={'center':'ceiling_height'}>,\n",
       "        <AxesSubplot:title={'center':'floors_total'}>,\n",
       "        <AxesSubplot:title={'center':'living_area'}>,\n",
       "        <AxesSubplot:title={'center':'floor'}>],\n",
       "       [<AxesSubplot:title={'center':'kitchen_area'}>,\n",
       "        <AxesSubplot:title={'center':'balcony'}>,\n",
       "        <AxesSubplot:title={'center':'airports_nearest'}>,\n",
       "        <AxesSubplot:title={'center':'cityCenters_nearest'}>],\n",
       "       [<AxesSubplot:title={'center':'parks_around3000'}>,\n",
       "        <AxesSubplot:title={'center':'parks_nearest'}>,\n",
       "        <AxesSubplot:title={'center':'ponds_around3000'}>,\n",
       "        <AxesSubplot:title={'center':'ponds_nearest'}>],\n",
       "       [<AxesSubplot:title={'center':'days_exposition'}>, <AxesSubplot:>,\n",
       "        <AxesSubplot:>, <AxesSubplot:>]], dtype=object)"
      ]
     },
     "execution_count": 3,
     "metadata": {},
     "output_type": "execute_result"
    },
    {
     "data": {
      "image/png": "[encoded data removed]",
      "text/plain": [
       "<Figure size 1080x1440 with 20 Axes>"
      ]
     },
     "metadata": {
      "needs_background": "light"
     },
     "output_type": "display_data"
    }
   ],
   "source": [
    "data.hist(figsize=(15, 20))"
   ]
  },
  {
   "cell_type": "code",
   "execution_count": 4,
   "metadata": {},
   "outputs": [
    {
     "name": "stdout",
     "output_type": "stream",
     "text": [
      "<class 'pandas.core.frame.DataFrame'>\n",
      "RangeIndex: 23699 entries, 0 to 23698\n",
      "Data columns (total 22 columns):\n",
      " #   Column                Non-Null Count  Dtype  \n",
      "---  ------                --------------  -----  \n",
      " 0   total_images          23699 non-null  int64  \n",
      " 1   last_price            23699 non-null  float64\n",
      " 2   total_area            23699 non-null  float64\n",
      " 3   first_day_exposition  23699 non-null  object \n",
      " 4   rooms                 23699 non-null  int64  \n",
      " 5   ceiling_height        14504 non-null  float64\n",
      " 6   floors_total          23613 non-null  float64\n",
      " 7   living_area           21796 non-null  float64\n",
      " 8   floor                 23699 non-null  int64  \n",
      " 9   is_apartment          2775 non-null   object \n",
      " 10  studio                23699 non-null  bool   \n",
      " 11  open_plan             23699 non-null  bool   \n",
      " 12  kitchen_area          21421 non-null  float64\n",
      " 13  balcony               12180 non-null  float64\n",
      " 14  locality_name         23650 non-null  object \n",
      " 15  airports_nearest      18157 non-null  float64\n",
      " 16  cityCenters_nearest   18180 non-null  float64\n",
      " 17  parks_around3000      18181 non-null  float64\n",
      " 18  parks_nearest         8079 non-null   float64\n",
      " 19  ponds_around3000      18181 non-null  float64\n",
      " 20  ponds_nearest         9110 non-null   float64\n",
      " 21  days_exposition       20518 non-null  float64\n",
      "dtypes: bool(2), float64(14), int64(3), object(3)\n",
      "memory usage: 3.7+ MB\n"
     ]
    }
   ],
   "source": [
    "data.info()"
   ]
  },
  {
   "cell_type": "markdown",
   "metadata": {},
   "source": [
    "**Короткий вывод о проблемах с данными:**\n",
    "- Изучила общую информацию о полученном датафрейме. Предстоит интересная работа - вижу пропуски, неверные типы данных, аномальные значения. План по пропускам-заменить только те значения, где это логично и не повлияет на разультат исследования. В столбце \"Дата публикации\", \"Название населенного пункта\", \"Всего этажей в доме\" и \"Количество балконов\" заменим тип данных. Избавимся от дубликатов и аномальных значений. Вперед!"
   ]
  },
  {
   "cell_type": "markdown",
   "metadata": {},
   "source": [
    "### Предобработка данных"
   ]
  },
  {
   "cell_type": "code",
   "execution_count": 5,
   "metadata": {
    "scrolled": false
   },
   "outputs": [
    {
     "data": {
      "text/plain": [
       "total_images                0\n",
       "last_price                  0\n",
       "total_area                  0\n",
       "first_day_exposition        0\n",
       "rooms                       0\n",
       "ceiling_height           9195\n",
       "floors_total               86\n",
       "living_area              1903\n",
       "floor                       0\n",
       "is_apartment            20924\n",
       "studio                      0\n",
       "open_plan                   0\n",
       "kitchen_area             2278\n",
       "balcony                 11519\n",
       "locality_name              49\n",
       "airports_nearest         5542\n",
       "cityCenters_nearest      5519\n",
       "parks_around3000         5518\n",
       "parks_nearest           15620\n",
       "ponds_around3000         5518\n",
       "ponds_nearest           14589\n",
       "days_exposition          3181\n",
       "dtype: int64"
      ]
     },
     "execution_count": 5,
     "metadata": {},
     "output_type": "execute_result"
    }
   ],
   "source": [
    "data.isna().sum()"
   ]
  },
  {
   "cell_type": "markdown",
   "metadata": {},
   "source": [
    "**Итак, мой план по пропускам:**\n",
    "- ceiling_height           9195 много. Высота потолков, заполню пропуски в этом столбце медианным значением ceiling_height\n",
    "- floors_total               86 мало. Всего этажей. На результат особо не повлияет, удаляем\n",
    "- living_area              1903 много. Жилая площадь, предлагаю поправить на среднее значение \n",
    "- is_apartment            20924 очень много. Под вопросом. Предлагаю заменить nan на False\n",
    "- kitchen_area             2278 площадь кухни. Может, это студия, и там нет кухни?\n",
    "- balcony                 11519 пропуск означает отсутствие балкона? Заменю на 0\n",
    "- locality_name              49 мало. Название нп. На результат особо не повлияет, удаляем\n",
    "- airports_nearest         5542 пропуск не понятен. Заменять средним значением по соотв-му НП считаю не корректным\n",
    "- cityCenters_nearest      5519 расстояние до центра города. Пропуск не понятен\n",
    "- parks_around3000         5518 число парков в радиусе 3 км. Пропуск не понятен\n",
    "- parks_nearest           15620 расстояние до ближайшего парка. Пропуск не понятен\n",
    "- ponds_around3000         5518 число водоёмов в радиусе 3 км. Пропуск не понятен \n",
    "- ponds_nearest           14589 расстояние до ближайшего водоёма (м). Пропуск не понятен\n",
    "- days_exposition          3181 сколько дней было размещено объявление (от публикации до снятия). Может, объявление еще актуально?"
   ]
  },
  {
   "cell_type": "code",
   "execution_count": 6,
   "metadata": {},
   "outputs": [
    {
     "data": {
      "text/plain": [
       "total_images                0\n",
       "last_price                  0\n",
       "total_area                  0\n",
       "first_day_exposition        0\n",
       "rooms                       0\n",
       "ceiling_height              0\n",
       "floors_total                0\n",
       "living_area                 0\n",
       "floor                       0\n",
       "is_apartment                0\n",
       "studio                      0\n",
       "open_plan                   0\n",
       "kitchen_area                0\n",
       "balcony                     0\n",
       "locality_name               0\n",
       "airports_nearest         5524\n",
       "cityCenters_nearest      5501\n",
       "parks_around3000         5500\n",
       "parks_nearest           15535\n",
       "ponds_around3000         5500\n",
       "ponds_nearest           14529\n",
       "days_exposition          3171\n",
       "dtype: int64"
      ]
     },
     "execution_count": 6,
     "metadata": {},
     "output_type": "execute_result"
    }
   ],
   "source": [
    "#ceiling_height\n",
    "data['ceiling_height'].fillna(data['ceiling_height'].median(), inplace=True)\n",
    "\n",
    "#floors_total \n",
    "data.dropna(subset=['floors_total'], inplace=True)\n",
    "\n",
    "#living_area \n",
    "living = data['living_area'].mean() / data['total_area'].mean()\n",
    "data['living_area'].fillna(living * data['total_area'], inplace=True)\n",
    "\n",
    "#is_apartment\n",
    "data['is_apartment'].fillna(False, inplace=True)\n",
    "\n",
    "#kitchen_area\n",
    "kitchen = data['kitchen_area'].mean() / data['total_area'].mean()\n",
    "data['kitchen_area'].fillna(kitchen * data['total_area'], inplace=True)\n",
    "\n",
    "#balcony\n",
    "data['balcony'].fillna(0, inplace=True)\n",
    "\n",
    "#locality_name\n",
    "data.dropna(subset=['locality_name'], inplace=True)\n",
    "\n",
    "data.isna().sum()"
   ]
  },
  {
   "cell_type": "markdown",
   "metadata": {},
   "source": [
    "**Причины, которые могли привести к пропускам в данных:**\n",
    "\n",
    "- Пропуски в balcony скорее всего означают отсутствие балкона, поэтому я заменила их на нули.\n",
    "- Пропуски в days_exposition возможно связаны с тем, что объявление еще не снято с публикации и является актуальным.\n",
    "- Пропуски в ceiling_height не понятны. Я заменила пропуски в этих данных медианными значениями, на мой взгляд, в вышеуказанных столбцах это сделать логично, амплитуда значений не такая большая, как, например, airports_nearest или cityCenters_nearest.  \n",
    "- Пропуски в living_area, kitchen_area заменила на средний процент жилой площади/кухни от всей площади по всей выборке.\n",
    "- Пропуски в floors_total, locality_name встречаются редко, ввиду их незначительности и малого веса на результат-удалила.\n",
    "- Пропуски в is_apartment я заменила на False. Скорее всего, 20924 квартир не являются апартаментами. Пропуск может быть связан с тем, что собственник не посчитал нужным заполнить данный раздел, +апартаменты относительно новое понятие, может, данные устарели.\n",
    "- Пропуски в airports_nearest, cityCenters_nearest, parks_around3000, parks_nearest, ponds_around3000, ponds_nearest оставим как есть, происхождение не понятно-может, произошел технический сбой? Замена на 0 или медианные значения такого количества данных может повлиять на результат исследования."
   ]
  },
  {
   "cell_type": "code",
   "execution_count": 7,
   "metadata": {},
   "outputs": [
    {
     "name": "stdout",
     "output_type": "stream",
     "text": [
      "<class 'pandas.core.frame.DataFrame'>\n",
      "Int64Index: 23565 entries, 0 to 23698\n",
      "Data columns (total 22 columns):\n",
      " #   Column                Non-Null Count  Dtype         \n",
      "---  ------                --------------  -----         \n",
      " 0   total_images          23565 non-null  int64         \n",
      " 1   last_price            23565 non-null  float64       \n",
      " 2   total_area            23565 non-null  float64       \n",
      " 3   first_day_exposition  23565 non-null  datetime64[ns]\n",
      " 4   rooms                 23565 non-null  int64         \n",
      " 5   ceiling_height        23565 non-null  float64       \n",
      " 6   floors_total          23565 non-null  int64         \n",
      " 7   living_area           23565 non-null  float64       \n",
      " 8   floor                 23565 non-null  int64         \n",
      " 9   is_apartment          23565 non-null  bool          \n",
      " 10  studio                23565 non-null  bool          \n",
      " 11  open_plan             23565 non-null  bool          \n",
      " 12  kitchen_area          23565 non-null  float64       \n",
      " 13  balcony               23565 non-null  int64         \n",
      " 14  locality_name         23565 non-null  object        \n",
      " 15  airports_nearest      18041 non-null  float64       \n",
      " 16  cityCenters_nearest   18064 non-null  float64       \n",
      " 17  parks_around3000      18065 non-null  float64       \n",
      " 18  parks_nearest         8030 non-null   float64       \n",
      " 19  ponds_around3000      18065 non-null  float64       \n",
      " 20  ponds_nearest         9036 non-null   float64       \n",
      " 21  days_exposition       20394 non-null  float64       \n",
      "dtypes: bool(3), datetime64[ns](1), float64(12), int64(5), object(1)\n",
      "memory usage: 3.7+ MB\n"
     ]
    }
   ],
   "source": [
    "#Изменим типы данных:\n",
    "\n",
    "from datetime import datetime\n",
    "data['first_day_exposition'] = pd.to_datetime(data['first_day_exposition'])\n",
    "\n",
    "data['floors_total']=data['floors_total'].astype('int')\n",
    "\n",
    "data['balcony']=data['balcony'].astype('int')\n",
    "data.info()"
   ]
  },
  {
   "cell_type": "markdown",
   "metadata": {},
   "source": [
    "**Почему нужно изменить тип данных:**\n",
    "- Я изменила типы данных в столбце \"Дата публикации\" на формат даты, \"Название населенного пункта\"-на строки, т.к. при следующих расчетах это упростит мне работу, \"Всего этажей в доме\" и \"Количество балконов\" на целые числа, т.к. это логично- данные измеряются в единицах.\n"
   ]
  },
  {
   "cell_type": "code",
   "execution_count": 8,
   "metadata": {},
   "outputs": [
    {
     "data": {
      "text/plain": [
       "array(['Санкт-Петербург', 'поселок Шушары', 'городской поселок Янино-1',\n",
       "       'поселок Парголово', 'поселок Мурино', 'Ломоносов', 'Сертолово',\n",
       "       'Петергоф', 'Пушкин', 'деревня Кудрово', 'Коммунар', 'Колпино',\n",
       "       'поселок Красный Бор', 'Гатчина', 'деревня Фёдоровское', 'Выборг',\n",
       "       'Кронштадт', 'Кировск', 'деревня Новое Девяткино',\n",
       "       'поселок Металлострой', 'поселок Лебяжье', 'поселок Сиверский',\n",
       "       'поселок Молодцово', 'поселок Кузьмоловский',\n",
       "       'садовое товарищество Новая Ропша', 'Павловск',\n",
       "       'деревня Пикколово', 'Всеволожск', 'Волхов', 'Кингисепп',\n",
       "       'Приозерск', 'Сестрорецк', 'деревня Куттузи', 'поселок Аннино',\n",
       "       'поселок Ефимовский', 'поселок Плодовое', 'деревня Заклинье',\n",
       "       'поселок Торковичи', 'поселок Первомайское', 'Красное Село',\n",
       "       'поселок Понтонный', 'Сясьстрой', 'деревня Старая',\n",
       "       'деревня Лесколово', 'поселок Новый Свет', 'Сланцы',\n",
       "       'село Путилово', 'Ивангород', 'Мурино', 'Шлиссельбург',\n",
       "       'Никольское', 'Зеленогорск', 'Сосновый Бор', 'деревня Оржицы',\n",
       "       'деревня Кальтино', 'Кудрово', 'поселок Романовка',\n",
       "       'поселок Бугры', 'поселок Рощино', 'Кириши', 'Луга', 'Волосово',\n",
       "       'Отрадное', 'село Павлово', 'поселок Оредеж', 'село Копорье',\n",
       "       'поселок Молодёжное', 'Тихвин', 'поселок Победа', 'деревня Нурма',\n",
       "       'поселок Синявино', 'Тосно', 'поселок Стрельна', 'Бокситогорск',\n",
       "       'поселок Александровская', 'деревня Лопухинка', 'Пикалёво',\n",
       "       'поселок Терволово', 'поселок Советский', 'Подпорожье',\n",
       "       'поселок Петровское', 'поселок Токсово', 'поселок Сельцо',\n",
       "       'поселок Вырица', 'деревня Кипень', 'деревня Келози',\n",
       "       'деревня Вартемяги', 'поселок Тельмана', 'поселок Севастьяново',\n",
       "       'городской поселок Большая Ижора', 'городской поселок Павлово',\n",
       "       'деревня Агалатово', 'поселок Новогорелово',\n",
       "       'городской поселок Лесогорский', 'деревня Лаголово',\n",
       "       'поселок Цвелодубово', 'поселок Рахья', 'деревня Белогорка',\n",
       "       'поселок Заводской', 'городской поселок Новоселье',\n",
       "       'деревня Большие Колпаны', 'деревня Горбунки', 'деревня Батово',\n",
       "       'деревня Заневка', 'деревня Иссад', 'Приморск',\n",
       "       'городской поселок Фёдоровское', 'деревня Мистолово',\n",
       "       'Новая Ладога', 'поселок Зимитицы', 'поселок Барышево',\n",
       "       'деревня Разметелево', 'поселок имени Свердлова', 'деревня Пеники',\n",
       "       'поселок Рябово', 'деревня Пудомяги', 'поселок станции Корнево',\n",
       "       'деревня Низино', 'деревня Бегуницы', 'поселок Поляны',\n",
       "       'городской поселок Мга', 'поселок Елизаветино',\n",
       "       'поселок Кузнечное', 'деревня Колтуши', 'поселок Запорожское',\n",
       "       'деревня Гостилицы', 'деревня Малое Карлино',\n",
       "       'поселок Мичуринское', 'поселок имени Морозова',\n",
       "       'поселок Песочный', 'поселок Сосново', 'деревня Аро',\n",
       "       'поселок Ильичёво', 'поселок Тайцы', 'деревня Малое Верево',\n",
       "       'деревня Извара', 'поселок станции Вещево', 'село Паша',\n",
       "       'деревня Калитино', 'поселок Ульяновка', 'деревня Чудской Бор',\n",
       "       'поселок Дубровка', 'деревня Мины', 'поселок Войсковицы',\n",
       "       'деревня Коркино', 'поселок Ропша', 'поселок Приладожский',\n",
       "       'поселок Щеглово', 'поселок Гаврилово', 'Лодейное Поле',\n",
       "       'деревня Рабитицы', 'поселок Никольский', 'деревня Кузьмолово',\n",
       "       'деревня Малые Колпаны', 'поселок Петро-Славянка',\n",
       "       'городской поселок Назия', 'поселок Репино', 'поселок Углово',\n",
       "       'поселок Старая Малукса', 'садовое товарищество Рахья',\n",
       "       'деревня Меньково', 'деревня Старые Бегуницы', 'поселок Сапёрный',\n",
       "       'поселок Семрино', 'поселок Глажево', 'поселок Кобринское',\n",
       "       'деревня Гарболово', 'деревня Юкки',\n",
       "       'поселок станции Приветнинское', 'деревня Мануйлово',\n",
       "       'деревня Пчева', 'поселок Цвылёво', 'поселок Мельниково',\n",
       "       'поселок Пудость', 'поселок Усть-Луга', 'Светогорск', 'Любань',\n",
       "       'поселок Селезнёво', 'Каменногорск', 'деревня Кривко',\n",
       "       'поселок Глебычево', 'деревня Парицы', 'поселок Жилпоселок',\n",
       "       'поселок Мга', 'поселок Войскорово', 'село Никольское',\n",
       "       'поселок Стеклянный', 'поселок Важины', 'поселок Мыза-Ивановка',\n",
       "       'село Русско-Высоцкое', 'поселок Форносово', 'село Старая Ладога',\n",
       "       'поселок Житково', 'городской поселок Виллози', 'деревня Лампово',\n",
       "       'деревня Шпаньково', 'деревня Лаврики', 'поселок Сумино',\n",
       "       'поселок Возрождение', 'деревня Старосиверская',\n",
       "       'поселок Кикерино', 'деревня Старое Хинколово',\n",
       "       'поселок Пригородный', 'поселок Торфяное',\n",
       "       'городской поселок Будогощь', 'поселок Суходолье',\n",
       "       'поселок Красная Долина', 'деревня Хапо-Ое',\n",
       "       'поселок Дружная Горка', 'поселок Лисий Нос', 'деревня Яльгелево',\n",
       "       'село Рождествено', 'деревня Старополье', 'поселок Левашово',\n",
       "       'деревня Сяськелево', 'деревня Камышовка',\n",
       "       'садоводческое некоммерческое товарищество Лесная Поляна',\n",
       "       'деревня Хязельки', 'поселок Жилгородок', 'поселок Павлово',\n",
       "       'деревня Ялгино', 'поселок Новый Учхоз',\n",
       "       'городской поселок Рощино', 'поселок Гончарово', 'поселок Почап',\n",
       "       'поселок Сапёрное', 'поселок Платформа 69-й километр',\n",
       "       'поселок Каложицы', 'деревня Фалилеево', 'деревня Пельгора',\n",
       "       'поселок Лесогорский', 'деревня Торошковичи', 'поселок Белоостров',\n",
       "       'поселок Алексеевка', 'поселок Серебрянский', 'поселок Лукаши',\n",
       "       'деревня Щеглово', 'деревня Тарасово', 'поселок Кингисеппский',\n",
       "       'поселок при железнодорожной станции Вещево', 'поселок Ушаки',\n",
       "       'деревня Котлы', 'деревня Сижно', 'деревня Торосово',\n",
       "       'поселок Форт Красная Горка', 'деревня Новолисино',\n",
       "       'поселок станции Громово', 'деревня Глинка', 'поселок Назия',\n",
       "       'деревня Старая Пустошь', 'поселок Коммунары', 'поселок Починок',\n",
       "       'поселок Вознесенье', 'деревня Разбегаево', 'поселок Гладкое',\n",
       "       'поселок при железнодорожной станции Приветнинское',\n",
       "       'поселок Тёсово-4', 'деревня Бор', 'поселок Коробицыно',\n",
       "       'деревня Большая Вруда', 'деревня Курковицы',\n",
       "       'городской поселок Советский', 'поселок Кобралово',\n",
       "       'деревня Суоранда', 'поселок Кондратьево',\n",
       "       'коттеджный поселок Счастье', 'поселок Любань', 'деревня Реброво',\n",
       "       'деревня Зимитицы', 'деревня Тойворово', 'поселок Семиозерье',\n",
       "       'поселок Лесное', 'поселок Совхозный', 'поселок Ленинское',\n",
       "       'поселок Суйда', 'деревня Нижние Осельки', 'поселок станции Свирь',\n",
       "       'поселок Перово', 'Высоцк', 'поселок Гарболово', 'село Шум',\n",
       "       'поселок Котельский', 'поселок станции Лужайка',\n",
       "       'деревня Большая Пустомержа', 'поселок Красносельское',\n",
       "       'деревня Вахнова Кара', 'деревня Пижма',\n",
       "       'коттеджный поселок Кивеннапа Север', 'поселок Ромашки',\n",
       "       'деревня Каськово', 'деревня Куровицы', 'поселок Плоское',\n",
       "       'поселок Большая Ижора', 'поселок Кирпичное', 'деревня Ям-Тесово',\n",
       "       'деревня Раздолье', 'деревня Терпилицы', 'поселок Шугозеро',\n",
       "       'деревня Ваганово', 'поселок Пушное', 'садовое товарищество Садко',\n",
       "       'поселок Усть-Ижора', 'деревня Выскатка',\n",
       "       'городской поселок Свирьстрой', 'поселок Громово',\n",
       "       'деревня Кисельня', 'деревня Трубников Бор', 'поселок Калитино',\n",
       "       'поселок Высокоключевой', 'садовое товарищество Приладожский',\n",
       "       'поселок Пансионат Зелёный Бор', 'деревня Ненимяки',\n",
       "       'деревня Снегирёвка', 'деревня Рапполово', 'деревня Пустынка',\n",
       "       'поселок Рабитицы', 'деревня Большой Сабск', 'деревня Русско',\n",
       "       'деревня Лупполово', 'деревня Большое Рейзино',\n",
       "       'деревня Малая Романовка', 'поселок Дружноселье', 'поселок Пчевжа',\n",
       "       'поселок Володарское', 'деревня Нижняя',\n",
       "       'коттеджный поселок Лесное', 'деревня Тихковицы',\n",
       "       'деревня Борисова Грива', 'поселок Дзержинского'], dtype=object)"
      ]
     },
     "execution_count": 8,
     "metadata": {},
     "output_type": "execute_result"
    }
   ],
   "source": [
    "#дубликаты\n",
    "data['locality_name'] = data['locality_name'].str.replace('посёлок', 'поселок')\n",
    "data['locality_name'] = data['locality_name'].str.replace('поселок городского типа', 'поселок')\n",
    "data['locality_name'] = data['locality_name'].str.replace('посёлок городского типа', 'поселок')\n",
    "data['locality_name'].unique()"
   ]
  },
  {
   "cell_type": "code",
   "execution_count": 9,
   "metadata": {},
   "outputs": [
    {
     "data": {
      "text/html": [
       "<div>\n",
       "<style scoped>\n",
       "    .dataframe tbody tr th:only-of-type {\n",
       "        vertical-align: middle;\n",
       "    }\n",
       "\n",
       "    .dataframe tbody tr th {\n",
       "        vertical-align: top;\n",
       "    }\n",
       "\n",
       "    .dataframe thead th {\n",
       "        text-align: right;\n",
       "    }\n",
       "</style>\n",
       "<table border=\"1\" class=\"dataframe\">\n",
       "  <thead>\n",
       "    <tr style=\"text-align: right;\">\n",
       "      <th></th>\n",
       "      <th>total_images</th>\n",
       "      <th>last_price</th>\n",
       "      <th>total_area</th>\n",
       "      <th>first_day_exposition</th>\n",
       "      <th>rooms</th>\n",
       "      <th>ceiling_height</th>\n",
       "      <th>floors_total</th>\n",
       "      <th>living_area</th>\n",
       "      <th>floor</th>\n",
       "      <th>is_apartment</th>\n",
       "      <th>...</th>\n",
       "      <th>kitchen_area</th>\n",
       "      <th>balcony</th>\n",
       "      <th>locality_name</th>\n",
       "      <th>airports_nearest</th>\n",
       "      <th>cityCenters_nearest</th>\n",
       "      <th>parks_around3000</th>\n",
       "      <th>parks_nearest</th>\n",
       "      <th>ponds_around3000</th>\n",
       "      <th>ponds_nearest</th>\n",
       "      <th>days_exposition</th>\n",
       "    </tr>\n",
       "  </thead>\n",
       "  <tbody>\n",
       "    <tr>\n",
       "      <th>17857</th>\n",
       "      <td>1</td>\n",
       "      <td>3900000.0</td>\n",
       "      <td>56.0</td>\n",
       "      <td>2017-12-22</td>\n",
       "      <td>3</td>\n",
       "      <td>27.0</td>\n",
       "      <td>5</td>\n",
       "      <td>33.0</td>\n",
       "      <td>4</td>\n",
       "      <td>False</td>\n",
       "      <td>...</td>\n",
       "      <td>9.804185</td>\n",
       "      <td>0</td>\n",
       "      <td>Санкт-Петербург</td>\n",
       "      <td>41030.0</td>\n",
       "      <td>15543.0</td>\n",
       "      <td>0.0</td>\n",
       "      <td>NaN</td>\n",
       "      <td>0.0</td>\n",
       "      <td>NaN</td>\n",
       "      <td>73.0</td>\n",
       "    </tr>\n",
       "    <tr>\n",
       "      <th>5246</th>\n",
       "      <td>0</td>\n",
       "      <td>2500000.0</td>\n",
       "      <td>54.0</td>\n",
       "      <td>2017-10-13</td>\n",
       "      <td>2</td>\n",
       "      <td>27.0</td>\n",
       "      <td>5</td>\n",
       "      <td>30.0</td>\n",
       "      <td>3</td>\n",
       "      <td>False</td>\n",
       "      <td>...</td>\n",
       "      <td>9.000000</td>\n",
       "      <td>2</td>\n",
       "      <td>деревня Мины</td>\n",
       "      <td>NaN</td>\n",
       "      <td>NaN</td>\n",
       "      <td>NaN</td>\n",
       "      <td>NaN</td>\n",
       "      <td>NaN</td>\n",
       "      <td>NaN</td>\n",
       "      <td>540.0</td>\n",
       "    </tr>\n",
       "    <tr>\n",
       "      <th>20478</th>\n",
       "      <td>11</td>\n",
       "      <td>8000000.0</td>\n",
       "      <td>45.0</td>\n",
       "      <td>2017-07-18</td>\n",
       "      <td>1</td>\n",
       "      <td>27.0</td>\n",
       "      <td>4</td>\n",
       "      <td>22.0</td>\n",
       "      <td>2</td>\n",
       "      <td>False</td>\n",
       "      <td>...</td>\n",
       "      <td>10.000000</td>\n",
       "      <td>1</td>\n",
       "      <td>Санкт-Петербург</td>\n",
       "      <td>18975.0</td>\n",
       "      <td>3246.0</td>\n",
       "      <td>0.0</td>\n",
       "      <td>NaN</td>\n",
       "      <td>3.0</td>\n",
       "      <td>449.0</td>\n",
       "      <td>429.0</td>\n",
       "    </tr>\n",
       "    <tr>\n",
       "      <th>4876</th>\n",
       "      <td>7</td>\n",
       "      <td>3000000.0</td>\n",
       "      <td>25.0</td>\n",
       "      <td>2017-09-27</td>\n",
       "      <td>0</td>\n",
       "      <td>27.0</td>\n",
       "      <td>25</td>\n",
       "      <td>17.0</td>\n",
       "      <td>17</td>\n",
       "      <td>False</td>\n",
       "      <td>...</td>\n",
       "      <td>4.376868</td>\n",
       "      <td>2</td>\n",
       "      <td>поселок Мурино</td>\n",
       "      <td>NaN</td>\n",
       "      <td>NaN</td>\n",
       "      <td>NaN</td>\n",
       "      <td>NaN</td>\n",
       "      <td>NaN</td>\n",
       "      <td>NaN</td>\n",
       "      <td>28.0</td>\n",
       "    </tr>\n",
       "    <tr>\n",
       "      <th>21824</th>\n",
       "      <td>20</td>\n",
       "      <td>2450000.0</td>\n",
       "      <td>44.0</td>\n",
       "      <td>2019-02-12</td>\n",
       "      <td>2</td>\n",
       "      <td>27.0</td>\n",
       "      <td>2</td>\n",
       "      <td>38.0</td>\n",
       "      <td>2</td>\n",
       "      <td>False</td>\n",
       "      <td>...</td>\n",
       "      <td>8.600000</td>\n",
       "      <td>2</td>\n",
       "      <td>городской поселок Большая Ижора</td>\n",
       "      <td>NaN</td>\n",
       "      <td>NaN</td>\n",
       "      <td>NaN</td>\n",
       "      <td>NaN</td>\n",
       "      <td>NaN</td>\n",
       "      <td>NaN</td>\n",
       "      <td>NaN</td>\n",
       "    </tr>\n",
       "    <tr>\n",
       "      <th>22938</th>\n",
       "      <td>14</td>\n",
       "      <td>4000000.0</td>\n",
       "      <td>98.0</td>\n",
       "      <td>2018-03-15</td>\n",
       "      <td>4</td>\n",
       "      <td>27.0</td>\n",
       "      <td>2</td>\n",
       "      <td>73.0</td>\n",
       "      <td>2</td>\n",
       "      <td>True</td>\n",
       "      <td>...</td>\n",
       "      <td>9.000000</td>\n",
       "      <td>1</td>\n",
       "      <td>деревня Нижняя</td>\n",
       "      <td>NaN</td>\n",
       "      <td>NaN</td>\n",
       "      <td>NaN</td>\n",
       "      <td>NaN</td>\n",
       "      <td>NaN</td>\n",
       "      <td>NaN</td>\n",
       "      <td>27.0</td>\n",
       "    </tr>\n",
       "    <tr>\n",
       "      <th>21377</th>\n",
       "      <td>19</td>\n",
       "      <td>4900000.0</td>\n",
       "      <td>42.0</td>\n",
       "      <td>2017-04-18</td>\n",
       "      <td>1</td>\n",
       "      <td>27.5</td>\n",
       "      <td>24</td>\n",
       "      <td>37.7</td>\n",
       "      <td>19</td>\n",
       "      <td>False</td>\n",
       "      <td>...</td>\n",
       "      <td>11.000000</td>\n",
       "      <td>2</td>\n",
       "      <td>Санкт-Петербург</td>\n",
       "      <td>42742.0</td>\n",
       "      <td>9760.0</td>\n",
       "      <td>0.0</td>\n",
       "      <td>NaN</td>\n",
       "      <td>0.0</td>\n",
       "      <td>NaN</td>\n",
       "      <td>61.0</td>\n",
       "    </tr>\n",
       "    <tr>\n",
       "      <th>3148</th>\n",
       "      <td>14</td>\n",
       "      <td>2900000.0</td>\n",
       "      <td>75.0</td>\n",
       "      <td>2018-11-12</td>\n",
       "      <td>3</td>\n",
       "      <td>32.0</td>\n",
       "      <td>3</td>\n",
       "      <td>53.0</td>\n",
       "      <td>2</td>\n",
       "      <td>False</td>\n",
       "      <td>...</td>\n",
       "      <td>8.000000</td>\n",
       "      <td>0</td>\n",
       "      <td>Волхов</td>\n",
       "      <td>NaN</td>\n",
       "      <td>NaN</td>\n",
       "      <td>NaN</td>\n",
       "      <td>NaN</td>\n",
       "      <td>NaN</td>\n",
       "      <td>NaN</td>\n",
       "      <td>NaN</td>\n",
       "    </tr>\n",
       "    <tr>\n",
       "      <th>22336</th>\n",
       "      <td>19</td>\n",
       "      <td>9999000.0</td>\n",
       "      <td>92.4</td>\n",
       "      <td>2019-04-05</td>\n",
       "      <td>2</td>\n",
       "      <td>32.0</td>\n",
       "      <td>6</td>\n",
       "      <td>55.5</td>\n",
       "      <td>5</td>\n",
       "      <td>False</td>\n",
       "      <td>...</td>\n",
       "      <td>16.500000</td>\n",
       "      <td>4</td>\n",
       "      <td>Санкт-Петербург</td>\n",
       "      <td>18838.0</td>\n",
       "      <td>3506.0</td>\n",
       "      <td>0.0</td>\n",
       "      <td>NaN</td>\n",
       "      <td>3.0</td>\n",
       "      <td>511.0</td>\n",
       "      <td>NaN</td>\n",
       "    </tr>\n",
       "    <tr>\n",
       "      <th>22869</th>\n",
       "      <td>0</td>\n",
       "      <td>15000000.0</td>\n",
       "      <td>25.0</td>\n",
       "      <td>2018-07-25</td>\n",
       "      <td>1</td>\n",
       "      <td>100.0</td>\n",
       "      <td>5</td>\n",
       "      <td>14.0</td>\n",
       "      <td>5</td>\n",
       "      <td>True</td>\n",
       "      <td>...</td>\n",
       "      <td>11.000000</td>\n",
       "      <td>5</td>\n",
       "      <td>Санкт-Петербург</td>\n",
       "      <td>34963.0</td>\n",
       "      <td>8283.0</td>\n",
       "      <td>1.0</td>\n",
       "      <td>223.0</td>\n",
       "      <td>3.0</td>\n",
       "      <td>30.0</td>\n",
       "      <td>19.0</td>\n",
       "    </tr>\n",
       "  </tbody>\n",
       "</table>\n",
       "<p>10 rows × 22 columns</p>\n",
       "</div>"
      ],
      "text/plain": [
       "       total_images  last_price  total_area first_day_exposition  rooms  \\\n",
       "17857             1   3900000.0        56.0           2017-12-22      3   \n",
       "5246              0   2500000.0        54.0           2017-10-13      2   \n",
       "20478            11   8000000.0        45.0           2017-07-18      1   \n",
       "4876              7   3000000.0        25.0           2017-09-27      0   \n",
       "21824            20   2450000.0        44.0           2019-02-12      2   \n",
       "22938            14   4000000.0        98.0           2018-03-15      4   \n",
       "21377            19   4900000.0        42.0           2017-04-18      1   \n",
       "3148             14   2900000.0        75.0           2018-11-12      3   \n",
       "22336            19   9999000.0        92.4           2019-04-05      2   \n",
       "22869             0  15000000.0        25.0           2018-07-25      1   \n",
       "\n",
       "       ceiling_height  floors_total  living_area  floor  is_apartment  ...  \\\n",
       "17857            27.0             5         33.0      4         False  ...   \n",
       "5246             27.0             5         30.0      3         False  ...   \n",
       "20478            27.0             4         22.0      2         False  ...   \n",
       "4876             27.0            25         17.0     17         False  ...   \n",
       "21824            27.0             2         38.0      2         False  ...   \n",
       "22938            27.0             2         73.0      2          True  ...   \n",
       "21377            27.5            24         37.7     19         False  ...   \n",
       "3148             32.0             3         53.0      2         False  ...   \n",
       "22336            32.0             6         55.5      5         False  ...   \n",
       "22869           100.0             5         14.0      5          True  ...   \n",
       "\n",
       "       kitchen_area  balcony                    locality_name  \\\n",
       "17857      9.804185        0                  Санкт-Петербург   \n",
       "5246       9.000000        2                     деревня Мины   \n",
       "20478     10.000000        1                  Санкт-Петербург   \n",
       "4876       4.376868        2                   поселок Мурино   \n",
       "21824      8.600000        2  городской поселок Большая Ижора   \n",
       "22938      9.000000        1                   деревня Нижняя   \n",
       "21377     11.000000        2                  Санкт-Петербург   \n",
       "3148       8.000000        0                           Волхов   \n",
       "22336     16.500000        4                  Санкт-Петербург   \n",
       "22869     11.000000        5                  Санкт-Петербург   \n",
       "\n",
       "       airports_nearest cityCenters_nearest  parks_around3000  parks_nearest  \\\n",
       "17857           41030.0             15543.0               0.0            NaN   \n",
       "5246                NaN                 NaN               NaN            NaN   \n",
       "20478           18975.0              3246.0               0.0            NaN   \n",
       "4876                NaN                 NaN               NaN            NaN   \n",
       "21824               NaN                 NaN               NaN            NaN   \n",
       "22938               NaN                 NaN               NaN            NaN   \n",
       "21377           42742.0              9760.0               0.0            NaN   \n",
       "3148                NaN                 NaN               NaN            NaN   \n",
       "22336           18838.0              3506.0               0.0            NaN   \n",
       "22869           34963.0              8283.0               1.0          223.0   \n",
       "\n",
       "       ponds_around3000  ponds_nearest  days_exposition  \n",
       "17857               0.0            NaN             73.0  \n",
       "5246                NaN            NaN            540.0  \n",
       "20478               3.0          449.0            429.0  \n",
       "4876                NaN            NaN             28.0  \n",
       "21824               NaN            NaN              NaN  \n",
       "22938               NaN            NaN             27.0  \n",
       "21377               0.0            NaN             61.0  \n",
       "3148                NaN            NaN              NaN  \n",
       "22336               3.0          511.0              NaN  \n",
       "22869               3.0           30.0             19.0  \n",
       "\n",
       "[10 rows x 22 columns]"
      ]
     },
     "execution_count": 9,
     "metadata": {},
     "output_type": "execute_result"
    }
   ],
   "source": [
    "#потолки\n",
    "data[data['ceiling_height'] > 5].sort_values('ceiling_height').tail(10)"
   ]
  },
  {
   "cell_type": "code",
   "execution_count": 10,
   "metadata": {},
   "outputs": [
    {
     "data": {
      "text/plain": [
       "<AxesSubplot:>"
      ]
     },
     "execution_count": 10,
     "metadata": {},
     "output_type": "execute_result"
    },
    {
     "data": {
      "image/png": "[encoded data removed]",
      "text/plain": [
       "<Figure size 432x288 with 1 Axes>"
      ]
     },
     "metadata": {
      "needs_background": "light"
     },
     "output_type": "display_data"
    }
   ],
   "source": [
    "#получила выборку высоких потолков. Потолки высотой 22-32 м заменю на 2.5-3.2 м\n",
    "data.loc[data['ceiling_height'] == 25.0, 'ceiling_height'] = 2.5\n",
    "data.loc[data['ceiling_height'] == 26.0, 'ceiling_height'] = 2.6\n",
    "data.loc[data['ceiling_height'] == 27.0, 'ceiling_height'] = 2.7\n",
    "data.loc[data['ceiling_height'] == 32.0, 'ceiling_height'] = 3.2\n",
    "data.loc[data['ceiling_height'] == 24.0, 'ceiling_height'] = 2.4\n",
    "data.loc[data['ceiling_height'] == 22.6, 'ceiling_height'] = 2.3\n",
    "data.loc[data['ceiling_height'] == 27.5, 'ceiling_height'] = 2.8\n",
    "data = data[data['ceiling_height'] <= 4.5] # отбросим значения высоты потолков более 4.5 м\n",
    "data = data[data['ceiling_height'] > 2] # отбросим значения высоты потолков менее 2 м\n",
    "data['ceiling_height'].describe()\n",
    "data['ceiling_height'].hist(bins=25, range = (1.8,5))"
   ]
  },
  {
   "cell_type": "code",
   "execution_count": 11,
   "metadata": {},
   "outputs": [
    {
     "data": {
      "text/plain": [
       "count    2.321200e+04\n",
       "mean     5.729146e+06\n",
       "std      4.008590e+06\n",
       "min      4.300000e+05\n",
       "25%      3.400000e+06\n",
       "50%      4.600000e+06\n",
       "75%      6.650000e+06\n",
       "max      2.999900e+07\n",
       "Name: last_price, dtype: float64"
      ]
     },
     "execution_count": 11,
     "metadata": {},
     "output_type": "execute_result"
    },
    {
     "data": {
      "image/png": "[encoded data removed]",
      "text/plain": [
       "<Figure size 432x288 with 1 Axes>"
      ]
     },
     "metadata": {
      "needs_background": "light"
     },
     "output_type": "display_data"
    }
   ],
   "source": [
    "#по стоимости\n",
    "data.plot(y = 'last_price', kind = 'hist', bins = 40, grid=True, title='Стоимость', range = (0,50000000))\n",
    "data = data[data['last_price'] != 12190.0]\n",
    "data = data[data['last_price'] < 30000000] # оставим квартиры до 30 млн руб\n",
    "data['last_price'].describe()"
   ]
  },
  {
   "cell_type": "code",
   "execution_count": 12,
   "metadata": {},
   "outputs": [
    {
     "data": {
      "text/plain": [
       "count    23157.000000\n",
       "mean         2.028285\n",
       "std          0.979459\n",
       "min          0.000000\n",
       "25%          1.000000\n",
       "50%          2.000000\n",
       "75%          3.000000\n",
       "max          6.000000\n",
       "Name: rooms, dtype: float64"
      ]
     },
     "execution_count": 12,
     "metadata": {},
     "output_type": "execute_result"
    },
    {
     "data": {
      "image/png": "[encoded data removed]",
      "text/plain": [
       "<Figure size 360x360 with 1 Axes>"
      ]
     },
     "metadata": {
      "needs_background": "light"
     },
     "output_type": "display_data"
    }
   ],
   "source": [
    "#по количечству комнат\n",
    "data.query('rooms == 0')\n",
    "data.query('total_area > 100 and studio==False') # у студий нет комнат. В выборке не без квартиры в ноль комнат с площадью 371 м. Удалим  \n",
    "data = data[data['total_area'] != 371.0]\n",
    "data.loc[(data['rooms'] == 0) & (data['studio']==False), 'rooms'] = 1 # заменим у маленьких квартир не-студий кол-во комнат 0 на 1\n",
    "data.query('rooms == 0 and studio==False')\n",
    "data.plot(y = 'rooms', kind = 'hist', bins = 30, grid=True, title='Количество комнат', range = (0,8), figsize = (5,5))\n",
    "data = data[data['rooms'] < 7] # остановимся на 7 комнатах\n",
    "data['rooms'].describe()"
   ]
  },
  {
   "cell_type": "code",
   "execution_count": 13,
   "metadata": {},
   "outputs": [
    {
     "data": {
      "text/plain": [
       "count    23095.000000\n",
       "mean        57.332192\n",
       "std         25.031743\n",
       "min         12.000000\n",
       "25%         40.000000\n",
       "50%         51.200000\n",
       "75%         68.000000\n",
       "max        199.200000\n",
       "Name: total_area, dtype: float64"
      ]
     },
     "execution_count": 13,
     "metadata": {},
     "output_type": "execute_result"
    },
    {
     "data": {
      "image/png": "[encoded data removed]",
      "text/plain": [
       "<Figure size 432x288 with 1 Axes>"
      ]
     },
     "metadata": {
      "needs_background": "light"
     },
     "output_type": "display_data"
    }
   ],
   "source": [
    "#общая площадь\n",
    "data['total_area'].hist(bins=30)\n",
    "data = data[data['total_area'] < 200] # оставим квартиры менее 200 кв. м\n",
    "data['total_area'].describe()"
   ]
  },
  {
   "cell_type": "code",
   "execution_count": 14,
   "metadata": {},
   "outputs": [
    {
     "data": {
      "text/plain": [
       "23095"
      ]
     },
     "execution_count": 14,
     "metadata": {},
     "output_type": "execute_result"
    }
   ],
   "source": [
    "data.shape[0] # 23095 после обработки и 23699 до. 2.5%"
   ]
  },
  {
   "cell_type": "markdown",
   "metadata": {},
   "source": [
    "**Какие особенности в данных я обнаружила:**\n",
    "- Я сделала выборку потолков высотой более 5 м, в список попали такие значения, как 25 м. Логично предположить, что на самом деле это 2.5 м, подобные аномалии в таблице поправлены. Исключены данные по квартирам, где высота потолков более 4.5 м. Найдена квартира стоимостью 12190 руб., считаю это аномальным значением, данные по этой квартире убраны из исследования. Отсутствие комнат в квартирах не-студиях - отклонение, хотя бы 1 комната должна быть, заменила на 1. Установила предел для стоимости на квартиры в 30 млн руб, площадь - 200 кв.м и количество комнат - 7, ввиду малого количества объектов с такими показателями. По остальным столбцам весомых отклонений от нормы не обнаружено."
   ]
  },
  {
   "cell_type": "code",
   "execution_count": 15,
   "metadata": {},
   "outputs": [
    {
     "data": {
      "image/png": "[encoded data removed]",
      "text/plain": [
       "<Figure size 432x288 with 1 Axes>"
      ]
     },
     "metadata": {
      "needs_background": "light"
     },
     "output_type": "display_data"
    }
   ],
   "source": [
    "#код ревьюера\n",
    "data['total_area'].hist(bins=30);"
   ]
  },
  {
   "cell_type": "markdown",
   "metadata": {},
   "source": [
    "### Посчитайте и добавьте в таблицу новые столбцы"
   ]
  },
  {
   "cell_type": "code",
   "execution_count": 16,
   "metadata": {},
   "outputs": [
    {
     "name": "stdout",
     "output_type": "stream",
     "text": [
      "<class 'pandas.core.frame.DataFrame'>\n",
      "Int64Index: 23095 entries, 0 to 23698\n",
      "Data columns (total 28 columns):\n",
      " #   Column                  Non-Null Count  Dtype         \n",
      "---  ------                  --------------  -----         \n",
      " 0   total_images            23095 non-null  int64         \n",
      " 1   last_price              23095 non-null  float64       \n",
      " 2   total_area              23095 non-null  float64       \n",
      " 3   first_day_exposition    23095 non-null  datetime64[ns]\n",
      " 4   rooms                   23095 non-null  int64         \n",
      " 5   ceiling_height          23095 non-null  float64       \n",
      " 6   floors_total            23095 non-null  int64         \n",
      " 7   living_area             23095 non-null  float64       \n",
      " 8   floor                   23095 non-null  int64         \n",
      " 9   is_apartment            23095 non-null  bool          \n",
      " 10  studio                  23095 non-null  bool          \n",
      " 11  open_plan               23095 non-null  bool          \n",
      " 12  kitchen_area            23095 non-null  float64       \n",
      " 13  balcony                 23095 non-null  int64         \n",
      " 14  locality_name           23095 non-null  object        \n",
      " 15  airports_nearest        17596 non-null  float64       \n",
      " 16  cityCenters_nearest     17616 non-null  float64       \n",
      " 17  parks_around3000        17617 non-null  float64       \n",
      " 18  parks_nearest           7704 non-null   float64       \n",
      " 19  ponds_around3000        17617 non-null  float64       \n",
      " 20  ponds_nearest           8701 non-null   float64       \n",
      " 21  days_exposition         20040 non-null  float64       \n",
      " 22  price_square_meter      23095 non-null  float64       \n",
      " 23  weekday_exposition      23095 non-null  int64         \n",
      " 24  month_exposition        23095 non-null  int64         \n",
      " 25  year_exposition         23095 non-null  int64         \n",
      " 26  floor_category          23095 non-null  object        \n",
      " 27  cityCenters_nearest_km  17616 non-null  float64       \n",
      "dtypes: bool(3), datetime64[ns](1), float64(14), int64(8), object(2)\n",
      "memory usage: 4.6+ MB\n"
     ]
    }
   ],
   "source": [
    "#цена одного квадратного метра\n",
    "data['price_square_meter'] = data['last_price'] / data['total_area']\n",
    "#день недели публикации объявления\n",
    "data['weekday_exposition'] = data['first_day_exposition'].dt.weekday\n",
    "#месяц публикации объявления\n",
    "data['month_exposition'] = data['first_day_exposition'].dt.month\n",
    "#год публикации объявления\n",
    "data['year_exposition'] = data['first_day_exposition'].dt.year\n",
    "#тип этажа квартиры\n",
    "def floor_category(row):\n",
    "    floors_total = row['floors_total']\n",
    "    floor = row['floor']\n",
    "    if floor == 1:\n",
    "        return 'первый'\n",
    "    elif floor == floors_total:\n",
    "        return 'последний'\n",
    "    elif 1 < floor < floors_total:\n",
    "        return 'другой'\n",
    "data['floor_category'] = data.apply(floor_category, axis = 1)    \n",
    "#расстояние до центра города в км\n",
    "data['cityCenters_nearest_km']=(data['cityCenters_nearest']/1000).round()\n",
    "data.info()\n"
   ]
  },
  {
   "cell_type": "markdown",
   "metadata": {},
   "source": [
    "### Проведите исследовательский анализ данных"
   ]
  },
  {
   "cell_type": "code",
   "execution_count": 17,
   "metadata": {},
   "outputs": [
    {
     "data": {
      "text/plain": [
       "count    23095.000000\n",
       "mean        57.332192\n",
       "std         25.031743\n",
       "min         12.000000\n",
       "25%         40.000000\n",
       "50%         51.200000\n",
       "75%         68.000000\n",
       "max        199.200000\n",
       "Name: total_area, dtype: float64"
      ]
     },
     "execution_count": 17,
     "metadata": {},
     "output_type": "execute_result"
    },
    {
     "data": {
      "image/png": "[encoded data removed]",
      "text/plain": [
       "<Figure size 432x288 with 1 Axes>"
      ]
     },
     "metadata": {
      "needs_background": "light"
     },
     "output_type": "display_data"
    }
   ],
   "source": [
    "data.plot(y = 'total_area', kind = 'hist', bins = 40, grid=True, title='Общая площадь', range = (0,300))\n",
    "data['total_area'].describe()"
   ]
  },
  {
   "cell_type": "code",
   "execution_count": 18,
   "metadata": {},
   "outputs": [
    {
     "data": {
      "text/plain": [
       "count    23095.000000\n",
       "mean        32.853709\n",
       "std         16.537229\n",
       "min          2.000000\n",
       "25%         18.900000\n",
       "50%         30.000000\n",
       "75%         41.600000\n",
       "max        164.700000\n",
       "Name: living_area, dtype: float64"
      ]
     },
     "execution_count": 18,
     "metadata": {},
     "output_type": "execute_result"
    },
    {
     "data": {
      "image/png": "[encoded data removed]",
      "text/plain": [
       "<Figure size 432x288 with 1 Axes>"
      ]
     },
     "metadata": {
      "needs_background": "light"
     },
     "output_type": "display_data"
    }
   ],
   "source": [
    "data.plot(y = 'living_area', kind = 'hist', bins = 40, title='Жилая площадь', grid=True)\n",
    "data['living_area'].describe()"
   ]
  },
  {
   "cell_type": "code",
   "execution_count": 19,
   "metadata": {},
   "outputs": [
    {
     "data": {
      "text/plain": [
       "count    23095.000000\n",
       "mean        10.151755\n",
       "std          4.977179\n",
       "min          1.300000\n",
       "25%          7.000000\n",
       "50%          9.000000\n",
       "75%         11.600000\n",
       "max         65.000000\n",
       "Name: kitchen_area, dtype: float64"
      ]
     },
     "execution_count": 19,
     "metadata": {},
     "output_type": "execute_result"
    },
    {
     "data": {
      "image/png": "[encoded data removed]",
      "text/plain": [
       "<Figure size 432x288 with 1 Axes>"
      ]
     },
     "metadata": {
      "needs_background": "light"
     },
     "output_type": "display_data"
    }
   ],
   "source": [
    "data.plot(y = 'kitchen_area', kind = 'hist', bins = 40, title='Площадь кухни', grid=True)\n",
    "data['kitchen_area'].describe()"
   ]
  },
  {
   "cell_type": "code",
   "execution_count": 20,
   "metadata": {},
   "outputs": [
    {
     "data": {
      "text/plain": [
       "count    2.309500e+04\n",
       "mean     5.654024e+06\n",
       "std      3.858748e+06\n",
       "min      4.300000e+05\n",
       "25%      3.400000e+06\n",
       "50%      4.600000e+06\n",
       "75%      6.598500e+06\n",
       "max      2.999900e+07\n",
       "Name: last_price, dtype: float64"
      ]
     },
     "execution_count": 20,
     "metadata": {},
     "output_type": "execute_result"
    },
    {
     "data": {
      "image/png": "[encoded data removed]",
      "text/plain": [
       "<Figure size 432x288 with 1 Axes>"
      ]
     },
     "metadata": {
      "needs_background": "light"
     },
     "output_type": "display_data"
    }
   ],
   "source": [
    "data.plot(y = 'last_price', kind = 'hist', bins = 40, grid=True, title='Стоимость', range = (0,35000000))\n",
    "data['last_price'].describe()"
   ]
  },
  {
   "cell_type": "code",
   "execution_count": 21,
   "metadata": {
    "scrolled": true
   },
   "outputs": [
    {
     "data": {
      "text/plain": [
       "1    8044\n",
       "2    7866\n",
       "3    5668\n",
       "4    1083\n",
       "5     243\n",
       "0     134\n",
       "6      57\n",
       "Name: rooms, dtype: int64"
      ]
     },
     "execution_count": 21,
     "metadata": {},
     "output_type": "execute_result"
    },
    {
     "data": {
      "image/png": "[encoded data removed]",
      "text/plain": [
       "<Figure size 360x360 with 1 Axes>"
      ]
     },
     "metadata": {
      "needs_background": "light"
     },
     "output_type": "display_data"
    }
   ],
   "source": [
    "data['rooms']=data['rooms'].astype('int')\n",
    "data.plot(y = 'rooms', kind = 'hist', bins = 30, grid=True, title='Количество комнат', figsize = (5,5))\n",
    "data['rooms'].value_counts()"
   ]
  },
  {
   "cell_type": "code",
   "execution_count": 22,
   "metadata": {},
   "outputs": [
    {
     "data": {
      "text/plain": [
       "count    23095.000000\n",
       "mean         2.689393\n",
       "std          0.201782\n",
       "min          2.200000\n",
       "25%          2.600000\n",
       "50%          2.650000\n",
       "75%          2.700000\n",
       "max          4.500000\n",
       "Name: ceiling_height, dtype: float64"
      ]
     },
     "execution_count": 22,
     "metadata": {},
     "output_type": "execute_result"
    },
    {
     "data": {
      "image/png": "[encoded data removed]",
      "text/plain": [
       "<Figure size 432x288 with 1 Axes>"
      ]
     },
     "metadata": {
      "needs_background": "light"
     },
     "output_type": "display_data"
    }
   ],
   "source": [
    "data.plot(y = 'ceiling_height', kind = 'hist', bins = 30, grid=True, title='Высота потолков', range = (2,5))\n",
    "data['ceiling_height'].describe()"
   ]
  },
  {
   "cell_type": "code",
   "execution_count": 23,
   "metadata": {},
   "outputs": [
    {
     "data": {
      "text/plain": [
       "count    23095.000000\n",
       "mean         5.893613\n",
       "std          4.890662\n",
       "min          1.000000\n",
       "25%          2.000000\n",
       "50%          4.000000\n",
       "75%          8.000000\n",
       "max         33.000000\n",
       "Name: floor, dtype: float64"
      ]
     },
     "execution_count": 23,
     "metadata": {},
     "output_type": "execute_result"
    },
    {
     "data": {
      "image/png": "[encoded data removed]",
      "text/plain": [
       "<Figure size 432x288 with 1 Axes>"
      ]
     },
     "metadata": {
      "needs_background": "light"
     },
     "output_type": "display_data"
    }
   ],
   "source": [
    "data.plot(y = 'floor', kind = 'hist', bins = 40, grid=True, title='Этаж', range = (1,40))\n",
    "data['floor'].describe()"
   ]
  },
  {
   "cell_type": "code",
   "execution_count": 24,
   "metadata": {},
   "outputs": [
    {
     "name": "stdout",
     "output_type": "stream",
     "text": [
      "floor_category\n",
      "другой       16997\n",
      "первый        2878\n",
      "последний     3220\n",
      "Name: floor, dtype: int64\n"
     ]
    },
    {
     "data": {
      "text/plain": [
       "<AxesSubplot:xlabel='floor_category'>"
      ]
     },
     "execution_count": 24,
     "metadata": {},
     "output_type": "execute_result"
    },
    {
     "data": {
      "image/png": "[encoded data removed]",
      "text/plain": [
       "<Figure size 432x288 with 1 Axes>"
      ]
     },
     "metadata": {
      "needs_background": "light"
     },
     "output_type": "display_data"
    }
   ],
   "source": [
    "category = data.groupby('floor_category')['floor'].count()\n",
    "print(category)\n",
    "category.plot(grid=True)"
   ]
  },
  {
   "cell_type": "code",
   "execution_count": 25,
   "metadata": {},
   "outputs": [
    {
     "data": {
      "text/plain": [
       "count    23095.000000\n",
       "mean        10.739381\n",
       "std          6.617251\n",
       "min          1.000000\n",
       "25%          5.000000\n",
       "50%          9.000000\n",
       "75%         16.000000\n",
       "max         60.000000\n",
       "Name: floors_total, dtype: float64"
      ]
     },
     "execution_count": 25,
     "metadata": {},
     "output_type": "execute_result"
    },
    {
     "data": {
      "image/png": "[encoded data removed]",
      "text/plain": [
       "<Figure size 432x288 with 1 Axes>"
      ]
     },
     "metadata": {
      "needs_background": "light"
     },
     "output_type": "display_data"
    }
   ],
   "source": [
    "data.plot(y = 'floors_total', kind = 'hist', bins = 15, title='Количество этажей в доме', grid=True)\n",
    "data['floors_total'].describe()"
   ]
  },
  {
   "cell_type": "code",
   "execution_count": 26,
   "metadata": {},
   "outputs": [
    {
     "data": {
      "text/plain": [
       "count    17616.000000\n",
       "mean     14391.418710\n",
       "std       8586.280987\n",
       "min        208.000000\n",
       "25%       9631.750000\n",
       "50%      13222.000000\n",
       "75%      16383.000000\n",
       "max      65968.000000\n",
       "Name: cityCenters_nearest, dtype: float64"
      ]
     },
     "execution_count": 26,
     "metadata": {},
     "output_type": "execute_result"
    },
    {
     "data": {
      "image/png": "[encoded data removed]",
      "text/plain": [
       "<Figure size 432x288 with 1 Axes>"
      ]
     },
     "metadata": {
      "needs_background": "light"
     },
     "output_type": "display_data"
    }
   ],
   "source": [
    "data.plot(y = 'cityCenters_nearest', kind = 'hist', bins = 15, title='Расстояние до центра города', grid=True)\n",
    "data['cityCenters_nearest'].describe()"
   ]
  },
  {
   "cell_type": "code",
   "execution_count": 27,
   "metadata": {},
   "outputs": [
    {
     "data": {
      "text/plain": [
       "count    17596.000000\n",
       "mean     28852.017902\n",
       "std      12743.292139\n",
       "min          0.000000\n",
       "25%      18446.000000\n",
       "50%      26880.000000\n",
       "75%      37412.000000\n",
       "max      84869.000000\n",
       "Name: airports_nearest, dtype: float64"
      ]
     },
     "execution_count": 27,
     "metadata": {},
     "output_type": "execute_result"
    },
    {
     "data": {
      "image/png": "[encoded data removed]",
      "text/plain": [
       "<Figure size 432x288 with 1 Axes>"
      ]
     },
     "metadata": {
      "needs_background": "light"
     },
     "output_type": "display_data"
    }
   ],
   "source": [
    "data.plot(y = 'airports_nearest', kind = 'hist', bins = 15, title='Расстояние до ближайшего аэропорта', grid=True)\n",
    "data['airports_nearest'].describe()"
   ]
  },
  {
   "cell_type": "code",
   "execution_count": 28,
   "metadata": {},
   "outputs": [
    {
     "data": {
      "text/plain": [
       "count    7704.000000\n",
       "mean      493.756750\n",
       "std       342.563985\n",
       "min         1.000000\n",
       "25%       289.000000\n",
       "50%       456.000000\n",
       "75%       614.000000\n",
       "max      3190.000000\n",
       "Name: parks_nearest, dtype: float64"
      ]
     },
     "execution_count": 28,
     "metadata": {},
     "output_type": "execute_result"
    },
    {
     "data": {
      "image/png": "[encoded data removed]",
      "text/plain": [
       "<Figure size 432x288 with 1 Axes>"
      ]
     },
     "metadata": {
      "needs_background": "light"
     },
     "output_type": "display_data"
    }
   ],
   "source": [
    "data.plot(y = 'parks_nearest', kind = 'hist', bins = 15, title='Расстояние до ближайшего парка', grid=True)\n",
    "data['parks_nearest'].describe()"
   ]
  },
  {
   "cell_type": "code",
   "execution_count": 29,
   "metadata": {},
   "outputs": [
    {
     "data": {
      "text/plain": [
       "<AxesSubplot:title={'center':'День и месяц публикации объявления'}, ylabel='Frequency'>"
      ]
     },
     "execution_count": 29,
     "metadata": {},
     "output_type": "execute_result"
    },
    {
     "data": {
      "image/png": "[encoded data removed]",
      "text/plain": [
       "<Figure size 432x288 with 1 Axes>"
      ]
     },
     "metadata": {
      "needs_background": "light"
     },
     "output_type": "display_data"
    }
   ],
   "source": [
    "#data['weekday_exposition'] = data['first_day_exposition'].dt.weekday\n",
    "#data['month_exposition'] = data['first_day_exposition'].dt.month\n",
    "data.plot(y = ['weekday_exposition', 'month_exposition'],  kind = 'hist', title='День и месяц публикации объявления', bins = 20, grid=True)"
   ]
  },
  {
   "cell_type": "markdown",
   "metadata": {},
   "source": [
    "**Вывод:**\n",
    "\n",
    "- Средняя площадь продаваемых квартир составляет 52 кв.м. \n",
    "- Средняя жилая площадь составляет 30 кв.м. \n",
    "- Средняя площади кухни составляет 9 кв.м.\n",
    "- Средняя стоимость квартир составляет 4.6 млн руб. \n",
    "- Больше всего однокомнатных квартир (8058), на втором месте - 2-комнатные (7892), далее идут трехкомнатные (5777) и четырехкомнатные (1172).\n",
    "- Высота потолков в среднем составляет 2,7 м. \n",
    "- Большинство продаваемых квартир расположены на 4-5 этажах в 9 этажных домах.\n",
    "- Больше всего объявлений о продаже в радиусе 13-14 км от центра города.\n",
    "- В среднем расстояние до парка у большинства квартир составляет до 500 м.\n",
    "- Меньше всего новых публикаций объявлений о продаже выявлено к концу недели, в течение года публикации появлялись относительно равномерно."
   ]
  },
  {
   "cell_type": "code",
   "execution_count": 30,
   "metadata": {},
   "outputs": [
    {
     "data": {
      "text/plain": [
       "count    20040.000000\n",
       "mean       178.857934\n",
       "std        217.541910\n",
       "min          1.000000\n",
       "25%         45.000000\n",
       "50%         94.000000\n",
       "75%        228.000000\n",
       "max       1580.000000\n",
       "Name: days_exposition, dtype: float64"
      ]
     },
     "execution_count": 30,
     "metadata": {},
     "output_type": "execute_result"
    },
    {
     "data": {
      "image/png": "[encoded data removed]",
      "text/plain": [
       "<Figure size 432x288 with 1 Axes>"
      ]
     },
     "metadata": {
      "needs_background": "light"
     },
     "output_type": "display_data"
    }
   ],
   "source": [
    "#Изучите, как быстро продавались квартиры\n",
    "data.plot(y = 'days_exposition', kind = 'hist', bins = 40, grid = True, range = (1,1700))\n",
    "data['days_exposition'].describe()"
   ]
  },
  {
   "cell_type": "markdown",
   "metadata": {},
   "source": [
    "**Вывод:**\n",
    "С момента публикации о продаже квартиры с бОльшей вероятностью сделка состоится в течение 95 дней. Продажи до 45 дней-необычайно быстрые, от 231 дня и более-долгие."
   ]
  },
  {
   "cell_type": "code",
   "execution_count": 31,
   "metadata": {},
   "outputs": [
    {
     "data": {
      "text/plain": [
       "0.7842418171888511"
      ]
     },
     "execution_count": 31,
     "metadata": {},
     "output_type": "execute_result"
    },
    {
     "data": {
      "image/png": "[encoded data removed]",
      "text/plain": [
       "<Figure size 432x288 with 1 Axes>"
      ]
     },
     "metadata": {
      "needs_background": "light"
     },
     "output_type": "display_data"
    }
   ],
   "source": [
    "#цена от общей площади\n",
    "pivot_table_total_area = data.pivot_table(index = 'total_area', values = 'last_price', aggfunc = ['mean', 'count', 'median'])\n",
    "pivot_table_total_area.columns = ['mean', 'count', 'median']\n",
    "pivot_table_total_area.plot(y = 'median', style = 'o')\n",
    "pivot_table_total_area.sort_values('median', ascending = False)\n",
    "data['total_area'].corr(data['last_price'])"
   ]
  },
  {
   "cell_type": "code",
   "execution_count": 32,
   "metadata": {},
   "outputs": [
    {
     "data": {
      "text/plain": [
       "0.6764801627324809"
      ]
     },
     "execution_count": 32,
     "metadata": {},
     "output_type": "execute_result"
    },
    {
     "data": {
      "image/png": "[encoded data removed]",
      "text/plain": [
       "<Figure size 432x288 with 1 Axes>"
      ]
     },
     "metadata": {
      "needs_background": "light"
     },
     "output_type": "display_data"
    }
   ],
   "source": [
    "#цена от жилой площади\n",
    "pivot_table_living_area = data.pivot_table(index = 'living_area', values = 'last_price', aggfunc = ['mean', 'count', 'median'])\n",
    "pivot_table_living_area.columns = ['mean', 'count', 'median']\n",
    "pivot_table_living_area.plot(y = 'median', style = 'o')\n",
    "pivot_table_living_area.sort_values('median', ascending = False)\n",
    "data['living_area'].corr(data['last_price'])"
   ]
  },
  {
   "cell_type": "code",
   "execution_count": 33,
   "metadata": {},
   "outputs": [
    {
     "data": {
      "text/plain": [
       "0.6173288954034727"
      ]
     },
     "execution_count": 33,
     "metadata": {},
     "output_type": "execute_result"
    },
    {
     "data": {
      "image/png": "[encoded data removed]",
      "text/plain": [
       "<Figure size 432x288 with 1 Axes>"
      ]
     },
     "metadata": {
      "needs_background": "light"
     },
     "output_type": "display_data"
    }
   ],
   "source": [
    "#цена от площади кухни\n",
    "pivot_table_kitchen_area = data.pivot_table(index = 'kitchen_area', values = 'last_price', aggfunc = ['mean', 'count', 'median'])\n",
    "pivot_table_kitchen_area.columns = ['mean', 'count', 'median']\n",
    "pivot_table_kitchen_area.plot(y = 'median', style = 'o')\n",
    "pivot_table_kitchen_area.sort_values('median', ascending = False)\n",
    "data['kitchen_area'].corr(data['last_price'])"
   ]
  },
  {
   "cell_type": "code",
   "execution_count": 34,
   "metadata": {},
   "outputs": [
    {
     "data": {
      "text/plain": [
       "0.4893437468522003"
      ]
     },
     "execution_count": 34,
     "metadata": {},
     "output_type": "execute_result"
    },
    {
     "data": {
      "image/png": "[encoded data removed]",
      "text/plain": [
       "<Figure size 432x288 with 1 Axes>"
      ]
     },
     "metadata": {
      "needs_background": "light"
     },
     "output_type": "display_data"
    }
   ],
   "source": [
    "#цена от количества комнат\n",
    "\n",
    "pivot_table_rooms = data.pivot_table(index = 'rooms', values = 'last_price', aggfunc = ['mean', 'count', 'median'])\n",
    "pivot_table_rooms.columns = ['mean', 'count', 'median']\n",
    "pivot_table_rooms.query('count > 60').plot(y = 'median')\n",
    "pivot_table_rooms.query('count > 60').sort_values('median', ascending = False)\n",
    "data['rooms'].corr(data['last_price'])"
   ]
  },
  {
   "cell_type": "code",
   "execution_count": 35,
   "metadata": {},
   "outputs": [
    {
     "data": {
      "text/plain": [
       "<AxesSubplot:xlabel='floor_category'>"
      ]
     },
     "execution_count": 35,
     "metadata": {},
     "output_type": "execute_result"
    },
    {
     "data": {
      "image/png": "[encoded data removed]",
      "text/plain": [
       "<Figure size 432x288 with 1 Axes>"
      ]
     },
     "metadata": {
      "needs_background": "light"
     },
     "output_type": "display_data"
    }
   ],
   "source": [
    "#цена от этажа, на котором расположена квартира\n",
    "pivot_table_floor_category = data.pivot_table(index = 'floor_category', values = 'last_price', aggfunc = ['mean', 'count', 'median'])\n",
    "pivot_table_floor_category.columns = ['mean', 'count', 'median']\n",
    "pivot_table_floor_category.plot(y = 'median')"
   ]
  },
  {
   "cell_type": "code",
   "execution_count": 36,
   "metadata": {},
   "outputs": [
    {
     "data": {
      "text/html": [
       "<div>\n",
       "<style scoped>\n",
       "    .dataframe tbody tr th:only-of-type {\n",
       "        vertical-align: middle;\n",
       "    }\n",
       "\n",
       "    .dataframe tbody tr th {\n",
       "        vertical-align: top;\n",
       "    }\n",
       "\n",
       "    .dataframe thead th {\n",
       "        text-align: right;\n",
       "    }\n",
       "</style>\n",
       "<table border=\"1\" class=\"dataframe\">\n",
       "  <thead>\n",
       "    <tr style=\"text-align: right;\">\n",
       "      <th></th>\n",
       "      <th>mean</th>\n",
       "      <th>count</th>\n",
       "      <th>median</th>\n",
       "    </tr>\n",
       "    <tr>\n",
       "      <th>weekday_exposition</th>\n",
       "      <th></th>\n",
       "      <th></th>\n",
       "      <th></th>\n",
       "    </tr>\n",
       "  </thead>\n",
       "  <tbody>\n",
       "    <tr>\n",
       "      <th>1</th>\n",
       "      <td>5.687331e+06</td>\n",
       "      <td>4095</td>\n",
       "      <td>4700000.0</td>\n",
       "    </tr>\n",
       "    <tr>\n",
       "      <th>2</th>\n",
       "      <td>5.731184e+06</td>\n",
       "      <td>3864</td>\n",
       "      <td>4650000.0</td>\n",
       "    </tr>\n",
       "    <tr>\n",
       "      <th>0</th>\n",
       "      <td>5.732892e+06</td>\n",
       "      <td>3536</td>\n",
       "      <td>4600000.0</td>\n",
       "    </tr>\n",
       "    <tr>\n",
       "      <th>3</th>\n",
       "      <td>5.768065e+06</td>\n",
       "      <td>4168</td>\n",
       "      <td>4600000.0</td>\n",
       "    </tr>\n",
       "    <tr>\n",
       "      <th>4</th>\n",
       "      <td>5.560826e+06</td>\n",
       "      <td>3908</td>\n",
       "      <td>4500000.0</td>\n",
       "    </tr>\n",
       "    <tr>\n",
       "      <th>5</th>\n",
       "      <td>5.413751e+06</td>\n",
       "      <td>1878</td>\n",
       "      <td>4500000.0</td>\n",
       "    </tr>\n",
       "    <tr>\n",
       "      <th>6</th>\n",
       "      <td>5.427236e+06</td>\n",
       "      <td>1646</td>\n",
       "      <td>4500000.0</td>\n",
       "    </tr>\n",
       "  </tbody>\n",
       "</table>\n",
       "</div>"
      ],
      "text/plain": [
       "                            mean  count     median\n",
       "weekday_exposition                                \n",
       "1                   5.687331e+06   4095  4700000.0\n",
       "2                   5.731184e+06   3864  4650000.0\n",
       "0                   5.732892e+06   3536  4600000.0\n",
       "3                   5.768065e+06   4168  4600000.0\n",
       "4                   5.560826e+06   3908  4500000.0\n",
       "5                   5.413751e+06   1878  4500000.0\n",
       "6                   5.427236e+06   1646  4500000.0"
      ]
     },
     "execution_count": 36,
     "metadata": {},
     "output_type": "execute_result"
    },
    {
     "data": {
      "image/png": "[encoded data removed]",
      "text/plain": [
       "<Figure size 432x288 with 1 Axes>"
      ]
     },
     "metadata": {
      "needs_background": "light"
     },
     "output_type": "display_data"
    }
   ],
   "source": [
    "# цена от даты размещения (день недели)\n",
    "pivot_table_weekday_exposition = data.pivot_table(index = 'weekday_exposition', values = 'last_price', aggfunc = ['mean', 'count', 'median'])\n",
    "pivot_table_weekday_exposition.columns = ['mean', 'count', 'median']\n",
    "pivot_table_weekday_exposition.plot(y = 'median')\n",
    "\n",
    "pivot_table_weekday_exposition.sort_values('median', ascending = False)"
   ]
  },
  {
   "cell_type": "code",
   "execution_count": 37,
   "metadata": {},
   "outputs": [
    {
     "data": {
      "text/html": [
       "<div>\n",
       "<style scoped>\n",
       "    .dataframe tbody tr th:only-of-type {\n",
       "        vertical-align: middle;\n",
       "    }\n",
       "\n",
       "    .dataframe tbody tr th {\n",
       "        vertical-align: top;\n",
       "    }\n",
       "\n",
       "    .dataframe thead th {\n",
       "        text-align: right;\n",
       "    }\n",
       "</style>\n",
       "<table border=\"1\" class=\"dataframe\">\n",
       "  <thead>\n",
       "    <tr style=\"text-align: right;\">\n",
       "      <th></th>\n",
       "      <th>mean</th>\n",
       "      <th>count</th>\n",
       "      <th>median</th>\n",
       "    </tr>\n",
       "    <tr>\n",
       "      <th>month_exposition</th>\n",
       "      <th></th>\n",
       "      <th></th>\n",
       "      <th></th>\n",
       "    </tr>\n",
       "  </thead>\n",
       "  <tbody>\n",
       "    <tr>\n",
       "      <th>4</th>\n",
       "      <td>5.739829e+06</td>\n",
       "      <td>2319</td>\n",
       "      <td>4750000.0</td>\n",
       "    </tr>\n",
       "    <tr>\n",
       "      <th>9</th>\n",
       "      <td>5.805026e+06</td>\n",
       "      <td>1938</td>\n",
       "      <td>4650000.0</td>\n",
       "    </tr>\n",
       "    <tr>\n",
       "      <th>11</th>\n",
       "      <td>5.727048e+06</td>\n",
       "      <td>2313</td>\n",
       "      <td>4650000.0</td>\n",
       "    </tr>\n",
       "    <tr>\n",
       "      <th>2</th>\n",
       "      <td>5.653215e+06</td>\n",
       "      <td>2583</td>\n",
       "      <td>4600000.0</td>\n",
       "    </tr>\n",
       "    <tr>\n",
       "      <th>3</th>\n",
       "      <td>5.575056e+06</td>\n",
       "      <td>2524</td>\n",
       "      <td>4600000.0</td>\n",
       "    </tr>\n",
       "    <tr>\n",
       "      <th>7</th>\n",
       "      <td>5.680286e+06</td>\n",
       "      <td>1646</td>\n",
       "      <td>4600000.0</td>\n",
       "    </tr>\n",
       "    <tr>\n",
       "      <th>12</th>\n",
       "      <td>5.705331e+06</td>\n",
       "      <td>1599</td>\n",
       "      <td>4600000.0</td>\n",
       "    </tr>\n",
       "    <tr>\n",
       "      <th>1</th>\n",
       "      <td>5.693020e+06</td>\n",
       "      <td>1453</td>\n",
       "      <td>4550000.0</td>\n",
       "    </tr>\n",
       "    <tr>\n",
       "      <th>10</th>\n",
       "      <td>5.607107e+06</td>\n",
       "      <td>2074</td>\n",
       "      <td>4545000.0</td>\n",
       "    </tr>\n",
       "    <tr>\n",
       "      <th>5</th>\n",
       "      <td>5.577296e+06</td>\n",
       "      <td>1232</td>\n",
       "      <td>4500000.0</td>\n",
       "    </tr>\n",
       "    <tr>\n",
       "      <th>8</th>\n",
       "      <td>5.621010e+06</td>\n",
       "      <td>1706</td>\n",
       "      <td>4500000.0</td>\n",
       "    </tr>\n",
       "    <tr>\n",
       "      <th>6</th>\n",
       "      <td>5.423991e+06</td>\n",
       "      <td>1708</td>\n",
       "      <td>4350000.0</td>\n",
       "    </tr>\n",
       "  </tbody>\n",
       "</table>\n",
       "</div>"
      ],
      "text/plain": [
       "                          mean  count     median\n",
       "month_exposition                                \n",
       "4                 5.739829e+06   2319  4750000.0\n",
       "9                 5.805026e+06   1938  4650000.0\n",
       "11                5.727048e+06   2313  4650000.0\n",
       "2                 5.653215e+06   2583  4600000.0\n",
       "3                 5.575056e+06   2524  4600000.0\n",
       "7                 5.680286e+06   1646  4600000.0\n",
       "12                5.705331e+06   1599  4600000.0\n",
       "1                 5.693020e+06   1453  4550000.0\n",
       "10                5.607107e+06   2074  4545000.0\n",
       "5                 5.577296e+06   1232  4500000.0\n",
       "8                 5.621010e+06   1706  4500000.0\n",
       "6                 5.423991e+06   1708  4350000.0"
      ]
     },
     "execution_count": 37,
     "metadata": {},
     "output_type": "execute_result"
    },
    {
     "data": {
      "image/png": "[encoded data removed]",
      "text/plain": [
       "<Figure size 432x288 with 1 Axes>"
      ]
     },
     "metadata": {
      "needs_background": "light"
     },
     "output_type": "display_data"
    }
   ],
   "source": [
    "# цена от даты размещения (месяц)\n",
    "month_exposition = data.pivot_table(index = 'month_exposition', values = 'last_price', aggfunc = ['mean', 'count', 'median'])\n",
    "month_exposition.columns = ['mean', 'count', 'median']\n",
    "month_exposition.plot(y = 'median')\n",
    "\n",
    "month_exposition.sort_values('median', ascending = False)"
   ]
  },
  {
   "cell_type": "code",
   "execution_count": 38,
   "metadata": {},
   "outputs": [
    {
     "data": {
      "text/html": [
       "<div>\n",
       "<style scoped>\n",
       "    .dataframe tbody tr th:only-of-type {\n",
       "        vertical-align: middle;\n",
       "    }\n",
       "\n",
       "    .dataframe tbody tr th {\n",
       "        vertical-align: top;\n",
       "    }\n",
       "\n",
       "    .dataframe thead th {\n",
       "        text-align: right;\n",
       "    }\n",
       "</style>\n",
       "<table border=\"1\" class=\"dataframe\">\n",
       "  <thead>\n",
       "    <tr style=\"text-align: right;\">\n",
       "      <th></th>\n",
       "      <th>mean</th>\n",
       "      <th>count</th>\n",
       "      <th>median</th>\n",
       "    </tr>\n",
       "    <tr>\n",
       "      <th>year_exposition</th>\n",
       "      <th></th>\n",
       "      <th></th>\n",
       "      <th></th>\n",
       "    </tr>\n",
       "  </thead>\n",
       "  <tbody>\n",
       "    <tr>\n",
       "      <th>2014</th>\n",
       "      <td>9.515592e+06</td>\n",
       "      <td>128</td>\n",
       "      <td>7388280.0</td>\n",
       "    </tr>\n",
       "    <tr>\n",
       "      <th>2015</th>\n",
       "      <td>6.491941e+06</td>\n",
       "      <td>1114</td>\n",
       "      <td>5186000.0</td>\n",
       "    </tr>\n",
       "    <tr>\n",
       "      <th>2019</th>\n",
       "      <td>5.956481e+06</td>\n",
       "      <td>2815</td>\n",
       "      <td>5000000.0</td>\n",
       "    </tr>\n",
       "    <tr>\n",
       "      <th>2018</th>\n",
       "      <td>5.476938e+06</td>\n",
       "      <td>8369</td>\n",
       "      <td>4510000.0</td>\n",
       "    </tr>\n",
       "    <tr>\n",
       "      <th>2017</th>\n",
       "      <td>5.569409e+06</td>\n",
       "      <td>7994</td>\n",
       "      <td>4480000.0</td>\n",
       "    </tr>\n",
       "    <tr>\n",
       "      <th>2016</th>\n",
       "      <td>5.608907e+06</td>\n",
       "      <td>2675</td>\n",
       "      <td>4450000.0</td>\n",
       "    </tr>\n",
       "  </tbody>\n",
       "</table>\n",
       "</div>"
      ],
      "text/plain": [
       "                         mean  count     median\n",
       "year_exposition                                \n",
       "2014             9.515592e+06    128  7388280.0\n",
       "2015             6.491941e+06   1114  5186000.0\n",
       "2019             5.956481e+06   2815  5000000.0\n",
       "2018             5.476938e+06   8369  4510000.0\n",
       "2017             5.569409e+06   7994  4480000.0\n",
       "2016             5.608907e+06   2675  4450000.0"
      ]
     },
     "execution_count": 38,
     "metadata": {},
     "output_type": "execute_result"
    },
    {
     "data": {
      "image/png": "[encoded data removed]",
      "text/plain": [
       "<Figure size 432x288 with 1 Axes>"
      ]
     },
     "metadata": {
      "needs_background": "light"
     },
     "output_type": "display_data"
    }
   ],
   "source": [
    "# цена от даты размещения (год)\n",
    "year_exposition = data.pivot_table(index = 'year_exposition', values = 'last_price', aggfunc = ['mean', 'count', 'median'])\n",
    "year_exposition.columns = ['mean', 'count', 'median']\n",
    "year_exposition.plot(y = 'median')\n",
    "\n",
    "year_exposition.sort_values('median', ascending = False)"
   ]
  },
  {
   "cell_type": "markdown",
   "metadata": {},
   "source": [
    "**Вывод:**\n",
    "- Цена квартиры прямо пропорциональна ее площади. \n",
    "- Цена квартиры прямо пропорциональна ее жилой площади. \n",
    "- С увеличением площади кухни цена на квартиру также увеличивается, коэффициент корреляции составил 0.51. \n",
    "- Чем больше комнат, тем выше стоимость. Однако, коэффициент корреляции здесь меньше, чем у общей площади, значит, площадь квартиры гораздо сильнее влияет на стоимость, чем количество комнат.\n",
    "- Наиболее дешевый вариант квартир расположен на первом этаже. Затем- на последнем. Наиболее дорогие варианты квартир расположены в средней части зданий. \n",
    "- К концу недели стоимость квартир умньшается. Во вторник квартиры самые дорогие. Возможно, это связано с активностью пользователей, в рабочие дни они более активно выставляют недвижимость на продажу.\n",
    "- наиболее высокая стоимость в апреле, низкая-в июне. В начале лета предложений и по количеству, и по стоимости меньше, возможно, это связано с отпусками. В остальное время года стоимость относительно равномерна.\n",
    "- с 2014 года стоимость квартир в среднем стабильно уменьшалась. Начиная с 2017 года мы видим увеличение стоимости.    "
   ]
  },
  {
   "cell_type": "code",
   "execution_count": 39,
   "metadata": {},
   "outputs": [
    {
     "data": {
      "text/html": [
       "<div>\n",
       "<style scoped>\n",
       "    .dataframe tbody tr th:only-of-type {\n",
       "        vertical-align: middle;\n",
       "    }\n",
       "\n",
       "    .dataframe tbody tr th {\n",
       "        vertical-align: top;\n",
       "    }\n",
       "\n",
       "    .dataframe thead th {\n",
       "        text-align: right;\n",
       "    }\n",
       "</style>\n",
       "<table border=\"1\" class=\"dataframe\">\n",
       "  <thead>\n",
       "    <tr style=\"text-align: right;\">\n",
       "      <th></th>\n",
       "      <th>count</th>\n",
       "      <th>mean</th>\n",
       "    </tr>\n",
       "    <tr>\n",
       "      <th>locality_name</th>\n",
       "      <th></th>\n",
       "      <th></th>\n",
       "    </tr>\n",
       "  </thead>\n",
       "  <tbody>\n",
       "    <tr>\n",
       "      <th>Санкт-Петербург</th>\n",
       "      <td>15209</td>\n",
       "      <td>110581.796922</td>\n",
       "    </tr>\n",
       "    <tr>\n",
       "      <th>поселок Мурино</th>\n",
       "      <td>552</td>\n",
       "      <td>85629.568678</td>\n",
       "    </tr>\n",
       "    <tr>\n",
       "      <th>поселок Шушары</th>\n",
       "      <td>439</td>\n",
       "      <td>78551.344545</td>\n",
       "    </tr>\n",
       "    <tr>\n",
       "      <th>Всеволожск</th>\n",
       "      <td>397</td>\n",
       "      <td>68719.320400</td>\n",
       "    </tr>\n",
       "    <tr>\n",
       "      <th>Пушкин</th>\n",
       "      <td>364</td>\n",
       "      <td>103122.538840</td>\n",
       "    </tr>\n",
       "    <tr>\n",
       "      <th>Колпино</th>\n",
       "      <td>337</td>\n",
       "      <td>75333.295801</td>\n",
       "    </tr>\n",
       "    <tr>\n",
       "      <th>поселок Парголово</th>\n",
       "      <td>326</td>\n",
       "      <td>90332.263023</td>\n",
       "    </tr>\n",
       "    <tr>\n",
       "      <th>Гатчина</th>\n",
       "      <td>307</td>\n",
       "      <td>68746.146763</td>\n",
       "    </tr>\n",
       "    <tr>\n",
       "      <th>деревня Кудрово</th>\n",
       "      <td>299</td>\n",
       "      <td>92473.547576</td>\n",
       "    </tr>\n",
       "    <tr>\n",
       "      <th>Выборг</th>\n",
       "      <td>235</td>\n",
       "      <td>58238.143141</td>\n",
       "    </tr>\n",
       "  </tbody>\n",
       "</table>\n",
       "</div>"
      ],
      "text/plain": [
       "                   count           mean\n",
       "locality_name                          \n",
       "Санкт-Петербург    15209  110581.796922\n",
       "поселок Мурино       552   85629.568678\n",
       "поселок Шушары       439   78551.344545\n",
       "Всеволожск           397   68719.320400\n",
       "Пушкин               364  103122.538840\n",
       "Колпино              337   75333.295801\n",
       "поселок Парголово    326   90332.263023\n",
       "Гатчина              307   68746.146763\n",
       "деревня Кудрово      299   92473.547576\n",
       "Выборг               235   58238.143141"
      ]
     },
     "execution_count": 39,
     "metadata": {},
     "output_type": "execute_result"
    }
   ],
   "source": [
    "locality_pivot_table = data.pivot_table(index = 'locality_name', values = 'price_square_meter', aggfunc=['count', 'mean'])\n",
    "locality_pivot_table.columns = ['count', 'mean']\n",
    "locality_pivot_table = locality_pivot_table.sort_values('count', ascending = False)\n",
    "locality_pivot_table.head(10)"
   ]
  },
  {
   "cell_type": "markdown",
   "metadata": {},
   "source": [
    "**Вывод:**\n",
    "Самая высокая стоимость квадратного метра в Санкт-Петербурге, низкая - в Выборге."
   ]
  },
  {
   "cell_type": "code",
   "execution_count": 40,
   "metadata": {},
   "outputs": [
    {
     "data": {
      "text/html": [
       "<div>\n",
       "<style scoped>\n",
       "    .dataframe tbody tr th:only-of-type {\n",
       "        vertical-align: middle;\n",
       "    }\n",
       "\n",
       "    .dataframe tbody tr th {\n",
       "        vertical-align: top;\n",
       "    }\n",
       "\n",
       "    .dataframe thead th {\n",
       "        text-align: right;\n",
       "    }\n",
       "</style>\n",
       "<table border=\"1\" class=\"dataframe\">\n",
       "  <thead>\n",
       "    <tr style=\"text-align: right;\">\n",
       "      <th></th>\n",
       "      <th>price_square_meter</th>\n",
       "    </tr>\n",
       "  </thead>\n",
       "  <tbody>\n",
       "    <tr>\n",
       "      <th>count</th>\n",
       "      <td>30.000000</td>\n",
       "    </tr>\n",
       "    <tr>\n",
       "      <th>mean</th>\n",
       "      <td>107868.642311</td>\n",
       "    </tr>\n",
       "    <tr>\n",
       "      <th>std</th>\n",
       "      <td>17734.164919</td>\n",
       "    </tr>\n",
       "    <tr>\n",
       "      <th>min</th>\n",
       "      <td>72953.365445</td>\n",
       "    </tr>\n",
       "    <tr>\n",
       "      <th>25%</th>\n",
       "      <td>94954.583077</td>\n",
       "    </tr>\n",
       "    <tr>\n",
       "      <th>50%</th>\n",
       "      <td>105864.766791</td>\n",
       "    </tr>\n",
       "    <tr>\n",
       "      <th>75%</th>\n",
       "      <td>122705.329425</td>\n",
       "    </tr>\n",
       "    <tr>\n",
       "      <th>max</th>\n",
       "      <td>144545.676008</td>\n",
       "    </tr>\n",
       "  </tbody>\n",
       "</table>\n",
       "</div>"
      ],
      "text/plain": [
       "       price_square_meter\n",
       "count           30.000000\n",
       "mean        107868.642311\n",
       "std          17734.164919\n",
       "min          72953.365445\n",
       "25%          94954.583077\n",
       "50%         105864.766791\n",
       "75%         122705.329425\n",
       "max         144545.676008"
      ]
     },
     "execution_count": 40,
     "metadata": {},
     "output_type": "execute_result"
    },
    {
     "data": {
      "image/png": "[encoded data removed]",
      "text/plain": [
       "<Figure size 432x288 with 1 Axes>"
      ]
     },
     "metadata": {
      "needs_background": "light"
     },
     "output_type": "display_data"
    }
   ],
   "source": [
    "#средняя цена км\n",
    "\n",
    "data['cityCenters_nearest_km'].describe() # 999999.000000 уберем\n",
    "pivot_table_km = data.query('locality_name == \"Санкт-Петербург\" and cityCenters_nearest_km !=999999').pivot_table(index = 'cityCenters_nearest_km', values = 'price_square_meter', aggfunc = 'mean')\n",
    "pivot_table_km.plot()\n",
    "pivot_table_km.describe()"
   ]
  },
  {
   "cell_type": "markdown",
   "metadata": {},
   "source": [
    "**Вывод**\n",
    "- По графику видим, что в среднем цена на квартиру уменьшается с увеличением расстояния до центра города. Непланомерность графика может быть связана с особыми благоприятными условиями в месте продажи квартиры: элитная недвижимость, развитая инфраструктура, и т.д."
   ]
  },
  {
   "cell_type": "markdown",
   "metadata": {},
   "source": [
    "### Общий вывод"
   ]
  },
  {
   "cell_type": "markdown",
   "metadata": {},
   "source": [
    "Я выполнила предобработку данных и изучила их, нашла интересные особенности и зависимости, которые существуют на рынке недвижимости.\n",
    "\n",
    "Первым делом-изучила пропуски, изменила типы данных и заполнила пропуски там, где это возможно и логично. Например, сделала выборку потолков высотой более 5 м, в список попали такие значения, как 25 м. Логично предположить, что на самом деле это 2.5 м, подобные аномалии в таблице поправлены. \n",
    "\n",
    "Вторым шагом, самым интересным, провела исследовательский анализ данных. \n",
    "Получила основные характеристики средних показателей продаваемых квартир:\n",
    "- Средняя площадь продаваемых квартир составляет 51 кв.м.  \n",
    "- Средняя жилая площадь составляет 30 кв.м.\n",
    "- Средняя площади кухни составляет 9 кв.м. \n",
    "- Средняя стоимость квартир составляет 4.6 млн руб. \n",
    "- Больше всего однокомнатных квартир (8044), на втором месте - 2-комнатные (7866), далее идут трехкомнатные (5668) и четырехкомнатные (1083).\n",
    "- Высота потолков в среднем составляет 2,7 м. \n",
    "- Большинство продаваемых квартир расположены на 4-5 этажах в 9 этажных домах.\n",
    "- Больше всего объявлений о продаже в радиусе 13-14 км от центра города.\n",
    "- В среднем расстояние до парка у большинства квартир составляет до 500 м.\n",
    "\n",
    "Особенности продаж в зависимости от времени:\n",
    "- Меньше всего новых публикаций объявлений о продаже выявлено к концу недели. В течение года публикации появлялись относительно равномерно.\n",
    "- С момента публикации о продаже квартиры с бОльшей вероятностью сделка состоится в течение 94 дней. Продажи до 45 дней-необычайно быстрые, от 228 дней и более-долгие.\n",
    "\n",
    "Изучены факторы, которые больше всего влияют на общую (полную) стоимость объекта\n",
    "\n",
    "- Цена квартиры прямо пропорциональна ее площади (в т.ч. жилой).\n",
    "- С увеличением площади кухни цена на квартиру также увеличивается.\n",
    "- Чем больше комнат, тем выше стоимость. Однако, коэффициент корреляции здесь меньше, чем у общей площади, значит, площадь квартиры гораздо сильнее влияет на стоимость, чем количество комнат.\n",
    "- Наиболее дешевый вариант квартир расположен на первом этаже. Дороже - на последнем. Самые дорогие варианты квартир расположены в средней части зданий. \n",
    "- К концу недели стоимость квартир умньшается. Во вторник квартиры самые дорогие. Возможно, это связано с активностью пользователей, в рабочие дни они более активно выставляют недвижимость на продажу.\n",
    "- наиболее высокая стоимость в апреле, низкая-в июне. В начале лета предложений и по количеству, и по стоимости меньше, возможно, это связано с отпусками. В остальное время года стоимость относительно равномерна.\n",
    "- с 2014 года стоимость квартир в среднем стабильно уменьшалась. Начиная с 2017 года мы видим увеличение стоимости.  \n",
    "\n",
    "В среднем цена на квартиру уменьшается с увеличением расстояния до центра города. Непланомерность графика может быть связана с особыми благоприятными условиями в месте продажи квартиры: элитная недвижимость, развитая инфраструктура, и т.д."
   ]
  }
 ],
 "metadata": {
  "ExecuteTimeLog": [
   {
    "duration": 56,
    "start_time": "2022-10-21T06:07:54.912Z"
   },
   {
    "duration": 44,
    "start_time": "2022-10-21T06:08:11.342Z"
   },
   {
    "duration": 50,
    "start_time": "2022-10-21T06:08:30.448Z"
   },
   {
    "duration": 6,
    "start_time": "2022-10-21T06:08:55.819Z"
   },
   {
    "duration": 432,
    "start_time": "2022-10-21T06:09:05.781Z"
   },
   {
    "duration": 114,
    "start_time": "2022-10-21T06:09:47.866Z"
   },
   {
    "duration": 73,
    "start_time": "2022-10-21T06:09:51.694Z"
   },
   {
    "duration": 86,
    "start_time": "2022-10-21T06:10:04.430Z"
   },
   {
    "duration": 80,
    "start_time": "2022-10-21T06:12:55.918Z"
   },
   {
    "duration": 86,
    "start_time": "2022-10-21T06:13:22.246Z"
   },
   {
    "duration": 2258,
    "start_time": "2022-10-21T06:14:18.006Z"
   },
   {
    "duration": 1752,
    "start_time": "2022-10-21T06:18:11.895Z"
   },
   {
    "duration": 2485,
    "start_time": "2022-10-21T06:18:52.411Z"
   },
   {
    "duration": 1793,
    "start_time": "2022-10-21T06:19:42.695Z"
   },
   {
    "duration": 1847,
    "start_time": "2022-10-21T06:20:01.519Z"
   },
   {
    "duration": 9,
    "start_time": "2022-10-21T08:43:45.084Z"
   },
   {
    "duration": 1782,
    "start_time": "2022-10-21T09:56:15.412Z"
   },
   {
    "duration": 1843,
    "start_time": "2022-10-21T10:30:42.003Z"
   },
   {
    "duration": 12,
    "start_time": "2022-10-21T10:45:25.294Z"
   },
   {
    "duration": 80,
    "start_time": "2022-10-21T10:45:53.645Z"
   },
   {
    "duration": 11,
    "start_time": "2022-10-21T10:46:33.981Z"
   },
   {
    "duration": 14,
    "start_time": "2022-10-21T10:53:46.721Z"
   },
   {
    "duration": 13,
    "start_time": "2022-10-21T11:30:24.339Z"
   },
   {
    "duration": 2529,
    "start_time": "2022-10-21T11:32:17.191Z"
   },
   {
    "duration": 12,
    "start_time": "2022-10-21T11:32:19.723Z"
   },
   {
    "duration": 1424,
    "start_time": "2022-10-21T11:54:55.186Z"
   },
   {
    "duration": 1359,
    "start_time": "2022-10-21T11:55:39.561Z"
   },
   {
    "duration": 1328,
    "start_time": "2022-10-21T11:57:14.266Z"
   },
   {
    "duration": 2082,
    "start_time": "2022-10-21T11:57:36.617Z"
   },
   {
    "duration": 2541,
    "start_time": "2022-10-21T11:57:53.915Z"
   },
   {
    "duration": 2085,
    "start_time": "2022-10-21T11:57:56.458Z"
   },
   {
    "duration": 1301,
    "start_time": "2022-10-21T11:58:26.355Z"
   },
   {
    "duration": 1297,
    "start_time": "2022-10-21T11:58:41.843Z"
   },
   {
    "duration": 1297,
    "start_time": "2022-10-21T11:58:52.733Z"
   },
   {
    "duration": 2394,
    "start_time": "2022-10-21T11:58:59.838Z"
   },
   {
    "duration": 1276,
    "start_time": "2022-10-21T11:59:02.234Z"
   },
   {
    "duration": 17,
    "start_time": "2022-10-21T12:00:09.874Z"
   },
   {
    "duration": 16,
    "start_time": "2022-10-21T12:00:53.091Z"
   },
   {
    "duration": 12,
    "start_time": "2022-10-21T12:01:10.177Z"
   },
   {
    "duration": 12,
    "start_time": "2022-10-21T12:01:12.346Z"
   },
   {
    "duration": 17,
    "start_time": "2022-10-21T12:01:18.017Z"
   },
   {
    "duration": 26,
    "start_time": "2022-10-21T12:01:28.434Z"
   },
   {
    "duration": 18,
    "start_time": "2022-10-21T12:01:53.090Z"
   },
   {
    "duration": 18,
    "start_time": "2022-10-21T12:01:56.660Z"
   },
   {
    "duration": 19,
    "start_time": "2022-10-21T12:02:13.051Z"
   },
   {
    "duration": 23,
    "start_time": "2022-10-21T12:02:21.426Z"
   },
   {
    "duration": 25,
    "start_time": "2022-10-21T12:02:33.371Z"
   },
   {
    "duration": 1336,
    "start_time": "2022-10-21T12:02:44.427Z"
   },
   {
    "duration": 96,
    "start_time": "2022-10-21T12:07:31.515Z"
   },
   {
    "duration": 127,
    "start_time": "2022-10-21T12:08:43.692Z"
   },
   {
    "duration": 2632,
    "start_time": "2022-10-21T12:09:00.076Z"
   },
   {
    "duration": 150,
    "start_time": "2022-10-21T12:09:02.710Z"
   },
   {
    "duration": 2557,
    "start_time": "2022-10-21T12:10:45.024Z"
   },
   {
    "duration": 150,
    "start_time": "2022-10-21T12:10:47.583Z"
   },
   {
    "duration": 156,
    "start_time": "2022-10-21T12:11:34.318Z"
   },
   {
    "duration": 131,
    "start_time": "2022-10-21T12:12:10.207Z"
   },
   {
    "duration": 96,
    "start_time": "2022-10-21T12:15:36.079Z"
   },
   {
    "duration": 27,
    "start_time": "2022-10-21T12:16:21.419Z"
   },
   {
    "duration": 2442,
    "start_time": "2022-10-21T12:16:30.262Z"
   },
   {
    "duration": 136,
    "start_time": "2022-10-21T12:16:32.706Z"
   },
   {
    "duration": 1238,
    "start_time": "2022-10-21T12:19:58.621Z"
   },
   {
    "duration": 56,
    "start_time": "2022-10-21T12:21:35.838Z"
   },
   {
    "duration": 55,
    "start_time": "2022-10-21T12:21:48.102Z"
   },
   {
    "duration": 93,
    "start_time": "2022-10-21T12:22:33.806Z"
   },
   {
    "duration": 19,
    "start_time": "2022-10-21T12:24:24.159Z"
   },
   {
    "duration": 28,
    "start_time": "2022-10-21T12:24:34.455Z"
   },
   {
    "duration": 35,
    "start_time": "2022-10-21T12:25:52.112Z"
   },
   {
    "duration": 26,
    "start_time": "2022-10-21T12:29:30.303Z"
   },
   {
    "duration": 25,
    "start_time": "2022-10-21T12:30:44.710Z"
   },
   {
    "duration": 1811,
    "start_time": "2022-10-21T12:32:07.437Z"
   },
   {
    "duration": 1889,
    "start_time": "2022-10-21T12:32:25.940Z"
   },
   {
    "duration": 1811,
    "start_time": "2022-10-21T12:33:04.341Z"
   },
   {
    "duration": 70,
    "start_time": "2022-10-22T08:30:57.407Z"
   },
   {
    "duration": 3321,
    "start_time": "2022-10-22T08:31:18.164Z"
   },
   {
    "duration": 123,
    "start_time": "2022-10-22T08:31:21.488Z"
   },
   {
    "duration": 30,
    "start_time": "2022-10-22T08:31:31.469Z"
   },
   {
    "duration": 116,
    "start_time": "2022-10-22T08:32:47.462Z"
   },
   {
    "duration": 39,
    "start_time": "2022-10-22T08:32:58.702Z"
   },
   {
    "duration": 2160,
    "start_time": "2022-10-22T08:33:13.863Z"
   },
   {
    "duration": 34,
    "start_time": "2022-10-22T08:50:46.340Z"
   },
   {
    "duration": 33,
    "start_time": "2022-10-22T08:50:50.878Z"
   },
   {
    "duration": 37,
    "start_time": "2022-10-22T08:51:21.888Z"
   },
   {
    "duration": 37,
    "start_time": "2022-10-22T08:51:33.236Z"
   },
   {
    "duration": 2922,
    "start_time": "2022-10-22T08:51:43.777Z"
   },
   {
    "duration": 52,
    "start_time": "2022-10-22T08:51:46.701Z"
   },
   {
    "duration": 92,
    "start_time": "2022-10-22T08:52:59.993Z"
   },
   {
    "duration": 3014,
    "start_time": "2022-10-22T08:53:16.869Z"
   },
   {
    "duration": 75,
    "start_time": "2022-10-22T08:53:19.885Z"
   },
   {
    "duration": 733,
    "start_time": "2022-10-22T08:53:26.878Z"
   },
   {
    "duration": 44,
    "start_time": "2022-10-22T08:53:40.974Z"
   },
   {
    "duration": 43,
    "start_time": "2022-10-22T08:54:12.519Z"
   },
   {
    "duration": 39,
    "start_time": "2022-10-22T08:55:55.552Z"
   },
   {
    "duration": 47,
    "start_time": "2022-10-22T08:56:49.355Z"
   },
   {
    "duration": 45,
    "start_time": "2022-10-22T09:00:20.549Z"
   },
   {
    "duration": 46,
    "start_time": "2022-10-22T09:00:48.568Z"
   },
   {
    "duration": 2734,
    "start_time": "2022-10-22T09:01:11.914Z"
   },
   {
    "duration": 132,
    "start_time": "2022-10-22T09:01:14.650Z"
   },
   {
    "duration": 44,
    "start_time": "2022-10-22T09:02:06.113Z"
   },
   {
    "duration": 48,
    "start_time": "2022-10-22T09:02:59.250Z"
   },
   {
    "duration": 45,
    "start_time": "2022-10-22T09:03:25.187Z"
   },
   {
    "duration": 43,
    "start_time": "2022-10-22T09:03:44.467Z"
   },
   {
    "duration": 46,
    "start_time": "2022-10-22T09:06:35.853Z"
   },
   {
    "duration": 145,
    "start_time": "2022-10-22T09:19:01.394Z"
   },
   {
    "duration": 36,
    "start_time": "2022-10-22T09:19:59.627Z"
   },
   {
    "duration": 37,
    "start_time": "2022-10-22T09:21:18.957Z"
   },
   {
    "duration": 27,
    "start_time": "2022-10-22T09:21:32.630Z"
   },
   {
    "duration": 2886,
    "start_time": "2022-10-22T09:21:44.463Z"
   },
   {
    "duration": 122,
    "start_time": "2022-10-22T09:21:47.351Z"
   },
   {
    "duration": 36,
    "start_time": "2022-10-22T09:22:03.058Z"
   },
   {
    "duration": 35,
    "start_time": "2022-10-22T09:32:22.350Z"
   },
   {
    "duration": 39,
    "start_time": "2022-10-22T09:32:33.225Z"
   },
   {
    "duration": 38,
    "start_time": "2022-10-22T09:33:01.877Z"
   },
   {
    "duration": 2954,
    "start_time": "2022-10-22T09:33:36.772Z"
   },
   {
    "duration": 45,
    "start_time": "2022-10-22T09:33:39.728Z"
   },
   {
    "duration": 37,
    "start_time": "2022-10-22T09:34:19.861Z"
   },
   {
    "duration": 36,
    "start_time": "2022-10-22T09:34:40.733Z"
   },
   {
    "duration": 115,
    "start_time": "2022-10-22T09:36:34.791Z"
   },
   {
    "duration": 42,
    "start_time": "2022-10-22T09:37:32.648Z"
   },
   {
    "duration": 44,
    "start_time": "2022-10-22T09:37:40.088Z"
   },
   {
    "duration": 132,
    "start_time": "2022-10-22T09:38:41.313Z"
   },
   {
    "duration": 51,
    "start_time": "2022-10-22T09:40:07.634Z"
   },
   {
    "duration": 55,
    "start_time": "2022-10-22T09:40:29.595Z"
   },
   {
    "duration": 61,
    "start_time": "2022-10-22T09:40:52.932Z"
   },
   {
    "duration": 2892,
    "start_time": "2022-10-22T09:41:03.025Z"
   },
   {
    "duration": 49,
    "start_time": "2022-10-22T09:41:05.918Z"
   },
   {
    "duration": 110,
    "start_time": "2022-10-22T09:41:56.992Z"
   },
   {
    "duration": 48,
    "start_time": "2022-10-22T09:44:03.515Z"
   },
   {
    "duration": 47,
    "start_time": "2022-10-22T09:44:05.979Z"
   },
   {
    "duration": 31,
    "start_time": "2022-10-22T09:44:27.660Z"
   },
   {
    "duration": 49,
    "start_time": "2022-10-22T09:44:56.733Z"
   },
   {
    "duration": 111,
    "start_time": "2022-10-22T09:45:04.452Z"
   },
   {
    "duration": 37,
    "start_time": "2022-10-22T09:45:08.621Z"
   },
   {
    "duration": 63,
    "start_time": "2022-10-22T09:45:51.909Z"
   },
   {
    "duration": 38,
    "start_time": "2022-10-22T09:45:54.253Z"
   },
   {
    "duration": 2834,
    "start_time": "2022-10-22T09:46:02.940Z"
   },
   {
    "duration": 57,
    "start_time": "2022-10-22T09:46:05.777Z"
   },
   {
    "duration": 44,
    "start_time": "2022-10-22T09:46:39.773Z"
   },
   {
    "duration": 46,
    "start_time": "2022-10-22T09:48:05.832Z"
   },
   {
    "duration": 108,
    "start_time": "2022-10-22T09:49:22.696Z"
   },
   {
    "duration": 44,
    "start_time": "2022-10-22T09:50:07.298Z"
   },
   {
    "duration": 52,
    "start_time": "2022-10-22T09:51:00.507Z"
   },
   {
    "duration": 182,
    "start_time": "2022-10-22T09:52:56.571Z"
   },
   {
    "duration": 56,
    "start_time": "2022-10-22T10:13:27.687Z"
   },
   {
    "duration": 57,
    "start_time": "2022-10-22T10:13:30.329Z"
   },
   {
    "duration": 2803,
    "start_time": "2022-10-22T10:13:37.245Z"
   },
   {
    "duration": 94,
    "start_time": "2022-10-22T10:13:40.050Z"
   },
   {
    "duration": 67,
    "start_time": "2022-10-22T10:13:44.399Z"
   },
   {
    "duration": 112,
    "start_time": "2022-10-22T10:14:47.184Z"
   },
   {
    "duration": 69,
    "start_time": "2022-10-22T10:15:32.025Z"
   },
   {
    "duration": 67,
    "start_time": "2022-10-22T10:15:44.681Z"
   },
   {
    "duration": 65,
    "start_time": "2022-10-22T10:20:13.177Z"
   },
   {
    "duration": 151,
    "start_time": "2022-10-22T10:21:45.970Z"
   },
   {
    "duration": 67,
    "start_time": "2022-10-22T10:22:22.195Z"
   },
   {
    "duration": 68,
    "start_time": "2022-10-22T10:22:35.555Z"
   },
   {
    "duration": 67,
    "start_time": "2022-10-22T10:25:32.919Z"
   },
   {
    "duration": 71,
    "start_time": "2022-10-22T10:34:56.236Z"
   },
   {
    "duration": 73,
    "start_time": "2022-10-22T10:35:21.500Z"
   },
   {
    "duration": 71,
    "start_time": "2022-10-22T10:35:23.671Z"
   },
   {
    "duration": 63,
    "start_time": "2022-10-22T10:35:40.845Z"
   },
   {
    "duration": 64,
    "start_time": "2022-10-22T10:35:48.493Z"
   },
   {
    "duration": 2707,
    "start_time": "2022-10-22T10:35:57.150Z"
   },
   {
    "duration": 90,
    "start_time": "2022-10-22T10:35:59.860Z"
   },
   {
    "duration": 67,
    "start_time": "2022-10-22T10:36:09.403Z"
   },
   {
    "duration": 71,
    "start_time": "2022-10-22T10:36:17.713Z"
   },
   {
    "duration": 67,
    "start_time": "2022-10-22T10:40:48.382Z"
   },
   {
    "duration": 72,
    "start_time": "2022-10-22T10:41:37.667Z"
   },
   {
    "duration": 77,
    "start_time": "2022-10-22T10:42:21.177Z"
   },
   {
    "duration": 342,
    "start_time": "2022-10-22T10:43:01.234Z"
   },
   {
    "duration": 220,
    "start_time": "2022-10-22T10:43:20.659Z"
   },
   {
    "duration": 75,
    "start_time": "2022-10-22T10:43:31.979Z"
   },
   {
    "duration": 72,
    "start_time": "2022-10-22T10:43:45.643Z"
   },
   {
    "duration": 41,
    "start_time": "2022-10-22T10:47:41.168Z"
   },
   {
    "duration": 49,
    "start_time": "2022-10-22T10:49:04.545Z"
   },
   {
    "duration": 107,
    "start_time": "2022-10-22T10:50:08.440Z"
   },
   {
    "duration": 95,
    "start_time": "2022-10-22T10:50:16.302Z"
   },
   {
    "duration": 42,
    "start_time": "2022-10-22T10:55:33.790Z"
   },
   {
    "duration": 43,
    "start_time": "2022-10-22T10:55:56.428Z"
   },
   {
    "duration": 81,
    "start_time": "2022-10-22T10:57:25.887Z"
   },
   {
    "duration": 49,
    "start_time": "2022-10-22T10:57:37.231Z"
   },
   {
    "duration": 75,
    "start_time": "2022-10-22T10:58:39.946Z"
   },
   {
    "duration": 76,
    "start_time": "2022-10-22T11:00:00.347Z"
   },
   {
    "duration": 9,
    "start_time": "2022-10-22T11:00:04.679Z"
   },
   {
    "duration": 95,
    "start_time": "2022-10-22T11:00:23.652Z"
   },
   {
    "duration": 52,
    "start_time": "2022-10-22T11:03:47.496Z"
   },
   {
    "duration": 145,
    "start_time": "2022-10-22T11:03:52.550Z"
   },
   {
    "duration": 57,
    "start_time": "2022-10-22T11:05:41.693Z"
   },
   {
    "duration": 97,
    "start_time": "2022-10-22T11:05:53.179Z"
   },
   {
    "duration": 106,
    "start_time": "2022-10-22T11:06:18.002Z"
   },
   {
    "duration": 70,
    "start_time": "2022-10-22T11:07:14.583Z"
   },
   {
    "duration": 81,
    "start_time": "2022-10-22T11:07:54.975Z"
   },
   {
    "duration": 82,
    "start_time": "2022-10-22T11:08:25.856Z"
   },
   {
    "duration": 103,
    "start_time": "2022-10-22T11:08:42.097Z"
   },
   {
    "duration": 117,
    "start_time": "2022-10-22T11:09:38.693Z"
   },
   {
    "duration": 147,
    "start_time": "2022-10-22T11:10:03.537Z"
   },
   {
    "duration": 76,
    "start_time": "2022-10-22T11:10:47.966Z"
   },
   {
    "duration": 77,
    "start_time": "2022-10-22T11:12:09.173Z"
   },
   {
    "duration": 88,
    "start_time": "2022-10-22T11:14:06.133Z"
   },
   {
    "duration": 95,
    "start_time": "2022-10-22T11:16:19.337Z"
   },
   {
    "duration": 82,
    "start_time": "2022-10-22T11:16:24.362Z"
   },
   {
    "duration": 83,
    "start_time": "2022-10-22T11:17:23.629Z"
   },
   {
    "duration": 72,
    "start_time": "2022-10-22T11:17:30.528Z"
   },
   {
    "duration": 49,
    "start_time": "2022-10-22T11:18:24.243Z"
   },
   {
    "duration": 116,
    "start_time": "2022-10-22T11:19:37.229Z"
   },
   {
    "duration": 57,
    "start_time": "2022-10-22T11:20:20.662Z"
   },
   {
    "duration": 71,
    "start_time": "2022-10-22T11:20:44.347Z"
   },
   {
    "duration": 147,
    "start_time": "2022-10-22T11:20:52.441Z"
   },
   {
    "duration": 144,
    "start_time": "2022-10-22T11:34:37.359Z"
   },
   {
    "duration": 200,
    "start_time": "2022-10-22T11:36:44.180Z"
   },
   {
    "duration": 120,
    "start_time": "2022-10-22T11:37:37.723Z"
   },
   {
    "duration": 194,
    "start_time": "2022-10-22T11:37:47.174Z"
   },
   {
    "duration": 2907,
    "start_time": "2022-10-22T11:38:28.107Z"
   },
   {
    "duration": 197,
    "start_time": "2022-10-22T11:38:31.016Z"
   },
   {
    "duration": 184,
    "start_time": "2022-10-22T11:41:40.170Z"
   },
   {
    "duration": 185,
    "start_time": "2022-10-22T11:49:14.032Z"
   },
   {
    "duration": 199,
    "start_time": "2022-10-22T11:49:24.138Z"
   },
   {
    "duration": 272,
    "start_time": "2022-10-22T11:50:45.351Z"
   },
   {
    "duration": 23,
    "start_time": "2022-10-22T11:51:14.155Z"
   },
   {
    "duration": 25,
    "start_time": "2022-10-22T11:51:36.372Z"
   },
   {
    "duration": 173,
    "start_time": "2022-10-22T11:51:58.533Z"
   },
   {
    "duration": 20,
    "start_time": "2022-10-22T11:52:58.885Z"
   },
   {
    "duration": 28,
    "start_time": "2022-10-22T11:53:09.654Z"
   },
   {
    "duration": 2524,
    "start_time": "2022-10-22T11:53:45.552Z"
   },
   {
    "duration": 147,
    "start_time": "2022-10-22T11:54:59.845Z"
   },
   {
    "duration": 8,
    "start_time": "2022-10-22T11:57:07.467Z"
   },
   {
    "duration": 3112,
    "start_time": "2022-10-22T11:57:45.262Z"
   },
   {
    "duration": 52,
    "start_time": "2022-10-22T11:57:48.377Z"
   },
   {
    "duration": 33,
    "start_time": "2022-10-22T11:57:48.431Z"
   },
   {
    "duration": 37,
    "start_time": "2022-10-22T11:57:48.467Z"
   },
   {
    "duration": 167,
    "start_time": "2022-10-22T11:57:48.507Z"
   },
   {
    "duration": 37,
    "start_time": "2022-10-22T11:58:29.336Z"
   },
   {
    "duration": 20,
    "start_time": "2022-10-22T11:58:36.873Z"
   },
   {
    "duration": 48,
    "start_time": "2022-10-22T11:59:17.022Z"
   },
   {
    "duration": 9,
    "start_time": "2022-10-22T11:59:50.835Z"
   },
   {
    "duration": 5,
    "start_time": "2022-10-22T12:07:28.923Z"
   },
   {
    "duration": 2300,
    "start_time": "2022-10-22T12:09:38.808Z"
   },
   {
    "duration": 94,
    "start_time": "2022-10-22T12:19:25.947Z"
   },
   {
    "duration": 3103,
    "start_time": "2022-10-22T12:19:40.423Z"
   },
   {
    "duration": 46,
    "start_time": "2022-10-22T12:19:43.529Z"
   },
   {
    "duration": 24,
    "start_time": "2022-10-22T12:19:43.594Z"
   },
   {
    "duration": 14,
    "start_time": "2022-10-22T12:19:43.619Z"
   },
   {
    "duration": 179,
    "start_time": "2022-10-22T12:19:43.635Z"
   },
   {
    "duration": 23,
    "start_time": "2022-10-22T12:19:43.816Z"
   },
   {
    "duration": 9,
    "start_time": "2022-10-22T12:20:18.926Z"
   },
   {
    "duration": 3046,
    "start_time": "2022-10-22T12:20:27.396Z"
   },
   {
    "duration": 63,
    "start_time": "2022-10-22T12:20:30.445Z"
   },
   {
    "duration": 34,
    "start_time": "2022-10-22T12:20:30.511Z"
   },
   {
    "duration": 31,
    "start_time": "2022-10-22T12:20:30.548Z"
   },
   {
    "duration": 212,
    "start_time": "2022-10-22T12:20:30.581Z"
   },
   {
    "duration": 19,
    "start_time": "2022-10-22T12:20:30.795Z"
   },
   {
    "duration": 75,
    "start_time": "2022-10-22T12:21:14.730Z"
   },
   {
    "duration": 14,
    "start_time": "2022-10-22T12:21:30.668Z"
   },
   {
    "duration": 17,
    "start_time": "2022-10-22T12:36:21.582Z"
   },
   {
    "duration": 26,
    "start_time": "2022-10-22T12:36:35.600Z"
   },
   {
    "duration": 102,
    "start_time": "2022-10-22T12:39:16.027Z"
   },
   {
    "duration": 20,
    "start_time": "2022-10-22T12:39:29.003Z"
   },
   {
    "duration": 18,
    "start_time": "2022-10-22T12:39:34.243Z"
   },
   {
    "duration": 26,
    "start_time": "2022-10-22T12:41:05.638Z"
   },
   {
    "duration": 26,
    "start_time": "2022-10-22T12:41:29.510Z"
   },
   {
    "duration": 2945,
    "start_time": "2022-10-22T12:41:36.740Z"
   },
   {
    "duration": 39,
    "start_time": "2022-10-22T12:41:39.694Z"
   },
   {
    "duration": 26,
    "start_time": "2022-10-22T12:41:39.736Z"
   },
   {
    "duration": 33,
    "start_time": "2022-10-22T12:41:39.763Z"
   },
   {
    "duration": 167,
    "start_time": "2022-10-22T12:41:39.800Z"
   },
   {
    "duration": 112,
    "start_time": "2022-10-22T12:41:39.969Z"
   },
   {
    "duration": 17,
    "start_time": "2022-10-22T12:41:58.415Z"
   },
   {
    "duration": 16,
    "start_time": "2022-10-22T12:42:01.039Z"
   },
   {
    "duration": 37,
    "start_time": "2022-10-22T12:42:23.854Z"
   },
   {
    "duration": 38,
    "start_time": "2022-10-22T12:43:15.800Z"
   },
   {
    "duration": 34,
    "start_time": "2022-10-22T12:43:28.697Z"
   },
   {
    "duration": 26,
    "start_time": "2022-10-22T12:43:48.824Z"
   },
   {
    "duration": 30,
    "start_time": "2022-10-22T12:44:23.481Z"
   },
   {
    "duration": 28,
    "start_time": "2022-10-22T12:46:21.116Z"
   },
   {
    "duration": 17,
    "start_time": "2022-10-22T12:50:04.297Z"
   },
   {
    "duration": 3117,
    "start_time": "2022-10-22T12:51:17.074Z"
   },
   {
    "duration": 44,
    "start_time": "2022-10-22T12:51:20.195Z"
   },
   {
    "duration": 25,
    "start_time": "2022-10-22T12:51:20.241Z"
   },
   {
    "duration": 8,
    "start_time": "2022-10-22T12:51:20.296Z"
   },
   {
    "duration": 163,
    "start_time": "2022-10-22T12:51:20.306Z"
   },
   {
    "duration": 26,
    "start_time": "2022-10-22T12:51:20.470Z"
   },
   {
    "duration": 10,
    "start_time": "2022-10-22T12:51:40.006Z"
   },
   {
    "duration": 66,
    "start_time": "2022-10-22T12:51:52.953Z"
   },
   {
    "duration": 8,
    "start_time": "2022-10-22T12:52:10.189Z"
   },
   {
    "duration": 51,
    "start_time": "2022-10-23T06:30:13.437Z"
   },
   {
    "duration": 2711,
    "start_time": "2022-10-23T06:30:26.736Z"
   },
   {
    "duration": 35,
    "start_time": "2022-10-23T06:30:29.449Z"
   },
   {
    "duration": 38,
    "start_time": "2022-10-23T06:30:29.485Z"
   },
   {
    "duration": 8,
    "start_time": "2022-10-23T06:30:29.525Z"
   },
   {
    "duration": 147,
    "start_time": "2022-10-23T06:30:29.534Z"
   },
   {
    "duration": 12,
    "start_time": "2022-10-23T06:30:29.684Z"
   },
   {
    "duration": 118,
    "start_time": "2022-10-23T06:30:29.709Z"
   },
   {
    "duration": 358,
    "start_time": "2022-10-23T06:31:10.803Z"
   },
   {
    "duration": 184,
    "start_time": "2022-10-23T06:31:39.845Z"
   },
   {
    "duration": 344,
    "start_time": "2022-10-23T06:31:48.501Z"
   },
   {
    "duration": 334,
    "start_time": "2022-10-23T06:31:54.484Z"
   },
   {
    "duration": 367,
    "start_time": "2022-10-23T06:32:03.693Z"
   },
   {
    "duration": 241,
    "start_time": "2022-10-23T06:32:10.661Z"
   },
   {
    "duration": 249,
    "start_time": "2022-10-23T06:33:10.566Z"
   },
   {
    "duration": 330,
    "start_time": "2022-10-23T06:33:15.423Z"
   },
   {
    "duration": 283,
    "start_time": "2022-10-23T06:33:25.615Z"
   },
   {
    "duration": 263,
    "start_time": "2022-10-23T06:33:31.791Z"
   },
   {
    "duration": 264,
    "start_time": "2022-10-23T06:33:36.599Z"
   },
   {
    "duration": 265,
    "start_time": "2022-10-23T06:34:04.760Z"
   },
   {
    "duration": 335,
    "start_time": "2022-10-23T06:34:59.808Z"
   },
   {
    "duration": 256,
    "start_time": "2022-10-23T06:35:06.729Z"
   },
   {
    "duration": 292,
    "start_time": "2022-10-23T06:35:45.897Z"
   },
   {
    "duration": 284,
    "start_time": "2022-10-23T06:35:58.810Z"
   },
   {
    "duration": 316,
    "start_time": "2022-10-23T06:36:04.370Z"
   },
   {
    "duration": 278,
    "start_time": "2022-10-23T06:36:13.435Z"
   },
   {
    "duration": 410,
    "start_time": "2022-10-23T06:36:17.106Z"
   },
   {
    "duration": 283,
    "start_time": "2022-10-23T06:36:22.874Z"
   },
   {
    "duration": 283,
    "start_time": "2022-10-23T06:36:27.874Z"
   },
   {
    "duration": 281,
    "start_time": "2022-10-23T06:36:50.354Z"
   },
   {
    "duration": 265,
    "start_time": "2022-10-23T06:37:47.371Z"
   },
   {
    "duration": 174,
    "start_time": "2022-10-23T06:38:14.013Z"
   },
   {
    "duration": 245,
    "start_time": "2022-10-23T06:38:18.253Z"
   },
   {
    "duration": 207,
    "start_time": "2022-10-23T06:38:23.173Z"
   },
   {
    "duration": 187,
    "start_time": "2022-10-23T06:39:34.077Z"
   },
   {
    "duration": 193,
    "start_time": "2022-10-23T06:40:36.000Z"
   },
   {
    "duration": 189,
    "start_time": "2022-10-23T06:41:02.008Z"
   },
   {
    "duration": 174,
    "start_time": "2022-10-23T06:41:13.025Z"
   },
   {
    "duration": 190,
    "start_time": "2022-10-23T06:41:21.225Z"
   },
   {
    "duration": 180,
    "start_time": "2022-10-23T06:41:44.761Z"
   },
   {
    "duration": 187,
    "start_time": "2022-10-23T06:42:01.361Z"
   },
   {
    "duration": 193,
    "start_time": "2022-10-23T06:42:35.418Z"
   },
   {
    "duration": 209,
    "start_time": "2022-10-23T06:42:54.258Z"
   },
   {
    "duration": 298,
    "start_time": "2022-10-23T06:43:11.732Z"
   },
   {
    "duration": 176,
    "start_time": "2022-10-23T06:43:21.002Z"
   },
   {
    "duration": 198,
    "start_time": "2022-10-23T06:43:39.252Z"
   },
   {
    "duration": 197,
    "start_time": "2022-10-23T06:43:49.716Z"
   },
   {
    "duration": 188,
    "start_time": "2022-10-23T06:44:02.365Z"
   },
   {
    "duration": 193,
    "start_time": "2022-10-23T06:44:09.692Z"
   },
   {
    "duration": 192,
    "start_time": "2022-10-23T06:44:15.717Z"
   },
   {
    "duration": 195,
    "start_time": "2022-10-23T06:44:32.684Z"
   },
   {
    "duration": 143,
    "start_time": "2022-10-23T06:45:21.320Z"
   },
   {
    "duration": 2625,
    "start_time": "2022-10-23T06:45:43.515Z"
   },
   {
    "duration": 54,
    "start_time": "2022-10-23T06:45:46.143Z"
   },
   {
    "duration": 24,
    "start_time": "2022-10-23T06:45:46.200Z"
   },
   {
    "duration": 8,
    "start_time": "2022-10-23T06:45:46.226Z"
   },
   {
    "duration": 156,
    "start_time": "2022-10-23T06:45:46.237Z"
   },
   {
    "duration": 19,
    "start_time": "2022-10-23T06:45:46.395Z"
   },
   {
    "duration": 229,
    "start_time": "2022-10-23T06:45:46.416Z"
   },
   {
    "duration": 224,
    "start_time": "2022-10-23T06:45:46.646Z"
   },
   {
    "duration": 205,
    "start_time": "2022-10-23T06:45:46.871Z"
   },
   {
    "duration": 214,
    "start_time": "2022-10-23T06:45:47.078Z"
   },
   {
    "duration": 178,
    "start_time": "2022-10-23T06:45:47.294Z"
   },
   {
    "duration": 57,
    "start_time": "2022-10-23T06:46:07.851Z"
   },
   {
    "duration": 158,
    "start_time": "2022-10-23T06:46:13.660Z"
   },
   {
    "duration": 291,
    "start_time": "2022-10-23T06:46:20.618Z"
   },
   {
    "duration": 187,
    "start_time": "2022-10-23T06:46:29.347Z"
   },
   {
    "duration": 173,
    "start_time": "2022-10-23T06:46:42.731Z"
   },
   {
    "duration": 166,
    "start_time": "2022-10-23T06:46:47.547Z"
   },
   {
    "duration": 347,
    "start_time": "2022-10-23T06:46:54.619Z"
   },
   {
    "duration": 159,
    "start_time": "2022-10-23T06:46:58.562Z"
   },
   {
    "duration": 166,
    "start_time": "2022-10-23T06:47:05.883Z"
   },
   {
    "duration": 198,
    "start_time": "2022-10-23T06:47:12.973Z"
   },
   {
    "duration": 186,
    "start_time": "2022-10-23T06:47:20.724Z"
   },
   {
    "duration": 237,
    "start_time": "2022-10-23T06:47:24.912Z"
   },
   {
    "duration": 187,
    "start_time": "2022-10-23T06:47:36.500Z"
   },
   {
    "duration": 187,
    "start_time": "2022-10-23T06:47:43.948Z"
   },
   {
    "duration": 164,
    "start_time": "2022-10-23T06:47:53.293Z"
   },
   {
    "duration": 181,
    "start_time": "2022-10-23T06:48:28.973Z"
   },
   {
    "duration": 166,
    "start_time": "2022-10-23T06:48:53.637Z"
   },
   {
    "duration": 203,
    "start_time": "2022-10-23T06:49:05.724Z"
   },
   {
    "duration": 162,
    "start_time": "2022-10-23T06:49:09.775Z"
   },
   {
    "duration": 131,
    "start_time": "2022-10-23T06:49:13.421Z"
   },
   {
    "duration": 199,
    "start_time": "2022-10-23T06:49:19.927Z"
   },
   {
    "duration": 174,
    "start_time": "2022-10-23T06:49:51.937Z"
   },
   {
    "duration": 234,
    "start_time": "2022-10-23T06:50:05.464Z"
   },
   {
    "duration": 179,
    "start_time": "2022-10-23T06:50:09.703Z"
   },
   {
    "duration": 175,
    "start_time": "2022-10-23T06:50:44.016Z"
   },
   {
    "duration": 204,
    "start_time": "2022-10-23T06:51:20.001Z"
   },
   {
    "duration": 190,
    "start_time": "2022-10-23T06:51:34.257Z"
   },
   {
    "duration": 210,
    "start_time": "2022-10-23T06:51:45.466Z"
   },
   {
    "duration": 216,
    "start_time": "2022-10-23T06:51:51.009Z"
   },
   {
    "duration": 210,
    "start_time": "2022-10-23T06:52:05.187Z"
   },
   {
    "duration": 200,
    "start_time": "2022-10-23T06:52:22.562Z"
   },
   {
    "duration": 808,
    "start_time": "2022-10-23T06:55:37.046Z"
   },
   {
    "duration": 2645,
    "start_time": "2022-10-23T06:55:50.939Z"
   },
   {
    "duration": 42,
    "start_time": "2022-10-23T06:55:53.587Z"
   },
   {
    "duration": 23,
    "start_time": "2022-10-23T06:55:53.630Z"
   },
   {
    "duration": 9,
    "start_time": "2022-10-23T06:55:53.655Z"
   },
   {
    "duration": 166,
    "start_time": "2022-10-23T06:55:53.667Z"
   },
   {
    "duration": 333,
    "start_time": "2022-10-23T06:55:53.835Z"
   },
   {
    "duration": 220,
    "start_time": "2022-10-23T06:55:54.169Z"
   },
   {
    "duration": 254,
    "start_time": "2022-10-23T06:55:54.391Z"
   },
   {
    "duration": 352,
    "start_time": "2022-10-23T06:55:54.647Z"
   },
   {
    "duration": 223,
    "start_time": "2022-10-23T06:55:55.000Z"
   },
   {
    "duration": 173,
    "start_time": "2022-10-23T06:55:55.225Z"
   },
   {
    "duration": 198,
    "start_time": "2022-10-23T06:55:55.399Z"
   },
   {
    "duration": 231,
    "start_time": "2022-10-23T06:55:55.599Z"
   },
   {
    "duration": 104,
    "start_time": "2022-10-23T06:55:55.835Z"
   },
   {
    "duration": 324,
    "start_time": "2022-10-23T06:56:57.726Z"
   },
   {
    "duration": 306,
    "start_time": "2022-10-23T06:57:20.886Z"
   },
   {
    "duration": 16,
    "start_time": "2022-10-23T06:57:50.088Z"
   },
   {
    "duration": 15,
    "start_time": "2022-10-23T06:58:12.664Z"
   },
   {
    "duration": 430,
    "start_time": "2022-10-23T06:58:29.426Z"
   },
   {
    "duration": 15,
    "start_time": "2022-10-23T06:59:35.665Z"
   },
   {
    "duration": 155,
    "start_time": "2022-10-23T07:00:27.379Z"
   },
   {
    "duration": 157,
    "start_time": "2022-10-23T07:00:38.748Z"
   },
   {
    "duration": 164,
    "start_time": "2022-10-23T07:00:43.387Z"
   },
   {
    "duration": 16,
    "start_time": "2022-10-23T07:01:17.548Z"
   },
   {
    "duration": 9,
    "start_time": "2022-10-23T07:01:22.179Z"
   },
   {
    "duration": 5,
    "start_time": "2022-10-23T07:01:48.293Z"
   },
   {
    "duration": 14,
    "start_time": "2022-10-23T07:02:11.709Z"
   },
   {
    "duration": 16,
    "start_time": "2022-10-23T07:02:17.101Z"
   },
   {
    "duration": 190,
    "start_time": "2022-10-23T07:03:21.263Z"
   },
   {
    "duration": 201,
    "start_time": "2022-10-23T07:03:34.322Z"
   },
   {
    "duration": 261,
    "start_time": "2022-10-23T07:03:40.008Z"
   },
   {
    "duration": 218,
    "start_time": "2022-10-23T07:03:45.344Z"
   },
   {
    "duration": 204,
    "start_time": "2022-10-23T07:03:49.072Z"
   },
   {
    "duration": 193,
    "start_time": "2022-10-23T07:04:00.656Z"
   },
   {
    "duration": 199,
    "start_time": "2022-10-23T07:04:05.288Z"
   },
   {
    "duration": 14,
    "start_time": "2022-10-23T07:05:23.201Z"
   },
   {
    "duration": 15,
    "start_time": "2022-10-23T07:05:50.426Z"
   },
   {
    "duration": 15,
    "start_time": "2022-10-23T07:05:57.290Z"
   },
   {
    "duration": 15,
    "start_time": "2022-10-23T07:12:01.419Z"
   },
   {
    "duration": 14,
    "start_time": "2022-10-23T07:14:24.989Z"
   },
   {
    "duration": 7,
    "start_time": "2022-10-23T07:14:32.413Z"
   },
   {
    "duration": 13,
    "start_time": "2022-10-23T07:14:44.959Z"
   },
   {
    "duration": 9,
    "start_time": "2022-10-23T07:15:30.983Z"
   },
   {
    "duration": 8,
    "start_time": "2022-10-23T07:15:45.049Z"
   },
   {
    "duration": 15,
    "start_time": "2022-10-23T07:15:49.975Z"
   },
   {
    "duration": 1959,
    "start_time": "2022-10-23T07:22:36.330Z"
   },
   {
    "duration": 1965,
    "start_time": "2022-10-23T07:22:43.088Z"
   },
   {
    "duration": 446,
    "start_time": "2022-10-23T07:23:00.121Z"
   },
   {
    "duration": 11,
    "start_time": "2022-10-23T07:23:34.036Z"
   },
   {
    "duration": 11,
    "start_time": "2022-10-23T07:23:49.299Z"
   },
   {
    "duration": 14,
    "start_time": "2022-10-23T07:24:13.475Z"
   },
   {
    "duration": 14,
    "start_time": "2022-10-23T07:24:59.548Z"
   },
   {
    "duration": 16,
    "start_time": "2022-10-23T07:26:36.894Z"
   },
   {
    "duration": 148,
    "start_time": "2022-10-23T07:26:41.478Z"
   },
   {
    "duration": 2627,
    "start_time": "2022-10-23T07:26:56.173Z"
   },
   {
    "duration": 36,
    "start_time": "2022-10-23T07:26:58.802Z"
   },
   {
    "duration": 20,
    "start_time": "2022-10-23T07:26:58.839Z"
   },
   {
    "duration": 7,
    "start_time": "2022-10-23T07:26:58.861Z"
   },
   {
    "duration": 163,
    "start_time": "2022-10-23T07:26:58.870Z"
   },
   {
    "duration": 325,
    "start_time": "2022-10-23T07:26:59.035Z"
   },
   {
    "duration": 211,
    "start_time": "2022-10-23T07:26:59.362Z"
   },
   {
    "duration": 208,
    "start_time": "2022-10-23T07:26:59.575Z"
   },
   {
    "duration": 264,
    "start_time": "2022-10-23T07:26:59.784Z"
   },
   {
    "duration": 199,
    "start_time": "2022-10-23T07:27:00.050Z"
   },
   {
    "duration": 214,
    "start_time": "2022-10-23T07:27:00.251Z"
   },
   {
    "duration": 185,
    "start_time": "2022-10-23T07:27:00.466Z"
   },
   {
    "duration": 223,
    "start_time": "2022-10-23T07:27:00.652Z"
   },
   {
    "duration": 164,
    "start_time": "2022-10-23T07:27:00.876Z"
   },
   {
    "duration": 89,
    "start_time": "2022-10-23T07:33:32.531Z"
   },
   {
    "duration": 193,
    "start_time": "2022-10-23T07:33:36.993Z"
   },
   {
    "duration": 143,
    "start_time": "2022-10-23T07:34:30.997Z"
   },
   {
    "duration": 1772,
    "start_time": "2022-10-23T07:34:52.956Z"
   },
   {
    "duration": 48,
    "start_time": "2022-10-23T07:35:10.236Z"
   },
   {
    "duration": 139,
    "start_time": "2022-10-23T07:35:16.909Z"
   },
   {
    "duration": 17,
    "start_time": "2022-10-23T07:35:40.141Z"
   },
   {
    "duration": 1838,
    "start_time": "2022-10-23T07:35:53.334Z"
   },
   {
    "duration": 1777,
    "start_time": "2022-10-23T07:35:58.477Z"
   },
   {
    "duration": 1853,
    "start_time": "2022-10-23T07:36:05.374Z"
   },
   {
    "duration": 2101,
    "start_time": "2022-10-23T07:36:15.815Z"
   },
   {
    "duration": 15,
    "start_time": "2022-10-23T07:37:36.583Z"
   },
   {
    "duration": 164,
    "start_time": "2022-10-23T07:37:57.759Z"
   },
   {
    "duration": 161,
    "start_time": "2022-10-23T07:38:20.401Z"
   },
   {
    "duration": 376,
    "start_time": "2022-10-23T07:38:40.345Z"
   },
   {
    "duration": 158,
    "start_time": "2022-10-23T07:38:48.995Z"
   },
   {
    "duration": 713,
    "start_time": "2022-10-23T07:39:21.618Z"
   },
   {
    "duration": 151,
    "start_time": "2022-10-23T07:39:50.995Z"
   },
   {
    "duration": 13,
    "start_time": "2022-10-23T07:42:20.238Z"
   },
   {
    "duration": 426,
    "start_time": "2022-10-23T07:43:50.568Z"
   },
   {
    "duration": 17,
    "start_time": "2022-10-23T07:44:35.953Z"
   },
   {
    "duration": 16,
    "start_time": "2022-10-23T07:45:03.081Z"
   },
   {
    "duration": 438,
    "start_time": "2022-10-23T07:45:12.930Z"
   },
   {
    "duration": 429,
    "start_time": "2022-10-23T07:45:37.338Z"
   },
   {
    "duration": 661,
    "start_time": "2022-10-23T07:46:27.812Z"
   },
   {
    "duration": 171,
    "start_time": "2022-10-23T07:46:45.244Z"
   },
   {
    "duration": 471,
    "start_time": "2022-10-23T07:46:53.820Z"
   },
   {
    "duration": 493,
    "start_time": "2022-10-23T07:47:08.398Z"
   },
   {
    "duration": 170,
    "start_time": "2022-10-23T07:47:22.892Z"
   },
   {
    "duration": 14,
    "start_time": "2022-10-23T07:47:44.709Z"
   },
   {
    "duration": 525,
    "start_time": "2022-10-23T07:49:32.367Z"
   },
   {
    "duration": 15,
    "start_time": "2022-10-23T07:50:08.513Z"
   },
   {
    "duration": 19,
    "start_time": "2022-10-23T07:50:51.737Z"
   },
   {
    "duration": 96,
    "start_time": "2022-10-23T07:51:02.587Z"
   },
   {
    "duration": 15,
    "start_time": "2022-10-23T07:53:20.750Z"
   },
   {
    "duration": 14,
    "start_time": "2022-10-23T07:53:41.982Z"
   },
   {
    "duration": 14,
    "start_time": "2022-10-23T07:53:52.357Z"
   },
   {
    "duration": 195,
    "start_time": "2022-10-23T07:57:04.715Z"
   },
   {
    "duration": 3286,
    "start_time": "2022-10-23T07:58:04.635Z"
   },
   {
    "duration": 3055,
    "start_time": "2022-10-23T08:03:10.675Z"
   },
   {
    "duration": 17,
    "start_time": "2022-10-23T08:03:34.819Z"
   },
   {
    "duration": 7,
    "start_time": "2022-10-23T08:06:05.623Z"
   },
   {
    "duration": 6,
    "start_time": "2022-10-23T08:09:59.738Z"
   },
   {
    "duration": 6,
    "start_time": "2022-10-23T08:10:19.676Z"
   },
   {
    "duration": 443,
    "start_time": "2022-10-23T08:12:53.383Z"
   },
   {
    "duration": 282,
    "start_time": "2022-10-23T08:13:05.704Z"
   },
   {
    "duration": 170,
    "start_time": "2022-10-23T08:13:53.241Z"
   },
   {
    "duration": 149,
    "start_time": "2022-10-23T08:14:04.186Z"
   },
   {
    "duration": 136,
    "start_time": "2022-10-23T08:14:08.808Z"
   },
   {
    "duration": 116,
    "start_time": "2022-10-23T08:14:19.945Z"
   },
   {
    "duration": 152,
    "start_time": "2022-10-23T08:14:30.609Z"
   },
   {
    "duration": 158,
    "start_time": "2022-10-23T08:14:41.586Z"
   },
   {
    "duration": 147,
    "start_time": "2022-10-23T08:15:14.905Z"
   },
   {
    "duration": 148,
    "start_time": "2022-10-23T08:15:25.634Z"
   },
   {
    "duration": 120,
    "start_time": "2022-10-23T08:15:32.842Z"
   },
   {
    "duration": 137,
    "start_time": "2022-10-23T08:16:07.658Z"
   },
   {
    "duration": 115,
    "start_time": "2022-10-23T08:16:16.970Z"
   },
   {
    "duration": 119,
    "start_time": "2022-10-23T08:16:29.892Z"
   },
   {
    "duration": 163,
    "start_time": "2022-10-23T08:19:00.856Z"
   },
   {
    "duration": 149,
    "start_time": "2022-10-23T08:19:09.944Z"
   },
   {
    "duration": 129,
    "start_time": "2022-10-23T08:19:20.007Z"
   },
   {
    "duration": 123,
    "start_time": "2022-10-23T08:20:10.472Z"
   },
   {
    "duration": 134,
    "start_time": "2022-10-23T08:20:41.233Z"
   },
   {
    "duration": 2583,
    "start_time": "2022-10-23T08:20:48.805Z"
   },
   {
    "duration": 35,
    "start_time": "2022-10-23T08:20:51.390Z"
   },
   {
    "duration": 19,
    "start_time": "2022-10-23T08:20:51.426Z"
   },
   {
    "duration": 7,
    "start_time": "2022-10-23T08:20:51.448Z"
   },
   {
    "duration": 143,
    "start_time": "2022-10-23T08:20:51.456Z"
   },
   {
    "duration": 309,
    "start_time": "2022-10-23T08:20:51.601Z"
   },
   {
    "duration": 211,
    "start_time": "2022-10-23T08:20:51.911Z"
   },
   {
    "duration": 204,
    "start_time": "2022-10-23T08:20:52.124Z"
   },
   {
    "duration": 256,
    "start_time": "2022-10-23T08:20:52.330Z"
   },
   {
    "duration": 198,
    "start_time": "2022-10-23T08:20:52.588Z"
   },
   {
    "duration": 176,
    "start_time": "2022-10-23T08:20:52.788Z"
   },
   {
    "duration": 194,
    "start_time": "2022-10-23T08:20:52.965Z"
   },
   {
    "duration": 215,
    "start_time": "2022-10-23T08:20:53.160Z"
   },
   {
    "duration": 139,
    "start_time": "2022-10-23T08:20:53.376Z"
   },
   {
    "duration": 124,
    "start_time": "2022-10-23T08:21:10.624Z"
   },
   {
    "duration": 199,
    "start_time": "2022-10-23T08:21:56.128Z"
   },
   {
    "duration": 182,
    "start_time": "2022-10-23T08:22:13.746Z"
   },
   {
    "duration": 168,
    "start_time": "2022-10-23T08:22:18.146Z"
   },
   {
    "duration": 158,
    "start_time": "2022-10-23T08:22:28.264Z"
   },
   {
    "duration": 223,
    "start_time": "2022-10-23T08:22:33.530Z"
   },
   {
    "duration": 182,
    "start_time": "2022-10-23T08:23:13.139Z"
   },
   {
    "duration": 173,
    "start_time": "2022-10-23T08:23:33.467Z"
   },
   {
    "duration": 158,
    "start_time": "2022-10-23T08:24:26.579Z"
   },
   {
    "duration": 156,
    "start_time": "2022-10-23T08:24:37.084Z"
   },
   {
    "duration": 170,
    "start_time": "2022-10-23T08:24:56.524Z"
   },
   {
    "duration": 180,
    "start_time": "2022-10-23T08:25:17.205Z"
   },
   {
    "duration": 160,
    "start_time": "2022-10-23T08:25:22.749Z"
   },
   {
    "duration": 183,
    "start_time": "2022-10-23T08:25:32.741Z"
   },
   {
    "duration": 208,
    "start_time": "2022-10-23T08:25:41.542Z"
   },
   {
    "duration": 169,
    "start_time": "2022-10-23T08:25:59.781Z"
   },
   {
    "duration": 230,
    "start_time": "2022-10-23T08:26:25.295Z"
   },
   {
    "duration": 146,
    "start_time": "2022-10-23T08:26:56.991Z"
   },
   {
    "duration": 157,
    "start_time": "2022-10-23T08:27:06.128Z"
   },
   {
    "duration": 146,
    "start_time": "2022-10-23T08:27:43.665Z"
   },
   {
    "duration": 181,
    "start_time": "2022-10-23T08:28:04.488Z"
   },
   {
    "duration": 158,
    "start_time": "2022-10-23T08:28:21.610Z"
   },
   {
    "duration": 219,
    "start_time": "2022-10-23T08:29:10.130Z"
   },
   {
    "duration": 8,
    "start_time": "2022-10-23T08:30:18.004Z"
   },
   {
    "duration": 17,
    "start_time": "2022-10-23T08:32:06.998Z"
   },
   {
    "duration": 13,
    "start_time": "2022-10-23T08:32:22.950Z"
   },
   {
    "duration": 5,
    "start_time": "2022-10-23T08:32:46.687Z"
   },
   {
    "duration": 18,
    "start_time": "2022-10-23T08:33:13.056Z"
   },
   {
    "duration": 5,
    "start_time": "2022-10-23T08:33:18.879Z"
   },
   {
    "duration": 196,
    "start_time": "2022-10-23T08:38:30.783Z"
   },
   {
    "duration": 261,
    "start_time": "2022-10-23T08:39:07.160Z"
   },
   {
    "duration": 560,
    "start_time": "2022-10-23T08:39:22.544Z"
   },
   {
    "duration": 130,
    "start_time": "2022-10-23T08:40:21.041Z"
   },
   {
    "duration": 116,
    "start_time": "2022-10-23T08:40:33.267Z"
   },
   {
    "duration": 119,
    "start_time": "2022-10-23T08:40:40.235Z"
   },
   {
    "duration": 14,
    "start_time": "2022-10-23T08:43:49.199Z"
   },
   {
    "duration": 16,
    "start_time": "2022-10-23T08:43:54.750Z"
   },
   {
    "duration": 2615,
    "start_time": "2022-10-23T08:44:03.537Z"
   },
   {
    "duration": 38,
    "start_time": "2022-10-23T08:44:06.154Z"
   },
   {
    "duration": 35,
    "start_time": "2022-10-23T08:44:06.194Z"
   },
   {
    "duration": 10,
    "start_time": "2022-10-23T08:44:06.231Z"
   },
   {
    "duration": 172,
    "start_time": "2022-10-23T08:44:06.243Z"
   },
   {
    "duration": 344,
    "start_time": "2022-10-23T08:44:06.418Z"
   },
   {
    "duration": 206,
    "start_time": "2022-10-23T08:44:06.764Z"
   },
   {
    "duration": 202,
    "start_time": "2022-10-23T08:44:06.971Z"
   },
   {
    "duration": 284,
    "start_time": "2022-10-23T08:44:07.175Z"
   },
   {
    "duration": 197,
    "start_time": "2022-10-23T08:44:07.461Z"
   },
   {
    "duration": 185,
    "start_time": "2022-10-23T08:44:07.659Z"
   },
   {
    "duration": 192,
    "start_time": "2022-10-23T08:44:07.846Z"
   },
   {
    "duration": 216,
    "start_time": "2022-10-23T08:44:08.041Z"
   },
   {
    "duration": 136,
    "start_time": "2022-10-23T08:44:08.259Z"
   },
   {
    "duration": 183,
    "start_time": "2022-10-23T08:44:08.397Z"
   },
   {
    "duration": 180,
    "start_time": "2022-10-23T08:44:08.582Z"
   },
   {
    "duration": 160,
    "start_time": "2022-10-23T08:44:08.763Z"
   },
   {
    "duration": 172,
    "start_time": "2022-10-23T08:44:08.925Z"
   },
   {
    "duration": 90,
    "start_time": "2022-10-23T08:44:09.099Z"
   },
   {
    "duration": 680,
    "start_time": "2022-10-23T08:44:46.298Z"
   },
   {
    "duration": 350,
    "start_time": "2022-10-23T08:44:58.954Z"
   },
   {
    "duration": 736,
    "start_time": "2022-10-23T08:47:35.198Z"
   },
   {
    "duration": 771,
    "start_time": "2022-10-23T08:47:58.391Z"
   },
   {
    "duration": 15,
    "start_time": "2022-10-23T08:48:06.391Z"
   },
   {
    "duration": 275,
    "start_time": "2022-10-23T08:50:54.874Z"
   },
   {
    "duration": 13,
    "start_time": "2022-10-23T08:51:10.435Z"
   },
   {
    "duration": 211,
    "start_time": "2022-10-23T08:51:22.691Z"
   },
   {
    "duration": 240,
    "start_time": "2022-10-23T08:51:49.732Z"
   },
   {
    "duration": 232,
    "start_time": "2022-10-23T08:51:59.996Z"
   },
   {
    "duration": 188,
    "start_time": "2022-10-23T08:52:36.654Z"
   },
   {
    "duration": 322,
    "start_time": "2022-10-23T08:53:11.213Z"
   },
   {
    "duration": 119,
    "start_time": "2022-10-23T08:53:56.862Z"
   },
   {
    "duration": 312,
    "start_time": "2022-10-23T08:54:03.502Z"
   },
   {
    "duration": 233,
    "start_time": "2022-10-23T08:55:04.199Z"
   },
   {
    "duration": 184,
    "start_time": "2022-10-23T08:55:10.608Z"
   },
   {
    "duration": 553,
    "start_time": "2022-10-23T08:55:16.449Z"
   },
   {
    "duration": 204,
    "start_time": "2022-10-23T08:55:20.680Z"
   },
   {
    "duration": 193,
    "start_time": "2022-10-23T08:55:32.128Z"
   },
   {
    "duration": 293,
    "start_time": "2022-10-23T08:55:40.818Z"
   },
   {
    "duration": 209,
    "start_time": "2022-10-23T08:55:48.138Z"
   },
   {
    "duration": 179,
    "start_time": "2022-10-23T08:57:25.404Z"
   },
   {
    "duration": 153,
    "start_time": "2022-10-23T08:57:36.636Z"
   },
   {
    "duration": 163,
    "start_time": "2022-10-23T08:57:42.284Z"
   },
   {
    "duration": 159,
    "start_time": "2022-10-23T08:57:48.483Z"
   },
   {
    "duration": 1036,
    "start_time": "2022-10-23T08:58:15.076Z"
   },
   {
    "duration": 209,
    "start_time": "2022-10-23T08:58:20.293Z"
   },
   {
    "duration": 236,
    "start_time": "2022-10-23T08:58:51.030Z"
   },
   {
    "duration": 198,
    "start_time": "2022-10-23T08:59:20.069Z"
   },
   {
    "duration": 304,
    "start_time": "2022-10-23T09:01:20.184Z"
   },
   {
    "duration": 214,
    "start_time": "2022-10-23T09:01:43.177Z"
   },
   {
    "duration": 209,
    "start_time": "2022-10-23T09:02:06.546Z"
   },
   {
    "duration": 230,
    "start_time": "2022-10-23T09:04:44.485Z"
   },
   {
    "duration": 194,
    "start_time": "2022-10-23T09:05:10.582Z"
   },
   {
    "duration": 189,
    "start_time": "2022-10-23T09:05:15.501Z"
   },
   {
    "duration": 203,
    "start_time": "2022-10-23T09:05:26.806Z"
   },
   {
    "duration": 195,
    "start_time": "2022-10-23T09:05:37.350Z"
   },
   {
    "duration": 165,
    "start_time": "2022-10-23T09:06:04.120Z"
   },
   {
    "duration": 164,
    "start_time": "2022-10-23T09:06:08.568Z"
   },
   {
    "duration": 170,
    "start_time": "2022-10-23T09:06:12.720Z"
   },
   {
    "duration": 274,
    "start_time": "2022-10-23T09:06:19.840Z"
   },
   {
    "duration": 168,
    "start_time": "2022-10-23T09:06:23.143Z"
   },
   {
    "duration": 39,
    "start_time": "2022-10-23T09:06:28.927Z"
   },
   {
    "duration": 166,
    "start_time": "2022-10-23T09:06:32.600Z"
   },
   {
    "duration": 191,
    "start_time": "2022-10-23T09:06:49.280Z"
   },
   {
    "duration": 183,
    "start_time": "2022-10-23T09:06:53.207Z"
   },
   {
    "duration": 194,
    "start_time": "2022-10-23T09:07:25.033Z"
   },
   {
    "duration": 53,
    "start_time": "2022-10-23T09:31:21.426Z"
   },
   {
    "duration": 56,
    "start_time": "2022-10-23T09:31:39.357Z"
   },
   {
    "duration": 0,
    "start_time": "2022-10-23T09:31:39.416Z"
   },
   {
    "duration": 0,
    "start_time": "2022-10-23T09:31:39.416Z"
   },
   {
    "duration": 0,
    "start_time": "2022-10-23T09:31:39.418Z"
   },
   {
    "duration": 0,
    "start_time": "2022-10-23T09:31:39.420Z"
   },
   {
    "duration": 0,
    "start_time": "2022-10-23T09:31:39.421Z"
   },
   {
    "duration": 0,
    "start_time": "2022-10-23T09:31:39.423Z"
   },
   {
    "duration": 0,
    "start_time": "2022-10-23T09:31:39.424Z"
   },
   {
    "duration": 0,
    "start_time": "2022-10-23T09:31:39.425Z"
   },
   {
    "duration": 0,
    "start_time": "2022-10-23T09:31:39.426Z"
   },
   {
    "duration": 0,
    "start_time": "2022-10-23T09:31:39.428Z"
   },
   {
    "duration": 0,
    "start_time": "2022-10-23T09:31:39.429Z"
   },
   {
    "duration": 0,
    "start_time": "2022-10-23T09:31:39.431Z"
   },
   {
    "duration": 0,
    "start_time": "2022-10-23T09:31:39.432Z"
   },
   {
    "duration": 0,
    "start_time": "2022-10-23T09:31:39.434Z"
   },
   {
    "duration": 0,
    "start_time": "2022-10-23T09:31:39.435Z"
   },
   {
    "duration": 0,
    "start_time": "2022-10-23T09:31:39.436Z"
   },
   {
    "duration": 0,
    "start_time": "2022-10-23T09:31:39.438Z"
   },
   {
    "duration": 2578,
    "start_time": "2022-10-23T09:31:59.209Z"
   },
   {
    "duration": 2667,
    "start_time": "2022-10-23T09:32:22.618Z"
   },
   {
    "duration": 48,
    "start_time": "2022-10-23T09:32:25.288Z"
   },
   {
    "duration": 21,
    "start_time": "2022-10-23T09:32:25.337Z"
   },
   {
    "duration": 49,
    "start_time": "2022-10-23T09:32:25.361Z"
   },
   {
    "duration": 142,
    "start_time": "2022-10-23T09:32:25.412Z"
   },
   {
    "duration": 332,
    "start_time": "2022-10-23T09:32:25.556Z"
   },
   {
    "duration": 220,
    "start_time": "2022-10-23T09:32:25.889Z"
   },
   {
    "duration": 226,
    "start_time": "2022-10-23T09:32:26.111Z"
   },
   {
    "duration": 294,
    "start_time": "2022-10-23T09:32:26.338Z"
   },
   {
    "duration": 197,
    "start_time": "2022-10-23T09:32:26.635Z"
   },
   {
    "duration": 193,
    "start_time": "2022-10-23T09:32:26.834Z"
   },
   {
    "duration": 192,
    "start_time": "2022-10-23T09:32:27.028Z"
   },
   {
    "duration": 222,
    "start_time": "2022-10-23T09:32:27.222Z"
   },
   {
    "duration": 143,
    "start_time": "2022-10-23T09:32:27.446Z"
   },
   {
    "duration": 196,
    "start_time": "2022-10-23T09:32:27.591Z"
   },
   {
    "duration": 178,
    "start_time": "2022-10-23T09:32:27.790Z"
   },
   {
    "duration": 175,
    "start_time": "2022-10-23T09:32:27.970Z"
   },
   {
    "duration": 175,
    "start_time": "2022-10-23T09:32:28.147Z"
   },
   {
    "duration": 216,
    "start_time": "2022-10-23T09:32:28.325Z"
   },
   {
    "duration": 2041,
    "start_time": "2022-10-23T09:56:09.336Z"
   },
   {
    "duration": 178,
    "start_time": "2022-10-23T09:57:03.185Z"
   },
   {
    "duration": 227,
    "start_time": "2022-10-23T09:57:24.419Z"
   },
   {
    "duration": 967,
    "start_time": "2022-10-23T09:58:42.996Z"
   },
   {
    "duration": 175,
    "start_time": "2022-10-23T09:58:57.836Z"
   },
   {
    "duration": 165,
    "start_time": "2022-10-23T10:00:03.318Z"
   },
   {
    "duration": 139,
    "start_time": "2022-10-23T10:00:13.077Z"
   },
   {
    "duration": 203,
    "start_time": "2022-10-23T10:00:18.382Z"
   },
   {
    "duration": 202,
    "start_time": "2022-10-23T10:00:34.558Z"
   },
   {
    "duration": 167,
    "start_time": "2022-10-23T10:01:11.981Z"
   },
   {
    "duration": 276,
    "start_time": "2022-10-23T10:01:40.406Z"
   },
   {
    "duration": 171,
    "start_time": "2022-10-23T10:02:29.288Z"
   },
   {
    "duration": 254,
    "start_time": "2022-10-23T10:02:39.504Z"
   },
   {
    "duration": 181,
    "start_time": "2022-10-23T10:02:44.144Z"
   },
   {
    "duration": 196,
    "start_time": "2022-10-23T10:03:10.777Z"
   },
   {
    "duration": 185,
    "start_time": "2022-10-23T10:03:15.385Z"
   },
   {
    "duration": 174,
    "start_time": "2022-10-23T10:03:35.554Z"
   },
   {
    "duration": 163,
    "start_time": "2022-10-23T10:03:40.842Z"
   },
   {
    "duration": 177,
    "start_time": "2022-10-23T10:04:01.537Z"
   },
   {
    "duration": 189,
    "start_time": "2022-10-23T10:05:46.780Z"
   },
   {
    "duration": 186,
    "start_time": "2022-10-23T10:05:53.173Z"
   },
   {
    "duration": 242,
    "start_time": "2022-10-23T10:06:03.373Z"
   },
   {
    "duration": 222,
    "start_time": "2022-10-23T10:06:08.974Z"
   },
   {
    "duration": 216,
    "start_time": "2022-10-23T10:06:26.525Z"
   },
   {
    "duration": 165,
    "start_time": "2022-10-23T10:06:37.935Z"
   },
   {
    "duration": 167,
    "start_time": "2022-10-23T10:06:43.454Z"
   },
   {
    "duration": 213,
    "start_time": "2022-10-23T10:06:52.886Z"
   },
   {
    "duration": 244,
    "start_time": "2022-10-23T10:06:58.422Z"
   },
   {
    "duration": 158,
    "start_time": "2022-10-23T10:07:10.174Z"
   },
   {
    "duration": 180,
    "start_time": "2022-10-23T10:08:30.593Z"
   },
   {
    "duration": 189,
    "start_time": "2022-10-23T10:08:45.176Z"
   },
   {
    "duration": 253,
    "start_time": "2022-10-23T10:10:02.017Z"
   },
   {
    "duration": 184,
    "start_time": "2022-10-23T10:10:09.258Z"
   },
   {
    "duration": 172,
    "start_time": "2022-10-23T10:10:13.322Z"
   },
   {
    "duration": 194,
    "start_time": "2022-10-23T10:10:17.923Z"
   },
   {
    "duration": 165,
    "start_time": "2022-10-23T10:12:38.678Z"
   },
   {
    "duration": 168,
    "start_time": "2022-10-23T10:12:43.437Z"
   },
   {
    "duration": 186,
    "start_time": "2022-10-23T10:13:23.086Z"
   },
   {
    "duration": 210,
    "start_time": "2022-10-23T10:13:29.784Z"
   },
   {
    "duration": 8,
    "start_time": "2022-10-23T10:30:17.300Z"
   },
   {
    "duration": 45,
    "start_time": "2022-10-23T10:34:59.275Z"
   },
   {
    "duration": 39,
    "start_time": "2022-10-23T10:35:03.459Z"
   },
   {
    "duration": 40,
    "start_time": "2022-10-23T10:35:22.012Z"
   },
   {
    "duration": 44,
    "start_time": "2022-10-23T10:35:42.580Z"
   },
   {
    "duration": 8,
    "start_time": "2022-10-23T10:35:55.748Z"
   },
   {
    "duration": 59,
    "start_time": "2022-10-23T10:46:11.618Z"
   },
   {
    "duration": 8,
    "start_time": "2022-10-23T10:46:43.355Z"
   },
   {
    "duration": 2617,
    "start_time": "2022-10-23T10:46:55.265Z"
   },
   {
    "duration": 53,
    "start_time": "2022-10-23T10:46:57.884Z"
   },
   {
    "duration": 24,
    "start_time": "2022-10-23T10:46:57.939Z"
   },
   {
    "duration": 10,
    "start_time": "2022-10-23T10:46:57.966Z"
   },
   {
    "duration": 102,
    "start_time": "2022-10-23T10:46:58.010Z"
   },
   {
    "duration": 337,
    "start_time": "2022-10-23T10:46:58.114Z"
   },
   {
    "duration": 220,
    "start_time": "2022-10-23T10:46:58.453Z"
   },
   {
    "duration": 226,
    "start_time": "2022-10-23T10:46:58.675Z"
   },
   {
    "duration": 289,
    "start_time": "2022-10-23T10:46:58.902Z"
   },
   {
    "duration": 213,
    "start_time": "2022-10-23T10:46:59.193Z"
   },
   {
    "duration": 202,
    "start_time": "2022-10-23T10:46:59.407Z"
   },
   {
    "duration": 200,
    "start_time": "2022-10-23T10:46:59.611Z"
   },
   {
    "duration": 212,
    "start_time": "2022-10-23T10:46:59.812Z"
   },
   {
    "duration": 150,
    "start_time": "2022-10-23T10:47:00.026Z"
   },
   {
    "duration": 185,
    "start_time": "2022-10-23T10:47:00.178Z"
   },
   {
    "duration": 173,
    "start_time": "2022-10-23T10:47:00.365Z"
   },
   {
    "duration": 171,
    "start_time": "2022-10-23T10:47:00.539Z"
   },
   {
    "duration": 177,
    "start_time": "2022-10-23T10:47:00.712Z"
   },
   {
    "duration": 229,
    "start_time": "2022-10-23T10:47:00.891Z"
   },
   {
    "duration": 274,
    "start_time": "2022-10-23T10:48:26.177Z"
   },
   {
    "duration": 196,
    "start_time": "2022-10-23T10:48:58.601Z"
   },
   {
    "duration": 177,
    "start_time": "2022-10-23T10:54:54.026Z"
   },
   {
    "duration": 496,
    "start_time": "2022-10-23T10:55:22.322Z"
   },
   {
    "duration": 184,
    "start_time": "2022-10-23T10:55:37.604Z"
   },
   {
    "duration": 185,
    "start_time": "2022-10-23T10:55:51.597Z"
   },
   {
    "duration": 185,
    "start_time": "2022-10-23T10:55:59.260Z"
   },
   {
    "duration": 194,
    "start_time": "2022-10-23T10:56:05.933Z"
   },
   {
    "duration": 191,
    "start_time": "2022-10-23T10:56:16.285Z"
   },
   {
    "duration": 329,
    "start_time": "2022-10-23T10:57:00.501Z"
   },
   {
    "duration": 195,
    "start_time": "2022-10-23T10:57:24.701Z"
   },
   {
    "duration": 189,
    "start_time": "2022-10-23T10:57:42.221Z"
   },
   {
    "duration": 213,
    "start_time": "2022-10-23T10:58:59.008Z"
   },
   {
    "duration": 62,
    "start_time": "2022-10-23T11:01:31.515Z"
   },
   {
    "duration": 2622,
    "start_time": "2022-10-23T11:14:43.507Z"
   },
   {
    "duration": 34,
    "start_time": "2022-10-23T11:14:46.131Z"
   },
   {
    "duration": 49,
    "start_time": "2022-10-23T11:14:46.167Z"
   },
   {
    "duration": 9,
    "start_time": "2022-10-23T11:14:46.218Z"
   },
   {
    "duration": 148,
    "start_time": "2022-10-23T11:14:46.230Z"
   },
   {
    "duration": 342,
    "start_time": "2022-10-23T11:14:46.381Z"
   },
   {
    "duration": 208,
    "start_time": "2022-10-23T11:14:46.724Z"
   },
   {
    "duration": 226,
    "start_time": "2022-10-23T11:14:46.934Z"
   },
   {
    "duration": 306,
    "start_time": "2022-10-23T11:14:47.162Z"
   },
   {
    "duration": 229,
    "start_time": "2022-10-23T11:14:47.470Z"
   },
   {
    "duration": 210,
    "start_time": "2022-10-23T11:14:47.701Z"
   },
   {
    "duration": 197,
    "start_time": "2022-10-23T11:14:47.912Z"
   },
   {
    "duration": 226,
    "start_time": "2022-10-23T11:14:48.111Z"
   },
   {
    "duration": 155,
    "start_time": "2022-10-23T11:14:48.340Z"
   },
   {
    "duration": 193,
    "start_time": "2022-10-23T11:14:48.497Z"
   },
   {
    "duration": 173,
    "start_time": "2022-10-23T11:14:48.692Z"
   },
   {
    "duration": 168,
    "start_time": "2022-10-23T11:14:48.866Z"
   },
   {
    "duration": 173,
    "start_time": "2022-10-23T11:14:49.036Z"
   },
   {
    "duration": 224,
    "start_time": "2022-10-23T11:14:49.210Z"
   },
   {
    "duration": 310,
    "start_time": "2022-10-23T11:14:49.436Z"
   },
   {
    "duration": 44,
    "start_time": "2022-10-23T11:15:23.509Z"
   },
   {
    "duration": 106,
    "start_time": "2022-10-23T11:25:41.540Z"
   },
   {
    "duration": 807,
    "start_time": "2022-10-23T11:26:23.052Z"
   },
   {
    "duration": 156,
    "start_time": "2022-10-23T11:26:47.908Z"
   },
   {
    "duration": 147,
    "start_time": "2022-10-23T11:27:44.702Z"
   },
   {
    "duration": 177,
    "start_time": "2022-10-23T11:29:47.496Z"
   },
   {
    "duration": 166,
    "start_time": "2022-10-23T11:30:06.265Z"
   },
   {
    "duration": 139,
    "start_time": "2022-10-23T11:33:37.670Z"
   },
   {
    "duration": 154,
    "start_time": "2022-10-23T11:34:22.655Z"
   },
   {
    "duration": 151,
    "start_time": "2022-10-23T11:35:16.402Z"
   },
   {
    "duration": 136,
    "start_time": "2022-10-23T11:35:33.528Z"
   },
   {
    "duration": 132,
    "start_time": "2022-10-23T11:36:44.674Z"
   },
   {
    "duration": 248,
    "start_time": "2022-10-23T11:37:44.508Z"
   },
   {
    "duration": 156,
    "start_time": "2022-10-23T11:40:43.909Z"
   },
   {
    "duration": 140,
    "start_time": "2022-10-23T11:46:09.522Z"
   },
   {
    "duration": 48,
    "start_time": "2022-10-23T11:46:34.722Z"
   },
   {
    "duration": 166,
    "start_time": "2022-10-23T11:48:55.239Z"
   },
   {
    "duration": 146,
    "start_time": "2022-10-23T11:49:07.087Z"
   },
   {
    "duration": 156,
    "start_time": "2022-10-23T11:50:43.264Z"
   },
   {
    "duration": 149,
    "start_time": "2022-10-23T11:50:53.562Z"
   },
   {
    "duration": 162,
    "start_time": "2022-10-23T11:51:05.250Z"
   },
   {
    "duration": 160,
    "start_time": "2022-10-23T11:51:56.651Z"
   },
   {
    "duration": 174,
    "start_time": "2022-10-23T11:52:31.123Z"
   },
   {
    "duration": 153,
    "start_time": "2022-10-23T11:52:35.644Z"
   },
   {
    "duration": 221,
    "start_time": "2022-10-23T11:52:45.396Z"
   },
   {
    "duration": 153,
    "start_time": "2022-10-23T11:54:19.763Z"
   },
   {
    "duration": 154,
    "start_time": "2022-10-23T11:54:26.071Z"
   },
   {
    "duration": 464,
    "start_time": "2022-10-23T11:55:26.145Z"
   },
   {
    "duration": 143,
    "start_time": "2022-10-23T11:56:46.514Z"
   },
   {
    "duration": 31,
    "start_time": "2022-10-23T11:57:37.251Z"
   },
   {
    "duration": 144,
    "start_time": "2022-10-23T11:57:55.106Z"
   },
   {
    "duration": 2603,
    "start_time": "2022-10-23T11:59:26.625Z"
   },
   {
    "duration": 46,
    "start_time": "2022-10-23T11:59:29.230Z"
   },
   {
    "duration": 46,
    "start_time": "2022-10-23T11:59:29.278Z"
   },
   {
    "duration": 50,
    "start_time": "2022-10-23T11:59:29.326Z"
   },
   {
    "duration": 104,
    "start_time": "2022-10-23T11:59:29.378Z"
   },
   {
    "duration": 343,
    "start_time": "2022-10-23T11:59:29.484Z"
   },
   {
    "duration": 209,
    "start_time": "2022-10-23T11:59:29.828Z"
   },
   {
    "duration": 217,
    "start_time": "2022-10-23T11:59:30.038Z"
   },
   {
    "duration": 286,
    "start_time": "2022-10-23T11:59:30.257Z"
   },
   {
    "duration": 215,
    "start_time": "2022-10-23T11:59:30.545Z"
   },
   {
    "duration": 206,
    "start_time": "2022-10-23T11:59:30.762Z"
   },
   {
    "duration": 206,
    "start_time": "2022-10-23T11:59:30.970Z"
   },
   {
    "duration": 239,
    "start_time": "2022-10-23T11:59:31.177Z"
   },
   {
    "duration": 149,
    "start_time": "2022-10-23T11:59:31.418Z"
   },
   {
    "duration": 204,
    "start_time": "2022-10-23T11:59:31.569Z"
   },
   {
    "duration": 173,
    "start_time": "2022-10-23T11:59:31.775Z"
   },
   {
    "duration": 182,
    "start_time": "2022-10-23T11:59:31.950Z"
   },
   {
    "duration": 185,
    "start_time": "2022-10-23T11:59:32.134Z"
   },
   {
    "duration": 228,
    "start_time": "2022-10-23T11:59:32.320Z"
   },
   {
    "duration": 294,
    "start_time": "2022-10-23T11:59:32.550Z"
   },
   {
    "duration": 163,
    "start_time": "2022-10-23T11:59:32.846Z"
   },
   {
    "duration": 177,
    "start_time": "2022-10-23T11:59:33.011Z"
   },
   {
    "duration": 168,
    "start_time": "2022-10-23T11:59:33.190Z"
   },
   {
    "duration": 172,
    "start_time": "2022-10-23T11:59:33.360Z"
   },
   {
    "duration": 160,
    "start_time": "2022-10-23T11:59:33.534Z"
   },
   {
    "duration": 139,
    "start_time": "2022-10-23T11:59:52.936Z"
   },
   {
    "duration": 156,
    "start_time": "2022-10-23T12:00:02.265Z"
   },
   {
    "duration": 154,
    "start_time": "2022-10-23T12:00:34.282Z"
   },
   {
    "duration": 111,
    "start_time": "2022-10-23T12:21:50.286Z"
   },
   {
    "duration": 189,
    "start_time": "2022-10-23T12:22:14.871Z"
   },
   {
    "duration": 203,
    "start_time": "2022-10-23T12:23:19.553Z"
   },
   {
    "duration": 339,
    "start_time": "2022-10-23T12:24:54.913Z"
   },
   {
    "duration": 199,
    "start_time": "2022-10-23T12:25:46.164Z"
   },
   {
    "duration": 157,
    "start_time": "2022-10-23T12:26:57.469Z"
   },
   {
    "duration": 205,
    "start_time": "2022-10-23T12:27:23.589Z"
   },
   {
    "duration": 159,
    "start_time": "2022-10-23T12:27:51.917Z"
   },
   {
    "duration": 31,
    "start_time": "2022-10-23T12:56:48.205Z"
   },
   {
    "duration": 32,
    "start_time": "2022-10-23T12:56:53.443Z"
   },
   {
    "duration": 24,
    "start_time": "2022-10-23T12:56:56.397Z"
   },
   {
    "duration": 2629,
    "start_time": "2022-10-23T12:57:09.554Z"
   },
   {
    "duration": 52,
    "start_time": "2022-10-23T12:57:12.186Z"
   },
   {
    "duration": 22,
    "start_time": "2022-10-23T12:57:12.240Z"
   },
   {
    "duration": 102,
    "start_time": "2022-10-23T12:57:12.264Z"
   },
   {
    "duration": 105,
    "start_time": "2022-10-23T12:57:12.368Z"
   },
   {
    "duration": 346,
    "start_time": "2022-10-23T12:57:12.474Z"
   },
   {
    "duration": 222,
    "start_time": "2022-10-23T12:57:12.822Z"
   },
   {
    "duration": 231,
    "start_time": "2022-10-23T12:57:13.047Z"
   },
   {
    "duration": 304,
    "start_time": "2022-10-23T12:57:13.281Z"
   },
   {
    "duration": 221,
    "start_time": "2022-10-23T12:57:13.588Z"
   },
   {
    "duration": 205,
    "start_time": "2022-10-23T12:57:13.811Z"
   },
   {
    "duration": 200,
    "start_time": "2022-10-23T12:57:14.018Z"
   },
   {
    "duration": 233,
    "start_time": "2022-10-23T12:57:14.220Z"
   },
   {
    "duration": 186,
    "start_time": "2022-10-23T12:57:14.455Z"
   },
   {
    "duration": 199,
    "start_time": "2022-10-23T12:57:14.646Z"
   },
   {
    "duration": 177,
    "start_time": "2022-10-23T12:57:14.847Z"
   },
   {
    "duration": 169,
    "start_time": "2022-10-23T12:57:15.026Z"
   },
   {
    "duration": 168,
    "start_time": "2022-10-23T12:57:15.197Z"
   },
   {
    "duration": 233,
    "start_time": "2022-10-23T12:57:15.367Z"
   },
   {
    "duration": 274,
    "start_time": "2022-10-23T12:57:15.602Z"
   },
   {
    "duration": 154,
    "start_time": "2022-10-23T12:57:15.878Z"
   },
   {
    "duration": 178,
    "start_time": "2022-10-23T12:57:16.033Z"
   },
   {
    "duration": 162,
    "start_time": "2022-10-23T12:57:16.214Z"
   },
   {
    "duration": 203,
    "start_time": "2022-10-23T12:57:16.378Z"
   },
   {
    "duration": 158,
    "start_time": "2022-10-23T12:57:16.583Z"
   },
   {
    "duration": 183,
    "start_time": "2022-10-23T12:57:16.743Z"
   },
   {
    "duration": 181,
    "start_time": "2022-10-23T12:57:16.928Z"
   },
   {
    "duration": 173,
    "start_time": "2022-10-23T12:57:17.112Z"
   },
   {
    "duration": 36,
    "start_time": "2022-10-23T12:57:17.287Z"
   },
   {
    "duration": 29,
    "start_time": "2022-10-23T12:57:29.907Z"
   },
   {
    "duration": 27,
    "start_time": "2022-10-23T12:57:36.515Z"
   },
   {
    "duration": 8,
    "start_time": "2022-10-23T12:57:42.907Z"
   },
   {
    "duration": 26,
    "start_time": "2022-10-23T12:57:51.308Z"
   },
   {
    "duration": 24,
    "start_time": "2022-10-23T12:58:25.620Z"
   },
   {
    "duration": 31,
    "start_time": "2022-10-23T12:58:53.846Z"
   },
   {
    "duration": 28,
    "start_time": "2022-10-23T12:59:04.542Z"
   },
   {
    "duration": 19,
    "start_time": "2022-10-23T12:59:07.085Z"
   },
   {
    "duration": 8,
    "start_time": "2022-10-23T12:59:09.765Z"
   },
   {
    "duration": 97,
    "start_time": "2022-10-23T12:59:52.825Z"
   },
   {
    "duration": 26,
    "start_time": "2022-10-23T12:59:59.679Z"
   },
   {
    "duration": 8,
    "start_time": "2022-10-23T13:01:14.105Z"
   },
   {
    "duration": 2741,
    "start_time": "2022-10-23T13:02:41.872Z"
   },
   {
    "duration": 39,
    "start_time": "2022-10-23T13:02:44.616Z"
   },
   {
    "duration": 57,
    "start_time": "2022-10-23T13:02:44.657Z"
   },
   {
    "duration": 47,
    "start_time": "2022-10-23T13:02:44.716Z"
   },
   {
    "duration": 109,
    "start_time": "2022-10-23T13:02:44.765Z"
   },
   {
    "duration": 326,
    "start_time": "2022-10-23T13:02:44.876Z"
   },
   {
    "duration": 245,
    "start_time": "2022-10-23T13:02:45.209Z"
   },
   {
    "duration": 237,
    "start_time": "2022-10-23T13:02:45.456Z"
   },
   {
    "duration": 294,
    "start_time": "2022-10-23T13:02:45.695Z"
   },
   {
    "duration": 253,
    "start_time": "2022-10-23T13:02:45.993Z"
   },
   {
    "duration": 242,
    "start_time": "2022-10-23T13:02:46.247Z"
   },
   {
    "duration": 207,
    "start_time": "2022-10-23T13:02:46.491Z"
   },
   {
    "duration": 224,
    "start_time": "2022-10-23T13:02:46.700Z"
   },
   {
    "duration": 154,
    "start_time": "2022-10-23T13:02:46.925Z"
   },
   {
    "duration": 187,
    "start_time": "2022-10-23T13:02:47.080Z"
   },
   {
    "duration": 174,
    "start_time": "2022-10-23T13:02:47.269Z"
   },
   {
    "duration": 166,
    "start_time": "2022-10-23T13:02:47.444Z"
   },
   {
    "duration": 181,
    "start_time": "2022-10-23T13:02:47.613Z"
   },
   {
    "duration": 270,
    "start_time": "2022-10-23T13:02:47.796Z"
   },
   {
    "duration": 288,
    "start_time": "2022-10-23T13:02:48.067Z"
   },
   {
    "duration": 159,
    "start_time": "2022-10-23T13:02:48.356Z"
   },
   {
    "duration": 173,
    "start_time": "2022-10-23T13:02:48.517Z"
   },
   {
    "duration": 188,
    "start_time": "2022-10-23T13:02:48.693Z"
   },
   {
    "duration": 197,
    "start_time": "2022-10-23T13:02:48.884Z"
   },
   {
    "duration": 240,
    "start_time": "2022-10-23T13:02:49.083Z"
   },
   {
    "duration": 193,
    "start_time": "2022-10-23T13:02:49.325Z"
   },
   {
    "duration": 176,
    "start_time": "2022-10-23T13:02:49.519Z"
   },
   {
    "duration": 177,
    "start_time": "2022-10-23T13:02:49.698Z"
   },
   {
    "duration": 38,
    "start_time": "2022-10-23T13:02:49.877Z"
   },
   {
    "duration": 7,
    "start_time": "2022-10-23T13:02:49.917Z"
   },
   {
    "duration": 19,
    "start_time": "2022-10-23T13:02:49.926Z"
   },
   {
    "duration": 23,
    "start_time": "2022-10-23T13:04:06.956Z"
   },
   {
    "duration": 90,
    "start_time": "2022-10-23T13:20:33.146Z"
   },
   {
    "duration": 143,
    "start_time": "2022-10-23T13:20:48.089Z"
   },
   {
    "duration": 148,
    "start_time": "2022-10-23T13:21:26.915Z"
   },
   {
    "duration": 204,
    "start_time": "2022-10-23T13:22:03.155Z"
   },
   {
    "duration": 140,
    "start_time": "2022-10-23T13:22:27.652Z"
   },
   {
    "duration": 171,
    "start_time": "2022-10-23T13:22:37.052Z"
   },
   {
    "duration": 148,
    "start_time": "2022-10-23T13:22:43.649Z"
   },
   {
    "duration": 147,
    "start_time": "2022-10-23T13:22:58.982Z"
   },
   {
    "duration": 140,
    "start_time": "2022-10-23T13:23:13.837Z"
   },
   {
    "duration": 40,
    "start_time": "2022-10-23T13:23:40.966Z"
   },
   {
    "duration": 139,
    "start_time": "2022-10-23T13:23:53.838Z"
   },
   {
    "duration": 137,
    "start_time": "2022-10-23T13:24:08.335Z"
   },
   {
    "duration": 144,
    "start_time": "2022-10-23T13:24:19.054Z"
   },
   {
    "duration": 139,
    "start_time": "2022-10-23T13:27:26.659Z"
   },
   {
    "duration": 160,
    "start_time": "2022-10-23T13:29:47.215Z"
   },
   {
    "duration": 207,
    "start_time": "2022-10-23T13:30:27.382Z"
   },
   {
    "duration": 147,
    "start_time": "2022-10-23T13:32:02.481Z"
   },
   {
    "duration": 155,
    "start_time": "2022-10-23T13:32:33.146Z"
   },
   {
    "duration": 170,
    "start_time": "2022-10-23T13:32:47.179Z"
   },
   {
    "duration": 140,
    "start_time": "2022-10-23T13:33:43.339Z"
   },
   {
    "duration": 148,
    "start_time": "2022-10-23T13:34:12.684Z"
   },
   {
    "duration": 150,
    "start_time": "2022-10-23T13:37:39.850Z"
   },
   {
    "duration": 1895,
    "start_time": "2022-10-23T14:13:06.267Z"
   },
   {
    "duration": 4802,
    "start_time": "2022-10-23T14:34:19.160Z"
   },
   {
    "duration": 87,
    "start_time": "2022-10-23T14:34:23.967Z"
   },
   {
    "duration": 24,
    "start_time": "2022-10-23T14:34:24.056Z"
   },
   {
    "duration": 150,
    "start_time": "2022-10-23T14:34:24.083Z"
   },
   {
    "duration": 211,
    "start_time": "2022-10-23T14:34:24.234Z"
   },
   {
    "duration": 817,
    "start_time": "2022-10-23T14:34:24.450Z"
   },
   {
    "duration": 554,
    "start_time": "2022-10-23T14:34:25.269Z"
   },
   {
    "duration": 635,
    "start_time": "2022-10-23T14:34:25.826Z"
   },
   {
    "duration": 701,
    "start_time": "2022-10-23T14:34:26.465Z"
   },
   {
    "duration": 553,
    "start_time": "2022-10-23T14:34:27.169Z"
   },
   {
    "duration": 519,
    "start_time": "2022-10-23T14:34:27.730Z"
   },
   {
    "duration": 483,
    "start_time": "2022-10-23T14:34:28.259Z"
   },
   {
    "duration": 600,
    "start_time": "2022-10-23T14:34:28.744Z"
   },
   {
    "duration": 308,
    "start_time": "2022-10-23T14:34:29.346Z"
   },
   {
    "duration": 500,
    "start_time": "2022-10-23T14:34:29.656Z"
   },
   {
    "duration": 406,
    "start_time": "2022-10-23T14:34:30.158Z"
   },
   {
    "duration": 438,
    "start_time": "2022-10-23T14:34:30.624Z"
   },
   {
    "duration": 383,
    "start_time": "2022-10-23T14:34:31.066Z"
   },
   {
    "duration": 509,
    "start_time": "2022-10-23T14:34:31.450Z"
   },
   {
    "duration": 602,
    "start_time": "2022-10-23T14:34:31.962Z"
   },
   {
    "duration": 370,
    "start_time": "2022-10-23T14:34:32.566Z"
   },
   {
    "duration": 418,
    "start_time": "2022-10-23T14:34:32.938Z"
   },
   {
    "duration": 305,
    "start_time": "2022-10-23T14:34:33.358Z"
   },
   {
    "duration": 326,
    "start_time": "2022-10-23T14:34:33.728Z"
   },
   {
    "duration": 399,
    "start_time": "2022-10-23T14:34:34.056Z"
   },
   {
    "duration": 484,
    "start_time": "2022-10-23T14:34:34.458Z"
   },
   {
    "duration": 324,
    "start_time": "2022-10-23T14:34:34.947Z"
   },
   {
    "duration": 272,
    "start_time": "2022-10-23T14:34:35.325Z"
   },
   {
    "duration": 46,
    "start_time": "2022-10-23T14:34:35.599Z"
   },
   {
    "duration": 170,
    "start_time": "2022-10-23T14:34:35.648Z"
   },
   {
    "duration": 7,
    "start_time": "2022-10-23T14:51:54.331Z"
   },
   {
    "duration": 3103,
    "start_time": "2022-10-24T05:01:01.571Z"
   },
   {
    "duration": 2066,
    "start_time": "2022-10-24T05:01:15.950Z"
   },
   {
    "duration": 1971,
    "start_time": "2022-10-24T05:01:30.127Z"
   },
   {
    "duration": 14,
    "start_time": "2022-10-24T05:01:36.213Z"
   },
   {
    "duration": 122,
    "start_time": "2022-10-24T05:01:52.269Z"
   },
   {
    "duration": 52,
    "start_time": "2022-10-24T05:02:08.087Z"
   },
   {
    "duration": 86,
    "start_time": "2022-10-24T05:02:18.128Z"
   },
   {
    "duration": 3,
    "start_time": "2022-10-24T05:02:34.150Z"
   },
   {
    "duration": 105,
    "start_time": "2022-10-24T05:02:42.304Z"
   },
   {
    "duration": 34,
    "start_time": "2022-10-24T05:06:28.681Z"
   },
   {
    "duration": 78,
    "start_time": "2022-10-24T05:06:34.775Z"
   },
   {
    "duration": 22,
    "start_time": "2022-10-24T05:07:29.720Z"
   },
   {
    "duration": 116,
    "start_time": "2022-10-24T05:07:33.655Z"
   },
   {
    "duration": 80,
    "start_time": "2022-10-24T05:14:34.223Z"
   },
   {
    "duration": 34,
    "start_time": "2022-10-24T05:14:58.551Z"
   },
   {
    "duration": 36,
    "start_time": "2022-10-24T05:15:17.353Z"
   },
   {
    "duration": 32,
    "start_time": "2022-10-24T05:15:44.216Z"
   },
   {
    "duration": 372,
    "start_time": "2022-10-24T05:15:52.335Z"
   },
   {
    "duration": 125,
    "start_time": "2022-10-24T05:15:52.709Z"
   },
   {
    "duration": 2231,
    "start_time": "2022-10-24T05:15:52.835Z"
   },
   {
    "duration": 16,
    "start_time": "2022-10-24T05:15:55.069Z"
   },
   {
    "duration": 33,
    "start_time": "2022-10-24T05:15:55.087Z"
   },
   {
    "duration": 20,
    "start_time": "2022-10-24T05:15:55.122Z"
   },
   {
    "duration": 56,
    "start_time": "2022-10-24T05:15:55.144Z"
   },
   {
    "duration": 20,
    "start_time": "2022-10-24T05:15:55.201Z"
   },
   {
    "duration": 312,
    "start_time": "2022-10-24T05:15:55.223Z"
   },
   {
    "duration": 222,
    "start_time": "2022-10-24T05:15:55.539Z"
   },
   {
    "duration": 245,
    "start_time": "2022-10-24T05:15:55.763Z"
   },
   {
    "duration": 311,
    "start_time": "2022-10-24T05:15:56.010Z"
   },
   {
    "duration": 224,
    "start_time": "2022-10-24T05:15:56.323Z"
   },
   {
    "duration": 271,
    "start_time": "2022-10-24T05:15:56.549Z"
   },
   {
    "duration": 103,
    "start_time": "2022-10-24T05:15:56.822Z"
   },
   {
    "duration": 0,
    "start_time": "2022-10-24T05:15:56.927Z"
   },
   {
    "duration": 0,
    "start_time": "2022-10-24T05:15:56.928Z"
   },
   {
    "duration": 0,
    "start_time": "2022-10-24T05:15:56.929Z"
   },
   {
    "duration": 0,
    "start_time": "2022-10-24T05:15:56.930Z"
   },
   {
    "duration": 0,
    "start_time": "2022-10-24T05:15:56.932Z"
   },
   {
    "duration": 0,
    "start_time": "2022-10-24T05:15:56.933Z"
   },
   {
    "duration": 0,
    "start_time": "2022-10-24T05:15:56.934Z"
   },
   {
    "duration": 0,
    "start_time": "2022-10-24T05:15:56.935Z"
   },
   {
    "duration": 0,
    "start_time": "2022-10-24T05:15:56.936Z"
   },
   {
    "duration": 0,
    "start_time": "2022-10-24T05:15:56.938Z"
   },
   {
    "duration": 0,
    "start_time": "2022-10-24T05:15:56.939Z"
   },
   {
    "duration": 0,
    "start_time": "2022-10-24T05:15:56.940Z"
   },
   {
    "duration": 0,
    "start_time": "2022-10-24T05:15:56.941Z"
   },
   {
    "duration": 0,
    "start_time": "2022-10-24T05:15:56.942Z"
   },
   {
    "duration": 0,
    "start_time": "2022-10-24T05:15:56.943Z"
   },
   {
    "duration": 0,
    "start_time": "2022-10-24T05:15:56.944Z"
   },
   {
    "duration": 0,
    "start_time": "2022-10-24T05:15:56.945Z"
   },
   {
    "duration": 0,
    "start_time": "2022-10-24T05:15:56.946Z"
   },
   {
    "duration": 31,
    "start_time": "2022-10-24T05:16:29.345Z"
   },
   {
    "duration": 42,
    "start_time": "2022-10-24T05:17:06.417Z"
   },
   {
    "duration": 131,
    "start_time": "2022-10-24T05:21:22.857Z"
   },
   {
    "duration": 112,
    "start_time": "2022-10-24T05:22:03.169Z"
   },
   {
    "duration": 110,
    "start_time": "2022-10-24T05:22:15.810Z"
   },
   {
    "duration": 110,
    "start_time": "2022-10-24T05:22:33.641Z"
   },
   {
    "duration": 144,
    "start_time": "2022-10-24T05:22:46.641Z"
   },
   {
    "duration": 392,
    "start_time": "2022-10-24T05:22:57.225Z"
   },
   {
    "duration": 126,
    "start_time": "2022-10-24T05:22:57.619Z"
   },
   {
    "duration": 2263,
    "start_time": "2022-10-24T05:22:57.747Z"
   },
   {
    "duration": 17,
    "start_time": "2022-10-24T05:23:00.013Z"
   },
   {
    "duration": 37,
    "start_time": "2022-10-24T05:23:00.032Z"
   },
   {
    "duration": 38,
    "start_time": "2022-10-24T05:23:00.070Z"
   },
   {
    "duration": 44,
    "start_time": "2022-10-24T05:23:00.110Z"
   },
   {
    "duration": 126,
    "start_time": "2022-10-24T05:23:00.156Z"
   },
   {
    "duration": 313,
    "start_time": "2022-10-24T05:23:00.284Z"
   },
   {
    "duration": 309,
    "start_time": "2022-10-24T05:23:00.604Z"
   },
   {
    "duration": 236,
    "start_time": "2022-10-24T05:23:00.915Z"
   },
   {
    "duration": 222,
    "start_time": "2022-10-24T05:23:01.153Z"
   },
   {
    "duration": 244,
    "start_time": "2022-10-24T05:23:01.377Z"
   },
   {
    "duration": 215,
    "start_time": "2022-10-24T05:23:01.622Z"
   },
   {
    "duration": 215,
    "start_time": "2022-10-24T05:23:01.838Z"
   },
   {
    "duration": 242,
    "start_time": "2022-10-24T05:23:02.055Z"
   },
   {
    "duration": 142,
    "start_time": "2022-10-24T05:23:02.304Z"
   },
   {
    "duration": 205,
    "start_time": "2022-10-24T05:23:02.448Z"
   },
   {
    "duration": 189,
    "start_time": "2022-10-24T05:23:02.655Z"
   },
   {
    "duration": 189,
    "start_time": "2022-10-24T05:23:02.845Z"
   },
   {
    "duration": 286,
    "start_time": "2022-10-24T05:23:03.035Z"
   },
   {
    "duration": 233,
    "start_time": "2022-10-24T05:23:03.323Z"
   },
   {
    "duration": 220,
    "start_time": "2022-10-24T05:23:03.558Z"
   },
   {
    "duration": 162,
    "start_time": "2022-10-24T05:23:03.780Z"
   },
   {
    "duration": 180,
    "start_time": "2022-10-24T05:23:03.944Z"
   },
   {
    "duration": 156,
    "start_time": "2022-10-24T05:23:04.126Z"
   },
   {
    "duration": 179,
    "start_time": "2022-10-24T05:23:04.284Z"
   },
   {
    "duration": 159,
    "start_time": "2022-10-24T05:23:04.466Z"
   },
   {
    "duration": 179,
    "start_time": "2022-10-24T05:23:04.627Z"
   },
   {
    "duration": 185,
    "start_time": "2022-10-24T05:23:04.807Z"
   },
   {
    "duration": 168,
    "start_time": "2022-10-24T05:23:04.995Z"
   },
   {
    "duration": 32,
    "start_time": "2022-10-24T05:23:05.165Z"
   },
   {
    "duration": 176,
    "start_time": "2022-10-24T05:23:05.199Z"
   },
   {
    "duration": 221,
    "start_time": "2022-10-24T05:23:42.648Z"
   },
   {
    "duration": 109,
    "start_time": "2022-10-24T05:23:48.279Z"
   },
   {
    "duration": 191,
    "start_time": "2022-10-24T05:23:57.478Z"
   },
   {
    "duration": 410,
    "start_time": "2022-10-24T05:24:12.287Z"
   },
   {
    "duration": 131,
    "start_time": "2022-10-24T05:24:12.702Z"
   },
   {
    "duration": 2164,
    "start_time": "2022-10-24T05:24:12.835Z"
   },
   {
    "duration": 19,
    "start_time": "2022-10-24T05:24:15.005Z"
   },
   {
    "duration": 41,
    "start_time": "2022-10-24T05:24:15.026Z"
   },
   {
    "duration": 39,
    "start_time": "2022-10-24T05:24:15.068Z"
   },
   {
    "duration": 46,
    "start_time": "2022-10-24T05:24:15.111Z"
   },
   {
    "duration": 126,
    "start_time": "2022-10-24T05:24:15.159Z"
   },
   {
    "duration": 326,
    "start_time": "2022-10-24T05:24:15.286Z"
   },
   {
    "duration": 295,
    "start_time": "2022-10-24T05:24:15.615Z"
   },
   {
    "duration": 236,
    "start_time": "2022-10-24T05:24:15.911Z"
   },
   {
    "duration": 216,
    "start_time": "2022-10-24T05:24:16.150Z"
   },
   {
    "duration": 225,
    "start_time": "2022-10-24T05:24:16.367Z"
   },
   {
    "duration": 286,
    "start_time": "2022-10-24T05:24:16.594Z"
   },
   {
    "duration": 215,
    "start_time": "2022-10-24T05:24:16.883Z"
   },
   {
    "duration": 244,
    "start_time": "2022-10-24T05:24:17.100Z"
   },
   {
    "duration": 145,
    "start_time": "2022-10-24T05:24:17.345Z"
   },
   {
    "duration": 191,
    "start_time": "2022-10-24T05:24:17.494Z"
   },
   {
    "duration": 172,
    "start_time": "2022-10-24T05:24:17.687Z"
   },
   {
    "duration": 174,
    "start_time": "2022-10-24T05:24:17.861Z"
   },
   {
    "duration": 289,
    "start_time": "2022-10-24T05:24:18.037Z"
   },
   {
    "duration": 224,
    "start_time": "2022-10-24T05:24:18.327Z"
   },
   {
    "duration": 212,
    "start_time": "2022-10-24T05:24:18.552Z"
   },
   {
    "duration": 156,
    "start_time": "2022-10-24T05:24:18.766Z"
   },
   {
    "duration": 168,
    "start_time": "2022-10-24T05:24:18.924Z"
   },
   {
    "duration": 160,
    "start_time": "2022-10-24T05:24:19.096Z"
   },
   {
    "duration": 171,
    "start_time": "2022-10-24T05:24:19.258Z"
   },
   {
    "duration": 146,
    "start_time": "2022-10-24T05:24:19.432Z"
   },
   {
    "duration": 184,
    "start_time": "2022-10-24T05:24:19.580Z"
   },
   {
    "duration": 171,
    "start_time": "2022-10-24T05:24:19.766Z"
   },
   {
    "duration": 180,
    "start_time": "2022-10-24T05:24:19.938Z"
   },
   {
    "duration": 25,
    "start_time": "2022-10-24T05:24:20.119Z"
   },
   {
    "duration": 166,
    "start_time": "2022-10-24T05:24:20.145Z"
   },
   {
    "duration": 217,
    "start_time": "2022-10-24T05:24:23.873Z"
   },
   {
    "duration": 115,
    "start_time": "2022-10-24T05:24:44.745Z"
   },
   {
    "duration": 104,
    "start_time": "2022-10-24T05:24:52.977Z"
   },
   {
    "duration": 105,
    "start_time": "2022-10-24T05:24:57.153Z"
   },
   {
    "duration": 36,
    "start_time": "2022-10-24T05:26:38.771Z"
   },
   {
    "duration": 363,
    "start_time": "2022-10-24T05:26:49.635Z"
   },
   {
    "duration": 150,
    "start_time": "2022-10-24T05:26:50.004Z"
   },
   {
    "duration": 2322,
    "start_time": "2022-10-24T05:26:50.156Z"
   },
   {
    "duration": 27,
    "start_time": "2022-10-24T05:26:52.481Z"
   },
   {
    "duration": 35,
    "start_time": "2022-10-24T05:26:52.510Z"
   },
   {
    "duration": 21,
    "start_time": "2022-10-24T05:26:52.546Z"
   },
   {
    "duration": 56,
    "start_time": "2022-10-24T05:26:52.569Z"
   },
   {
    "duration": 22,
    "start_time": "2022-10-24T05:26:52.627Z"
   },
   {
    "duration": 336,
    "start_time": "2022-10-24T05:26:52.651Z"
   },
   {
    "duration": 231,
    "start_time": "2022-10-24T05:26:52.997Z"
   },
   {
    "duration": 246,
    "start_time": "2022-10-24T05:26:53.230Z"
   },
   {
    "duration": 310,
    "start_time": "2022-10-24T05:26:53.477Z"
   },
   {
    "duration": 243,
    "start_time": "2022-10-24T05:26:53.789Z"
   },
   {
    "duration": 211,
    "start_time": "2022-10-24T05:26:54.034Z"
   },
   {
    "duration": 214,
    "start_time": "2022-10-24T05:26:54.246Z"
   },
   {
    "duration": 256,
    "start_time": "2022-10-24T05:26:54.462Z"
   },
   {
    "duration": 146,
    "start_time": "2022-10-24T05:26:54.720Z"
   },
   {
    "duration": 188,
    "start_time": "2022-10-24T05:26:54.867Z"
   },
   {
    "duration": 176,
    "start_time": "2022-10-24T05:26:55.057Z"
   },
   {
    "duration": 184,
    "start_time": "2022-10-24T05:26:55.235Z"
   },
   {
    "duration": 190,
    "start_time": "2022-10-24T05:26:55.421Z"
   },
   {
    "duration": 230,
    "start_time": "2022-10-24T05:26:55.613Z"
   },
   {
    "duration": 366,
    "start_time": "2022-10-24T05:26:55.845Z"
   },
   {
    "duration": 155,
    "start_time": "2022-10-24T05:26:56.213Z"
   },
   {
    "duration": 188,
    "start_time": "2022-10-24T05:26:56.370Z"
   },
   {
    "duration": 208,
    "start_time": "2022-10-24T05:26:56.560Z"
   },
   {
    "duration": 219,
    "start_time": "2022-10-24T05:26:56.770Z"
   },
   {
    "duration": 154,
    "start_time": "2022-10-24T05:26:56.996Z"
   },
   {
    "duration": 180,
    "start_time": "2022-10-24T05:26:57.152Z"
   },
   {
    "duration": 206,
    "start_time": "2022-10-24T05:26:57.334Z"
   },
   {
    "duration": 171,
    "start_time": "2022-10-24T05:26:57.542Z"
   },
   {
    "duration": 22,
    "start_time": "2022-10-24T05:26:57.715Z"
   },
   {
    "duration": 184,
    "start_time": "2022-10-24T05:26:57.739Z"
   },
   {
    "duration": 23,
    "start_time": "2022-10-24T05:27:51.924Z"
   },
   {
    "duration": 28,
    "start_time": "2022-10-24T05:28:15.908Z"
   },
   {
    "duration": 24,
    "start_time": "2022-10-24T05:28:21.066Z"
   },
   {
    "duration": 26,
    "start_time": "2022-10-24T05:31:34.739Z"
   },
   {
    "duration": 26,
    "start_time": "2022-10-24T05:33:31.117Z"
   },
   {
    "duration": 33,
    "start_time": "2022-10-24T05:34:17.388Z"
   },
   {
    "duration": 379,
    "start_time": "2022-10-24T05:35:51.844Z"
   },
   {
    "duration": 126,
    "start_time": "2022-10-24T05:35:52.225Z"
   },
   {
    "duration": 2305,
    "start_time": "2022-10-24T05:35:52.353Z"
   },
   {
    "duration": 18,
    "start_time": "2022-10-24T05:35:54.660Z"
   },
   {
    "duration": 37,
    "start_time": "2022-10-24T05:35:54.681Z"
   },
   {
    "duration": 31,
    "start_time": "2022-10-24T05:35:54.721Z"
   },
   {
    "duration": 65,
    "start_time": "2022-10-24T05:35:54.754Z"
   },
   {
    "duration": 29,
    "start_time": "2022-10-24T05:35:54.821Z"
   },
   {
    "duration": 361,
    "start_time": "2022-10-24T05:35:54.852Z"
   },
   {
    "duration": 233,
    "start_time": "2022-10-24T05:35:55.214Z"
   },
   {
    "duration": 263,
    "start_time": "2022-10-24T05:35:55.449Z"
   },
   {
    "duration": 307,
    "start_time": "2022-10-24T05:35:55.714Z"
   },
   {
    "duration": 233,
    "start_time": "2022-10-24T05:35:56.024Z"
   },
   {
    "duration": 250,
    "start_time": "2022-10-24T05:35:56.260Z"
   },
   {
    "duration": 248,
    "start_time": "2022-10-24T05:35:56.513Z"
   },
   {
    "duration": 291,
    "start_time": "2022-10-24T05:35:56.764Z"
   },
   {
    "duration": 153,
    "start_time": "2022-10-24T05:35:57.057Z"
   },
   {
    "duration": 199,
    "start_time": "2022-10-24T05:35:57.211Z"
   },
   {
    "duration": 185,
    "start_time": "2022-10-24T05:35:57.411Z"
   },
   {
    "duration": 172,
    "start_time": "2022-10-24T05:35:57.598Z"
   },
   {
    "duration": 183,
    "start_time": "2022-10-24T05:35:57.772Z"
   },
   {
    "duration": 255,
    "start_time": "2022-10-24T05:35:57.957Z"
   },
   {
    "duration": 319,
    "start_time": "2022-10-24T05:35:58.214Z"
   },
   {
    "duration": 171,
    "start_time": "2022-10-24T05:35:58.534Z"
   },
   {
    "duration": 203,
    "start_time": "2022-10-24T05:35:58.707Z"
   },
   {
    "duration": 165,
    "start_time": "2022-10-24T05:35:58.913Z"
   },
   {
    "duration": 202,
    "start_time": "2022-10-24T05:35:59.079Z"
   },
   {
    "duration": 184,
    "start_time": "2022-10-24T05:35:59.284Z"
   },
   {
    "duration": 182,
    "start_time": "2022-10-24T05:35:59.469Z"
   },
   {
    "duration": 178,
    "start_time": "2022-10-24T05:35:59.653Z"
   },
   {
    "duration": 180,
    "start_time": "2022-10-24T05:35:59.832Z"
   },
   {
    "duration": 36,
    "start_time": "2022-10-24T05:36:00.015Z"
   },
   {
    "duration": 200,
    "start_time": "2022-10-24T05:36:00.052Z"
   },
   {
    "duration": 29,
    "start_time": "2022-10-24T05:36:44.035Z"
   },
   {
    "duration": 87,
    "start_time": "2022-10-24T05:37:03.267Z"
   },
   {
    "duration": 952,
    "start_time": "2022-10-24T05:37:18.557Z"
   },
   {
    "duration": 398,
    "start_time": "2022-10-24T05:37:32.772Z"
   },
   {
    "duration": 139,
    "start_time": "2022-10-24T05:37:33.172Z"
   },
   {
    "duration": 2224,
    "start_time": "2022-10-24T05:37:33.314Z"
   },
   {
    "duration": 16,
    "start_time": "2022-10-24T05:37:35.541Z"
   },
   {
    "duration": 51,
    "start_time": "2022-10-24T05:37:35.559Z"
   },
   {
    "duration": 32,
    "start_time": "2022-10-24T05:37:35.613Z"
   },
   {
    "duration": 51,
    "start_time": "2022-10-24T05:37:35.646Z"
   },
   {
    "duration": 26,
    "start_time": "2022-10-24T05:37:35.710Z"
   },
   {
    "duration": 340,
    "start_time": "2022-10-24T05:37:35.738Z"
   },
   {
    "duration": 239,
    "start_time": "2022-10-24T05:37:36.081Z"
   },
   {
    "duration": 243,
    "start_time": "2022-10-24T05:37:36.321Z"
   },
   {
    "duration": 388,
    "start_time": "2022-10-24T05:37:36.566Z"
   },
   {
    "duration": 229,
    "start_time": "2022-10-24T05:37:36.956Z"
   },
   {
    "duration": 227,
    "start_time": "2022-10-24T05:37:37.187Z"
   },
   {
    "duration": 221,
    "start_time": "2022-10-24T05:37:37.415Z"
   },
   {
    "duration": 244,
    "start_time": "2022-10-24T05:37:37.637Z"
   },
   {
    "duration": 152,
    "start_time": "2022-10-24T05:37:37.883Z"
   },
   {
    "duration": 214,
    "start_time": "2022-10-24T05:37:38.037Z"
   },
   {
    "duration": 181,
    "start_time": "2022-10-24T05:37:38.253Z"
   },
   {
    "duration": 192,
    "start_time": "2022-10-24T05:37:38.436Z"
   },
   {
    "duration": 181,
    "start_time": "2022-10-24T05:37:38.630Z"
   },
   {
    "duration": 238,
    "start_time": "2022-10-24T05:37:38.813Z"
   },
   {
    "duration": 335,
    "start_time": "2022-10-24T05:37:39.053Z"
   },
   {
    "duration": 158,
    "start_time": "2022-10-24T05:37:39.390Z"
   },
   {
    "duration": 170,
    "start_time": "2022-10-24T05:37:39.550Z"
   },
   {
    "duration": 161,
    "start_time": "2022-10-24T05:37:39.721Z"
   },
   {
    "duration": 181,
    "start_time": "2022-10-24T05:37:39.884Z"
   },
   {
    "duration": 163,
    "start_time": "2022-10-24T05:37:40.069Z"
   },
   {
    "duration": 181,
    "start_time": "2022-10-24T05:37:40.234Z"
   },
   {
    "duration": 181,
    "start_time": "2022-10-24T05:37:40.417Z"
   },
   {
    "duration": 170,
    "start_time": "2022-10-24T05:37:40.599Z"
   },
   {
    "duration": 36,
    "start_time": "2022-10-24T05:37:40.770Z"
   },
   {
    "duration": 182,
    "start_time": "2022-10-24T05:37:40.808Z"
   },
   {
    "duration": 28,
    "start_time": "2022-10-24T05:38:37.610Z"
   },
   {
    "duration": 42,
    "start_time": "2022-10-24T05:39:02.594Z"
   },
   {
    "duration": 52,
    "start_time": "2022-10-24T05:39:15.733Z"
   },
   {
    "duration": 30,
    "start_time": "2022-10-24T05:40:42.620Z"
   },
   {
    "duration": 109,
    "start_time": "2022-10-24T05:40:49.193Z"
   },
   {
    "duration": 86,
    "start_time": "2022-10-24T05:44:29.445Z"
   },
   {
    "duration": 43,
    "start_time": "2022-10-24T05:46:01.455Z"
   },
   {
    "duration": 41,
    "start_time": "2022-10-24T05:46:22.675Z"
   },
   {
    "duration": 118,
    "start_time": "2022-10-24T05:46:52.124Z"
   },
   {
    "duration": 799,
    "start_time": "2022-10-24T05:47:03.092Z"
   },
   {
    "duration": 43,
    "start_time": "2022-10-24T05:47:21.988Z"
   },
   {
    "duration": 1060,
    "start_time": "2022-10-24T05:47:30.455Z"
   },
   {
    "duration": 1028,
    "start_time": "2022-10-24T05:49:01.947Z"
   },
   {
    "duration": 962,
    "start_time": "2022-10-24T05:49:32.012Z"
   },
   {
    "duration": 376,
    "start_time": "2022-10-24T05:49:39.429Z"
   },
   {
    "duration": 127,
    "start_time": "2022-10-24T05:49:39.808Z"
   },
   {
    "duration": 2381,
    "start_time": "2022-10-24T05:49:39.937Z"
   },
   {
    "duration": 17,
    "start_time": "2022-10-24T05:49:42.321Z"
   },
   {
    "duration": 38,
    "start_time": "2022-10-24T05:49:42.341Z"
   },
   {
    "duration": 31,
    "start_time": "2022-10-24T05:49:42.381Z"
   },
   {
    "duration": 48,
    "start_time": "2022-10-24T05:49:42.413Z"
   },
   {
    "duration": 53,
    "start_time": "2022-10-24T05:49:42.463Z"
   },
   {
    "duration": 338,
    "start_time": "2022-10-24T05:49:42.518Z"
   },
   {
    "duration": 231,
    "start_time": "2022-10-24T05:49:42.860Z"
   },
   {
    "duration": 238,
    "start_time": "2022-10-24T05:49:43.094Z"
   },
   {
    "duration": 309,
    "start_time": "2022-10-24T05:49:43.333Z"
   },
   {
    "duration": 225,
    "start_time": "2022-10-24T05:49:43.644Z"
   },
   {
    "duration": 235,
    "start_time": "2022-10-24T05:49:43.871Z"
   },
   {
    "duration": 222,
    "start_time": "2022-10-24T05:49:44.107Z"
   },
   {
    "duration": 258,
    "start_time": "2022-10-24T05:49:44.330Z"
   },
   {
    "duration": 150,
    "start_time": "2022-10-24T05:49:44.590Z"
   },
   {
    "duration": 203,
    "start_time": "2022-10-24T05:49:44.742Z"
   },
   {
    "duration": 198,
    "start_time": "2022-10-24T05:49:44.947Z"
   },
   {
    "duration": 180,
    "start_time": "2022-10-24T05:49:45.147Z"
   },
   {
    "duration": 186,
    "start_time": "2022-10-24T05:49:45.329Z"
   },
   {
    "duration": 250,
    "start_time": "2022-10-24T05:49:45.517Z"
   },
   {
    "duration": 347,
    "start_time": "2022-10-24T05:49:45.769Z"
   },
   {
    "duration": 161,
    "start_time": "2022-10-24T05:49:46.118Z"
   },
   {
    "duration": 175,
    "start_time": "2022-10-24T05:49:46.280Z"
   },
   {
    "duration": 188,
    "start_time": "2022-10-24T05:49:46.456Z"
   },
   {
    "duration": 214,
    "start_time": "2022-10-24T05:49:46.647Z"
   },
   {
    "duration": 186,
    "start_time": "2022-10-24T05:49:46.865Z"
   },
   {
    "duration": 186,
    "start_time": "2022-10-24T05:49:47.053Z"
   },
   {
    "duration": 190,
    "start_time": "2022-10-24T05:49:47.241Z"
   },
   {
    "duration": 184,
    "start_time": "2022-10-24T05:49:47.432Z"
   },
   {
    "duration": 26,
    "start_time": "2022-10-24T05:49:47.618Z"
   },
   {
    "duration": 196,
    "start_time": "2022-10-24T05:49:47.646Z"
   },
   {
    "duration": 45,
    "start_time": "2022-10-24T05:49:55.070Z"
   },
   {
    "duration": 38,
    "start_time": "2022-10-24T05:50:55.479Z"
   },
   {
    "duration": 29,
    "start_time": "2022-10-24T05:54:40.247Z"
   },
   {
    "duration": 373,
    "start_time": "2022-10-24T05:54:53.947Z"
   },
   {
    "duration": 129,
    "start_time": "2022-10-24T05:54:54.322Z"
   },
   {
    "duration": 2274,
    "start_time": "2022-10-24T05:54:54.453Z"
   },
   {
    "duration": 19,
    "start_time": "2022-10-24T05:54:56.730Z"
   },
   {
    "duration": 45,
    "start_time": "2022-10-24T05:54:56.751Z"
   },
   {
    "duration": 27,
    "start_time": "2022-10-24T05:54:56.798Z"
   },
   {
    "duration": 73,
    "start_time": "2022-10-24T05:54:56.827Z"
   },
   {
    "duration": 32,
    "start_time": "2022-10-24T05:54:56.902Z"
   },
   {
    "duration": 316,
    "start_time": "2022-10-24T05:54:56.935Z"
   },
   {
    "duration": 228,
    "start_time": "2022-10-24T05:54:57.253Z"
   },
   {
    "duration": 239,
    "start_time": "2022-10-24T05:54:57.482Z"
   },
   {
    "duration": 289,
    "start_time": "2022-10-24T05:54:57.722Z"
   },
   {
    "duration": 205,
    "start_time": "2022-10-24T05:54:58.013Z"
   },
   {
    "duration": 199,
    "start_time": "2022-10-24T05:54:58.220Z"
   },
   {
    "duration": 210,
    "start_time": "2022-10-24T05:54:58.420Z"
   },
   {
    "duration": 229,
    "start_time": "2022-10-24T05:54:58.632Z"
   },
   {
    "duration": 146,
    "start_time": "2022-10-24T05:54:58.862Z"
   },
   {
    "duration": 180,
    "start_time": "2022-10-24T05:54:59.009Z"
   },
   {
    "duration": 172,
    "start_time": "2022-10-24T05:54:59.190Z"
   },
   {
    "duration": 159,
    "start_time": "2022-10-24T05:54:59.363Z"
   },
   {
    "duration": 165,
    "start_time": "2022-10-24T05:54:59.523Z"
   },
   {
    "duration": 229,
    "start_time": "2022-10-24T05:54:59.689Z"
   },
   {
    "duration": 322,
    "start_time": "2022-10-24T05:54:59.919Z"
   },
   {
    "duration": 154,
    "start_time": "2022-10-24T05:55:00.242Z"
   },
   {
    "duration": 174,
    "start_time": "2022-10-24T05:55:00.398Z"
   },
   {
    "duration": 158,
    "start_time": "2022-10-24T05:55:00.573Z"
   },
   {
    "duration": 177,
    "start_time": "2022-10-24T05:55:00.733Z"
   },
   {
    "duration": 164,
    "start_time": "2022-10-24T05:55:00.913Z"
   },
   {
    "duration": 176,
    "start_time": "2022-10-24T05:55:01.079Z"
   },
   {
    "duration": 188,
    "start_time": "2022-10-24T05:55:01.257Z"
   },
   {
    "duration": 176,
    "start_time": "2022-10-24T05:55:01.447Z"
   },
   {
    "duration": 25,
    "start_time": "2022-10-24T05:55:01.624Z"
   },
   {
    "duration": 181,
    "start_time": "2022-10-24T05:55:01.650Z"
   },
   {
    "duration": 34,
    "start_time": "2022-10-24T05:55:31.295Z"
   },
   {
    "duration": 439,
    "start_time": "2022-10-24T05:55:41.778Z"
   },
   {
    "duration": 132,
    "start_time": "2022-10-24T05:55:42.219Z"
   },
   {
    "duration": 2249,
    "start_time": "2022-10-24T05:55:42.353Z"
   },
   {
    "duration": 19,
    "start_time": "2022-10-24T05:55:44.605Z"
   },
   {
    "duration": 36,
    "start_time": "2022-10-24T05:55:44.627Z"
   },
   {
    "duration": 34,
    "start_time": "2022-10-24T05:55:44.664Z"
   },
   {
    "duration": 49,
    "start_time": "2022-10-24T05:55:44.700Z"
   },
   {
    "duration": 53,
    "start_time": "2022-10-24T05:55:44.751Z"
   },
   {
    "duration": 305,
    "start_time": "2022-10-24T05:55:44.806Z"
   },
   {
    "duration": 224,
    "start_time": "2022-10-24T05:55:45.115Z"
   },
   {
    "duration": 233,
    "start_time": "2022-10-24T05:55:45.341Z"
   },
   {
    "duration": 300,
    "start_time": "2022-10-24T05:55:45.576Z"
   },
   {
    "duration": 212,
    "start_time": "2022-10-24T05:55:45.878Z"
   },
   {
    "duration": 255,
    "start_time": "2022-10-24T05:55:46.091Z"
   },
   {
    "duration": 229,
    "start_time": "2022-10-24T05:55:46.348Z"
   },
   {
    "duration": 288,
    "start_time": "2022-10-24T05:55:46.579Z"
   },
   {
    "duration": 187,
    "start_time": "2022-10-24T05:55:46.869Z"
   },
   {
    "duration": 208,
    "start_time": "2022-10-24T05:55:47.058Z"
   },
   {
    "duration": 181,
    "start_time": "2022-10-24T05:55:47.267Z"
   },
   {
    "duration": 175,
    "start_time": "2022-10-24T05:55:47.450Z"
   },
   {
    "duration": 188,
    "start_time": "2022-10-24T05:55:47.627Z"
   },
   {
    "duration": 241,
    "start_time": "2022-10-24T05:55:47.817Z"
   },
   {
    "duration": 319,
    "start_time": "2022-10-24T05:55:48.060Z"
   },
   {
    "duration": 156,
    "start_time": "2022-10-24T05:55:48.381Z"
   },
   {
    "duration": 174,
    "start_time": "2022-10-24T05:55:48.539Z"
   },
   {
    "duration": 167,
    "start_time": "2022-10-24T05:55:48.715Z"
   },
   {
    "duration": 178,
    "start_time": "2022-10-24T05:55:48.884Z"
   },
   {
    "duration": 157,
    "start_time": "2022-10-24T05:55:49.065Z"
   },
   {
    "duration": 181,
    "start_time": "2022-10-24T05:55:49.224Z"
   },
   {
    "duration": 182,
    "start_time": "2022-10-24T05:55:49.407Z"
   },
   {
    "duration": 168,
    "start_time": "2022-10-24T05:55:49.594Z"
   },
   {
    "duration": 37,
    "start_time": "2022-10-24T05:55:49.764Z"
   },
   {
    "duration": 174,
    "start_time": "2022-10-24T05:55:49.802Z"
   },
   {
    "duration": 93,
    "start_time": "2022-10-24T05:55:59.830Z"
   },
   {
    "duration": 12,
    "start_time": "2022-10-24T05:56:09.132Z"
   },
   {
    "duration": 12,
    "start_time": "2022-10-24T05:56:19.588Z"
   },
   {
    "duration": 381,
    "start_time": "2022-10-24T05:56:28.335Z"
   },
   {
    "duration": 126,
    "start_time": "2022-10-24T05:56:28.718Z"
   },
   {
    "duration": 2245,
    "start_time": "2022-10-24T05:56:28.846Z"
   },
   {
    "duration": 25,
    "start_time": "2022-10-24T05:56:31.093Z"
   },
   {
    "duration": 53,
    "start_time": "2022-10-24T05:56:31.121Z"
   },
   {
    "duration": 34,
    "start_time": "2022-10-24T05:56:31.175Z"
   },
   {
    "duration": 45,
    "start_time": "2022-10-24T05:56:31.210Z"
   },
   {
    "duration": 60,
    "start_time": "2022-10-24T05:56:31.257Z"
   },
   {
    "duration": 354,
    "start_time": "2022-10-24T05:56:31.319Z"
   },
   {
    "duration": 234,
    "start_time": "2022-10-24T05:56:31.675Z"
   },
   {
    "duration": 238,
    "start_time": "2022-10-24T05:56:31.911Z"
   },
   {
    "duration": 317,
    "start_time": "2022-10-24T05:56:32.151Z"
   },
   {
    "duration": 254,
    "start_time": "2022-10-24T05:56:32.470Z"
   },
   {
    "duration": 218,
    "start_time": "2022-10-24T05:56:32.727Z"
   },
   {
    "duration": 204,
    "start_time": "2022-10-24T05:56:32.946Z"
   },
   {
    "duration": 245,
    "start_time": "2022-10-24T05:56:33.152Z"
   },
   {
    "duration": 151,
    "start_time": "2022-10-24T05:56:33.399Z"
   },
   {
    "duration": 194,
    "start_time": "2022-10-24T05:56:33.552Z"
   },
   {
    "duration": 180,
    "start_time": "2022-10-24T05:56:33.748Z"
   },
   {
    "duration": 185,
    "start_time": "2022-10-24T05:56:33.930Z"
   },
   {
    "duration": 210,
    "start_time": "2022-10-24T05:56:34.117Z"
   },
   {
    "duration": 236,
    "start_time": "2022-10-24T05:56:34.329Z"
   },
   {
    "duration": 324,
    "start_time": "2022-10-24T05:56:34.567Z"
   },
   {
    "duration": 162,
    "start_time": "2022-10-24T05:56:34.893Z"
   },
   {
    "duration": 172,
    "start_time": "2022-10-24T05:56:35.056Z"
   },
   {
    "duration": 180,
    "start_time": "2022-10-24T05:56:35.230Z"
   },
   {
    "duration": 185,
    "start_time": "2022-10-24T05:56:35.411Z"
   },
   {
    "duration": 194,
    "start_time": "2022-10-24T05:56:35.597Z"
   },
   {
    "duration": 202,
    "start_time": "2022-10-24T05:56:35.794Z"
   },
   {
    "duration": 199,
    "start_time": "2022-10-24T05:56:35.998Z"
   },
   {
    "duration": 206,
    "start_time": "2022-10-24T05:56:36.199Z"
   },
   {
    "duration": 27,
    "start_time": "2022-10-24T05:56:36.407Z"
   },
   {
    "duration": 233,
    "start_time": "2022-10-24T05:56:36.436Z"
   },
   {
    "duration": 40,
    "start_time": "2022-10-24T05:56:46.631Z"
   },
   {
    "duration": 38,
    "start_time": "2022-10-24T05:56:59.559Z"
   },
   {
    "duration": 91,
    "start_time": "2022-10-24T05:59:13.072Z"
   },
   {
    "duration": 29,
    "start_time": "2022-10-24T05:59:19.640Z"
   },
   {
    "duration": 29,
    "start_time": "2022-10-24T05:59:38.583Z"
   },
   {
    "duration": 389,
    "start_time": "2022-10-24T05:59:46.107Z"
   },
   {
    "duration": 148,
    "start_time": "2022-10-24T05:59:46.498Z"
   },
   {
    "duration": 2250,
    "start_time": "2022-10-24T05:59:46.648Z"
   },
   {
    "duration": 17,
    "start_time": "2022-10-24T05:59:48.900Z"
   },
   {
    "duration": 34,
    "start_time": "2022-10-24T05:59:48.919Z"
   },
   {
    "duration": 21,
    "start_time": "2022-10-24T05:59:48.954Z"
   },
   {
    "duration": 44,
    "start_time": "2022-10-24T05:59:48.994Z"
   },
   {
    "duration": 29,
    "start_time": "2022-10-24T05:59:49.039Z"
   },
   {
    "duration": 321,
    "start_time": "2022-10-24T05:59:49.069Z"
   },
   {
    "duration": 216,
    "start_time": "2022-10-24T05:59:49.394Z"
   },
   {
    "duration": 224,
    "start_time": "2022-10-24T05:59:49.612Z"
   },
   {
    "duration": 289,
    "start_time": "2022-10-24T05:59:49.838Z"
   },
   {
    "duration": 218,
    "start_time": "2022-10-24T05:59:50.130Z"
   },
   {
    "duration": 194,
    "start_time": "2022-10-24T05:59:50.350Z"
   },
   {
    "duration": 199,
    "start_time": "2022-10-24T05:59:50.545Z"
   },
   {
    "duration": 228,
    "start_time": "2022-10-24T05:59:50.745Z"
   },
   {
    "duration": 136,
    "start_time": "2022-10-24T05:59:50.975Z"
   },
   {
    "duration": 177,
    "start_time": "2022-10-24T05:59:51.113Z"
   },
   {
    "duration": 177,
    "start_time": "2022-10-24T05:59:51.295Z"
   },
   {
    "duration": 168,
    "start_time": "2022-10-24T05:59:51.474Z"
   },
   {
    "duration": 167,
    "start_time": "2022-10-24T05:59:51.643Z"
   },
   {
    "duration": 240,
    "start_time": "2022-10-24T05:59:51.811Z"
   },
   {
    "duration": 320,
    "start_time": "2022-10-24T05:59:52.053Z"
   },
   {
    "duration": 147,
    "start_time": "2022-10-24T05:59:52.374Z"
   },
   {
    "duration": 166,
    "start_time": "2022-10-24T05:59:52.523Z"
   },
   {
    "duration": 159,
    "start_time": "2022-10-24T05:59:52.694Z"
   },
   {
    "duration": 159,
    "start_time": "2022-10-24T05:59:52.854Z"
   },
   {
    "duration": 148,
    "start_time": "2022-10-24T05:59:53.015Z"
   },
   {
    "duration": 168,
    "start_time": "2022-10-24T05:59:53.165Z"
   },
   {
    "duration": 170,
    "start_time": "2022-10-24T05:59:53.334Z"
   },
   {
    "duration": 158,
    "start_time": "2022-10-24T05:59:53.506Z"
   },
   {
    "duration": 33,
    "start_time": "2022-10-24T05:59:53.666Z"
   },
   {
    "duration": 177,
    "start_time": "2022-10-24T05:59:53.701Z"
   },
   {
    "duration": 31,
    "start_time": "2022-10-24T06:02:36.223Z"
   },
   {
    "duration": 30,
    "start_time": "2022-10-24T06:02:46.088Z"
   },
   {
    "duration": 82,
    "start_time": "2022-10-24T06:04:42.369Z"
   },
   {
    "duration": 56,
    "start_time": "2022-10-24T06:04:55.232Z"
   },
   {
    "duration": 389,
    "start_time": "2022-10-24T06:05:11.425Z"
   },
   {
    "duration": 128,
    "start_time": "2022-10-24T06:05:11.816Z"
   },
   {
    "duration": 2181,
    "start_time": "2022-10-24T06:05:11.945Z"
   },
   {
    "duration": 17,
    "start_time": "2022-10-24T06:05:14.128Z"
   },
   {
    "duration": 32,
    "start_time": "2022-10-24T06:05:14.147Z"
   },
   {
    "duration": 25,
    "start_time": "2022-10-24T06:05:14.181Z"
   },
   {
    "duration": 40,
    "start_time": "2022-10-24T06:05:14.208Z"
   },
   {
    "duration": 73,
    "start_time": "2022-10-24T06:05:14.250Z"
   },
   {
    "duration": 315,
    "start_time": "2022-10-24T06:05:14.324Z"
   },
   {
    "duration": 217,
    "start_time": "2022-10-24T06:05:14.642Z"
   },
   {
    "duration": 215,
    "start_time": "2022-10-24T06:05:14.860Z"
   },
   {
    "duration": 275,
    "start_time": "2022-10-24T06:05:15.076Z"
   },
   {
    "duration": 202,
    "start_time": "2022-10-24T06:05:15.353Z"
   },
   {
    "duration": 211,
    "start_time": "2022-10-24T06:05:15.556Z"
   },
   {
    "duration": 193,
    "start_time": "2022-10-24T06:05:15.769Z"
   },
   {
    "duration": 228,
    "start_time": "2022-10-24T06:05:15.964Z"
   },
   {
    "duration": 136,
    "start_time": "2022-10-24T06:05:16.195Z"
   },
   {
    "duration": 171,
    "start_time": "2022-10-24T06:05:16.333Z"
   },
   {
    "duration": 211,
    "start_time": "2022-10-24T06:05:16.506Z"
   },
   {
    "duration": 200,
    "start_time": "2022-10-24T06:05:16.720Z"
   },
   {
    "duration": 168,
    "start_time": "2022-10-24T06:05:16.923Z"
   },
   {
    "duration": 231,
    "start_time": "2022-10-24T06:05:17.095Z"
   },
   {
    "duration": 328,
    "start_time": "2022-10-24T06:05:17.327Z"
   },
   {
    "duration": 173,
    "start_time": "2022-10-24T06:05:17.656Z"
   },
   {
    "duration": 167,
    "start_time": "2022-10-24T06:05:17.831Z"
   },
   {
    "duration": 188,
    "start_time": "2022-10-24T06:05:18.000Z"
   },
   {
    "duration": 165,
    "start_time": "2022-10-24T06:05:18.191Z"
   },
   {
    "duration": 161,
    "start_time": "2022-10-24T06:05:18.359Z"
   },
   {
    "duration": 174,
    "start_time": "2022-10-24T06:05:18.522Z"
   },
   {
    "duration": 177,
    "start_time": "2022-10-24T06:05:18.698Z"
   },
   {
    "duration": 179,
    "start_time": "2022-10-24T06:05:18.877Z"
   },
   {
    "duration": 25,
    "start_time": "2022-10-24T06:05:19.058Z"
   },
   {
    "duration": 179,
    "start_time": "2022-10-24T06:05:19.085Z"
   },
   {
    "duration": 53,
    "start_time": "2022-10-24T06:05:59.984Z"
   },
   {
    "duration": 44,
    "start_time": "2022-10-24T06:07:00.689Z"
   },
   {
    "duration": 44,
    "start_time": "2022-10-24T06:07:28.642Z"
   },
   {
    "duration": 42,
    "start_time": "2022-10-24T06:08:03.089Z"
   },
   {
    "duration": 27,
    "start_time": "2022-10-24T06:08:41.065Z"
   },
   {
    "duration": 27,
    "start_time": "2022-10-24T06:10:23.161Z"
   },
   {
    "duration": 26,
    "start_time": "2022-10-24T06:10:40.977Z"
   },
   {
    "duration": 27,
    "start_time": "2022-10-24T06:10:56.920Z"
   },
   {
    "duration": 23,
    "start_time": "2022-10-24T06:11:59.353Z"
   },
   {
    "duration": 38,
    "start_time": "2022-10-24T06:12:19.848Z"
   },
   {
    "duration": 412,
    "start_time": "2022-10-24T06:12:29.287Z"
   },
   {
    "duration": 123,
    "start_time": "2022-10-24T06:12:29.700Z"
   },
   {
    "duration": 2173,
    "start_time": "2022-10-24T06:12:29.825Z"
   },
   {
    "duration": 18,
    "start_time": "2022-10-24T06:12:32.000Z"
   },
   {
    "duration": 38,
    "start_time": "2022-10-24T06:12:32.022Z"
   },
   {
    "duration": 40,
    "start_time": "2022-10-24T06:12:32.062Z"
   },
   {
    "duration": 46,
    "start_time": "2022-10-24T06:12:32.104Z"
   },
   {
    "duration": 64,
    "start_time": "2022-10-24T06:12:32.151Z"
   },
   {
    "duration": 21,
    "start_time": "2022-10-24T06:12:32.217Z"
   },
   {
    "duration": 221,
    "start_time": "2022-10-24T06:12:32.240Z"
   },
   {
    "duration": 186,
    "start_time": "2022-10-24T06:12:32.463Z"
   },
   {
    "duration": 215,
    "start_time": "2022-10-24T06:12:32.650Z"
   },
   {
    "duration": 222,
    "start_time": "2022-10-24T06:12:32.867Z"
   },
   {
    "duration": 192,
    "start_time": "2022-10-24T06:12:33.094Z"
   },
   {
    "duration": 268,
    "start_time": "2022-10-24T06:12:33.293Z"
   },
   {
    "duration": 200,
    "start_time": "2022-10-24T06:12:33.562Z"
   },
   {
    "duration": 141,
    "start_time": "2022-10-24T06:12:33.763Z"
   },
   {
    "duration": 176,
    "start_time": "2022-10-24T06:12:33.905Z"
   },
   {
    "duration": 171,
    "start_time": "2022-10-24T06:12:34.083Z"
   },
   {
    "duration": 168,
    "start_time": "2022-10-24T06:12:34.256Z"
   },
   {
    "duration": 168,
    "start_time": "2022-10-24T06:12:34.426Z"
   },
   {
    "duration": 202,
    "start_time": "2022-10-24T06:12:34.596Z"
   },
   {
    "duration": 225,
    "start_time": "2022-10-24T06:12:34.799Z"
   },
   {
    "duration": 165,
    "start_time": "2022-10-24T06:12:35.025Z"
   },
   {
    "duration": 149,
    "start_time": "2022-10-24T06:12:35.194Z"
   },
   {
    "duration": 251,
    "start_time": "2022-10-24T06:12:35.345Z"
   },
   {
    "duration": 147,
    "start_time": "2022-10-24T06:12:35.597Z"
   },
   {
    "duration": 141,
    "start_time": "2022-10-24T06:12:35.746Z"
   },
   {
    "duration": 172,
    "start_time": "2022-10-24T06:12:35.894Z"
   },
   {
    "duration": 164,
    "start_time": "2022-10-24T06:12:36.067Z"
   },
   {
    "duration": 183,
    "start_time": "2022-10-24T06:12:36.232Z"
   },
   {
    "duration": 20,
    "start_time": "2022-10-24T06:12:36.416Z"
   },
   {
    "duration": 195,
    "start_time": "2022-10-24T06:12:36.437Z"
   },
   {
    "duration": 43,
    "start_time": "2022-10-24T06:13:10.896Z"
   },
   {
    "duration": 82,
    "start_time": "2022-10-24T06:16:30.544Z"
   },
   {
    "duration": 405,
    "start_time": "2022-10-24T06:16:38.590Z"
   },
   {
    "duration": 124,
    "start_time": "2022-10-24T06:16:38.998Z"
   },
   {
    "duration": 2147,
    "start_time": "2022-10-24T06:16:39.123Z"
   },
   {
    "duration": 16,
    "start_time": "2022-10-24T06:16:41.274Z"
   },
   {
    "duration": 36,
    "start_time": "2022-10-24T06:16:41.292Z"
   },
   {
    "duration": 29,
    "start_time": "2022-10-24T06:16:41.330Z"
   },
   {
    "duration": 63,
    "start_time": "2022-10-24T06:16:41.361Z"
   },
   {
    "duration": 110,
    "start_time": "2022-10-24T06:16:41.426Z"
   },
   {
    "duration": 24,
    "start_time": "2022-10-24T06:16:41.538Z"
   },
   {
    "duration": 238,
    "start_time": "2022-10-24T06:16:41.565Z"
   },
   {
    "duration": 211,
    "start_time": "2022-10-24T06:16:41.805Z"
   },
   {
    "duration": 215,
    "start_time": "2022-10-24T06:16:42.018Z"
   },
   {
    "duration": 216,
    "start_time": "2022-10-24T06:16:42.234Z"
   },
   {
    "duration": 187,
    "start_time": "2022-10-24T06:16:42.452Z"
   },
   {
    "duration": 276,
    "start_time": "2022-10-24T06:16:42.641Z"
   },
   {
    "duration": 197,
    "start_time": "2022-10-24T06:16:42.918Z"
   },
   {
    "duration": 131,
    "start_time": "2022-10-24T06:16:43.117Z"
   },
   {
    "duration": 174,
    "start_time": "2022-10-24T06:16:43.249Z"
   },
   {
    "duration": 165,
    "start_time": "2022-10-24T06:16:43.424Z"
   },
   {
    "duration": 178,
    "start_time": "2022-10-24T06:16:43.594Z"
   },
   {
    "duration": 180,
    "start_time": "2022-10-24T06:16:43.774Z"
   },
   {
    "duration": 215,
    "start_time": "2022-10-24T06:16:43.956Z"
   },
   {
    "duration": 208,
    "start_time": "2022-10-24T06:16:44.173Z"
   },
   {
    "duration": 171,
    "start_time": "2022-10-24T06:16:44.382Z"
   },
   {
    "duration": 178,
    "start_time": "2022-10-24T06:16:44.555Z"
   },
   {
    "duration": 264,
    "start_time": "2022-10-24T06:16:44.735Z"
   },
   {
    "duration": 153,
    "start_time": "2022-10-24T06:16:45.001Z"
   },
   {
    "duration": 155,
    "start_time": "2022-10-24T06:16:45.158Z"
   },
   {
    "duration": 169,
    "start_time": "2022-10-24T06:16:45.315Z"
   },
   {
    "duration": 174,
    "start_time": "2022-10-24T06:16:45.487Z"
   },
   {
    "duration": 187,
    "start_time": "2022-10-24T06:16:45.663Z"
   },
   {
    "duration": 20,
    "start_time": "2022-10-24T06:16:45.851Z"
   },
   {
    "duration": 169,
    "start_time": "2022-10-24T06:16:45.873Z"
   },
   {
    "duration": 78,
    "start_time": "2022-10-24T06:17:40.248Z"
   },
   {
    "duration": 33,
    "start_time": "2022-10-24T06:20:53.439Z"
   },
   {
    "duration": 30,
    "start_time": "2022-10-24T06:21:04.840Z"
   },
   {
    "duration": 964,
    "start_time": "2022-10-24T06:21:12.535Z"
   },
   {
    "duration": 414,
    "start_time": "2022-10-24T06:21:38.565Z"
   },
   {
    "duration": 119,
    "start_time": "2022-10-24T06:21:38.981Z"
   },
   {
    "duration": 2093,
    "start_time": "2022-10-24T06:21:39.101Z"
   },
   {
    "duration": 15,
    "start_time": "2022-10-24T06:21:41.197Z"
   },
   {
    "duration": 33,
    "start_time": "2022-10-24T06:21:41.214Z"
   },
   {
    "duration": 20,
    "start_time": "2022-10-24T06:21:41.248Z"
   },
   {
    "duration": 65,
    "start_time": "2022-10-24T06:21:41.270Z"
   },
   {
    "duration": 124,
    "start_time": "2022-10-24T06:21:41.336Z"
   },
   {
    "duration": 0,
    "start_time": "2022-10-24T06:21:41.462Z"
   },
   {
    "duration": 0,
    "start_time": "2022-10-24T06:21:41.464Z"
   },
   {
    "duration": 0,
    "start_time": "2022-10-24T06:21:41.466Z"
   },
   {
    "duration": 0,
    "start_time": "2022-10-24T06:21:41.467Z"
   },
   {
    "duration": 0,
    "start_time": "2022-10-24T06:21:41.469Z"
   },
   {
    "duration": 0,
    "start_time": "2022-10-24T06:21:41.473Z"
   },
   {
    "duration": 0,
    "start_time": "2022-10-24T06:21:41.474Z"
   },
   {
    "duration": 0,
    "start_time": "2022-10-24T06:21:41.476Z"
   },
   {
    "duration": 0,
    "start_time": "2022-10-24T06:21:41.495Z"
   },
   {
    "duration": 0,
    "start_time": "2022-10-24T06:21:41.497Z"
   },
   {
    "duration": 0,
    "start_time": "2022-10-24T06:21:41.498Z"
   },
   {
    "duration": 0,
    "start_time": "2022-10-24T06:21:41.500Z"
   },
   {
    "duration": 0,
    "start_time": "2022-10-24T06:21:41.502Z"
   },
   {
    "duration": 0,
    "start_time": "2022-10-24T06:21:41.503Z"
   },
   {
    "duration": 0,
    "start_time": "2022-10-24T06:21:41.504Z"
   },
   {
    "duration": 0,
    "start_time": "2022-10-24T06:21:41.506Z"
   },
   {
    "duration": 0,
    "start_time": "2022-10-24T06:21:41.507Z"
   },
   {
    "duration": 0,
    "start_time": "2022-10-24T06:21:41.509Z"
   },
   {
    "duration": 0,
    "start_time": "2022-10-24T06:21:41.511Z"
   },
   {
    "duration": 0,
    "start_time": "2022-10-24T06:21:41.512Z"
   },
   {
    "duration": 0,
    "start_time": "2022-10-24T06:21:41.514Z"
   },
   {
    "duration": 0,
    "start_time": "2022-10-24T06:21:41.515Z"
   },
   {
    "duration": 0,
    "start_time": "2022-10-24T06:21:41.516Z"
   },
   {
    "duration": 0,
    "start_time": "2022-10-24T06:21:41.517Z"
   },
   {
    "duration": 0,
    "start_time": "2022-10-24T06:21:41.519Z"
   },
   {
    "duration": 824,
    "start_time": "2022-10-24T06:22:09.936Z"
   },
   {
    "duration": 354,
    "start_time": "2022-10-24T06:22:32.642Z"
   },
   {
    "duration": 116,
    "start_time": "2022-10-24T06:22:32.998Z"
   },
   {
    "duration": 2066,
    "start_time": "2022-10-24T06:22:33.116Z"
   },
   {
    "duration": 16,
    "start_time": "2022-10-24T06:22:35.184Z"
   },
   {
    "duration": 35,
    "start_time": "2022-10-24T06:22:35.202Z"
   },
   {
    "duration": 20,
    "start_time": "2022-10-24T06:22:35.238Z"
   },
   {
    "duration": 53,
    "start_time": "2022-10-24T06:22:35.260Z"
   },
   {
    "duration": 94,
    "start_time": "2022-10-24T06:22:35.315Z"
   },
   {
    "duration": 300,
    "start_time": "2022-10-24T06:22:35.411Z"
   },
   {
    "duration": 230,
    "start_time": "2022-10-24T06:22:35.713Z"
   },
   {
    "duration": 221,
    "start_time": "2022-10-24T06:22:35.945Z"
   },
   {
    "duration": 275,
    "start_time": "2022-10-24T06:22:36.168Z"
   },
   {
    "duration": 231,
    "start_time": "2022-10-24T06:22:36.445Z"
   },
   {
    "duration": 259,
    "start_time": "2022-10-24T06:22:36.679Z"
   },
   {
    "duration": 196,
    "start_time": "2022-10-24T06:22:36.939Z"
   },
   {
    "duration": 221,
    "start_time": "2022-10-24T06:22:37.136Z"
   },
   {
    "duration": 142,
    "start_time": "2022-10-24T06:22:37.358Z"
   },
   {
    "duration": 187,
    "start_time": "2022-10-24T06:22:37.502Z"
   },
   {
    "duration": 178,
    "start_time": "2022-10-24T06:22:37.694Z"
   },
   {
    "duration": 163,
    "start_time": "2022-10-24T06:22:37.874Z"
   },
   {
    "duration": 176,
    "start_time": "2022-10-24T06:22:38.038Z"
   },
   {
    "duration": 229,
    "start_time": "2022-10-24T06:22:38.216Z"
   },
   {
    "duration": 302,
    "start_time": "2022-10-24T06:22:38.446Z"
   },
   {
    "duration": 151,
    "start_time": "2022-10-24T06:22:38.750Z"
   },
   {
    "duration": 172,
    "start_time": "2022-10-24T06:22:38.902Z"
   },
   {
    "duration": 149,
    "start_time": "2022-10-24T06:22:39.076Z"
   },
   {
    "duration": 169,
    "start_time": "2022-10-24T06:22:39.227Z"
   },
   {
    "duration": 144,
    "start_time": "2022-10-24T06:22:39.397Z"
   },
   {
    "duration": 179,
    "start_time": "2022-10-24T06:22:39.542Z"
   },
   {
    "duration": 184,
    "start_time": "2022-10-24T06:22:39.722Z"
   },
   {
    "duration": 172,
    "start_time": "2022-10-24T06:22:39.908Z"
   },
   {
    "duration": 37,
    "start_time": "2022-10-24T06:22:40.081Z"
   },
   {
    "duration": 164,
    "start_time": "2022-10-24T06:22:40.120Z"
   },
   {
    "duration": 86,
    "start_time": "2022-10-24T06:24:31.050Z"
   },
   {
    "duration": 48,
    "start_time": "2022-10-24T06:25:22.409Z"
   },
   {
    "duration": 45,
    "start_time": "2022-10-24T06:26:05.606Z"
   },
   {
    "duration": 65,
    "start_time": "2022-10-24T06:26:27.198Z"
   },
   {
    "duration": 444,
    "start_time": "2022-10-24T06:27:07.772Z"
   },
   {
    "duration": 121,
    "start_time": "2022-10-24T06:27:08.218Z"
   },
   {
    "duration": 2117,
    "start_time": "2022-10-24T06:27:08.341Z"
   },
   {
    "duration": 15,
    "start_time": "2022-10-24T06:27:10.460Z"
   },
   {
    "duration": 35,
    "start_time": "2022-10-24T06:27:10.477Z"
   },
   {
    "duration": 20,
    "start_time": "2022-10-24T06:27:10.514Z"
   },
   {
    "duration": 41,
    "start_time": "2022-10-24T06:27:10.535Z"
   },
   {
    "duration": 63,
    "start_time": "2022-10-24T06:27:10.595Z"
   },
   {
    "duration": 298,
    "start_time": "2022-10-24T06:27:10.659Z"
   },
   {
    "duration": 220,
    "start_time": "2022-10-24T06:27:10.958Z"
   },
   {
    "duration": 223,
    "start_time": "2022-10-24T06:27:11.179Z"
   },
   {
    "duration": 309,
    "start_time": "2022-10-24T06:27:11.403Z"
   },
   {
    "duration": 209,
    "start_time": "2022-10-24T06:27:11.714Z"
   },
   {
    "duration": 206,
    "start_time": "2022-10-24T06:27:11.927Z"
   },
   {
    "duration": 200,
    "start_time": "2022-10-24T06:27:12.135Z"
   },
   {
    "duration": 213,
    "start_time": "2022-10-24T06:27:12.337Z"
   },
   {
    "duration": 133,
    "start_time": "2022-10-24T06:27:12.552Z"
   },
   {
    "duration": 190,
    "start_time": "2022-10-24T06:27:12.686Z"
   },
   {
    "duration": 179,
    "start_time": "2022-10-24T06:27:12.878Z"
   },
   {
    "duration": 165,
    "start_time": "2022-10-24T06:27:13.059Z"
   },
   {
    "duration": 176,
    "start_time": "2022-10-24T06:27:13.225Z"
   },
   {
    "duration": 219,
    "start_time": "2022-10-24T06:27:13.403Z"
   },
   {
    "duration": 297,
    "start_time": "2022-10-24T06:27:13.624Z"
   },
   {
    "duration": 144,
    "start_time": "2022-10-24T06:27:13.923Z"
   },
   {
    "duration": 176,
    "start_time": "2022-10-24T06:27:14.068Z"
   },
   {
    "duration": 149,
    "start_time": "2022-10-24T06:27:14.247Z"
   },
   {
    "duration": 165,
    "start_time": "2022-10-24T06:27:14.397Z"
   },
   {
    "duration": 145,
    "start_time": "2022-10-24T06:27:14.564Z"
   },
   {
    "duration": 164,
    "start_time": "2022-10-24T06:27:14.711Z"
   },
   {
    "duration": 165,
    "start_time": "2022-10-24T06:27:14.877Z"
   },
   {
    "duration": 156,
    "start_time": "2022-10-24T06:27:15.044Z"
   },
   {
    "duration": 25,
    "start_time": "2022-10-24T06:27:15.202Z"
   },
   {
    "duration": 176,
    "start_time": "2022-10-24T06:27:15.228Z"
   },
   {
    "duration": 69,
    "start_time": "2022-10-24T06:28:02.107Z"
   },
   {
    "duration": 423,
    "start_time": "2022-10-24T06:28:27.871Z"
   },
   {
    "duration": 126,
    "start_time": "2022-10-24T06:28:28.296Z"
   },
   {
    "duration": 2162,
    "start_time": "2022-10-24T06:28:28.424Z"
   },
   {
    "duration": 16,
    "start_time": "2022-10-24T06:28:30.589Z"
   },
   {
    "duration": 57,
    "start_time": "2022-10-24T06:28:30.607Z"
   },
   {
    "duration": 29,
    "start_time": "2022-10-24T06:28:30.665Z"
   },
   {
    "duration": 42,
    "start_time": "2022-10-24T06:28:30.695Z"
   },
   {
    "duration": 89,
    "start_time": "2022-10-24T06:28:30.739Z"
   },
   {
    "duration": 291,
    "start_time": "2022-10-24T06:28:30.829Z"
   },
   {
    "duration": 216,
    "start_time": "2022-10-24T06:28:31.123Z"
   },
   {
    "duration": 244,
    "start_time": "2022-10-24T06:28:31.341Z"
   },
   {
    "duration": 293,
    "start_time": "2022-10-24T06:28:31.587Z"
   },
   {
    "duration": 205,
    "start_time": "2022-10-24T06:28:31.882Z"
   },
   {
    "duration": 213,
    "start_time": "2022-10-24T06:28:32.089Z"
   },
   {
    "duration": 196,
    "start_time": "2022-10-24T06:28:32.304Z"
   },
   {
    "duration": 216,
    "start_time": "2022-10-24T06:28:32.502Z"
   },
   {
    "duration": 139,
    "start_time": "2022-10-24T06:28:32.720Z"
   },
   {
    "duration": 184,
    "start_time": "2022-10-24T06:28:32.861Z"
   },
   {
    "duration": 164,
    "start_time": "2022-10-24T06:28:33.046Z"
   },
   {
    "duration": 164,
    "start_time": "2022-10-24T06:28:33.211Z"
   },
   {
    "duration": 166,
    "start_time": "2022-10-24T06:28:33.377Z"
   },
   {
    "duration": 220,
    "start_time": "2022-10-24T06:28:33.545Z"
   },
   {
    "duration": 294,
    "start_time": "2022-10-24T06:28:33.767Z"
   },
   {
    "duration": 163,
    "start_time": "2022-10-24T06:28:34.062Z"
   },
   {
    "duration": 162,
    "start_time": "2022-10-24T06:28:34.227Z"
   },
   {
    "duration": 149,
    "start_time": "2022-10-24T06:28:34.391Z"
   },
   {
    "duration": 167,
    "start_time": "2022-10-24T06:28:34.541Z"
   },
   {
    "duration": 144,
    "start_time": "2022-10-24T06:28:34.711Z"
   },
   {
    "duration": 173,
    "start_time": "2022-10-24T06:28:34.856Z"
   },
   {
    "duration": 175,
    "start_time": "2022-10-24T06:28:35.030Z"
   },
   {
    "duration": 170,
    "start_time": "2022-10-24T06:28:35.206Z"
   },
   {
    "duration": 27,
    "start_time": "2022-10-24T06:28:35.378Z"
   },
   {
    "duration": 166,
    "start_time": "2022-10-24T06:28:35.407Z"
   },
   {
    "duration": 98,
    "start_time": "2022-10-24T06:29:32.246Z"
   },
   {
    "duration": 43,
    "start_time": "2022-10-24T06:29:57.427Z"
   },
   {
    "duration": 38,
    "start_time": "2022-10-24T06:30:02.343Z"
   },
   {
    "duration": 394,
    "start_time": "2022-10-24T06:30:11.931Z"
   },
   {
    "duration": 125,
    "start_time": "2022-10-24T06:30:12.327Z"
   },
   {
    "duration": 2197,
    "start_time": "2022-10-24T06:30:12.453Z"
   },
   {
    "duration": 23,
    "start_time": "2022-10-24T06:30:14.653Z"
   },
   {
    "duration": 34,
    "start_time": "2022-10-24T06:30:14.678Z"
   },
   {
    "duration": 21,
    "start_time": "2022-10-24T06:30:14.713Z"
   },
   {
    "duration": 43,
    "start_time": "2022-10-24T06:30:14.736Z"
   },
   {
    "duration": 44,
    "start_time": "2022-10-24T06:30:14.781Z"
   },
   {
    "duration": 315,
    "start_time": "2022-10-24T06:30:14.827Z"
   },
   {
    "duration": 229,
    "start_time": "2022-10-24T06:30:15.145Z"
   },
   {
    "duration": 232,
    "start_time": "2022-10-24T06:30:15.376Z"
   },
   {
    "duration": 299,
    "start_time": "2022-10-24T06:30:15.610Z"
   },
   {
    "duration": 212,
    "start_time": "2022-10-24T06:30:15.911Z"
   },
   {
    "duration": 207,
    "start_time": "2022-10-24T06:30:16.125Z"
   },
   {
    "duration": 203,
    "start_time": "2022-10-24T06:30:16.334Z"
   },
   {
    "duration": 315,
    "start_time": "2022-10-24T06:30:16.540Z"
   },
   {
    "duration": 162,
    "start_time": "2022-10-24T06:30:16.857Z"
   },
   {
    "duration": 193,
    "start_time": "2022-10-24T06:30:17.022Z"
   },
   {
    "duration": 174,
    "start_time": "2022-10-24T06:30:17.217Z"
   },
   {
    "duration": 178,
    "start_time": "2022-10-24T06:30:17.395Z"
   },
   {
    "duration": 184,
    "start_time": "2022-10-24T06:30:17.574Z"
   },
   {
    "duration": 237,
    "start_time": "2022-10-24T06:30:17.761Z"
   },
   {
    "duration": 310,
    "start_time": "2022-10-24T06:30:18.000Z"
   },
   {
    "duration": 155,
    "start_time": "2022-10-24T06:30:18.312Z"
   },
   {
    "duration": 180,
    "start_time": "2022-10-24T06:30:18.469Z"
   },
   {
    "duration": 179,
    "start_time": "2022-10-24T06:30:18.651Z"
   },
   {
    "duration": 187,
    "start_time": "2022-10-24T06:30:18.832Z"
   },
   {
    "duration": 178,
    "start_time": "2022-10-24T06:30:19.022Z"
   },
   {
    "duration": 207,
    "start_time": "2022-10-24T06:30:19.202Z"
   },
   {
    "duration": 183,
    "start_time": "2022-10-24T06:30:19.411Z"
   },
   {
    "duration": 167,
    "start_time": "2022-10-24T06:30:19.599Z"
   },
   {
    "duration": 29,
    "start_time": "2022-10-24T06:30:19.768Z"
   },
   {
    "duration": 222,
    "start_time": "2022-10-24T06:30:19.799Z"
   },
   {
    "duration": 66,
    "start_time": "2022-10-24T06:30:29.287Z"
   },
   {
    "duration": 62,
    "start_time": "2022-10-24T06:31:39.864Z"
   },
   {
    "duration": 51,
    "start_time": "2022-10-24T06:33:03.360Z"
   },
   {
    "duration": 40,
    "start_time": "2022-10-24T06:35:26.448Z"
   },
   {
    "duration": 44,
    "start_time": "2022-10-24T06:35:31.768Z"
   },
   {
    "duration": 40,
    "start_time": "2022-10-24T06:35:36.048Z"
   },
   {
    "duration": 43,
    "start_time": "2022-10-24T06:35:39.945Z"
   },
   {
    "duration": 42,
    "start_time": "2022-10-24T06:36:42.228Z"
   },
   {
    "duration": 56,
    "start_time": "2022-10-24T06:39:32.489Z"
   },
   {
    "duration": 104,
    "start_time": "2022-10-24T06:41:45.874Z"
   },
   {
    "duration": 62,
    "start_time": "2022-10-24T06:42:06.233Z"
   },
   {
    "duration": 46,
    "start_time": "2022-10-24T06:42:25.666Z"
   },
   {
    "duration": 93,
    "start_time": "2022-10-24T06:43:03.042Z"
   },
   {
    "duration": 124,
    "start_time": "2022-10-24T06:45:27.522Z"
   },
   {
    "duration": 38,
    "start_time": "2022-10-24T06:49:01.076Z"
   },
   {
    "duration": 80,
    "start_time": "2022-10-24T06:49:33.379Z"
   },
   {
    "duration": 5,
    "start_time": "2022-10-24T06:49:45.707Z"
   },
   {
    "duration": 25,
    "start_time": "2022-10-24T06:51:48.407Z"
   },
   {
    "duration": 9,
    "start_time": "2022-10-24T06:52:26.452Z"
   },
   {
    "duration": 390,
    "start_time": "2022-10-24T06:52:57.722Z"
   },
   {
    "duration": 135,
    "start_time": "2022-10-24T06:52:58.115Z"
   },
   {
    "duration": 2230,
    "start_time": "2022-10-24T06:52:58.252Z"
   },
   {
    "duration": 17,
    "start_time": "2022-10-24T06:53:00.485Z"
   },
   {
    "duration": 30,
    "start_time": "2022-10-24T06:53:00.503Z"
   },
   {
    "duration": 39,
    "start_time": "2022-10-24T06:53:00.535Z"
   },
   {
    "duration": 29,
    "start_time": "2022-10-24T06:53:00.576Z"
   },
   {
    "duration": 61,
    "start_time": "2022-10-24T06:53:00.607Z"
   },
   {
    "duration": 83,
    "start_time": "2022-10-24T06:53:00.670Z"
   },
   {
    "duration": 317,
    "start_time": "2022-10-24T06:53:00.757Z"
   },
   {
    "duration": 239,
    "start_time": "2022-10-24T06:53:01.076Z"
   },
   {
    "duration": 252,
    "start_time": "2022-10-24T06:53:01.317Z"
   },
   {
    "duration": 294,
    "start_time": "2022-10-24T06:53:01.570Z"
   },
   {
    "duration": 216,
    "start_time": "2022-10-24T06:53:01.865Z"
   },
   {
    "duration": 237,
    "start_time": "2022-10-24T06:53:02.083Z"
   },
   {
    "duration": 213,
    "start_time": "2022-10-24T06:53:02.321Z"
   },
   {
    "duration": 236,
    "start_time": "2022-10-24T06:53:02.536Z"
   },
   {
    "duration": 148,
    "start_time": "2022-10-24T06:53:02.774Z"
   },
   {
    "duration": 194,
    "start_time": "2022-10-24T06:53:02.923Z"
   },
   {
    "duration": 188,
    "start_time": "2022-10-24T06:53:03.120Z"
   },
   {
    "duration": 172,
    "start_time": "2022-10-24T06:53:03.310Z"
   },
   {
    "duration": 175,
    "start_time": "2022-10-24T06:53:03.484Z"
   },
   {
    "duration": 240,
    "start_time": "2022-10-24T06:53:03.661Z"
   },
   {
    "duration": 318,
    "start_time": "2022-10-24T06:53:03.902Z"
   },
   {
    "duration": 166,
    "start_time": "2022-10-24T06:53:04.222Z"
   },
   {
    "duration": 189,
    "start_time": "2022-10-24T06:53:04.390Z"
   },
   {
    "duration": 156,
    "start_time": "2022-10-24T06:53:04.581Z"
   },
   {
    "duration": 180,
    "start_time": "2022-10-24T06:53:04.740Z"
   },
   {
    "duration": 151,
    "start_time": "2022-10-24T06:53:04.921Z"
   },
   {
    "duration": 175,
    "start_time": "2022-10-24T06:53:05.073Z"
   },
   {
    "duration": 182,
    "start_time": "2022-10-24T06:53:05.250Z"
   },
   {
    "duration": 178,
    "start_time": "2022-10-24T06:53:05.434Z"
   },
   {
    "duration": 23,
    "start_time": "2022-10-24T06:53:05.613Z"
   },
   {
    "duration": 183,
    "start_time": "2022-10-24T06:53:05.638Z"
   },
   {
    "duration": 48,
    "start_time": "2022-10-24T06:57:47.473Z"
   },
   {
    "duration": 28,
    "start_time": "2022-10-24T06:58:24.128Z"
   },
   {
    "duration": 10,
    "start_time": "2022-10-24T06:58:41.673Z"
   },
   {
    "duration": 6,
    "start_time": "2022-10-24T07:00:03.041Z"
   },
   {
    "duration": 9,
    "start_time": "2022-10-24T07:00:07.307Z"
   },
   {
    "duration": 51,
    "start_time": "2022-10-24T07:00:16.936Z"
   },
   {
    "duration": 403,
    "start_time": "2022-10-24T07:02:12.607Z"
   },
   {
    "duration": 129,
    "start_time": "2022-10-24T07:02:13.012Z"
   },
   {
    "duration": 2307,
    "start_time": "2022-10-24T07:02:13.143Z"
   },
   {
    "duration": 16,
    "start_time": "2022-10-24T07:02:15.453Z"
   },
   {
    "duration": 9,
    "start_time": "2022-10-24T07:02:15.471Z"
   },
   {
    "duration": 34,
    "start_time": "2022-10-24T07:02:15.482Z"
   },
   {
    "duration": 22,
    "start_time": "2022-10-24T07:02:15.518Z"
   },
   {
    "duration": 65,
    "start_time": "2022-10-24T07:02:15.542Z"
   },
   {
    "duration": 38,
    "start_time": "2022-10-24T07:02:15.609Z"
   },
   {
    "duration": 12,
    "start_time": "2022-10-24T07:02:15.649Z"
   },
   {
    "duration": 12,
    "start_time": "2022-10-24T07:02:15.663Z"
   },
   {
    "duration": 70,
    "start_time": "2022-10-24T07:02:15.677Z"
   },
   {
    "duration": 8,
    "start_time": "2022-10-24T07:02:15.748Z"
   },
   {
    "duration": 331,
    "start_time": "2022-10-24T07:02:15.759Z"
   },
   {
    "duration": 242,
    "start_time": "2022-10-24T07:02:16.092Z"
   },
   {
    "duration": 251,
    "start_time": "2022-10-24T07:02:16.336Z"
   },
   {
    "duration": 373,
    "start_time": "2022-10-24T07:02:16.589Z"
   },
   {
    "duration": 220,
    "start_time": "2022-10-24T07:02:16.963Z"
   },
   {
    "duration": 244,
    "start_time": "2022-10-24T07:02:17.185Z"
   },
   {
    "duration": 211,
    "start_time": "2022-10-24T07:02:17.430Z"
   },
   {
    "duration": 230,
    "start_time": "2022-10-24T07:02:17.643Z"
   },
   {
    "duration": 147,
    "start_time": "2022-10-24T07:02:17.875Z"
   },
   {
    "duration": 200,
    "start_time": "2022-10-24T07:02:18.023Z"
   },
   {
    "duration": 189,
    "start_time": "2022-10-24T07:02:18.225Z"
   },
   {
    "duration": 180,
    "start_time": "2022-10-24T07:02:18.415Z"
   },
   {
    "duration": 175,
    "start_time": "2022-10-24T07:02:18.599Z"
   },
   {
    "duration": 246,
    "start_time": "2022-10-24T07:02:18.775Z"
   },
   {
    "duration": 332,
    "start_time": "2022-10-24T07:02:19.023Z"
   },
   {
    "duration": 163,
    "start_time": "2022-10-24T07:02:19.357Z"
   },
   {
    "duration": 187,
    "start_time": "2022-10-24T07:02:19.522Z"
   },
   {
    "duration": 153,
    "start_time": "2022-10-24T07:02:19.710Z"
   },
   {
    "duration": 189,
    "start_time": "2022-10-24T07:02:19.865Z"
   },
   {
    "duration": 161,
    "start_time": "2022-10-24T07:02:20.056Z"
   },
   {
    "duration": 196,
    "start_time": "2022-10-24T07:02:20.218Z"
   },
   {
    "duration": 191,
    "start_time": "2022-10-24T07:02:20.415Z"
   },
   {
    "duration": 170,
    "start_time": "2022-10-24T07:02:20.608Z"
   },
   {
    "duration": 30,
    "start_time": "2022-10-24T07:02:20.780Z"
   },
   {
    "duration": 193,
    "start_time": "2022-10-24T07:02:20.812Z"
   },
   {
    "duration": 15,
    "start_time": "2022-10-24T07:04:00.036Z"
   },
   {
    "duration": 23,
    "start_time": "2022-10-24T07:04:29.643Z"
   },
   {
    "duration": 25,
    "start_time": "2022-10-24T07:05:43.555Z"
   },
   {
    "duration": 22,
    "start_time": "2022-10-24T07:05:52.052Z"
   },
   {
    "duration": 24,
    "start_time": "2022-10-24T07:06:07.192Z"
   },
   {
    "duration": 28,
    "start_time": "2022-10-24T07:06:35.980Z"
   },
   {
    "duration": 22,
    "start_time": "2022-10-24T07:07:29.068Z"
   },
   {
    "duration": 392,
    "start_time": "2022-10-24T07:07:41.552Z"
   },
   {
    "duration": 133,
    "start_time": "2022-10-24T07:07:41.945Z"
   },
   {
    "duration": 2234,
    "start_time": "2022-10-24T07:07:42.080Z"
   },
   {
    "duration": 15,
    "start_time": "2022-10-24T07:07:44.316Z"
   },
   {
    "duration": 13,
    "start_time": "2022-10-24T07:07:44.333Z"
   },
   {
    "duration": 32,
    "start_time": "2022-10-24T07:07:44.347Z"
   },
   {
    "duration": 29,
    "start_time": "2022-10-24T07:07:44.380Z"
   },
   {
    "duration": 43,
    "start_time": "2022-10-24T07:07:44.411Z"
   },
   {
    "duration": 61,
    "start_time": "2022-10-24T07:07:44.456Z"
   },
   {
    "duration": 22,
    "start_time": "2022-10-24T07:07:44.521Z"
   },
   {
    "duration": 8,
    "start_time": "2022-10-24T07:07:44.545Z"
   },
   {
    "duration": 77,
    "start_time": "2022-10-24T07:07:44.555Z"
   },
   {
    "duration": 7,
    "start_time": "2022-10-24T07:07:44.634Z"
   },
   {
    "duration": 329,
    "start_time": "2022-10-24T07:07:44.643Z"
   },
   {
    "duration": 238,
    "start_time": "2022-10-24T07:07:44.973Z"
   },
   {
    "duration": 235,
    "start_time": "2022-10-24T07:07:45.213Z"
   },
   {
    "duration": 297,
    "start_time": "2022-10-24T07:07:45.450Z"
   },
   {
    "duration": 214,
    "start_time": "2022-10-24T07:07:45.748Z"
   },
   {
    "duration": 216,
    "start_time": "2022-10-24T07:07:45.963Z"
   },
   {
    "duration": 202,
    "start_time": "2022-10-24T07:07:46.181Z"
   },
   {
    "duration": 249,
    "start_time": "2022-10-24T07:07:46.385Z"
   },
   {
    "duration": 192,
    "start_time": "2022-10-24T07:07:46.637Z"
   },
   {
    "duration": 214,
    "start_time": "2022-10-24T07:07:46.831Z"
   },
   {
    "duration": 183,
    "start_time": "2022-10-24T07:07:47.047Z"
   },
   {
    "duration": 176,
    "start_time": "2022-10-24T07:07:47.232Z"
   },
   {
    "duration": 180,
    "start_time": "2022-10-24T07:07:47.410Z"
   },
   {
    "duration": 244,
    "start_time": "2022-10-24T07:07:47.591Z"
   },
   {
    "duration": 352,
    "start_time": "2022-10-24T07:07:47.838Z"
   },
   {
    "duration": 172,
    "start_time": "2022-10-24T07:07:48.194Z"
   },
   {
    "duration": 185,
    "start_time": "2022-10-24T07:07:48.368Z"
   },
   {
    "duration": 165,
    "start_time": "2022-10-24T07:07:48.554Z"
   },
   {
    "duration": 192,
    "start_time": "2022-10-24T07:07:48.721Z"
   },
   {
    "duration": 157,
    "start_time": "2022-10-24T07:07:48.915Z"
   },
   {
    "duration": 178,
    "start_time": "2022-10-24T07:07:49.073Z"
   },
   {
    "duration": 179,
    "start_time": "2022-10-24T07:07:49.252Z"
   },
   {
    "duration": 175,
    "start_time": "2022-10-24T07:07:49.433Z"
   },
   {
    "duration": 22,
    "start_time": "2022-10-24T07:07:49.610Z"
   },
   {
    "duration": 191,
    "start_time": "2022-10-24T07:07:49.634Z"
   },
   {
    "duration": 31,
    "start_time": "2022-10-24T07:07:59.193Z"
   },
   {
    "duration": 46,
    "start_time": "2022-10-24T07:09:19.907Z"
   },
   {
    "duration": 28,
    "start_time": "2022-10-24T07:09:51.234Z"
   },
   {
    "duration": 8,
    "start_time": "2022-10-24T07:10:10.475Z"
   },
   {
    "duration": 25,
    "start_time": "2022-10-24T07:10:30.266Z"
   },
   {
    "duration": 5,
    "start_time": "2022-10-24T07:10:46.674Z"
   },
   {
    "duration": 400,
    "start_time": "2022-10-24T07:11:04.824Z"
   },
   {
    "duration": 136,
    "start_time": "2022-10-24T07:11:05.226Z"
   },
   {
    "duration": 2374,
    "start_time": "2022-10-24T07:11:05.364Z"
   },
   {
    "duration": 19,
    "start_time": "2022-10-24T07:11:07.740Z"
   },
   {
    "duration": 9,
    "start_time": "2022-10-24T07:11:07.761Z"
   },
   {
    "duration": 38,
    "start_time": "2022-10-24T07:11:07.772Z"
   },
   {
    "duration": 23,
    "start_time": "2022-10-24T07:11:07.811Z"
   },
   {
    "duration": 44,
    "start_time": "2022-10-24T07:11:07.836Z"
   },
   {
    "duration": 31,
    "start_time": "2022-10-24T07:11:07.906Z"
   },
   {
    "duration": 21,
    "start_time": "2022-10-24T07:11:07.940Z"
   },
   {
    "duration": 7,
    "start_time": "2022-10-24T07:11:07.963Z"
   },
   {
    "duration": 45,
    "start_time": "2022-10-24T07:11:07.971Z"
   },
   {
    "duration": 23,
    "start_time": "2022-10-24T07:11:08.017Z"
   },
   {
    "duration": 4,
    "start_time": "2022-10-24T07:11:08.042Z"
   },
   {
    "duration": 363,
    "start_time": "2022-10-24T07:11:08.047Z"
   },
   {
    "duration": 214,
    "start_time": "2022-10-24T07:11:08.412Z"
   },
   {
    "duration": 238,
    "start_time": "2022-10-24T07:11:08.628Z"
   },
   {
    "duration": 300,
    "start_time": "2022-10-24T07:11:08.868Z"
   },
   {
    "duration": 221,
    "start_time": "2022-10-24T07:11:09.170Z"
   },
   {
    "duration": 224,
    "start_time": "2022-10-24T07:11:09.394Z"
   },
   {
    "duration": 207,
    "start_time": "2022-10-24T07:11:09.620Z"
   },
   {
    "duration": 234,
    "start_time": "2022-10-24T07:11:09.829Z"
   },
   {
    "duration": 167,
    "start_time": "2022-10-24T07:11:10.065Z"
   },
   {
    "duration": 200,
    "start_time": "2022-10-24T07:11:10.233Z"
   },
   {
    "duration": 188,
    "start_time": "2022-10-24T07:11:10.435Z"
   },
   {
    "duration": 186,
    "start_time": "2022-10-24T07:11:10.625Z"
   },
   {
    "duration": 162,
    "start_time": "2022-10-24T07:11:10.813Z"
   },
   {
    "duration": 254,
    "start_time": "2022-10-24T07:11:10.978Z"
   },
   {
    "duration": 328,
    "start_time": "2022-10-24T07:11:11.234Z"
   },
   {
    "duration": 178,
    "start_time": "2022-10-24T07:11:11.564Z"
   },
   {
    "duration": 176,
    "start_time": "2022-10-24T07:11:11.744Z"
   },
   {
    "duration": 161,
    "start_time": "2022-10-24T07:11:11.922Z"
   },
   {
    "duration": 201,
    "start_time": "2022-10-24T07:11:12.085Z"
   },
   {
    "duration": 162,
    "start_time": "2022-10-24T07:11:12.287Z"
   },
   {
    "duration": 179,
    "start_time": "2022-10-24T07:11:12.450Z"
   },
   {
    "duration": 174,
    "start_time": "2022-10-24T07:11:12.631Z"
   },
   {
    "duration": 169,
    "start_time": "2022-10-24T07:11:12.807Z"
   },
   {
    "duration": 38,
    "start_time": "2022-10-24T07:11:12.977Z"
   },
   {
    "duration": 169,
    "start_time": "2022-10-24T07:11:13.017Z"
   },
   {
    "duration": 26,
    "start_time": "2022-10-24T07:12:02.687Z"
   },
   {
    "duration": 4,
    "start_time": "2022-10-24T07:12:38.791Z"
   },
   {
    "duration": 1723,
    "start_time": "2022-10-24T07:19:16.811Z"
   },
   {
    "duration": 240,
    "start_time": "2022-10-24T07:19:21.944Z"
   },
   {
    "duration": 196,
    "start_time": "2022-10-24T07:20:35.377Z"
   },
   {
    "duration": 335,
    "start_time": "2022-10-24T07:20:55.696Z"
   },
   {
    "duration": 70,
    "start_time": "2022-10-24T07:25:48.608Z"
   },
   {
    "duration": 422,
    "start_time": "2022-10-24T07:36:34.809Z"
   },
   {
    "duration": 126,
    "start_time": "2022-10-24T07:36:35.233Z"
   },
   {
    "duration": 2382,
    "start_time": "2022-10-24T07:36:35.360Z"
   },
   {
    "duration": 15,
    "start_time": "2022-10-24T07:36:37.744Z"
   },
   {
    "duration": 9,
    "start_time": "2022-10-24T07:36:37.761Z"
   },
   {
    "duration": 34,
    "start_time": "2022-10-24T07:36:37.771Z"
   },
   {
    "duration": 23,
    "start_time": "2022-10-24T07:36:37.813Z"
   },
   {
    "duration": 62,
    "start_time": "2022-10-24T07:36:37.837Z"
   },
   {
    "duration": 36,
    "start_time": "2022-10-24T07:36:37.906Z"
   },
   {
    "duration": 24,
    "start_time": "2022-10-24T07:36:37.945Z"
   },
   {
    "duration": 6,
    "start_time": "2022-10-24T07:36:37.971Z"
   },
   {
    "duration": 45,
    "start_time": "2022-10-24T07:36:37.979Z"
   },
   {
    "duration": 26,
    "start_time": "2022-10-24T07:36:38.026Z"
   },
   {
    "duration": 4,
    "start_time": "2022-10-24T07:36:38.054Z"
   },
   {
    "duration": 342,
    "start_time": "2022-10-24T07:36:38.060Z"
   },
   {
    "duration": 225,
    "start_time": "2022-10-24T07:36:38.406Z"
   },
   {
    "duration": 243,
    "start_time": "2022-10-24T07:36:38.633Z"
   },
   {
    "duration": 294,
    "start_time": "2022-10-24T07:36:38.877Z"
   },
   {
    "duration": 213,
    "start_time": "2022-10-24T07:36:39.172Z"
   },
   {
    "duration": 207,
    "start_time": "2022-10-24T07:36:39.387Z"
   },
   {
    "duration": 200,
    "start_time": "2022-10-24T07:36:39.599Z"
   },
   {
    "duration": 231,
    "start_time": "2022-10-24T07:36:39.805Z"
   },
   {
    "duration": 152,
    "start_time": "2022-10-24T07:36:40.038Z"
   },
   {
    "duration": 181,
    "start_time": "2022-10-24T07:36:40.196Z"
   },
   {
    "duration": 179,
    "start_time": "2022-10-24T07:36:40.379Z"
   },
   {
    "duration": 172,
    "start_time": "2022-10-24T07:36:40.560Z"
   },
   {
    "duration": 175,
    "start_time": "2022-10-24T07:36:40.733Z"
   },
   {
    "duration": 236,
    "start_time": "2022-10-24T07:36:40.911Z"
   },
   {
    "duration": 340,
    "start_time": "2022-10-24T07:36:41.148Z"
   },
   {
    "duration": 179,
    "start_time": "2022-10-24T07:36:41.494Z"
   },
   {
    "duration": 182,
    "start_time": "2022-10-24T07:36:41.675Z"
   },
   {
    "duration": 159,
    "start_time": "2022-10-24T07:36:41.858Z"
   },
   {
    "duration": 192,
    "start_time": "2022-10-24T07:36:42.019Z"
   },
   {
    "duration": 151,
    "start_time": "2022-10-24T07:36:42.213Z"
   },
   {
    "duration": 176,
    "start_time": "2022-10-24T07:36:42.366Z"
   },
   {
    "duration": 176,
    "start_time": "2022-10-24T07:36:42.544Z"
   },
   {
    "duration": 167,
    "start_time": "2022-10-24T07:36:42.722Z"
   },
   {
    "duration": 24,
    "start_time": "2022-10-24T07:36:42.904Z"
   },
   {
    "duration": 181,
    "start_time": "2022-10-24T07:36:42.930Z"
   },
   {
    "duration": 17,
    "start_time": "2022-10-24T07:38:18.694Z"
   },
   {
    "duration": 232,
    "start_time": "2022-10-24T07:41:51.758Z"
   },
   {
    "duration": 244,
    "start_time": "2022-10-24T07:42:23.479Z"
   },
   {
    "duration": 329,
    "start_time": "2022-10-24T07:42:38.121Z"
   },
   {
    "duration": 234,
    "start_time": "2022-10-24T07:42:58.079Z"
   },
   {
    "duration": 232,
    "start_time": "2022-10-24T07:43:25.392Z"
   },
   {
    "duration": 255,
    "start_time": "2022-10-24T07:43:41.696Z"
   },
   {
    "duration": 227,
    "start_time": "2022-10-24T07:43:55.009Z"
   },
   {
    "duration": 204,
    "start_time": "2022-10-24T07:44:30.507Z"
   },
   {
    "duration": 180,
    "start_time": "2022-10-24T07:44:48.871Z"
   },
   {
    "duration": 196,
    "start_time": "2022-10-24T07:45:06.016Z"
   },
   {
    "duration": 173,
    "start_time": "2022-10-24T07:45:45.312Z"
   },
   {
    "duration": 259,
    "start_time": "2022-10-24T07:46:37.496Z"
   },
   {
    "duration": 236,
    "start_time": "2022-10-24T07:46:44.488Z"
   },
   {
    "duration": 297,
    "start_time": "2022-10-24T07:46:54.647Z"
   },
   {
    "duration": 251,
    "start_time": "2022-10-24T07:47:23.298Z"
   },
   {
    "duration": 189,
    "start_time": "2022-10-24T07:47:30.153Z"
   },
   {
    "duration": 181,
    "start_time": "2022-10-24T07:47:35.433Z"
   },
   {
    "duration": 421,
    "start_time": "2022-10-24T07:54:01.002Z"
   },
   {
    "duration": 134,
    "start_time": "2022-10-24T07:54:01.426Z"
   },
   {
    "duration": 2368,
    "start_time": "2022-10-24T07:54:01.562Z"
   },
   {
    "duration": 17,
    "start_time": "2022-10-24T07:54:03.933Z"
   },
   {
    "duration": 9,
    "start_time": "2022-10-24T07:54:03.952Z"
   },
   {
    "duration": 31,
    "start_time": "2022-10-24T07:54:03.963Z"
   },
   {
    "duration": 22,
    "start_time": "2022-10-24T07:54:03.996Z"
   },
   {
    "duration": 44,
    "start_time": "2022-10-24T07:54:04.019Z"
   },
   {
    "duration": 58,
    "start_time": "2022-10-24T07:54:04.065Z"
   },
   {
    "duration": 25,
    "start_time": "2022-10-24T07:54:04.127Z"
   },
   {
    "duration": 12,
    "start_time": "2022-10-24T07:54:04.154Z"
   },
   {
    "duration": 51,
    "start_time": "2022-10-24T07:54:04.168Z"
   },
   {
    "duration": 25,
    "start_time": "2022-10-24T07:54:04.220Z"
   },
   {
    "duration": 6,
    "start_time": "2022-10-24T07:54:04.246Z"
   },
   {
    "duration": 340,
    "start_time": "2022-10-24T07:54:04.254Z"
   },
   {
    "duration": 259,
    "start_time": "2022-10-24T07:54:04.596Z"
   },
   {
    "duration": 254,
    "start_time": "2022-10-24T07:54:04.858Z"
   },
   {
    "duration": 317,
    "start_time": "2022-10-24T07:54:05.113Z"
   },
   {
    "duration": 242,
    "start_time": "2022-10-24T07:54:05.432Z"
   },
   {
    "duration": 230,
    "start_time": "2022-10-24T07:54:05.676Z"
   },
   {
    "duration": 215,
    "start_time": "2022-10-24T07:54:05.907Z"
   },
   {
    "duration": 248,
    "start_time": "2022-10-24T07:54:06.124Z"
   },
   {
    "duration": 152,
    "start_time": "2022-10-24T07:54:06.374Z"
   },
   {
    "duration": 245,
    "start_time": "2022-10-24T07:54:06.528Z"
   },
   {
    "duration": 235,
    "start_time": "2022-10-24T07:54:06.775Z"
   },
   {
    "duration": 193,
    "start_time": "2022-10-24T07:54:07.011Z"
   },
   {
    "duration": 196,
    "start_time": "2022-10-24T07:54:07.206Z"
   },
   {
    "duration": 261,
    "start_time": "2022-10-24T07:54:07.407Z"
   },
   {
    "duration": 342,
    "start_time": "2022-10-24T07:54:07.670Z"
   },
   {
    "duration": 183,
    "start_time": "2022-10-24T07:54:08.015Z"
   },
   {
    "duration": 182,
    "start_time": "2022-10-24T07:54:08.200Z"
   },
   {
    "duration": 170,
    "start_time": "2022-10-24T07:54:08.384Z"
   },
   {
    "duration": 196,
    "start_time": "2022-10-24T07:54:08.556Z"
   },
   {
    "duration": 166,
    "start_time": "2022-10-24T07:54:08.754Z"
   },
   {
    "duration": 190,
    "start_time": "2022-10-24T07:54:08.921Z"
   },
   {
    "duration": 187,
    "start_time": "2022-10-24T07:54:09.114Z"
   },
   {
    "duration": 178,
    "start_time": "2022-10-24T07:54:09.303Z"
   },
   {
    "duration": 33,
    "start_time": "2022-10-24T07:54:09.483Z"
   },
   {
    "duration": 198,
    "start_time": "2022-10-24T07:54:09.518Z"
   },
   {
    "duration": 77,
    "start_time": "2022-10-24T07:57:04.703Z"
   },
   {
    "duration": 232,
    "start_time": "2022-10-24T07:57:09.310Z"
   },
   {
    "duration": 453,
    "start_time": "2022-10-24T07:58:05.783Z"
   },
   {
    "duration": 137,
    "start_time": "2022-10-24T07:58:06.239Z"
   },
   {
    "duration": 2456,
    "start_time": "2022-10-24T07:58:06.378Z"
   },
   {
    "duration": 18,
    "start_time": "2022-10-24T07:58:08.837Z"
   },
   {
    "duration": 9,
    "start_time": "2022-10-24T07:58:08.857Z"
   },
   {
    "duration": 33,
    "start_time": "2022-10-24T07:58:08.868Z"
   },
   {
    "duration": 23,
    "start_time": "2022-10-24T07:58:08.903Z"
   },
   {
    "duration": 44,
    "start_time": "2022-10-24T07:58:08.928Z"
   },
   {
    "duration": 52,
    "start_time": "2022-10-24T07:58:08.974Z"
   },
   {
    "duration": 22,
    "start_time": "2022-10-24T07:58:09.029Z"
   },
   {
    "duration": 13,
    "start_time": "2022-10-24T07:58:09.052Z"
   },
   {
    "duration": 29,
    "start_time": "2022-10-24T07:58:09.095Z"
   },
   {
    "duration": 27,
    "start_time": "2022-10-24T07:58:09.125Z"
   },
   {
    "duration": 5,
    "start_time": "2022-10-24T07:58:09.153Z"
   },
   {
    "duration": 345,
    "start_time": "2022-10-24T07:58:09.160Z"
   },
   {
    "duration": 245,
    "start_time": "2022-10-24T07:58:09.507Z"
   },
   {
    "duration": 256,
    "start_time": "2022-10-24T07:58:09.754Z"
   },
   {
    "duration": 325,
    "start_time": "2022-10-24T07:58:10.012Z"
   },
   {
    "duration": 229,
    "start_time": "2022-10-24T07:58:10.340Z"
   },
   {
    "duration": 223,
    "start_time": "2022-10-24T07:58:10.571Z"
   },
   {
    "duration": 212,
    "start_time": "2022-10-24T07:58:10.796Z"
   },
   {
    "duration": 244,
    "start_time": "2022-10-24T07:58:11.009Z"
   },
   {
    "duration": 156,
    "start_time": "2022-10-24T07:58:11.255Z"
   },
   {
    "duration": 250,
    "start_time": "2022-10-24T07:58:11.414Z"
   },
   {
    "duration": 192,
    "start_time": "2022-10-24T07:58:11.666Z"
   },
   {
    "duration": 195,
    "start_time": "2022-10-24T07:58:11.860Z"
   },
   {
    "duration": 220,
    "start_time": "2022-10-24T07:58:12.058Z"
   },
   {
    "duration": 253,
    "start_time": "2022-10-24T07:58:12.282Z"
   },
   {
    "duration": 339,
    "start_time": "2022-10-24T07:58:12.538Z"
   },
   {
    "duration": 168,
    "start_time": "2022-10-24T07:58:12.879Z"
   },
   {
    "duration": 175,
    "start_time": "2022-10-24T07:58:13.049Z"
   },
   {
    "duration": 171,
    "start_time": "2022-10-24T07:58:13.226Z"
   },
   {
    "duration": 210,
    "start_time": "2022-10-24T07:58:13.399Z"
   },
   {
    "duration": 163,
    "start_time": "2022-10-24T07:58:13.611Z"
   },
   {
    "duration": 191,
    "start_time": "2022-10-24T07:58:13.776Z"
   },
   {
    "duration": 199,
    "start_time": "2022-10-24T07:58:13.969Z"
   },
   {
    "duration": 181,
    "start_time": "2022-10-24T07:58:14.170Z"
   },
   {
    "duration": 24,
    "start_time": "2022-10-24T07:58:14.352Z"
   },
   {
    "duration": 198,
    "start_time": "2022-10-24T07:58:14.378Z"
   },
   {
    "duration": 407,
    "start_time": "2022-10-24T16:44:36.751Z"
   },
   {
    "duration": 141,
    "start_time": "2022-10-24T16:44:37.160Z"
   },
   {
    "duration": 2048,
    "start_time": "2022-10-24T16:44:37.303Z"
   },
   {
    "duration": 17,
    "start_time": "2022-10-24T16:44:39.353Z"
   },
   {
    "duration": 8,
    "start_time": "2022-10-24T16:44:39.372Z"
   },
   {
    "duration": 29,
    "start_time": "2022-10-24T16:44:39.381Z"
   },
   {
    "duration": 45,
    "start_time": "2022-10-24T16:44:39.411Z"
   },
   {
    "duration": 43,
    "start_time": "2022-10-24T16:44:39.458Z"
   },
   {
    "duration": 47,
    "start_time": "2022-10-24T16:44:39.502Z"
   },
   {
    "duration": 19,
    "start_time": "2022-10-24T16:44:39.553Z"
   },
   {
    "duration": 12,
    "start_time": "2022-10-24T16:44:39.574Z"
   },
   {
    "duration": 27,
    "start_time": "2022-10-24T16:44:39.587Z"
   },
   {
    "duration": 25,
    "start_time": "2022-10-24T16:44:39.639Z"
   },
   {
    "duration": 4,
    "start_time": "2022-10-24T16:44:39.666Z"
   },
   {
    "duration": 305,
    "start_time": "2022-10-24T16:44:39.672Z"
   },
   {
    "duration": 207,
    "start_time": "2022-10-24T16:44:39.979Z"
   },
   {
    "duration": 224,
    "start_time": "2022-10-24T16:44:40.188Z"
   },
   {
    "duration": 257,
    "start_time": "2022-10-24T16:44:40.414Z"
   },
   {
    "duration": 204,
    "start_time": "2022-10-24T16:44:40.672Z"
   },
   {
    "duration": 201,
    "start_time": "2022-10-24T16:44:40.878Z"
   },
   {
    "duration": 187,
    "start_time": "2022-10-24T16:44:41.081Z"
   },
   {
    "duration": 222,
    "start_time": "2022-10-24T16:44:41.269Z"
   },
   {
    "duration": 132,
    "start_time": "2022-10-24T16:44:41.492Z"
   },
   {
    "duration": 198,
    "start_time": "2022-10-24T16:44:41.638Z"
   },
   {
    "duration": 163,
    "start_time": "2022-10-24T16:44:41.838Z"
   },
   {
    "duration": 160,
    "start_time": "2022-10-24T16:44:42.003Z"
   },
   {
    "duration": 166,
    "start_time": "2022-10-24T16:44:42.164Z"
   },
   {
    "duration": 230,
    "start_time": "2022-10-24T16:44:42.338Z"
   },
   {
    "duration": 287,
    "start_time": "2022-10-24T16:44:42.570Z"
   },
   {
    "duration": 141,
    "start_time": "2022-10-24T16:44:42.858Z"
   },
   {
    "duration": 159,
    "start_time": "2022-10-24T16:44:43.000Z"
   },
   {
    "duration": 148,
    "start_time": "2022-10-24T16:44:43.161Z"
   },
   {
    "duration": 172,
    "start_time": "2022-10-24T16:44:43.311Z"
   },
   {
    "duration": 146,
    "start_time": "2022-10-24T16:44:43.485Z"
   },
   {
    "duration": 162,
    "start_time": "2022-10-24T16:44:43.632Z"
   },
   {
    "duration": 163,
    "start_time": "2022-10-24T16:44:43.796Z"
   },
   {
    "duration": 162,
    "start_time": "2022-10-24T16:44:43.961Z"
   },
   {
    "duration": 26,
    "start_time": "2022-10-24T16:44:44.124Z"
   },
   {
    "duration": 170,
    "start_time": "2022-10-24T16:44:44.152Z"
   },
   {
    "duration": 14,
    "start_time": "2022-10-24T16:47:13.684Z"
   },
   {
    "duration": 99,
    "start_time": "2022-10-24T16:47:17.217Z"
   },
   {
    "duration": 92,
    "start_time": "2022-10-24T17:22:26.297Z"
   },
   {
    "duration": 145,
    "start_time": "2022-10-24T17:23:06.153Z"
   },
   {
    "duration": 51,
    "start_time": "2022-10-24T17:38:30.348Z"
   },
   {
    "duration": 417,
    "start_time": "2022-10-24T17:38:40.044Z"
   },
   {
    "duration": 350,
    "start_time": "2022-10-24T17:38:40.463Z"
   },
   {
    "duration": 2389,
    "start_time": "2022-10-24T17:38:40.815Z"
   },
   {
    "duration": 17,
    "start_time": "2022-10-24T17:38:43.207Z"
   },
   {
    "duration": 9,
    "start_time": "2022-10-24T17:38:43.226Z"
   },
   {
    "duration": 38,
    "start_time": "2022-10-24T17:38:43.237Z"
   },
   {
    "duration": 20,
    "start_time": "2022-10-24T17:38:43.277Z"
   },
   {
    "duration": 57,
    "start_time": "2022-10-24T17:38:43.299Z"
   },
   {
    "duration": 151,
    "start_time": "2022-10-24T17:38:43.357Z"
   },
   {
    "duration": 23,
    "start_time": "2022-10-24T17:38:43.509Z"
   },
   {
    "duration": 28,
    "start_time": "2022-10-24T17:38:43.534Z"
   },
   {
    "duration": 28,
    "start_time": "2022-10-24T17:38:43.564Z"
   },
   {
    "duration": 24,
    "start_time": "2022-10-24T17:38:43.594Z"
   },
   {
    "duration": 33,
    "start_time": "2022-10-24T17:38:43.622Z"
   },
   {
    "duration": 149,
    "start_time": "2022-10-24T17:38:43.656Z"
   },
   {
    "duration": 312,
    "start_time": "2022-10-24T17:38:43.807Z"
   },
   {
    "duration": 292,
    "start_time": "2022-10-24T17:38:44.121Z"
   },
   {
    "duration": 225,
    "start_time": "2022-10-24T17:38:44.415Z"
   },
   {
    "duration": 217,
    "start_time": "2022-10-24T17:38:44.642Z"
   },
   {
    "duration": 209,
    "start_time": "2022-10-24T17:38:44.860Z"
   },
   {
    "duration": 233,
    "start_time": "2022-10-24T17:38:45.071Z"
   },
   {
    "duration": 230,
    "start_time": "2022-10-24T17:38:45.306Z"
   },
   {
    "duration": 329,
    "start_time": "2022-10-24T17:38:45.537Z"
   },
   {
    "duration": 141,
    "start_time": "2022-10-24T17:38:45.868Z"
   },
   {
    "duration": 185,
    "start_time": "2022-10-24T17:38:46.011Z"
   },
   {
    "duration": 174,
    "start_time": "2022-10-24T17:38:46.198Z"
   },
   {
    "duration": 172,
    "start_time": "2022-10-24T17:38:46.374Z"
   },
   {
    "duration": 286,
    "start_time": "2022-10-24T17:38:46.547Z"
   },
   {
    "duration": 248,
    "start_time": "2022-10-24T17:38:46.834Z"
   },
   {
    "duration": 206,
    "start_time": "2022-10-24T17:38:47.084Z"
   },
   {
    "duration": 153,
    "start_time": "2022-10-24T17:38:47.292Z"
   },
   {
    "duration": 164,
    "start_time": "2022-10-24T17:38:47.447Z"
   },
   {
    "duration": 157,
    "start_time": "2022-10-24T17:38:47.613Z"
   },
   {
    "duration": 175,
    "start_time": "2022-10-24T17:38:47.772Z"
   },
   {
    "duration": 145,
    "start_time": "2022-10-24T17:38:47.949Z"
   },
   {
    "duration": 172,
    "start_time": "2022-10-24T17:38:48.095Z"
   },
   {
    "duration": 170,
    "start_time": "2022-10-24T17:38:48.269Z"
   },
   {
    "duration": 164,
    "start_time": "2022-10-24T17:38:48.441Z"
   },
   {
    "duration": 23,
    "start_time": "2022-10-24T17:38:48.607Z"
   },
   {
    "duration": 190,
    "start_time": "2022-10-24T17:38:48.631Z"
   },
   {
    "duration": 247,
    "start_time": "2022-10-24T17:38:58.792Z"
   },
   {
    "duration": 109,
    "start_time": "2022-10-24T17:39:03.697Z"
   },
   {
    "duration": 112,
    "start_time": "2022-10-24T17:39:07.249Z"
   },
   {
    "duration": 143,
    "start_time": "2022-10-24T17:39:10.664Z"
   },
   {
    "duration": 150,
    "start_time": "2022-10-24T17:39:42.473Z"
   },
   {
    "duration": 187,
    "start_time": "2022-10-24T17:39:49.696Z"
   },
   {
    "duration": 40,
    "start_time": "2022-10-24T17:40:02.552Z"
   },
   {
    "duration": 24,
    "start_time": "2022-10-24T17:40:13.082Z"
   },
   {
    "duration": 11,
    "start_time": "2022-10-24T17:43:21.798Z"
   },
   {
    "duration": 14,
    "start_time": "2022-10-24T17:43:33.463Z"
   },
   {
    "duration": 176,
    "start_time": "2022-10-24T17:43:46.350Z"
   },
   {
    "duration": 203,
    "start_time": "2022-10-24T17:46:05.489Z"
   },
   {
    "duration": 208,
    "start_time": "2022-10-24T17:46:09.586Z"
   },
   {
    "duration": 142,
    "start_time": "2022-10-24T17:46:13.474Z"
   },
   {
    "duration": 276,
    "start_time": "2022-10-24T17:46:18.706Z"
   },
   {
    "duration": 208,
    "start_time": "2022-10-24T17:46:26.362Z"
   },
   {
    "duration": 257,
    "start_time": "2022-10-24T17:46:30.344Z"
   },
   {
    "duration": 381,
    "start_time": "2022-10-24T17:46:35.785Z"
   },
   {
    "duration": 1704,
    "start_time": "2022-10-24T17:46:41.091Z"
   },
   {
    "duration": 946,
    "start_time": "2022-10-24T17:46:47.666Z"
   },
   {
    "duration": 762,
    "start_time": "2022-10-24T17:47:29.586Z"
   },
   {
    "duration": 1030,
    "start_time": "2022-10-24T17:47:42.748Z"
   },
   {
    "duration": 788,
    "start_time": "2022-10-24T17:47:53.051Z"
   },
   {
    "duration": 228,
    "start_time": "2022-10-24T17:48:10.701Z"
   },
   {
    "duration": 216,
    "start_time": "2022-10-24T17:48:24.957Z"
   },
   {
    "duration": 218,
    "start_time": "2022-10-24T17:48:39.613Z"
   },
   {
    "duration": 16,
    "start_time": "2022-10-24T17:48:56.453Z"
   },
   {
    "duration": 197,
    "start_time": "2022-10-24T17:49:13.886Z"
   },
   {
    "duration": 525,
    "start_time": "2022-10-24T17:49:41.366Z"
   },
   {
    "duration": 207,
    "start_time": "2022-10-24T17:49:57.750Z"
   },
   {
    "duration": 223,
    "start_time": "2022-10-24T17:50:06.088Z"
   },
   {
    "duration": 250,
    "start_time": "2022-10-24T17:50:47.807Z"
   },
   {
    "duration": 279,
    "start_time": "2022-10-24T17:50:56.256Z"
   },
   {
    "duration": 253,
    "start_time": "2022-10-24T17:51:02.082Z"
   },
   {
    "duration": 250,
    "start_time": "2022-10-24T17:51:07.818Z"
   },
   {
    "duration": 221,
    "start_time": "2022-10-24T17:51:12.169Z"
   },
   {
    "duration": 18,
    "start_time": "2022-10-24T17:52:11.945Z"
   },
   {
    "duration": 14,
    "start_time": "2022-10-24T17:52:47.089Z"
   },
   {
    "duration": 218,
    "start_time": "2022-10-24T17:53:53.046Z"
   },
   {
    "duration": 195,
    "start_time": "2022-10-24T17:53:58.053Z"
   },
   {
    "duration": 244,
    "start_time": "2022-10-24T17:56:10.752Z"
   },
   {
    "duration": 197,
    "start_time": "2022-10-24T17:56:32.593Z"
   },
   {
    "duration": 175,
    "start_time": "2022-10-24T17:59:03.204Z"
   },
   {
    "duration": 184,
    "start_time": "2022-10-24T18:00:06.099Z"
   },
   {
    "duration": 212,
    "start_time": "2022-10-24T18:00:12.816Z"
   },
   {
    "duration": 281,
    "start_time": "2022-10-24T18:00:17.646Z"
   },
   {
    "duration": 733,
    "start_time": "2022-10-24T18:00:22.244Z"
   },
   {
    "duration": 793,
    "start_time": "2022-10-24T18:00:50.342Z"
   },
   {
    "duration": 1452,
    "start_time": "2022-10-24T18:00:58.077Z"
   },
   {
    "duration": 421,
    "start_time": "2022-10-24T18:01:39.499Z"
   },
   {
    "duration": 142,
    "start_time": "2022-10-24T18:01:39.923Z"
   },
   {
    "duration": 2504,
    "start_time": "2022-10-24T18:01:40.069Z"
   },
   {
    "duration": 16,
    "start_time": "2022-10-24T18:01:42.575Z"
   },
   {
    "duration": 25,
    "start_time": "2022-10-24T18:01:42.593Z"
   },
   {
    "duration": 57,
    "start_time": "2022-10-24T18:01:42.620Z"
   },
   {
    "duration": 28,
    "start_time": "2022-10-24T18:01:42.679Z"
   },
   {
    "duration": 53,
    "start_time": "2022-10-24T18:01:42.709Z"
   },
   {
    "duration": 29,
    "start_time": "2022-10-24T18:01:42.764Z"
   },
   {
    "duration": 183,
    "start_time": "2022-10-24T18:01:42.795Z"
   },
   {
    "duration": 415,
    "start_time": "2022-10-24T18:02:34.764Z"
   },
   {
    "duration": 135,
    "start_time": "2022-10-24T18:02:35.181Z"
   },
   {
    "duration": 2532,
    "start_time": "2022-10-24T18:02:35.321Z"
   },
   {
    "duration": 19,
    "start_time": "2022-10-24T18:02:37.856Z"
   },
   {
    "duration": 10,
    "start_time": "2022-10-24T18:02:37.877Z"
   },
   {
    "duration": 36,
    "start_time": "2022-10-24T18:02:37.889Z"
   },
   {
    "duration": 23,
    "start_time": "2022-10-24T18:02:37.954Z"
   },
   {
    "duration": 48,
    "start_time": "2022-10-24T18:02:37.979Z"
   },
   {
    "duration": 68,
    "start_time": "2022-10-24T18:02:38.029Z"
   },
   {
    "duration": 184,
    "start_time": "2022-10-24T18:02:38.099Z"
   },
   {
    "duration": 15459,
    "start_time": "2022-10-24T18:02:38.285Z"
   },
   {
    "duration": 41,
    "start_time": "2022-10-24T18:02:53.747Z"
   },
   {
    "duration": 197,
    "start_time": "2022-10-24T18:02:53.793Z"
   },
   {
    "duration": 5,
    "start_time": "2022-10-24T18:02:53.993Z"
   },
   {
    "duration": 201,
    "start_time": "2022-10-24T18:02:54.001Z"
   },
   {
    "duration": 888,
    "start_time": "2022-10-24T18:02:54.204Z"
   },
   {
    "duration": 271,
    "start_time": "2022-10-24T18:02:55.094Z"
   },
   {
    "duration": 267,
    "start_time": "2022-10-24T18:02:55.367Z"
   },
   {
    "duration": 246,
    "start_time": "2022-10-24T18:02:55.637Z"
   },
   {
    "duration": 249,
    "start_time": "2022-10-24T18:02:55.884Z"
   },
   {
    "duration": 260,
    "start_time": "2022-10-24T18:02:56.134Z"
   },
   {
    "duration": 239,
    "start_time": "2022-10-24T18:02:56.397Z"
   },
   {
    "duration": 283,
    "start_time": "2022-10-24T18:02:56.638Z"
   },
   {
    "duration": 152,
    "start_time": "2022-10-24T18:02:56.923Z"
   },
   {
    "duration": 209,
    "start_time": "2022-10-24T18:02:57.077Z"
   },
   {
    "duration": 207,
    "start_time": "2022-10-24T18:02:57.288Z"
   },
   {
    "duration": 228,
    "start_time": "2022-10-24T18:02:57.497Z"
   },
   {
    "duration": 228,
    "start_time": "2022-10-24T18:02:57.727Z"
   },
   {
    "duration": 273,
    "start_time": "2022-10-24T18:02:57.957Z"
   },
   {
    "duration": 238,
    "start_time": "2022-10-24T18:02:58.232Z"
   },
   {
    "duration": 205,
    "start_time": "2022-10-24T18:02:58.472Z"
   },
   {
    "duration": 184,
    "start_time": "2022-10-24T18:02:58.679Z"
   },
   {
    "duration": 198,
    "start_time": "2022-10-24T18:02:58.865Z"
   },
   {
    "duration": 196,
    "start_time": "2022-10-24T18:02:59.064Z"
   },
   {
    "duration": 163,
    "start_time": "2022-10-24T18:02:59.262Z"
   },
   {
    "duration": 194,
    "start_time": "2022-10-24T18:02:59.427Z"
   },
   {
    "duration": 188,
    "start_time": "2022-10-24T18:02:59.622Z"
   },
   {
    "duration": 189,
    "start_time": "2022-10-24T18:02:59.811Z"
   },
   {
    "duration": 27,
    "start_time": "2022-10-24T18:03:00.001Z"
   },
   {
    "duration": 209,
    "start_time": "2022-10-24T18:03:00.031Z"
   },
   {
    "duration": 76,
    "start_time": "2022-10-25T05:13:58.882Z"
   },
   {
    "duration": 552,
    "start_time": "2022-10-25T05:14:06.399Z"
   },
   {
    "duration": 613,
    "start_time": "2022-10-25T05:14:06.955Z"
   },
   {
    "duration": 3730,
    "start_time": "2022-10-25T05:14:07.579Z"
   },
   {
    "duration": 23,
    "start_time": "2022-10-25T05:14:11.315Z"
   },
   {
    "duration": 11,
    "start_time": "2022-10-25T05:14:11.341Z"
   },
   {
    "duration": 46,
    "start_time": "2022-10-25T05:14:11.355Z"
   },
   {
    "duration": 133,
    "start_time": "2022-10-25T05:14:11.404Z"
   },
   {
    "duration": 107,
    "start_time": "2022-10-25T05:14:11.540Z"
   },
   {
    "duration": 51,
    "start_time": "2022-10-25T05:14:11.650Z"
   },
   {
    "duration": 316,
    "start_time": "2022-10-25T05:14:11.705Z"
   },
   {
    "duration": 532,
    "start_time": "2022-10-25T05:15:13.152Z"
   },
   {
    "duration": 226,
    "start_time": "2022-10-25T05:15:13.686Z"
   },
   {
    "duration": 3225,
    "start_time": "2022-10-25T05:15:13.927Z"
   },
   {
    "duration": 57,
    "start_time": "2022-10-25T05:15:17.160Z"
   },
   {
    "duration": 19,
    "start_time": "2022-10-25T05:15:17.228Z"
   },
   {
    "duration": 68,
    "start_time": "2022-10-25T05:15:17.249Z"
   },
   {
    "duration": 58,
    "start_time": "2022-10-25T05:15:17.319Z"
   },
   {
    "duration": 105,
    "start_time": "2022-10-25T05:15:17.381Z"
   },
   {
    "duration": 88,
    "start_time": "2022-10-25T05:15:17.494Z"
   },
   {
    "duration": 332,
    "start_time": "2022-10-25T05:15:17.586Z"
   },
   {
    "duration": 506,
    "start_time": "2022-10-25T05:17:34.055Z"
   },
   {
    "duration": 207,
    "start_time": "2022-10-25T05:17:34.563Z"
   },
   {
    "duration": 3114,
    "start_time": "2022-10-25T05:17:34.772Z"
   },
   {
    "duration": 30,
    "start_time": "2022-10-25T05:17:37.901Z"
   },
   {
    "duration": 14,
    "start_time": "2022-10-25T05:17:37.934Z"
   },
   {
    "duration": 46,
    "start_time": "2022-10-25T05:17:37.951Z"
   },
   {
    "duration": 44,
    "start_time": "2022-10-25T05:17:38.002Z"
   },
   {
    "duration": 90,
    "start_time": "2022-10-25T05:17:38.049Z"
   },
   {
    "duration": 71,
    "start_time": "2022-10-25T05:17:38.141Z"
   },
   {
    "duration": 223,
    "start_time": "2022-10-25T05:17:38.216Z"
   },
   {
    "duration": 528,
    "start_time": "2022-10-25T05:20:23.037Z"
   },
   {
    "duration": 198,
    "start_time": "2022-10-25T05:20:23.568Z"
   },
   {
    "duration": 2970,
    "start_time": "2022-10-25T05:20:23.767Z"
   },
   {
    "duration": 35,
    "start_time": "2022-10-25T05:20:26.740Z"
   },
   {
    "duration": 19,
    "start_time": "2022-10-25T05:20:26.777Z"
   },
   {
    "duration": 42,
    "start_time": "2022-10-25T05:20:26.799Z"
   },
   {
    "duration": 29,
    "start_time": "2022-10-25T05:20:26.843Z"
   },
   {
    "duration": 94,
    "start_time": "2022-10-25T05:20:26.874Z"
   },
   {
    "duration": 43,
    "start_time": "2022-10-25T05:20:26.970Z"
   },
   {
    "duration": 233,
    "start_time": "2022-10-25T05:20:27.016Z"
   },
   {
    "duration": 207986,
    "start_time": "2022-10-25T05:20:27.253Z"
   },
   {
    "duration": 69,
    "start_time": "2022-10-25T05:23:55.242Z"
   },
   {
    "duration": 310,
    "start_time": "2022-10-25T05:23:55.322Z"
   },
   {
    "duration": 9,
    "start_time": "2022-10-25T05:23:55.636Z"
   },
   {
    "duration": 246,
    "start_time": "2022-10-25T05:23:55.648Z"
   },
   {
    "duration": 5803,
    "start_time": "2022-10-25T05:23:55.896Z"
   },
   {
    "duration": 381,
    "start_time": "2022-10-25T05:24:01.701Z"
   },
   {
    "duration": 364,
    "start_time": "2022-10-25T05:24:02.088Z"
   },
   {
    "duration": 370,
    "start_time": "2022-10-25T05:24:02.455Z"
   },
   {
    "duration": 350,
    "start_time": "2022-10-25T05:24:02.831Z"
   },
   {
    "duration": 332,
    "start_time": "2022-10-25T05:24:03.184Z"
   },
   {
    "duration": 279,
    "start_time": "2022-10-25T05:24:03.521Z"
   },
   {
    "duration": 314,
    "start_time": "2022-10-25T05:24:03.806Z"
   },
   {
    "duration": 198,
    "start_time": "2022-10-25T05:24:04.123Z"
   },
   {
    "duration": 249,
    "start_time": "2022-10-25T05:24:04.323Z"
   },
   {
    "duration": 265,
    "start_time": "2022-10-25T05:24:04.577Z"
   },
   {
    "duration": 245,
    "start_time": "2022-10-25T05:24:04.844Z"
   },
   {
    "duration": 268,
    "start_time": "2022-10-25T05:24:05.095Z"
   },
   {
    "duration": 354,
    "start_time": "2022-10-25T05:24:05.370Z"
   },
   {
    "duration": 336,
    "start_time": "2022-10-25T05:24:05.726Z"
   },
   {
    "duration": 306,
    "start_time": "2022-10-25T05:24:06.070Z"
   },
   {
    "duration": 236,
    "start_time": "2022-10-25T05:24:06.379Z"
   },
   {
    "duration": 235,
    "start_time": "2022-10-25T05:24:06.617Z"
   },
   {
    "duration": 248,
    "start_time": "2022-10-25T05:24:06.856Z"
   },
   {
    "duration": 203,
    "start_time": "2022-10-25T05:24:07.108Z"
   },
   {
    "duration": 266,
    "start_time": "2022-10-25T05:24:07.314Z"
   },
   {
    "duration": 235,
    "start_time": "2022-10-25T05:24:07.586Z"
   },
   {
    "duration": 346,
    "start_time": "2022-10-25T05:24:07.824Z"
   },
   {
    "duration": 44,
    "start_time": "2022-10-25T05:24:08.173Z"
   },
   {
    "duration": 359,
    "start_time": "2022-10-25T05:24:08.223Z"
   },
   {
    "duration": 535,
    "start_time": "2022-10-25T05:26:40.600Z"
   },
   {
    "duration": 191,
    "start_time": "2022-10-25T05:26:41.137Z"
   },
   {
    "duration": 3361,
    "start_time": "2022-10-25T05:26:41.332Z"
   },
   {
    "duration": 67,
    "start_time": "2022-10-25T05:26:44.695Z"
   },
   {
    "duration": 53,
    "start_time": "2022-10-25T05:26:44.766Z"
   },
   {
    "duration": 68,
    "start_time": "2022-10-25T05:26:44.823Z"
   },
   {
    "duration": 34,
    "start_time": "2022-10-25T05:26:44.893Z"
   },
   {
    "duration": 79,
    "start_time": "2022-10-25T05:26:44.929Z"
   },
   {
    "duration": 64,
    "start_time": "2022-10-25T05:26:45.010Z"
   },
   {
    "duration": 256,
    "start_time": "2022-10-25T05:26:45.076Z"
   },
   {
    "duration": 524,
    "start_time": "2022-10-25T05:31:51.301Z"
   },
   {
    "duration": 563,
    "start_time": "2022-10-25T05:31:51.827Z"
   },
   {
    "duration": 2908,
    "start_time": "2022-10-25T05:31:52.394Z"
   },
   {
    "duration": 20,
    "start_time": "2022-10-25T05:31:55.305Z"
   },
   {
    "duration": 10,
    "start_time": "2022-10-25T05:31:55.328Z"
   },
   {
    "duration": 56,
    "start_time": "2022-10-25T05:31:55.340Z"
   },
   {
    "duration": 39,
    "start_time": "2022-10-25T05:31:55.399Z"
   },
   {
    "duration": 80,
    "start_time": "2022-10-25T05:31:55.440Z"
   },
   {
    "duration": 67,
    "start_time": "2022-10-25T05:31:55.522Z"
   },
   {
    "duration": 249,
    "start_time": "2022-10-25T05:31:55.596Z"
   },
   {
    "duration": 514,
    "start_time": "2022-10-25T05:40:11.925Z"
   },
   {
    "duration": 653,
    "start_time": "2022-10-25T05:40:12.442Z"
   },
   {
    "duration": 2981,
    "start_time": "2022-10-25T05:40:13.103Z"
   },
   {
    "duration": 32,
    "start_time": "2022-10-25T05:40:16.088Z"
   },
   {
    "duration": 10,
    "start_time": "2022-10-25T05:40:16.126Z"
   },
   {
    "duration": 100,
    "start_time": "2022-10-25T05:40:16.139Z"
   },
   {
    "duration": 30,
    "start_time": "2022-10-25T05:40:16.242Z"
   },
   {
    "duration": 132,
    "start_time": "2022-10-25T05:40:16.274Z"
   },
   {
    "duration": 48,
    "start_time": "2022-10-25T05:40:16.408Z"
   },
   {
    "duration": 235,
    "start_time": "2022-10-25T05:40:16.458Z"
   },
   {
    "duration": 111,
    "start_time": "2022-10-25T06:17:18.721Z"
   },
   {
    "duration": 493,
    "start_time": "2022-10-25T06:17:22.489Z"
   },
   {
    "duration": 447,
    "start_time": "2022-10-25T06:17:22.985Z"
   },
   {
    "duration": 2818,
    "start_time": "2022-10-25T06:17:23.434Z"
   },
   {
    "duration": 28,
    "start_time": "2022-10-25T06:17:26.257Z"
   },
   {
    "duration": 46,
    "start_time": "2022-10-25T06:17:26.287Z"
   },
   {
    "duration": 47,
    "start_time": "2022-10-25T06:17:26.336Z"
   },
   {
    "duration": 64,
    "start_time": "2022-10-25T06:17:26.387Z"
   },
   {
    "duration": 123,
    "start_time": "2022-10-25T06:17:26.453Z"
   },
   {
    "duration": 64,
    "start_time": "2022-10-25T06:17:26.578Z"
   },
   {
    "duration": 241,
    "start_time": "2022-10-25T06:17:26.646Z"
   },
   {
    "duration": 447,
    "start_time": "2022-10-25T06:18:23.182Z"
   },
   {
    "duration": 180,
    "start_time": "2022-10-25T06:18:23.632Z"
   },
   {
    "duration": 3051,
    "start_time": "2022-10-25T06:18:23.816Z"
   },
   {
    "duration": 36,
    "start_time": "2022-10-25T06:18:26.869Z"
   },
   {
    "duration": 15,
    "start_time": "2022-10-25T06:18:26.908Z"
   },
   {
    "duration": 41,
    "start_time": "2022-10-25T06:18:26.925Z"
   },
   {
    "duration": 42,
    "start_time": "2022-10-25T06:18:26.975Z"
   },
   {
    "duration": 80,
    "start_time": "2022-10-25T06:18:27.019Z"
   },
   {
    "duration": 43,
    "start_time": "2022-10-25T06:18:27.103Z"
   },
   {
    "duration": 28,
    "start_time": "2022-10-25T06:18:27.156Z"
   },
   {
    "duration": 597,
    "start_time": "2022-10-25T06:25:17.216Z"
   },
   {
    "duration": 759,
    "start_time": "2022-10-25T06:25:17.819Z"
   },
   {
    "duration": 3696,
    "start_time": "2022-10-25T06:25:18.586Z"
   },
   {
    "duration": 46,
    "start_time": "2022-10-25T06:25:22.289Z"
   },
   {
    "duration": 50,
    "start_time": "2022-10-25T06:25:22.344Z"
   },
   {
    "duration": 114,
    "start_time": "2022-10-25T06:25:22.400Z"
   },
   {
    "duration": 96,
    "start_time": "2022-10-25T06:25:22.521Z"
   },
   {
    "duration": 166,
    "start_time": "2022-10-25T06:25:22.626Z"
   },
   {
    "duration": 75,
    "start_time": "2022-10-25T06:25:22.799Z"
   },
   {
    "duration": 316,
    "start_time": "2022-10-25T06:25:22.882Z"
   },
   {
    "duration": 722,
    "start_time": "2022-10-25T06:26:59.738Z"
   },
   {
    "duration": 310,
    "start_time": "2022-10-25T06:27:00.468Z"
   },
   {
    "duration": 5071,
    "start_time": "2022-10-25T06:27:00.780Z"
   },
   {
    "duration": 41,
    "start_time": "2022-10-25T06:27:05.854Z"
   },
   {
    "duration": 194,
    "start_time": "2022-10-25T06:27:05.899Z"
   },
   {
    "duration": 201,
    "start_time": "2022-10-25T06:27:06.099Z"
   },
   {
    "duration": 232,
    "start_time": "2022-10-25T06:27:06.308Z"
   },
   {
    "duration": 375,
    "start_time": "2022-10-25T06:27:06.547Z"
   },
   {
    "duration": 151,
    "start_time": "2022-10-25T06:27:06.924Z"
   },
   {
    "duration": 413,
    "start_time": "2022-10-25T06:27:07.093Z"
   },
   {
    "duration": 676,
    "start_time": "2022-10-25T06:35:05.122Z"
   },
   {
    "duration": 589,
    "start_time": "2022-10-25T06:35:05.808Z"
   },
   {
    "duration": 3350,
    "start_time": "2022-10-25T06:35:06.399Z"
   },
   {
    "duration": 29,
    "start_time": "2022-10-25T06:35:09.751Z"
   },
   {
    "duration": 45,
    "start_time": "2022-10-25T06:35:09.788Z"
   },
   {
    "duration": 45,
    "start_time": "2022-10-25T06:35:09.835Z"
   },
   {
    "duration": 76,
    "start_time": "2022-10-25T06:35:09.882Z"
   },
   {
    "duration": 82,
    "start_time": "2022-10-25T06:35:09.960Z"
   },
   {
    "duration": 58,
    "start_time": "2022-10-25T06:35:10.044Z"
   },
   {
    "duration": 290,
    "start_time": "2022-10-25T06:35:10.104Z"
   },
   {
    "duration": 501,
    "start_time": "2022-10-25T06:44:51.188Z"
   },
   {
    "duration": 566,
    "start_time": "2022-10-25T06:44:51.699Z"
   },
   {
    "duration": 2879,
    "start_time": "2022-10-25T06:44:52.269Z"
   },
   {
    "duration": 40,
    "start_time": "2022-10-25T06:44:55.151Z"
   },
   {
    "duration": 34,
    "start_time": "2022-10-25T06:44:55.193Z"
   },
   {
    "duration": 67,
    "start_time": "2022-10-25T06:44:55.229Z"
   },
   {
    "duration": 33,
    "start_time": "2022-10-25T06:44:55.298Z"
   },
   {
    "duration": 82,
    "start_time": "2022-10-25T06:44:55.333Z"
   },
   {
    "duration": 50,
    "start_time": "2022-10-25T06:44:55.417Z"
   },
   {
    "duration": 233,
    "start_time": "2022-10-25T06:44:55.470Z"
   },
   {
    "duration": 739,
    "start_time": "2022-10-25T06:48:41.728Z"
   },
   {
    "duration": 768,
    "start_time": "2022-10-25T06:48:42.476Z"
   },
   {
    "duration": 3548,
    "start_time": "2022-10-25T06:48:43.250Z"
   },
   {
    "duration": 23,
    "start_time": "2022-10-25T06:48:46.803Z"
   },
   {
    "duration": 13,
    "start_time": "2022-10-25T06:48:46.829Z"
   },
   {
    "duration": 65,
    "start_time": "2022-10-25T06:48:46.844Z"
   },
   {
    "duration": 46,
    "start_time": "2022-10-25T06:48:46.915Z"
   },
   {
    "duration": 76,
    "start_time": "2022-10-25T06:48:46.966Z"
   },
   {
    "duration": 59,
    "start_time": "2022-10-25T06:48:47.059Z"
   },
   {
    "duration": 264,
    "start_time": "2022-10-25T06:48:47.121Z"
   },
   {
    "duration": 87,
    "start_time": "2022-10-25T06:56:20.929Z"
   },
   {
    "duration": 471,
    "start_time": "2022-10-25T06:56:30.314Z"
   },
   {
    "duration": 514,
    "start_time": "2022-10-25T06:56:30.788Z"
   },
   {
    "duration": 3101,
    "start_time": "2022-10-25T06:56:31.307Z"
   },
   {
    "duration": 25,
    "start_time": "2022-10-25T06:56:34.413Z"
   },
   {
    "duration": 14,
    "start_time": "2022-10-25T06:56:34.441Z"
   },
   {
    "duration": 46,
    "start_time": "2022-10-25T06:56:34.457Z"
   },
   {
    "duration": 53,
    "start_time": "2022-10-25T06:56:34.506Z"
   },
   {
    "duration": 65,
    "start_time": "2022-10-25T06:56:34.564Z"
   },
   {
    "duration": 59,
    "start_time": "2022-10-25T06:56:34.632Z"
   },
   {
    "duration": 209,
    "start_time": "2022-10-25T06:56:34.694Z"
   },
   {
    "duration": 473,
    "start_time": "2022-10-25T06:57:58.534Z"
   },
   {
    "duration": 170,
    "start_time": "2022-10-25T06:57:59.010Z"
   },
   {
    "duration": 3059,
    "start_time": "2022-10-25T06:57:59.186Z"
   },
   {
    "duration": 44,
    "start_time": "2022-10-25T06:58:02.248Z"
   },
   {
    "duration": 55,
    "start_time": "2022-10-25T06:58:02.294Z"
   },
   {
    "duration": 144,
    "start_time": "2022-10-25T06:58:02.351Z"
   },
   {
    "duration": 63,
    "start_time": "2022-10-25T06:58:02.502Z"
   },
   {
    "duration": 113,
    "start_time": "2022-10-25T06:58:02.568Z"
   },
   {
    "duration": 102,
    "start_time": "2022-10-25T06:58:02.684Z"
   },
   {
    "duration": 228,
    "start_time": "2022-10-25T06:58:02.792Z"
   },
   {
    "duration": 435,
    "start_time": "2022-10-25T07:13:38.214Z"
   },
   {
    "duration": 527,
    "start_time": "2022-10-25T07:13:38.652Z"
   },
   {
    "duration": 2938,
    "start_time": "2022-10-25T07:13:39.186Z"
   },
   {
    "duration": 32,
    "start_time": "2022-10-25T07:13:42.127Z"
   },
   {
    "duration": 48,
    "start_time": "2022-10-25T07:13:42.161Z"
   },
   {
    "duration": 59,
    "start_time": "2022-10-25T07:13:42.211Z"
   },
   {
    "duration": 53,
    "start_time": "2022-10-25T07:13:42.279Z"
   },
   {
    "duration": 84,
    "start_time": "2022-10-25T07:13:42.334Z"
   },
   {
    "duration": 101,
    "start_time": "2022-10-25T07:13:42.420Z"
   },
   {
    "duration": 251,
    "start_time": "2022-10-25T07:13:42.525Z"
   },
   {
    "duration": 590,
    "start_time": "2022-10-25T07:15:52.971Z"
   },
   {
    "duration": 244,
    "start_time": "2022-10-25T07:15:53.570Z"
   },
   {
    "duration": 4192,
    "start_time": "2022-10-25T07:15:53.819Z"
   },
   {
    "duration": 102,
    "start_time": "2022-10-25T07:15:58.029Z"
   },
   {
    "duration": 81,
    "start_time": "2022-10-25T07:15:58.138Z"
   },
   {
    "duration": 303,
    "start_time": "2022-10-25T07:15:58.232Z"
   },
   {
    "duration": 115,
    "start_time": "2022-10-25T07:15:58.552Z"
   },
   {
    "duration": 253,
    "start_time": "2022-10-25T07:15:58.680Z"
   },
   {
    "duration": 125,
    "start_time": "2022-10-25T07:15:58.950Z"
   },
   {
    "duration": 558,
    "start_time": "2022-10-25T07:15:59.086Z"
   },
   {
    "duration": 513,
    "start_time": "2022-10-25T07:21:59.096Z"
   },
   {
    "duration": 434,
    "start_time": "2022-10-25T07:21:59.612Z"
   },
   {
    "duration": 2896,
    "start_time": "2022-10-25T07:22:00.048Z"
   },
   {
    "duration": 33,
    "start_time": "2022-10-25T07:22:02.947Z"
   },
   {
    "duration": 39,
    "start_time": "2022-10-25T07:22:02.987Z"
   },
   {
    "duration": 76,
    "start_time": "2022-10-25T07:22:03.028Z"
   },
   {
    "duration": 33,
    "start_time": "2022-10-25T07:22:03.115Z"
   },
   {
    "duration": 152,
    "start_time": "2022-10-25T07:22:03.151Z"
   },
   {
    "duration": 60,
    "start_time": "2022-10-25T07:22:03.306Z"
   },
   {
    "duration": 241,
    "start_time": "2022-10-25T07:22:03.372Z"
   },
   {
    "duration": 821,
    "start_time": "2022-10-25T07:26:55.643Z"
   },
   {
    "duration": 740,
    "start_time": "2022-10-25T07:26:56.472Z"
   },
   {
    "duration": 3545,
    "start_time": "2022-10-25T07:26:57.214Z"
   },
   {
    "duration": 43,
    "start_time": "2022-10-25T07:27:00.761Z"
   },
   {
    "duration": 136,
    "start_time": "2022-10-25T07:27:00.812Z"
   },
   {
    "duration": 107,
    "start_time": "2022-10-25T07:27:00.950Z"
   },
   {
    "duration": 39,
    "start_time": "2022-10-25T07:27:01.061Z"
   },
   {
    "duration": 135,
    "start_time": "2022-10-25T07:27:01.102Z"
   },
   {
    "duration": 67,
    "start_time": "2022-10-25T07:27:01.240Z"
   },
   {
    "duration": 311,
    "start_time": "2022-10-25T07:27:01.314Z"
   },
   {
    "duration": 496,
    "start_time": "2022-10-25T07:43:10.516Z"
   },
   {
    "duration": 591,
    "start_time": "2022-10-25T07:43:11.014Z"
   },
   {
    "duration": 3148,
    "start_time": "2022-10-25T07:43:11.617Z"
   },
   {
    "duration": 43,
    "start_time": "2022-10-25T07:43:14.769Z"
   },
   {
    "duration": 11,
    "start_time": "2022-10-25T07:43:14.814Z"
   },
   {
    "duration": 43,
    "start_time": "2022-10-25T07:43:14.827Z"
   },
   {
    "duration": 31,
    "start_time": "2022-10-25T07:43:14.872Z"
   },
   {
    "duration": 125,
    "start_time": "2022-10-25T07:43:14.905Z"
   },
   {
    "duration": 67,
    "start_time": "2022-10-25T07:43:15.032Z"
   },
   {
    "duration": 238,
    "start_time": "2022-10-25T07:43:15.103Z"
   },
   {
    "duration": 735,
    "start_time": "2022-10-25T07:55:46.638Z"
   },
   {
    "duration": 551,
    "start_time": "2022-10-25T07:55:47.385Z"
   },
   {
    "duration": 3151,
    "start_time": "2022-10-25T07:55:47.939Z"
   },
   {
    "duration": 20,
    "start_time": "2022-10-25T07:55:51.104Z"
   },
   {
    "duration": 17,
    "start_time": "2022-10-25T07:55:51.127Z"
   },
   {
    "duration": 44,
    "start_time": "2022-10-25T07:55:51.146Z"
   },
   {
    "duration": 59,
    "start_time": "2022-10-25T07:55:51.192Z"
   },
   {
    "duration": 65,
    "start_time": "2022-10-25T07:55:51.254Z"
   },
   {
    "duration": 72,
    "start_time": "2022-10-25T07:55:51.322Z"
   },
   {
    "duration": 291,
    "start_time": "2022-10-25T07:55:51.403Z"
   },
   {
    "duration": 477,
    "start_time": "2022-10-25T07:57:38.124Z"
   },
   {
    "duration": 182,
    "start_time": "2022-10-25T07:57:38.610Z"
   },
   {
    "duration": 2862,
    "start_time": "2022-10-25T07:57:38.796Z"
   },
   {
    "duration": 21,
    "start_time": "2022-10-25T07:57:41.661Z"
   },
   {
    "duration": 50,
    "start_time": "2022-10-25T07:57:41.685Z"
   },
   {
    "duration": 62,
    "start_time": "2022-10-25T07:57:41.738Z"
   },
   {
    "duration": 35,
    "start_time": "2022-10-25T07:57:41.803Z"
   },
   {
    "duration": 119,
    "start_time": "2022-10-25T07:57:41.841Z"
   },
   {
    "duration": 53,
    "start_time": "2022-10-25T07:57:41.962Z"
   },
   {
    "duration": 254,
    "start_time": "2022-10-25T07:57:42.017Z"
   },
   {
    "duration": 438,
    "start_time": "2022-10-25T08:10:31.113Z"
   },
   {
    "duration": 497,
    "start_time": "2022-10-25T08:10:31.554Z"
   },
   {
    "duration": 2713,
    "start_time": "2022-10-25T08:10:32.053Z"
   },
   {
    "duration": 26,
    "start_time": "2022-10-25T08:10:34.768Z"
   },
   {
    "duration": 15,
    "start_time": "2022-10-25T08:10:34.796Z"
   },
   {
    "duration": 33,
    "start_time": "2022-10-25T08:10:34.813Z"
   },
   {
    "duration": 30,
    "start_time": "2022-10-25T08:10:34.854Z"
   },
   {
    "duration": 88,
    "start_time": "2022-10-25T08:10:34.886Z"
   },
   {
    "duration": 44,
    "start_time": "2022-10-25T08:10:34.976Z"
   },
   {
    "duration": 254,
    "start_time": "2022-10-25T08:10:35.024Z"
   },
   {
    "duration": 490,
    "start_time": "2022-10-25T08:17:20.760Z"
   },
   {
    "duration": 480,
    "start_time": "2022-10-25T08:17:21.252Z"
   },
   {
    "duration": 2641,
    "start_time": "2022-10-25T08:17:21.734Z"
   },
   {
    "duration": 16,
    "start_time": "2022-10-25T08:17:24.378Z"
   },
   {
    "duration": 10,
    "start_time": "2022-10-25T08:17:24.396Z"
   },
   {
    "duration": 37,
    "start_time": "2022-10-25T08:17:24.408Z"
   },
   {
    "duration": 35,
    "start_time": "2022-10-25T08:17:24.448Z"
   },
   {
    "duration": 88,
    "start_time": "2022-10-25T08:17:24.485Z"
   },
   {
    "duration": 41,
    "start_time": "2022-10-25T08:17:24.574Z"
   },
   {
    "duration": 212,
    "start_time": "2022-10-25T08:17:24.619Z"
   },
   {
    "duration": 501,
    "start_time": "2022-10-25T08:32:33.830Z"
   },
   {
    "duration": 468,
    "start_time": "2022-10-25T08:32:34.333Z"
   },
   {
    "duration": 2589,
    "start_time": "2022-10-25T08:32:34.803Z"
   },
   {
    "duration": 19,
    "start_time": "2022-10-25T08:32:37.395Z"
   },
   {
    "duration": 11,
    "start_time": "2022-10-25T08:32:37.416Z"
   },
   {
    "duration": 61,
    "start_time": "2022-10-25T08:32:37.428Z"
   },
   {
    "duration": 29,
    "start_time": "2022-10-25T08:32:37.491Z"
   },
   {
    "duration": 85,
    "start_time": "2022-10-25T08:32:37.523Z"
   },
   {
    "duration": 58,
    "start_time": "2022-10-25T08:32:37.610Z"
   },
   {
    "duration": 219,
    "start_time": "2022-10-25T08:32:37.671Z"
   },
   {
    "duration": 497,
    "start_time": "2022-10-25T08:42:21.366Z"
   },
   {
    "duration": 452,
    "start_time": "2022-10-25T08:42:21.867Z"
   },
   {
    "duration": 2516,
    "start_time": "2022-10-25T08:42:22.320Z"
   },
   {
    "duration": 24,
    "start_time": "2022-10-25T08:42:24.839Z"
   },
   {
    "duration": 46,
    "start_time": "2022-10-25T08:42:24.867Z"
   },
   {
    "duration": 44,
    "start_time": "2022-10-25T08:42:24.915Z"
   },
   {
    "duration": 28,
    "start_time": "2022-10-25T08:42:24.963Z"
   },
   {
    "duration": 75,
    "start_time": "2022-10-25T08:42:24.993Z"
   },
   {
    "duration": 38,
    "start_time": "2022-10-25T08:42:25.070Z"
   },
   {
    "duration": 189,
    "start_time": "2022-10-25T08:42:25.112Z"
   },
   {
    "duration": 436,
    "start_time": "2022-10-25T09:45:52.592Z"
   },
   {
    "duration": 601,
    "start_time": "2022-10-25T09:45:53.030Z"
   },
   {
    "duration": 2948,
    "start_time": "2022-10-25T09:45:53.633Z"
   },
   {
    "duration": 26,
    "start_time": "2022-10-25T09:45:56.587Z"
   },
   {
    "duration": 20,
    "start_time": "2022-10-25T09:45:56.615Z"
   },
   {
    "duration": 66,
    "start_time": "2022-10-25T09:45:56.637Z"
   },
   {
    "duration": 35,
    "start_time": "2022-10-25T09:45:56.707Z"
   },
   {
    "duration": 119,
    "start_time": "2022-10-25T09:45:56.744Z"
   },
   {
    "duration": 58,
    "start_time": "2022-10-25T09:45:56.865Z"
   },
   {
    "duration": 212,
    "start_time": "2022-10-25T09:45:56.928Z"
   },
   {
    "duration": 460,
    "start_time": "2022-10-25T09:47:45.135Z"
   },
   {
    "duration": 183,
    "start_time": "2022-10-25T09:47:45.599Z"
   },
   {
    "duration": 2972,
    "start_time": "2022-10-25T09:47:45.790Z"
   },
   {
    "duration": 42,
    "start_time": "2022-10-25T09:47:48.765Z"
   },
   {
    "duration": 37,
    "start_time": "2022-10-25T09:47:48.811Z"
   },
   {
    "duration": 88,
    "start_time": "2022-10-25T09:47:48.849Z"
   },
   {
    "duration": 31,
    "start_time": "2022-10-25T09:47:48.939Z"
   },
   {
    "duration": 137,
    "start_time": "2022-10-25T09:47:48.972Z"
   },
   {
    "duration": 70,
    "start_time": "2022-10-25T09:47:49.112Z"
   },
   {
    "duration": 214,
    "start_time": "2022-10-25T09:47:49.184Z"
   },
   {
    "duration": 513,
    "start_time": "2022-10-25T09:59:43.490Z"
   },
   {
    "duration": 558,
    "start_time": "2022-10-25T09:59:44.005Z"
   },
   {
    "duration": 2906,
    "start_time": "2022-10-25T09:59:44.567Z"
   },
   {
    "duration": 32,
    "start_time": "2022-10-25T09:59:47.475Z"
   },
   {
    "duration": 25,
    "start_time": "2022-10-25T09:59:47.510Z"
   },
   {
    "duration": 55,
    "start_time": "2022-10-25T09:59:47.537Z"
   },
   {
    "duration": 39,
    "start_time": "2022-10-25T09:59:47.594Z"
   },
   {
    "duration": 88,
    "start_time": "2022-10-25T09:59:47.635Z"
   },
   {
    "duration": 46,
    "start_time": "2022-10-25T09:59:47.724Z"
   },
   {
    "duration": 207,
    "start_time": "2022-10-25T09:59:47.779Z"
   },
   {
    "duration": 449,
    "start_time": "2022-10-25T10:15:16.791Z"
   },
   {
    "duration": 205,
    "start_time": "2022-10-25T10:15:17.242Z"
   },
   {
    "duration": 2869,
    "start_time": "2022-10-25T10:15:17.449Z"
   },
   {
    "duration": 16,
    "start_time": "2022-10-25T10:15:20.320Z"
   },
   {
    "duration": 9,
    "start_time": "2022-10-25T10:15:20.338Z"
   },
   {
    "duration": 93,
    "start_time": "2022-10-25T10:15:20.348Z"
   },
   {
    "duration": 30,
    "start_time": "2022-10-25T10:15:20.443Z"
   },
   {
    "duration": 77,
    "start_time": "2022-10-25T10:15:20.476Z"
   },
   {
    "duration": 52,
    "start_time": "2022-10-25T10:15:20.561Z"
   },
   {
    "duration": 268,
    "start_time": "2022-10-25T10:15:20.615Z"
   },
   {
    "duration": 498,
    "start_time": "2022-10-25T10:22:48.246Z"
   },
   {
    "duration": 542,
    "start_time": "2022-10-25T10:22:48.748Z"
   },
   {
    "duration": 3082,
    "start_time": "2022-10-25T10:22:49.298Z"
   },
   {
    "duration": 31,
    "start_time": "2022-10-25T10:22:52.382Z"
   },
   {
    "duration": 23,
    "start_time": "2022-10-25T10:22:52.420Z"
   },
   {
    "duration": 69,
    "start_time": "2022-10-25T10:22:52.445Z"
   },
   {
    "duration": 26,
    "start_time": "2022-10-25T10:22:52.516Z"
   },
   {
    "duration": 82,
    "start_time": "2022-10-25T10:22:52.544Z"
   },
   {
    "duration": 58,
    "start_time": "2022-10-25T10:22:52.628Z"
   },
   {
    "duration": 220,
    "start_time": "2022-10-25T10:22:52.688Z"
   },
   {
    "duration": 457,
    "start_time": "2022-10-25T10:39:46.876Z"
   },
   {
    "duration": 493,
    "start_time": "2022-10-25T10:39:47.335Z"
   },
   {
    "duration": 2634,
    "start_time": "2022-10-25T10:39:47.830Z"
   },
   {
    "duration": 23,
    "start_time": "2022-10-25T10:39:50.473Z"
   },
   {
    "duration": 40,
    "start_time": "2022-10-25T10:39:50.499Z"
   },
   {
    "duration": 95,
    "start_time": "2022-10-25T10:39:50.540Z"
   },
   {
    "duration": 25,
    "start_time": "2022-10-25T10:39:50.637Z"
   },
   {
    "duration": 113,
    "start_time": "2022-10-25T10:39:50.665Z"
   },
   {
    "duration": 64,
    "start_time": "2022-10-25T10:39:50.781Z"
   },
   {
    "duration": 261,
    "start_time": "2022-10-25T10:39:50.847Z"
   },
   {
    "duration": 429,
    "start_time": "2022-10-25T10:47:53.810Z"
   },
   {
    "duration": 532,
    "start_time": "2022-10-25T10:47:54.241Z"
   },
   {
    "duration": 2857,
    "start_time": "2022-10-25T10:47:54.780Z"
   },
   {
    "duration": 28,
    "start_time": "2022-10-25T10:47:57.640Z"
   },
   {
    "duration": 35,
    "start_time": "2022-10-25T10:47:57.670Z"
   },
   {
    "duration": 73,
    "start_time": "2022-10-25T10:47:57.718Z"
   },
   {
    "duration": 69,
    "start_time": "2022-10-25T10:47:57.798Z"
   },
   {
    "duration": 87,
    "start_time": "2022-10-25T10:47:57.874Z"
   },
   {
    "duration": 75,
    "start_time": "2022-10-25T10:47:57.966Z"
   },
   {
    "duration": 237,
    "start_time": "2022-10-25T10:47:58.045Z"
   },
   {
    "duration": 455,
    "start_time": "2022-10-25T10:58:10.929Z"
   },
   {
    "duration": 586,
    "start_time": "2022-10-25T10:58:11.393Z"
   },
   {
    "duration": 2768,
    "start_time": "2022-10-25T10:58:11.985Z"
   },
   {
    "duration": 27,
    "start_time": "2022-10-25T10:58:14.764Z"
   },
   {
    "duration": 21,
    "start_time": "2022-10-25T10:58:14.793Z"
   },
   {
    "duration": 31,
    "start_time": "2022-10-25T10:58:14.816Z"
   },
   {
    "duration": 49,
    "start_time": "2022-10-25T10:58:14.849Z"
   },
   {
    "duration": 59,
    "start_time": "2022-10-25T10:58:14.900Z"
   },
   {
    "duration": 42,
    "start_time": "2022-10-25T10:58:14.965Z"
   },
   {
    "duration": 196,
    "start_time": "2022-10-25T10:58:15.009Z"
   },
   {
    "duration": 451,
    "start_time": "2022-10-25T10:59:23.000Z"
   },
   {
    "duration": 182,
    "start_time": "2022-10-25T10:59:23.453Z"
   },
   {
    "duration": 2671,
    "start_time": "2022-10-25T10:59:23.637Z"
   },
   {
    "duration": 18,
    "start_time": "2022-10-25T10:59:26.313Z"
   },
   {
    "duration": 9,
    "start_time": "2022-10-25T10:59:26.334Z"
   },
   {
    "duration": 73,
    "start_time": "2022-10-25T10:59:26.344Z"
   },
   {
    "duration": 21,
    "start_time": "2022-10-25T10:59:26.419Z"
   },
   {
    "duration": 69,
    "start_time": "2022-10-25T10:59:26.442Z"
   },
   {
    "duration": 47,
    "start_time": "2022-10-25T10:59:26.514Z"
   },
   {
    "duration": 241,
    "start_time": "2022-10-25T10:59:26.565Z"
   },
   {
    "duration": 442,
    "start_time": "2022-10-25T11:23:32.390Z"
   },
   {
    "duration": 503,
    "start_time": "2022-10-25T11:23:32.835Z"
   },
   {
    "duration": 2744,
    "start_time": "2022-10-25T11:23:33.340Z"
   },
   {
    "duration": 25,
    "start_time": "2022-10-25T11:23:36.091Z"
   },
   {
    "duration": 14,
    "start_time": "2022-10-25T11:23:36.118Z"
   },
   {
    "duration": 49,
    "start_time": "2022-10-25T11:23:36.134Z"
   },
   {
    "duration": 34,
    "start_time": "2022-10-25T11:23:36.187Z"
   },
   {
    "duration": 83,
    "start_time": "2022-10-25T11:23:36.223Z"
   },
   {
    "duration": 54,
    "start_time": "2022-10-25T11:23:36.308Z"
   },
   {
    "duration": 205,
    "start_time": "2022-10-25T11:23:36.365Z"
   },
   {
    "duration": 431,
    "start_time": "2022-10-25T11:24:37.510Z"
   },
   {
    "duration": 172,
    "start_time": "2022-10-25T11:24:37.944Z"
   },
   {
    "duration": 2690,
    "start_time": "2022-10-25T11:24:38.119Z"
   },
   {
    "duration": 17,
    "start_time": "2022-10-25T11:24:40.811Z"
   },
   {
    "duration": 26,
    "start_time": "2022-10-25T11:24:40.831Z"
   },
   {
    "duration": 74,
    "start_time": "2022-10-25T11:24:40.860Z"
   },
   {
    "duration": 37,
    "start_time": "2022-10-25T11:24:40.936Z"
   },
   {
    "duration": 65,
    "start_time": "2022-10-25T11:24:40.975Z"
   },
   {
    "duration": 51,
    "start_time": "2022-10-25T11:24:41.042Z"
   },
   {
    "duration": 214,
    "start_time": "2022-10-25T11:24:41.095Z"
   },
   {
    "duration": 546,
    "start_time": "2022-10-25T11:37:10.430Z"
   },
   {
    "duration": 708,
    "start_time": "2022-10-25T11:37:10.983Z"
   },
   {
    "duration": 3290,
    "start_time": "2022-10-25T11:37:11.704Z"
   },
   {
    "duration": 28,
    "start_time": "2022-10-25T11:37:15.006Z"
   },
   {
    "duration": 26,
    "start_time": "2022-10-25T11:37:15.037Z"
   },
   {
    "duration": 105,
    "start_time": "2022-10-25T11:37:15.069Z"
   },
   {
    "duration": 56,
    "start_time": "2022-10-25T11:37:15.176Z"
   },
   {
    "duration": 101,
    "start_time": "2022-10-25T11:37:15.235Z"
   },
   {
    "duration": 50,
    "start_time": "2022-10-25T11:37:15.338Z"
   },
   {
    "duration": 280,
    "start_time": "2022-10-25T11:37:15.390Z"
   },
   {
    "duration": 536,
    "start_time": "2022-10-25T11:54:53.083Z"
   },
   {
    "duration": 724,
    "start_time": "2022-10-25T11:54:53.621Z"
   },
   {
    "duration": 3221,
    "start_time": "2022-10-25T11:54:54.347Z"
   },
   {
    "duration": 49,
    "start_time": "2022-10-25T11:54:57.578Z"
   },
   {
    "duration": 31,
    "start_time": "2022-10-25T11:54:57.628Z"
   },
   {
    "duration": 121,
    "start_time": "2022-10-25T11:54:57.661Z"
   },
   {
    "duration": 39,
    "start_time": "2022-10-25T11:54:57.790Z"
   },
   {
    "duration": 99,
    "start_time": "2022-10-25T11:54:57.833Z"
   },
   {
    "duration": 47,
    "start_time": "2022-10-25T11:54:57.934Z"
   },
   {
    "duration": 213,
    "start_time": "2022-10-25T11:54:57.987Z"
   },
   {
    "duration": 524,
    "start_time": "2022-10-25T11:55:50.907Z"
   },
   {
    "duration": 271,
    "start_time": "2022-10-25T11:55:51.445Z"
   },
   {
    "duration": 3562,
    "start_time": "2022-10-25T11:55:51.725Z"
   },
   {
    "duration": 37,
    "start_time": "2022-10-25T11:55:55.300Z"
   },
   {
    "duration": 26,
    "start_time": "2022-10-25T11:55:55.340Z"
   },
   {
    "duration": 126,
    "start_time": "2022-10-25T11:55:55.379Z"
   },
   {
    "duration": 89,
    "start_time": "2022-10-25T11:55:55.511Z"
   },
   {
    "duration": 104,
    "start_time": "2022-10-25T11:55:55.606Z"
   },
   {
    "duration": 86,
    "start_time": "2022-10-25T11:55:55.721Z"
   },
   {
    "duration": 279,
    "start_time": "2022-10-25T11:55:55.818Z"
   },
   {
    "duration": 602,
    "start_time": "2022-10-25T11:58:14.183Z"
   },
   {
    "duration": 286,
    "start_time": "2022-10-25T11:58:14.793Z"
   },
   {
    "duration": 3893,
    "start_time": "2022-10-25T11:58:15.090Z"
   },
   {
    "duration": 61,
    "start_time": "2022-10-25T11:58:18.985Z"
   },
   {
    "duration": 124,
    "start_time": "2022-10-25T11:58:19.049Z"
   },
   {
    "duration": 135,
    "start_time": "2022-10-25T11:58:19.179Z"
   },
   {
    "duration": 80,
    "start_time": "2022-10-25T11:58:19.323Z"
   },
   {
    "duration": 260,
    "start_time": "2022-10-25T11:58:19.409Z"
   },
   {
    "duration": 45,
    "start_time": "2022-10-25T11:58:19.674Z"
   },
   {
    "duration": 388,
    "start_time": "2022-10-25T11:58:19.725Z"
   },
   {
    "duration": 589,
    "start_time": "2022-10-25T12:01:37.689Z"
   },
   {
    "duration": 244,
    "start_time": "2022-10-25T12:01:38.289Z"
   },
   {
    "duration": 3195,
    "start_time": "2022-10-25T12:01:38.536Z"
   },
   {
    "duration": 39,
    "start_time": "2022-10-25T12:01:41.733Z"
   },
   {
    "duration": 69,
    "start_time": "2022-10-25T12:01:41.775Z"
   },
   {
    "duration": 114,
    "start_time": "2022-10-25T12:01:41.847Z"
   },
   {
    "duration": 204,
    "start_time": "2022-10-25T12:01:41.963Z"
   },
   {
    "duration": 153,
    "start_time": "2022-10-25T12:01:42.175Z"
   },
   {
    "duration": 51,
    "start_time": "2022-10-25T12:01:42.330Z"
   },
   {
    "duration": 301,
    "start_time": "2022-10-25T12:01:42.383Z"
   },
   {
    "duration": 482,
    "start_time": "2022-10-25T12:02:16.437Z"
   },
   {
    "duration": 207,
    "start_time": "2022-10-25T12:02:18.832Z"
   },
   {
    "duration": 38,
    "start_time": "2022-10-25T12:02:23.994Z"
   },
   {
    "duration": 34,
    "start_time": "2022-10-25T12:02:28.150Z"
   },
   {
    "duration": 90,
    "start_time": "2022-10-25T12:02:32.642Z"
   },
   {
    "duration": 53,
    "start_time": "2022-10-25T12:02:37.633Z"
   },
   {
    "duration": 100,
    "start_time": "2022-10-25T12:02:42.307Z"
   },
   {
    "duration": 67,
    "start_time": "2022-10-25T12:02:47.776Z"
   },
   {
    "duration": 701,
    "start_time": "2022-10-25T12:02:52.488Z"
   },
   {
    "duration": 112,
    "start_time": "2022-10-25T12:05:17.391Z"
   },
   {
    "duration": 486,
    "start_time": "2022-10-25T12:06:31.306Z"
   },
   {
    "duration": 195,
    "start_time": "2022-10-25T12:06:33.052Z"
   },
   {
    "duration": 3396,
    "start_time": "2022-10-25T12:06:36.183Z"
   },
   {
    "duration": 34,
    "start_time": "2022-10-25T12:06:46.393Z"
   },
   {
    "duration": 42,
    "start_time": "2022-10-25T12:06:56.546Z"
   },
   {
    "duration": 65,
    "start_time": "2022-10-25T12:07:08.978Z"
   },
   {
    "duration": 64,
    "start_time": "2022-10-25T12:07:15.952Z"
   },
   {
    "duration": 57,
    "start_time": "2022-10-25T12:07:19.814Z"
   },
   {
    "duration": 50,
    "start_time": "2022-10-25T12:07:22.629Z"
   },
   {
    "duration": 246,
    "start_time": "2022-10-25T12:07:24.684Z"
   },
   {
    "duration": 501,
    "start_time": "2022-10-25T12:08:42.345Z"
   },
   {
    "duration": 99,
    "start_time": "2022-10-25T12:08:50.844Z"
   },
   {
    "duration": 448,
    "start_time": "2022-10-25T12:09:06.396Z"
   },
   {
    "duration": 175,
    "start_time": "2022-10-25T12:09:10.375Z"
   },
   {
    "duration": 43,
    "start_time": "2022-10-25T12:09:18.628Z"
   },
   {
    "duration": 46,
    "start_time": "2022-10-25T12:09:24.254Z"
   },
   {
    "duration": 109,
    "start_time": "2022-10-25T12:09:29.740Z"
   },
   {
    "duration": 32,
    "start_time": "2022-10-25T12:09:34.819Z"
   },
   {
    "duration": 540,
    "start_time": "2022-10-25T12:09:39.903Z"
   },
   {
    "duration": 452,
    "start_time": "2022-10-25T12:10:02.823Z"
   },
   {
    "duration": 163,
    "start_time": "2022-10-25T12:10:03.278Z"
   },
   {
    "duration": 2977,
    "start_time": "2022-10-25T12:10:03.443Z"
   },
   {
    "duration": 17,
    "start_time": "2022-10-25T12:10:06.422Z"
   },
   {
    "duration": 11,
    "start_time": "2022-10-25T12:10:06.441Z"
   },
   {
    "duration": 58,
    "start_time": "2022-10-25T12:10:06.457Z"
   },
   {
    "duration": 29,
    "start_time": "2022-10-25T12:10:06.518Z"
   },
   {
    "duration": 80,
    "start_time": "2022-10-25T12:10:06.550Z"
   },
   {
    "duration": 51,
    "start_time": "2022-10-25T12:10:06.632Z"
   },
   {
    "duration": 201,
    "start_time": "2022-10-25T12:10:06.685Z"
   },
   {
    "duration": 420,
    "start_time": "2022-10-25T12:27:06.714Z"
   },
   {
    "duration": 481,
    "start_time": "2022-10-25T12:27:07.136Z"
   },
   {
    "duration": 2763,
    "start_time": "2022-10-25T12:27:07.618Z"
   },
   {
    "duration": 24,
    "start_time": "2022-10-25T12:27:10.386Z"
   },
   {
    "duration": 26,
    "start_time": "2022-10-25T12:27:10.413Z"
   },
   {
    "duration": 53,
    "start_time": "2022-10-25T12:27:10.441Z"
   },
   {
    "duration": 25,
    "start_time": "2022-10-25T12:27:10.503Z"
   },
   {
    "duration": 59,
    "start_time": "2022-10-25T12:27:10.530Z"
   },
   {
    "duration": 41,
    "start_time": "2022-10-25T12:27:10.591Z"
   },
   {
    "duration": 218,
    "start_time": "2022-10-25T12:27:10.634Z"
   },
   {
    "duration": 427,
    "start_time": "2022-10-25T12:49:43.430Z"
   },
   {
    "duration": 451,
    "start_time": "2022-10-25T12:49:43.859Z"
   },
   {
    "duration": 2655,
    "start_time": "2022-10-25T12:49:44.312Z"
   },
   {
    "duration": 22,
    "start_time": "2022-10-25T12:49:46.970Z"
   },
   {
    "duration": 22,
    "start_time": "2022-10-25T12:49:46.994Z"
   },
   {
    "duration": 33,
    "start_time": "2022-10-25T12:49:47.018Z"
   },
   {
    "duration": 43,
    "start_time": "2022-10-25T12:49:47.053Z"
   },
   {
    "duration": 47,
    "start_time": "2022-10-25T12:49:47.100Z"
   },
   {
    "duration": 58,
    "start_time": "2022-10-25T12:49:47.149Z"
   },
   {
    "duration": 192,
    "start_time": "2022-10-25T12:49:47.211Z"
   },
   {
    "duration": 59,
    "start_time": "2022-10-25T12:58:17.363Z"
   },
   {
    "duration": 465,
    "start_time": "2022-10-25T12:58:23.987Z"
   },
   {
    "duration": 445,
    "start_time": "2022-10-25T12:58:25.857Z"
   },
   {
    "duration": 418,
    "start_time": "2022-10-25T13:01:13.090Z"
   },
   {
    "duration": 153,
    "start_time": "2022-10-25T13:01:13.510Z"
   },
   {
    "duration": 2649,
    "start_time": "2022-10-25T13:01:13.671Z"
   },
   {
    "duration": 17,
    "start_time": "2022-10-25T13:01:16.323Z"
   },
   {
    "duration": 52,
    "start_time": "2022-10-25T13:01:16.341Z"
   },
   {
    "duration": 38,
    "start_time": "2022-10-25T13:01:16.397Z"
   },
   {
    "duration": 33,
    "start_time": "2022-10-25T13:01:16.437Z"
   },
   {
    "duration": 72,
    "start_time": "2022-10-25T13:01:16.480Z"
   },
   {
    "duration": 55,
    "start_time": "2022-10-25T13:01:16.554Z"
   },
   {
    "duration": 193,
    "start_time": "2022-10-25T13:01:16.611Z"
   },
   {
    "duration": 510,
    "start_time": "2022-10-25T13:27:08.239Z"
   },
   {
    "duration": 478,
    "start_time": "2022-10-25T13:27:08.759Z"
   },
   {
    "duration": 2733,
    "start_time": "2022-10-25T13:27:09.239Z"
   },
   {
    "duration": 34,
    "start_time": "2022-10-25T13:27:11.975Z"
   },
   {
    "duration": 67,
    "start_time": "2022-10-25T13:27:12.012Z"
   },
   {
    "duration": 74,
    "start_time": "2022-10-25T13:27:12.091Z"
   },
   {
    "duration": 73,
    "start_time": "2022-10-25T13:27:12.168Z"
   },
   {
    "duration": 120,
    "start_time": "2022-10-25T13:27:12.243Z"
   },
   {
    "duration": 73,
    "start_time": "2022-10-25T13:27:12.365Z"
   },
   {
    "duration": 240,
    "start_time": "2022-10-25T13:27:12.442Z"
   },
   {
    "duration": 538,
    "start_time": "2022-10-25T13:32:11.042Z"
   },
   {
    "duration": 608,
    "start_time": "2022-10-25T13:32:11.592Z"
   },
   {
    "duration": 2866,
    "start_time": "2022-10-25T13:32:12.209Z"
   },
   {
    "duration": 27,
    "start_time": "2022-10-25T13:32:15.077Z"
   },
   {
    "duration": 18,
    "start_time": "2022-10-25T13:32:15.105Z"
   },
   {
    "duration": 62,
    "start_time": "2022-10-25T13:32:15.125Z"
   },
   {
    "duration": 43,
    "start_time": "2022-10-25T13:32:15.195Z"
   },
   {
    "duration": 84,
    "start_time": "2022-10-25T13:32:15.240Z"
   },
   {
    "duration": 36,
    "start_time": "2022-10-25T13:32:15.326Z"
   },
   {
    "duration": 207,
    "start_time": "2022-10-25T13:32:15.365Z"
   },
   {
    "duration": 435,
    "start_time": "2022-10-25T14:33:26.566Z"
   },
   {
    "duration": 412,
    "start_time": "2022-10-25T14:33:27.003Z"
   },
   {
    "duration": 2499,
    "start_time": "2022-10-25T14:33:27.417Z"
   },
   {
    "duration": 16,
    "start_time": "2022-10-25T14:33:29.918Z"
   },
   {
    "duration": 15,
    "start_time": "2022-10-25T14:33:29.955Z"
   },
   {
    "duration": 39,
    "start_time": "2022-10-25T14:33:29.972Z"
   },
   {
    "duration": 24,
    "start_time": "2022-10-25T14:33:30.013Z"
   },
   {
    "duration": 48,
    "start_time": "2022-10-25T14:33:30.065Z"
   },
   {
    "duration": 45,
    "start_time": "2022-10-25T14:33:30.115Z"
   },
   {
    "duration": 184,
    "start_time": "2022-10-25T14:33:30.163Z"
   },
   {
    "duration": 414,
    "start_time": "2022-10-25T14:38:58.968Z"
   },
   {
    "duration": 363,
    "start_time": "2022-10-25T14:38:59.384Z"
   },
   {
    "duration": 2456,
    "start_time": "2022-10-25T14:38:59.748Z"
   },
   {
    "duration": 17,
    "start_time": "2022-10-25T14:39:02.206Z"
   },
   {
    "duration": 9,
    "start_time": "2022-10-25T14:39:02.225Z"
   },
   {
    "duration": 35,
    "start_time": "2022-10-25T14:39:02.255Z"
   },
   {
    "duration": 21,
    "start_time": "2022-10-25T14:39:02.293Z"
   },
   {
    "duration": 71,
    "start_time": "2022-10-25T14:39:02.316Z"
   },
   {
    "duration": 32,
    "start_time": "2022-10-25T14:39:02.389Z"
   },
   {
    "duration": 198,
    "start_time": "2022-10-25T14:39:02.423Z"
   },
   {
    "duration": 15273,
    "start_time": "2022-10-25T14:39:02.623Z"
   },
   {
    "duration": 31,
    "start_time": "2022-10-25T14:39:17.898Z"
   },
   {
    "duration": 198,
    "start_time": "2022-10-25T14:39:17.931Z"
   },
   {
    "duration": 4,
    "start_time": "2022-10-25T14:39:18.132Z"
   },
   {
    "duration": 173,
    "start_time": "2022-10-25T14:39:18.138Z"
   },
   {
    "duration": 905,
    "start_time": "2022-10-25T14:39:18.313Z"
   },
   {
    "duration": 255,
    "start_time": "2022-10-25T14:39:19.220Z"
   },
   {
    "duration": 227,
    "start_time": "2022-10-25T14:39:19.477Z"
   },
   {
    "duration": 241,
    "start_time": "2022-10-25T14:39:19.706Z"
   },
   {
    "duration": 248,
    "start_time": "2022-10-25T14:39:19.949Z"
   },
   {
    "duration": 247,
    "start_time": "2022-10-25T14:39:20.199Z"
   },
   {
    "duration": 244,
    "start_time": "2022-10-25T14:39:20.448Z"
   },
   {
    "duration": 244,
    "start_time": "2022-10-25T14:39:20.695Z"
   },
   {
    "duration": 148,
    "start_time": "2022-10-25T14:39:20.941Z"
   },
   {
    "duration": 194,
    "start_time": "2022-10-25T14:39:21.091Z"
   },
   {
    "duration": 200,
    "start_time": "2022-10-25T14:39:21.286Z"
   },
   {
    "duration": 237,
    "start_time": "2022-10-25T14:39:21.488Z"
   },
   {
    "duration": 197,
    "start_time": "2022-10-25T14:39:21.727Z"
   },
   {
    "duration": 262,
    "start_time": "2022-10-25T14:39:21.925Z"
   },
   {
    "duration": 242,
    "start_time": "2022-10-25T14:39:22.189Z"
   },
   {
    "duration": 176,
    "start_time": "2022-10-25T14:39:22.433Z"
   },
   {
    "duration": 182,
    "start_time": "2022-10-25T14:39:22.611Z"
   },
   {
    "duration": 178,
    "start_time": "2022-10-25T14:39:22.795Z"
   },
   {
    "duration": 195,
    "start_time": "2022-10-25T14:39:22.975Z"
   },
   {
    "duration": 155,
    "start_time": "2022-10-25T14:39:23.173Z"
   },
   {
    "duration": 208,
    "start_time": "2022-10-25T14:39:23.330Z"
   },
   {
    "duration": 196,
    "start_time": "2022-10-25T14:39:23.541Z"
   },
   {
    "duration": 192,
    "start_time": "2022-10-25T14:39:23.739Z"
   },
   {
    "duration": 37,
    "start_time": "2022-10-25T14:39:23.934Z"
   },
   {
    "duration": 204,
    "start_time": "2022-10-25T14:39:23.972Z"
   },
   {
    "duration": 159,
    "start_time": "2022-10-25T14:41:18.060Z"
   },
   {
    "duration": 143,
    "start_time": "2022-10-25T14:41:23.587Z"
   },
   {
    "duration": 132,
    "start_time": "2022-10-25T14:41:26.706Z"
   },
   {
    "duration": 160,
    "start_time": "2022-10-25T14:41:36.052Z"
   },
   {
    "duration": 143,
    "start_time": "2022-10-25T14:41:43.963Z"
   },
   {
    "duration": 19,
    "start_time": "2022-10-25T14:44:55.952Z"
   },
   {
    "duration": 49,
    "start_time": "2022-10-25T14:45:30.889Z"
   },
   {
    "duration": 200,
    "start_time": "2022-10-25T14:45:44.730Z"
   },
   {
    "duration": 164,
    "start_time": "2022-10-25T14:45:58.738Z"
   },
   {
    "duration": 174,
    "start_time": "2022-10-25T14:46:03.410Z"
   },
   {
    "duration": 163,
    "start_time": "2022-10-25T14:46:27.343Z"
   },
   {
    "duration": 164,
    "start_time": "2022-10-25T14:46:36.371Z"
   },
   {
    "duration": 138,
    "start_time": "2022-10-25T14:46:44.171Z"
   },
   {
    "duration": 162,
    "start_time": "2022-10-25T14:47:05.060Z"
   },
   {
    "duration": 143,
    "start_time": "2022-10-25T14:47:34.668Z"
   },
   {
    "duration": 144,
    "start_time": "2022-10-25T14:49:32.302Z"
   },
   {
    "duration": 924,
    "start_time": "2022-10-25T14:49:43.718Z"
   },
   {
    "duration": 560,
    "start_time": "2022-10-25T14:49:58.984Z"
   },
   {
    "duration": 579,
    "start_time": "2022-10-25T14:50:08.520Z"
   },
   {
    "duration": 386,
    "start_time": "2022-10-25T14:50:18.486Z"
   },
   {
    "duration": 135,
    "start_time": "2022-10-25T14:50:18.875Z"
   },
   {
    "duration": 2363,
    "start_time": "2022-10-25T14:50:19.012Z"
   },
   {
    "duration": 19,
    "start_time": "2022-10-25T14:50:21.377Z"
   },
   {
    "duration": 10,
    "start_time": "2022-10-25T14:50:21.399Z"
   },
   {
    "duration": 67,
    "start_time": "2022-10-25T14:50:21.412Z"
   },
   {
    "duration": 29,
    "start_time": "2022-10-25T14:50:21.482Z"
   },
   {
    "duration": 90,
    "start_time": "2022-10-25T14:50:21.513Z"
   },
   {
    "duration": 60,
    "start_time": "2022-10-25T14:50:21.605Z"
   },
   {
    "duration": 190,
    "start_time": "2022-10-25T14:50:21.668Z"
   },
   {
    "duration": 154,
    "start_time": "2022-10-25T14:50:21.860Z"
   },
   {
    "duration": 27,
    "start_time": "2022-10-25T14:50:22.016Z"
   },
   {
    "duration": 179,
    "start_time": "2022-10-25T14:50:22.054Z"
   },
   {
    "duration": 4,
    "start_time": "2022-10-25T14:50:22.236Z"
   },
   {
    "duration": 172,
    "start_time": "2022-10-25T14:50:22.242Z"
   },
   {
    "duration": 423,
    "start_time": "2022-10-25T14:50:22.416Z"
   },
   {
    "duration": 240,
    "start_time": "2022-10-25T14:50:22.841Z"
   },
   {
    "duration": 232,
    "start_time": "2022-10-25T14:50:23.083Z"
   },
   {
    "duration": 253,
    "start_time": "2022-10-25T14:50:23.317Z"
   },
   {
    "duration": 219,
    "start_time": "2022-10-25T14:50:23.572Z"
   },
   {
    "duration": 237,
    "start_time": "2022-10-25T14:50:23.792Z"
   },
   {
    "duration": 220,
    "start_time": "2022-10-25T14:50:24.030Z"
   },
   {
    "duration": 246,
    "start_time": "2022-10-25T14:50:24.253Z"
   },
   {
    "duration": 142,
    "start_time": "2022-10-25T14:50:24.501Z"
   },
   {
    "duration": 200,
    "start_time": "2022-10-25T14:50:24.654Z"
   },
   {
    "duration": 188,
    "start_time": "2022-10-25T14:50:24.856Z"
   },
   {
    "duration": 314,
    "start_time": "2022-10-25T14:50:25.046Z"
   },
   {
    "duration": 201,
    "start_time": "2022-10-25T14:50:25.362Z"
   },
   {
    "duration": 252,
    "start_time": "2022-10-25T14:50:25.565Z"
   },
   {
    "duration": 221,
    "start_time": "2022-10-25T14:50:25.819Z"
   },
   {
    "duration": 179,
    "start_time": "2022-10-25T14:50:26.042Z"
   },
   {
    "duration": 178,
    "start_time": "2022-10-25T14:50:26.223Z"
   },
   {
    "duration": 178,
    "start_time": "2022-10-25T14:50:26.403Z"
   },
   {
    "duration": 186,
    "start_time": "2022-10-25T14:50:26.583Z"
   },
   {
    "duration": 157,
    "start_time": "2022-10-25T14:50:26.772Z"
   },
   {
    "duration": 204,
    "start_time": "2022-10-25T14:50:26.931Z"
   },
   {
    "duration": 189,
    "start_time": "2022-10-25T14:50:27.137Z"
   },
   {
    "duration": 178,
    "start_time": "2022-10-25T14:50:27.328Z"
   },
   {
    "duration": 26,
    "start_time": "2022-10-25T14:50:27.508Z"
   },
   {
    "duration": 322,
    "start_time": "2022-10-25T14:50:27.535Z"
   },
   {
    "duration": 150,
    "start_time": "2022-10-25T14:52:43.084Z"
   },
   {
    "duration": 236,
    "start_time": "2022-10-25T14:53:19.309Z"
   },
   {
    "duration": 226,
    "start_time": "2022-10-25T14:54:01.664Z"
   },
   {
    "duration": 223,
    "start_time": "2022-10-25T14:54:19.079Z"
   },
   {
    "duration": 388,
    "start_time": "2022-10-25T14:54:37.478Z"
   },
   {
    "duration": 140,
    "start_time": "2022-10-25T14:54:37.868Z"
   },
   {
    "duration": 2271,
    "start_time": "2022-10-25T14:54:38.009Z"
   },
   {
    "duration": 18,
    "start_time": "2022-10-25T14:54:40.282Z"
   },
   {
    "duration": 18,
    "start_time": "2022-10-25T14:54:40.302Z"
   },
   {
    "duration": 61,
    "start_time": "2022-10-25T14:54:40.321Z"
   },
   {
    "duration": 23,
    "start_time": "2022-10-25T14:54:40.384Z"
   },
   {
    "duration": 67,
    "start_time": "2022-10-25T14:54:40.409Z"
   },
   {
    "duration": 32,
    "start_time": "2022-10-25T14:54:40.478Z"
   },
   {
    "duration": 201,
    "start_time": "2022-10-25T14:54:40.513Z"
   },
   {
    "duration": 218,
    "start_time": "2022-10-25T14:54:40.715Z"
   },
   {
    "duration": 34,
    "start_time": "2022-10-25T14:54:40.935Z"
   },
   {
    "duration": 188,
    "start_time": "2022-10-25T14:54:40.971Z"
   },
   {
    "duration": 5,
    "start_time": "2022-10-25T14:54:41.160Z"
   },
   {
    "duration": 168,
    "start_time": "2022-10-25T14:54:41.166Z"
   },
   {
    "duration": 497,
    "start_time": "2022-10-25T14:54:41.336Z"
   },
   {
    "duration": 236,
    "start_time": "2022-10-25T14:54:41.835Z"
   },
   {
    "duration": 212,
    "start_time": "2022-10-25T14:54:42.072Z"
   },
   {
    "duration": 224,
    "start_time": "2022-10-25T14:54:42.286Z"
   },
   {
    "duration": 236,
    "start_time": "2022-10-25T14:54:42.511Z"
   },
   {
    "duration": 229,
    "start_time": "2022-10-25T14:54:42.753Z"
   },
   {
    "duration": 208,
    "start_time": "2022-10-25T14:54:42.984Z"
   },
   {
    "duration": 234,
    "start_time": "2022-10-25T14:54:43.194Z"
   },
   {
    "duration": 146,
    "start_time": "2022-10-25T14:54:43.429Z"
   },
   {
    "duration": 193,
    "start_time": "2022-10-25T14:54:43.577Z"
   },
   {
    "duration": 295,
    "start_time": "2022-10-25T14:54:43.772Z"
   },
   {
    "duration": 181,
    "start_time": "2022-10-25T14:54:44.069Z"
   },
   {
    "duration": 194,
    "start_time": "2022-10-25T14:54:44.253Z"
   },
   {
    "duration": 253,
    "start_time": "2022-10-25T14:54:44.449Z"
   },
   {
    "duration": 230,
    "start_time": "2022-10-25T14:54:44.703Z"
   },
   {
    "duration": 188,
    "start_time": "2022-10-25T14:54:44.935Z"
   },
   {
    "duration": 180,
    "start_time": "2022-10-25T14:54:45.125Z"
   },
   {
    "duration": 183,
    "start_time": "2022-10-25T14:54:45.307Z"
   },
   {
    "duration": 183,
    "start_time": "2022-10-25T14:54:45.491Z"
   },
   {
    "duration": 154,
    "start_time": "2022-10-25T14:54:45.676Z"
   },
   {
    "duration": 181,
    "start_time": "2022-10-25T14:54:45.832Z"
   },
   {
    "duration": 281,
    "start_time": "2022-10-25T14:54:46.014Z"
   },
   {
    "duration": 174,
    "start_time": "2022-10-25T14:54:46.297Z"
   },
   {
    "duration": 25,
    "start_time": "2022-10-25T14:54:46.473Z"
   },
   {
    "duration": 186,
    "start_time": "2022-10-25T14:54:46.500Z"
   },
   {
    "duration": 221,
    "start_time": "2022-10-25T14:55:30.712Z"
   },
   {
    "duration": 223,
    "start_time": "2022-10-25T14:57:34.022Z"
   },
   {
    "duration": 235,
    "start_time": "2022-10-25T14:57:58.809Z"
   },
   {
    "duration": 230,
    "start_time": "2022-10-25T14:58:51.738Z"
   },
   {
    "duration": 241,
    "start_time": "2022-10-25T14:58:59.219Z"
   },
   {
    "duration": 234,
    "start_time": "2022-10-25T14:59:03.668Z"
   },
   {
    "duration": 246,
    "start_time": "2022-10-25T14:59:09.018Z"
   },
   {
    "duration": 241,
    "start_time": "2022-10-25T15:00:57.869Z"
   },
   {
    "duration": 379,
    "start_time": "2022-10-25T15:01:45.102Z"
   },
   {
    "duration": 270,
    "start_time": "2022-10-25T15:02:10.606Z"
   },
   {
    "duration": 421,
    "start_time": "2022-10-25T15:02:56.862Z"
   },
   {
    "duration": 135,
    "start_time": "2022-10-25T15:02:57.285Z"
   },
   {
    "duration": 2334,
    "start_time": "2022-10-25T15:02:57.421Z"
   },
   {
    "duration": 18,
    "start_time": "2022-10-25T15:02:59.757Z"
   },
   {
    "duration": 9,
    "start_time": "2022-10-25T15:02:59.777Z"
   },
   {
    "duration": 35,
    "start_time": "2022-10-25T15:02:59.788Z"
   },
   {
    "duration": 51,
    "start_time": "2022-10-25T15:02:59.825Z"
   },
   {
    "duration": 52,
    "start_time": "2022-10-25T15:02:59.877Z"
   },
   {
    "duration": 47,
    "start_time": "2022-10-25T15:02:59.930Z"
   },
   {
    "duration": 198,
    "start_time": "2022-10-25T15:02:59.980Z"
   },
   {
    "duration": 244,
    "start_time": "2022-10-25T15:03:00.180Z"
   },
   {
    "duration": 269,
    "start_time": "2022-10-25T15:03:00.425Z"
   },
   {
    "duration": 187,
    "start_time": "2022-10-25T15:03:00.696Z"
   },
   {
    "duration": 4,
    "start_time": "2022-10-25T15:03:00.885Z"
   },
   {
    "duration": 182,
    "start_time": "2022-10-25T15:03:00.890Z"
   },
   {
    "duration": 473,
    "start_time": "2022-10-25T15:03:01.074Z"
   },
   {
    "duration": 327,
    "start_time": "2022-10-25T15:03:01.554Z"
   },
   {
    "duration": 259,
    "start_time": "2022-10-25T15:03:01.883Z"
   },
   {
    "duration": 227,
    "start_time": "2022-10-25T15:03:02.145Z"
   },
   {
    "duration": 229,
    "start_time": "2022-10-25T15:03:02.374Z"
   },
   {
    "duration": 237,
    "start_time": "2022-10-25T15:03:02.605Z"
   },
   {
    "duration": 230,
    "start_time": "2022-10-25T15:03:02.845Z"
   },
   {
    "duration": 237,
    "start_time": "2022-10-25T15:03:03.077Z"
   },
   {
    "duration": 155,
    "start_time": "2022-10-25T15:03:03.315Z"
   },
   {
    "duration": 322,
    "start_time": "2022-10-25T15:03:03.472Z"
   },
   {
    "duration": 195,
    "start_time": "2022-10-25T15:03:03.795Z"
   },
   {
    "duration": 189,
    "start_time": "2022-10-25T15:03:03.991Z"
   },
   {
    "duration": 193,
    "start_time": "2022-10-25T15:03:04.184Z"
   },
   {
    "duration": 249,
    "start_time": "2022-10-25T15:03:04.379Z"
   },
   {
    "duration": 236,
    "start_time": "2022-10-25T15:03:04.631Z"
   },
   {
    "duration": 198,
    "start_time": "2022-10-25T15:03:04.869Z"
   },
   {
    "duration": 214,
    "start_time": "2022-10-25T15:03:05.068Z"
   },
   {
    "duration": 182,
    "start_time": "2022-10-25T15:03:05.284Z"
   },
   {
    "duration": 228,
    "start_time": "2022-10-25T15:03:05.468Z"
   },
   {
    "duration": 181,
    "start_time": "2022-10-25T15:03:05.698Z"
   },
   {
    "duration": 312,
    "start_time": "2022-10-25T15:03:05.881Z"
   },
   {
    "duration": 182,
    "start_time": "2022-10-25T15:03:06.195Z"
   },
   {
    "duration": 183,
    "start_time": "2022-10-25T15:03:06.379Z"
   },
   {
    "duration": 28,
    "start_time": "2022-10-25T15:03:06.564Z"
   },
   {
    "duration": 187,
    "start_time": "2022-10-25T15:03:06.594Z"
   },
   {
    "duration": 197,
    "start_time": "2022-10-25T15:05:59.460Z"
   },
   {
    "duration": 196,
    "start_time": "2022-10-25T15:06:05.164Z"
   },
   {
    "duration": 197,
    "start_time": "2022-10-25T15:06:10.973Z"
   },
   {
    "duration": 182,
    "start_time": "2022-10-25T15:06:30.869Z"
   },
   {
    "duration": 274,
    "start_time": "2022-10-25T15:07:09.525Z"
   },
   {
    "duration": 250,
    "start_time": "2022-10-25T15:07:28.222Z"
   },
   {
    "duration": 434,
    "start_time": "2022-10-25T15:08:24.089Z"
   },
   {
    "duration": 139,
    "start_time": "2022-10-25T15:08:24.525Z"
   },
   {
    "duration": 2320,
    "start_time": "2022-10-25T15:08:24.667Z"
   },
   {
    "duration": 19,
    "start_time": "2022-10-25T15:08:26.990Z"
   },
   {
    "duration": 11,
    "start_time": "2022-10-25T15:08:27.011Z"
   },
   {
    "duration": 64,
    "start_time": "2022-10-25T15:08:27.024Z"
   },
   {
    "duration": 24,
    "start_time": "2022-10-25T15:08:27.090Z"
   },
   {
    "duration": 64,
    "start_time": "2022-10-25T15:08:27.117Z"
   },
   {
    "duration": 34,
    "start_time": "2022-10-25T15:08:27.183Z"
   },
   {
    "duration": 208,
    "start_time": "2022-10-25T15:08:27.221Z"
   },
   {
    "duration": 232,
    "start_time": "2022-10-25T15:08:27.431Z"
   },
   {
    "duration": 249,
    "start_time": "2022-10-25T15:08:27.665Z"
   },
   {
    "duration": 182,
    "start_time": "2022-10-25T15:08:27.916Z"
   },
   {
    "duration": 5,
    "start_time": "2022-10-25T15:08:28.100Z"
   },
   {
    "duration": 188,
    "start_time": "2022-10-25T15:08:28.107Z"
   },
   {
    "duration": 440,
    "start_time": "2022-10-25T15:08:28.296Z"
   },
   {
    "duration": 244,
    "start_time": "2022-10-25T15:08:28.738Z"
   },
   {
    "duration": 235,
    "start_time": "2022-10-25T15:08:28.985Z"
   },
   {
    "duration": 227,
    "start_time": "2022-10-25T15:08:29.222Z"
   },
   {
    "duration": 227,
    "start_time": "2022-10-25T15:08:29.450Z"
   },
   {
    "duration": 220,
    "start_time": "2022-10-25T15:08:29.679Z"
   },
   {
    "duration": 217,
    "start_time": "2022-10-25T15:08:29.901Z"
   },
   {
    "duration": 251,
    "start_time": "2022-10-25T15:08:30.119Z"
   },
   {
    "duration": 147,
    "start_time": "2022-10-25T15:08:30.371Z"
   },
   {
    "duration": 323,
    "start_time": "2022-10-25T15:08:30.519Z"
   },
   {
    "duration": 202,
    "start_time": "2022-10-25T15:08:30.843Z"
   },
   {
    "duration": 197,
    "start_time": "2022-10-25T15:08:31.047Z"
   },
   {
    "duration": 238,
    "start_time": "2022-10-25T15:08:31.256Z"
   },
   {
    "duration": 310,
    "start_time": "2022-10-25T15:08:31.497Z"
   },
   {
    "duration": 228,
    "start_time": "2022-10-25T15:08:31.808Z"
   },
   {
    "duration": 189,
    "start_time": "2022-10-25T15:08:32.038Z"
   },
   {
    "duration": 212,
    "start_time": "2022-10-25T15:08:32.228Z"
   },
   {
    "duration": 185,
    "start_time": "2022-10-25T15:08:32.442Z"
   },
   {
    "duration": 180,
    "start_time": "2022-10-25T15:08:32.629Z"
   },
   {
    "duration": 159,
    "start_time": "2022-10-25T15:08:32.811Z"
   },
   {
    "duration": 309,
    "start_time": "2022-10-25T15:08:32.971Z"
   },
   {
    "duration": 183,
    "start_time": "2022-10-25T15:08:33.282Z"
   },
   {
    "duration": 183,
    "start_time": "2022-10-25T15:08:33.468Z"
   },
   {
    "duration": 27,
    "start_time": "2022-10-25T15:08:33.653Z"
   },
   {
    "duration": 186,
    "start_time": "2022-10-25T15:08:33.682Z"
   },
   {
    "duration": 199,
    "start_time": "2022-10-25T15:13:47.750Z"
   },
   {
    "duration": 232,
    "start_time": "2022-10-25T15:14:12.399Z"
   },
   {
    "duration": 220,
    "start_time": "2022-10-25T15:14:23.102Z"
   },
   {
    "duration": 439,
    "start_time": "2022-10-25T15:14:59.048Z"
   },
   {
    "duration": 140,
    "start_time": "2022-10-25T15:14:59.490Z"
   },
   {
    "duration": 2376,
    "start_time": "2022-10-25T15:14:59.632Z"
   },
   {
    "duration": 17,
    "start_time": "2022-10-25T15:15:02.010Z"
   },
   {
    "duration": 26,
    "start_time": "2022-10-25T15:15:02.029Z"
   },
   {
    "duration": 33,
    "start_time": "2022-10-25T15:15:02.057Z"
   },
   {
    "duration": 22,
    "start_time": "2022-10-25T15:15:02.092Z"
   },
   {
    "duration": 66,
    "start_time": "2022-10-25T15:15:02.116Z"
   },
   {
    "duration": 31,
    "start_time": "2022-10-25T15:15:02.183Z"
   },
   {
    "duration": 189,
    "start_time": "2022-10-25T15:15:02.217Z"
   },
   {
    "duration": 227,
    "start_time": "2022-10-25T15:15:02.408Z"
   },
   {
    "duration": 249,
    "start_time": "2022-10-25T15:15:02.637Z"
   },
   {
    "duration": 190,
    "start_time": "2022-10-25T15:15:02.888Z"
   },
   {
    "duration": 4,
    "start_time": "2022-10-25T15:15:03.080Z"
   },
   {
    "duration": 186,
    "start_time": "2022-10-25T15:15:03.085Z"
   },
   {
    "duration": 417,
    "start_time": "2022-10-25T15:15:03.273Z"
   },
   {
    "duration": 235,
    "start_time": "2022-10-25T15:15:03.692Z"
   },
   {
    "duration": 236,
    "start_time": "2022-10-25T15:15:03.929Z"
   },
   {
    "duration": 223,
    "start_time": "2022-10-25T15:15:04.166Z"
   },
   {
    "duration": 221,
    "start_time": "2022-10-25T15:15:04.390Z"
   },
   {
    "duration": 233,
    "start_time": "2022-10-25T15:15:04.613Z"
   },
   {
    "duration": 220,
    "start_time": "2022-10-25T15:15:04.848Z"
   },
   {
    "duration": 256,
    "start_time": "2022-10-25T15:15:05.070Z"
   },
   {
    "duration": 152,
    "start_time": "2022-10-25T15:15:05.329Z"
   },
   {
    "duration": 318,
    "start_time": "2022-10-25T15:15:05.484Z"
   },
   {
    "duration": 193,
    "start_time": "2022-10-25T15:15:05.805Z"
   },
   {
    "duration": 181,
    "start_time": "2022-10-25T15:15:06.000Z"
   },
   {
    "duration": 185,
    "start_time": "2022-10-25T15:15:06.184Z"
   },
   {
    "duration": 250,
    "start_time": "2022-10-25T15:15:06.371Z"
   },
   {
    "duration": 221,
    "start_time": "2022-10-25T15:15:06.623Z"
   },
   {
    "duration": 181,
    "start_time": "2022-10-25T15:15:06.846Z"
   },
   {
    "duration": 181,
    "start_time": "2022-10-25T15:15:07.029Z"
   },
   {
    "duration": 178,
    "start_time": "2022-10-25T15:15:07.212Z"
   },
   {
    "duration": 175,
    "start_time": "2022-10-25T15:15:07.391Z"
   },
   {
    "duration": 173,
    "start_time": "2022-10-25T15:15:07.568Z"
   },
   {
    "duration": 313,
    "start_time": "2022-10-25T15:15:07.743Z"
   },
   {
    "duration": 188,
    "start_time": "2022-10-25T15:15:08.057Z"
   },
   {
    "duration": 182,
    "start_time": "2022-10-25T15:15:08.247Z"
   },
   {
    "duration": 37,
    "start_time": "2022-10-25T15:15:08.430Z"
   },
   {
    "duration": 180,
    "start_time": "2022-10-25T15:15:08.468Z"
   },
   {
    "duration": 185,
    "start_time": "2022-10-25T15:16:41.815Z"
   },
   {
    "duration": 396,
    "start_time": "2022-10-25T15:17:43.280Z"
   },
   {
    "duration": 132,
    "start_time": "2022-10-25T15:17:43.678Z"
   },
   {
    "duration": 2267,
    "start_time": "2022-10-25T15:17:43.812Z"
   },
   {
    "duration": 15,
    "start_time": "2022-10-25T15:17:46.082Z"
   },
   {
    "duration": 28,
    "start_time": "2022-10-25T15:17:46.099Z"
   },
   {
    "duration": 52,
    "start_time": "2022-10-25T15:17:46.128Z"
   },
   {
    "duration": 35,
    "start_time": "2022-10-25T15:17:46.181Z"
   },
   {
    "duration": 56,
    "start_time": "2022-10-25T15:17:46.217Z"
   },
   {
    "duration": 62,
    "start_time": "2022-10-25T15:17:46.275Z"
   },
   {
    "duration": 167,
    "start_time": "2022-10-25T15:17:46.340Z"
   },
   {
    "duration": 236,
    "start_time": "2022-10-25T15:17:46.509Z"
   },
   {
    "duration": 241,
    "start_time": "2022-10-25T15:17:46.747Z"
   },
   {
    "duration": 187,
    "start_time": "2022-10-25T15:17:46.990Z"
   },
   {
    "duration": 4,
    "start_time": "2022-10-25T15:17:47.178Z"
   },
   {
    "duration": 189,
    "start_time": "2022-10-25T15:17:47.184Z"
   },
   {
    "duration": 427,
    "start_time": "2022-10-25T15:17:47.374Z"
   },
   {
    "duration": 242,
    "start_time": "2022-10-25T15:17:47.803Z"
   },
   {
    "duration": 227,
    "start_time": "2022-10-25T15:17:48.046Z"
   },
   {
    "duration": 214,
    "start_time": "2022-10-25T15:17:48.275Z"
   },
   {
    "duration": 229,
    "start_time": "2022-10-25T15:17:48.491Z"
   },
   {
    "duration": 210,
    "start_time": "2022-10-25T15:17:48.722Z"
   },
   {
    "duration": 214,
    "start_time": "2022-10-25T15:17:48.935Z"
   },
   {
    "duration": 234,
    "start_time": "2022-10-25T15:17:49.153Z"
   },
   {
    "duration": 145,
    "start_time": "2022-10-25T15:17:49.389Z"
   },
   {
    "duration": 305,
    "start_time": "2022-10-25T15:17:49.537Z"
   },
   {
    "duration": 183,
    "start_time": "2022-10-25T15:17:49.843Z"
   },
   {
    "duration": 188,
    "start_time": "2022-10-25T15:17:50.028Z"
   },
   {
    "duration": 192,
    "start_time": "2022-10-25T15:17:50.220Z"
   },
   {
    "duration": 261,
    "start_time": "2022-10-25T15:17:50.414Z"
   },
   {
    "duration": 253,
    "start_time": "2022-10-25T15:17:50.677Z"
   },
   {
    "duration": 183,
    "start_time": "2022-10-25T15:17:50.932Z"
   },
   {
    "duration": 187,
    "start_time": "2022-10-25T15:17:51.117Z"
   },
   {
    "duration": 192,
    "start_time": "2022-10-25T15:17:51.306Z"
   },
   {
    "duration": 220,
    "start_time": "2022-10-25T15:17:51.500Z"
   },
   {
    "duration": 162,
    "start_time": "2022-10-25T15:17:51.721Z"
   },
   {
    "duration": 299,
    "start_time": "2022-10-25T15:17:51.885Z"
   },
   {
    "duration": 174,
    "start_time": "2022-10-25T15:17:52.185Z"
   },
   {
    "duration": 168,
    "start_time": "2022-10-25T15:17:52.361Z"
   },
   {
    "duration": 33,
    "start_time": "2022-10-25T15:17:52.531Z"
   },
   {
    "duration": 177,
    "start_time": "2022-10-25T15:17:52.566Z"
   },
   {
    "duration": 223,
    "start_time": "2022-10-25T15:22:37.520Z"
   },
   {
    "duration": 240,
    "start_time": "2022-10-25T15:22:46.847Z"
   },
   {
    "duration": 442,
    "start_time": "2022-10-25T15:28:18.668Z"
   },
   {
    "duration": 130,
    "start_time": "2022-10-25T15:28:19.112Z"
   },
   {
    "duration": 2506,
    "start_time": "2022-10-25T15:28:19.244Z"
   },
   {
    "duration": 23,
    "start_time": "2022-10-25T15:28:21.754Z"
   },
   {
    "duration": 17,
    "start_time": "2022-10-25T15:28:21.779Z"
   },
   {
    "duration": 56,
    "start_time": "2022-10-25T15:28:21.798Z"
   },
   {
    "duration": 25,
    "start_time": "2022-10-25T15:28:21.856Z"
   },
   {
    "duration": 79,
    "start_time": "2022-10-25T15:28:21.883Z"
   },
   {
    "duration": 46,
    "start_time": "2022-10-25T15:28:21.964Z"
   },
   {
    "duration": 201,
    "start_time": "2022-10-25T15:28:22.012Z"
   },
   {
    "duration": 242,
    "start_time": "2022-10-25T15:28:22.215Z"
   },
   {
    "duration": 262,
    "start_time": "2022-10-25T15:28:22.459Z"
   },
   {
    "duration": 191,
    "start_time": "2022-10-25T15:28:22.723Z"
   },
   {
    "duration": 4,
    "start_time": "2022-10-25T15:28:22.916Z"
   },
   {
    "duration": 183,
    "start_time": "2022-10-25T15:28:22.922Z"
   },
   {
    "duration": 412,
    "start_time": "2022-10-25T15:28:23.107Z"
   },
   {
    "duration": 248,
    "start_time": "2022-10-25T15:28:23.521Z"
   },
   {
    "duration": 244,
    "start_time": "2022-10-25T15:28:23.771Z"
   },
   {
    "duration": 229,
    "start_time": "2022-10-25T15:28:24.017Z"
   },
   {
    "duration": 246,
    "start_time": "2022-10-25T15:28:24.254Z"
   },
   {
    "duration": 232,
    "start_time": "2022-10-25T15:28:24.501Z"
   },
   {
    "duration": 234,
    "start_time": "2022-10-25T15:28:24.735Z"
   },
   {
    "duration": 242,
    "start_time": "2022-10-25T15:28:24.971Z"
   },
   {
    "duration": 153,
    "start_time": "2022-10-25T15:28:25.215Z"
   },
   {
    "duration": 338,
    "start_time": "2022-10-25T15:28:25.370Z"
   },
   {
    "duration": 199,
    "start_time": "2022-10-25T15:28:25.710Z"
   },
   {
    "duration": 192,
    "start_time": "2022-10-25T15:28:25.911Z"
   },
   {
    "duration": 192,
    "start_time": "2022-10-25T15:28:26.107Z"
   },
   {
    "duration": 294,
    "start_time": "2022-10-25T15:28:26.301Z"
   },
   {
    "duration": 244,
    "start_time": "2022-10-25T15:28:26.597Z"
   },
   {
    "duration": 197,
    "start_time": "2022-10-25T15:28:26.843Z"
   },
   {
    "duration": 205,
    "start_time": "2022-10-25T15:28:27.042Z"
   },
   {
    "duration": 187,
    "start_time": "2022-10-25T15:28:27.248Z"
   },
   {
    "duration": 183,
    "start_time": "2022-10-25T15:28:27.437Z"
   },
   {
    "duration": 185,
    "start_time": "2022-10-25T15:28:27.622Z"
   },
   {
    "duration": 333,
    "start_time": "2022-10-25T15:28:27.809Z"
   },
   {
    "duration": 221,
    "start_time": "2022-10-25T15:28:28.144Z"
   },
   {
    "duration": 190,
    "start_time": "2022-10-25T15:28:28.367Z"
   },
   {
    "duration": 28,
    "start_time": "2022-10-25T15:28:28.559Z"
   },
   {
    "duration": 212,
    "start_time": "2022-10-25T15:28:28.590Z"
   },
   {
    "duration": 441,
    "start_time": "2022-10-25T15:30:39.770Z"
   },
   {
    "duration": 479,
    "start_time": "2022-10-25T15:30:57.898Z"
   },
   {
    "duration": 235,
    "start_time": "2022-10-25T15:31:17.729Z"
   },
   {
    "duration": 414,
    "start_time": "2022-10-25T15:32:22.458Z"
   },
   {
    "duration": 136,
    "start_time": "2022-10-25T15:32:22.874Z"
   },
   {
    "duration": 2349,
    "start_time": "2022-10-25T15:32:23.012Z"
   },
   {
    "duration": 16,
    "start_time": "2022-10-25T15:32:25.363Z"
   },
   {
    "duration": 9,
    "start_time": "2022-10-25T15:32:25.381Z"
   },
   {
    "duration": 32,
    "start_time": "2022-10-25T15:32:25.391Z"
   },
   {
    "duration": 50,
    "start_time": "2022-10-25T15:32:25.425Z"
   },
   {
    "duration": 55,
    "start_time": "2022-10-25T15:32:25.476Z"
   },
   {
    "duration": 34,
    "start_time": "2022-10-25T15:32:25.553Z"
   },
   {
    "duration": 188,
    "start_time": "2022-10-25T15:32:25.591Z"
   },
   {
    "duration": 233,
    "start_time": "2022-10-25T15:32:25.781Z"
   },
   {
    "duration": 254,
    "start_time": "2022-10-25T15:32:26.016Z"
   },
   {
    "duration": 189,
    "start_time": "2022-10-25T15:32:26.271Z"
   },
   {
    "duration": 4,
    "start_time": "2022-10-25T15:32:26.462Z"
   },
   {
    "duration": 191,
    "start_time": "2022-10-25T15:32:26.467Z"
   },
   {
    "duration": 421,
    "start_time": "2022-10-25T15:32:26.660Z"
   },
   {
    "duration": 241,
    "start_time": "2022-10-25T15:32:27.083Z"
   },
   {
    "duration": 231,
    "start_time": "2022-10-25T15:32:27.325Z"
   },
   {
    "duration": 216,
    "start_time": "2022-10-25T15:32:27.558Z"
   },
   {
    "duration": 225,
    "start_time": "2022-10-25T15:32:27.776Z"
   },
   {
    "duration": 224,
    "start_time": "2022-10-25T15:32:28.003Z"
   },
   {
    "duration": 224,
    "start_time": "2022-10-25T15:32:28.229Z"
   },
   {
    "duration": 248,
    "start_time": "2022-10-25T15:32:28.454Z"
   },
   {
    "duration": 141,
    "start_time": "2022-10-25T15:32:28.704Z"
   },
   {
    "duration": 329,
    "start_time": "2022-10-25T15:32:28.847Z"
   },
   {
    "duration": 206,
    "start_time": "2022-10-25T15:32:29.178Z"
   },
   {
    "duration": 189,
    "start_time": "2022-10-25T15:32:29.386Z"
   },
   {
    "duration": 199,
    "start_time": "2022-10-25T15:32:29.579Z"
   },
   {
    "duration": 256,
    "start_time": "2022-10-25T15:32:29.780Z"
   },
   {
    "duration": 236,
    "start_time": "2022-10-25T15:32:30.039Z"
   },
   {
    "duration": 192,
    "start_time": "2022-10-25T15:32:30.277Z"
   },
   {
    "duration": 204,
    "start_time": "2022-10-25T15:32:30.471Z"
   },
   {
    "duration": 190,
    "start_time": "2022-10-25T15:32:30.677Z"
   },
   {
    "duration": 173,
    "start_time": "2022-10-25T15:32:30.870Z"
   },
   {
    "duration": 175,
    "start_time": "2022-10-25T15:32:31.046Z"
   },
   {
    "duration": 371,
    "start_time": "2022-10-25T15:32:31.224Z"
   },
   {
    "duration": 225,
    "start_time": "2022-10-25T15:32:31.596Z"
   },
   {
    "duration": 173,
    "start_time": "2022-10-25T15:32:31.823Z"
   },
   {
    "duration": 25,
    "start_time": "2022-10-25T15:32:31.997Z"
   },
   {
    "duration": 194,
    "start_time": "2022-10-25T15:32:32.024Z"
   },
   {
    "duration": 193,
    "start_time": "2022-10-25T15:33:17.224Z"
   },
   {
    "duration": 187,
    "start_time": "2022-10-25T15:33:27.721Z"
   },
   {
    "duration": 186,
    "start_time": "2022-10-25T15:33:31.857Z"
   },
   {
    "duration": 382,
    "start_time": "2022-10-25T15:33:49.516Z"
   },
   {
    "duration": 140,
    "start_time": "2022-10-25T15:33:49.900Z"
   },
   {
    "duration": 2384,
    "start_time": "2022-10-25T15:33:50.042Z"
   },
   {
    "duration": 27,
    "start_time": "2022-10-25T15:33:52.428Z"
   },
   {
    "duration": 9,
    "start_time": "2022-10-25T15:33:52.457Z"
   },
   {
    "duration": 32,
    "start_time": "2022-10-25T15:33:52.468Z"
   },
   {
    "duration": 52,
    "start_time": "2022-10-25T15:33:52.501Z"
   },
   {
    "duration": 43,
    "start_time": "2022-10-25T15:33:52.555Z"
   },
   {
    "duration": 31,
    "start_time": "2022-10-25T15:33:52.600Z"
   },
   {
    "duration": 244,
    "start_time": "2022-10-25T15:33:52.634Z"
   },
   {
    "duration": 236,
    "start_time": "2022-10-25T15:33:52.880Z"
   },
   {
    "duration": 249,
    "start_time": "2022-10-25T15:33:53.118Z"
   },
   {
    "duration": 179,
    "start_time": "2022-10-25T15:33:53.369Z"
   },
   {
    "duration": 7,
    "start_time": "2022-10-25T15:33:53.549Z"
   },
   {
    "duration": 177,
    "start_time": "2022-10-25T15:33:53.557Z"
   },
   {
    "duration": 427,
    "start_time": "2022-10-25T15:33:53.736Z"
   },
   {
    "duration": 246,
    "start_time": "2022-10-25T15:33:54.165Z"
   },
   {
    "duration": 235,
    "start_time": "2022-10-25T15:33:54.413Z"
   },
   {
    "duration": 234,
    "start_time": "2022-10-25T15:33:54.653Z"
   },
   {
    "duration": 240,
    "start_time": "2022-10-25T15:33:54.889Z"
   },
   {
    "duration": 230,
    "start_time": "2022-10-25T15:33:55.131Z"
   },
   {
    "duration": 236,
    "start_time": "2022-10-25T15:33:55.362Z"
   },
   {
    "duration": 260,
    "start_time": "2022-10-25T15:33:55.600Z"
   },
   {
    "duration": 152,
    "start_time": "2022-10-25T15:33:55.861Z"
   },
   {
    "duration": 339,
    "start_time": "2022-10-25T15:33:56.015Z"
   },
   {
    "duration": 198,
    "start_time": "2022-10-25T15:33:56.356Z"
   },
   {
    "duration": 193,
    "start_time": "2022-10-25T15:33:56.555Z"
   },
   {
    "duration": 183,
    "start_time": "2022-10-25T15:33:56.754Z"
   },
   {
    "duration": 249,
    "start_time": "2022-10-25T15:33:56.939Z"
   },
   {
    "duration": 230,
    "start_time": "2022-10-25T15:33:57.190Z"
   },
   {
    "duration": 185,
    "start_time": "2022-10-25T15:33:57.422Z"
   },
   {
    "duration": 217,
    "start_time": "2022-10-25T15:33:57.609Z"
   },
   {
    "duration": 211,
    "start_time": "2022-10-25T15:33:57.829Z"
   },
   {
    "duration": 164,
    "start_time": "2022-10-25T15:33:58.041Z"
   },
   {
    "duration": 160,
    "start_time": "2022-10-25T15:33:58.206Z"
   },
   {
    "duration": 312,
    "start_time": "2022-10-25T15:33:58.368Z"
   },
   {
    "duration": 191,
    "start_time": "2022-10-25T15:33:58.682Z"
   },
   {
    "duration": 182,
    "start_time": "2022-10-25T15:33:58.875Z"
   },
   {
    "duration": 26,
    "start_time": "2022-10-25T15:33:59.059Z"
   },
   {
    "duration": 204,
    "start_time": "2022-10-25T15:33:59.087Z"
   },
   {
    "duration": 449,
    "start_time": "2022-10-25T15:38:11.947Z"
   },
   {
    "duration": 134,
    "start_time": "2022-10-25T15:38:12.398Z"
   },
   {
    "duration": 2302,
    "start_time": "2022-10-25T15:38:12.534Z"
   },
   {
    "duration": 22,
    "start_time": "2022-10-25T15:38:14.838Z"
   },
   {
    "duration": 8,
    "start_time": "2022-10-25T15:38:14.862Z"
   },
   {
    "duration": 35,
    "start_time": "2022-10-25T15:38:14.872Z"
   },
   {
    "duration": 22,
    "start_time": "2022-10-25T15:38:14.908Z"
   },
   {
    "duration": 43,
    "start_time": "2022-10-25T15:38:14.954Z"
   },
   {
    "duration": 31,
    "start_time": "2022-10-25T15:38:14.998Z"
   },
   {
    "duration": 189,
    "start_time": "2022-10-25T15:38:15.053Z"
   },
   {
    "duration": 237,
    "start_time": "2022-10-25T15:38:15.244Z"
   },
   {
    "duration": 263,
    "start_time": "2022-10-25T15:38:15.483Z"
   },
   {
    "duration": 172,
    "start_time": "2022-10-25T15:38:15.754Z"
   },
   {
    "duration": 4,
    "start_time": "2022-10-25T15:38:15.928Z"
   },
   {
    "duration": 175,
    "start_time": "2022-10-25T15:38:15.933Z"
   },
   {
    "duration": 419,
    "start_time": "2022-10-25T15:38:16.110Z"
   },
   {
    "duration": 264,
    "start_time": "2022-10-25T15:38:16.531Z"
   },
   {
    "duration": 224,
    "start_time": "2022-10-25T15:38:16.798Z"
   },
   {
    "duration": 229,
    "start_time": "2022-10-25T15:38:17.024Z"
   },
   {
    "duration": 226,
    "start_time": "2022-10-25T15:38:17.255Z"
   },
   {
    "duration": 217,
    "start_time": "2022-10-25T15:38:17.482Z"
   },
   {
    "duration": 218,
    "start_time": "2022-10-25T15:38:17.700Z"
   },
   {
    "duration": 224,
    "start_time": "2022-10-25T15:38:17.920Z"
   },
   {
    "duration": 144,
    "start_time": "2022-10-25T15:38:18.145Z"
   },
   {
    "duration": 312,
    "start_time": "2022-10-25T15:38:18.290Z"
   },
   {
    "duration": 192,
    "start_time": "2022-10-25T15:38:18.604Z"
   },
   {
    "duration": 186,
    "start_time": "2022-10-25T15:38:18.799Z"
   },
   {
    "duration": 182,
    "start_time": "2022-10-25T15:38:18.989Z"
   },
   {
    "duration": 243,
    "start_time": "2022-10-25T15:38:19.173Z"
   },
   {
    "duration": 223,
    "start_time": "2022-10-25T15:38:19.418Z"
   },
   {
    "duration": 198,
    "start_time": "2022-10-25T15:38:19.643Z"
   },
   {
    "duration": 182,
    "start_time": "2022-10-25T15:38:19.843Z"
   },
   {
    "duration": 181,
    "start_time": "2022-10-25T15:38:20.026Z"
   },
   {
    "duration": 165,
    "start_time": "2022-10-25T15:38:20.210Z"
   },
   {
    "duration": 157,
    "start_time": "2022-10-25T15:38:20.377Z"
   },
   {
    "duration": 329,
    "start_time": "2022-10-25T15:38:20.537Z"
   },
   {
    "duration": 185,
    "start_time": "2022-10-25T15:38:20.868Z"
   },
   {
    "duration": 168,
    "start_time": "2022-10-25T15:38:21.056Z"
   },
   {
    "duration": 31,
    "start_time": "2022-10-25T15:38:21.226Z"
   },
   {
    "duration": 195,
    "start_time": "2022-10-25T15:38:21.259Z"
   },
   {
    "duration": 369,
    "start_time": "2022-10-26T05:25:06.677Z"
   },
   {
    "duration": 138,
    "start_time": "2022-10-26T05:25:07.048Z"
   },
   {
    "duration": 2314,
    "start_time": "2022-10-26T05:25:07.188Z"
   },
   {
    "duration": 25,
    "start_time": "2022-10-26T05:25:09.505Z"
   },
   {
    "duration": 10,
    "start_time": "2022-10-26T05:25:09.532Z"
   },
   {
    "duration": 32,
    "start_time": "2022-10-26T05:25:09.543Z"
   },
   {
    "duration": 22,
    "start_time": "2022-10-26T05:25:09.576Z"
   },
   {
    "duration": 70,
    "start_time": "2022-10-26T05:25:09.600Z"
   },
   {
    "duration": 30,
    "start_time": "2022-10-26T05:25:09.672Z"
   },
   {
    "duration": 188,
    "start_time": "2022-10-26T05:25:09.705Z"
   },
   {
    "duration": 236,
    "start_time": "2022-10-26T05:25:09.895Z"
   },
   {
    "duration": 244,
    "start_time": "2022-10-26T05:25:10.133Z"
   },
   {
    "duration": 204,
    "start_time": "2022-10-26T05:25:10.379Z"
   },
   {
    "duration": 4,
    "start_time": "2022-10-26T05:25:10.585Z"
   },
   {
    "duration": 189,
    "start_time": "2022-10-26T05:25:10.591Z"
   },
   {
    "duration": 412,
    "start_time": "2022-10-26T05:25:10.782Z"
   },
   {
    "duration": 287,
    "start_time": "2022-10-26T05:25:11.196Z"
   },
   {
    "duration": 300,
    "start_time": "2022-10-26T05:25:11.485Z"
   },
   {
    "duration": 246,
    "start_time": "2022-10-26T05:25:11.786Z"
   },
   {
    "duration": 226,
    "start_time": "2022-10-26T05:25:12.034Z"
   },
   {
    "duration": 244,
    "start_time": "2022-10-26T05:25:12.261Z"
   },
   {
    "duration": 247,
    "start_time": "2022-10-26T05:25:12.507Z"
   },
   {
    "duration": 243,
    "start_time": "2022-10-26T05:25:12.756Z"
   },
   {
    "duration": 147,
    "start_time": "2022-10-26T05:25:13.001Z"
   },
   {
    "duration": 277,
    "start_time": "2022-10-26T05:25:13.151Z"
   },
   {
    "duration": 208,
    "start_time": "2022-10-26T05:25:13.430Z"
   },
   {
    "duration": 206,
    "start_time": "2022-10-26T05:25:13.640Z"
   },
   {
    "duration": 197,
    "start_time": "2022-10-26T05:25:13.850Z"
   },
   {
    "duration": 264,
    "start_time": "2022-10-26T05:25:14.049Z"
   },
   {
    "duration": 231,
    "start_time": "2022-10-26T05:25:14.315Z"
   },
   {
    "duration": 190,
    "start_time": "2022-10-26T05:25:14.548Z"
   },
   {
    "duration": 207,
    "start_time": "2022-10-26T05:25:14.740Z"
   },
   {
    "duration": 182,
    "start_time": "2022-10-26T05:25:14.949Z"
   },
   {
    "duration": 158,
    "start_time": "2022-10-26T05:25:15.133Z"
   },
   {
    "duration": 153,
    "start_time": "2022-10-26T05:25:15.293Z"
   },
   {
    "duration": 286,
    "start_time": "2022-10-26T05:25:15.448Z"
   },
   {
    "duration": 219,
    "start_time": "2022-10-26T05:25:15.736Z"
   },
   {
    "duration": 209,
    "start_time": "2022-10-26T05:25:15.957Z"
   },
   {
    "duration": 29,
    "start_time": "2022-10-26T05:25:16.168Z"
   },
   {
    "duration": 230,
    "start_time": "2022-10-26T05:25:16.199Z"
   },
   {
    "duration": 399,
    "start_time": "2022-10-26T05:25:53.287Z"
   },
   {
    "duration": 129,
    "start_time": "2022-10-26T05:25:53.688Z"
   },
   {
    "duration": 2222,
    "start_time": "2022-10-26T05:25:53.819Z"
   },
   {
    "duration": 21,
    "start_time": "2022-10-26T05:25:56.043Z"
   },
   {
    "duration": 20,
    "start_time": "2022-10-26T05:25:56.066Z"
   },
   {
    "duration": 53,
    "start_time": "2022-10-26T05:25:56.088Z"
   },
   {
    "duration": 34,
    "start_time": "2022-10-26T05:25:56.143Z"
   },
   {
    "duration": 99,
    "start_time": "2022-10-26T05:25:56.180Z"
   },
   {
    "duration": 34,
    "start_time": "2022-10-26T05:25:56.280Z"
   },
   {
    "duration": 209,
    "start_time": "2022-10-26T05:25:56.315Z"
   },
   {
    "duration": 239,
    "start_time": "2022-10-26T05:25:56.529Z"
   },
   {
    "duration": 254,
    "start_time": "2022-10-26T05:25:56.770Z"
   },
   {
    "duration": 207,
    "start_time": "2022-10-26T05:25:57.028Z"
   },
   {
    "duration": 7,
    "start_time": "2022-10-26T05:25:57.239Z"
   },
   {
    "duration": 174,
    "start_time": "2022-10-26T05:25:57.248Z"
   },
   {
    "duration": 405,
    "start_time": "2022-10-26T05:25:57.429Z"
   },
   {
    "duration": 272,
    "start_time": "2022-10-26T05:25:57.836Z"
   },
   {
    "duration": 371,
    "start_time": "2022-10-26T05:25:58.111Z"
   },
   {
    "duration": 222,
    "start_time": "2022-10-26T05:25:58.484Z"
   },
   {
    "duration": 232,
    "start_time": "2022-10-26T05:25:58.708Z"
   },
   {
    "duration": 227,
    "start_time": "2022-10-26T05:25:58.942Z"
   },
   {
    "duration": 217,
    "start_time": "2022-10-26T05:25:59.171Z"
   },
   {
    "duration": 216,
    "start_time": "2022-10-26T05:25:59.390Z"
   },
   {
    "duration": 142,
    "start_time": "2022-10-26T05:25:59.607Z"
   },
   {
    "duration": 190,
    "start_time": "2022-10-26T05:25:59.751Z"
   },
   {
    "duration": 278,
    "start_time": "2022-10-26T05:25:59.943Z"
   },
   {
    "duration": 175,
    "start_time": "2022-10-26T05:26:00.223Z"
   },
   {
    "duration": 206,
    "start_time": "2022-10-26T05:26:00.400Z"
   },
   {
    "duration": 285,
    "start_time": "2022-10-26T05:26:00.608Z"
   },
   {
    "duration": 220,
    "start_time": "2022-10-26T05:26:00.895Z"
   },
   {
    "duration": 204,
    "start_time": "2022-10-26T05:26:01.117Z"
   },
   {
    "duration": 187,
    "start_time": "2022-10-26T05:26:01.323Z"
   },
   {
    "duration": 176,
    "start_time": "2022-10-26T05:26:01.512Z"
   },
   {
    "duration": 165,
    "start_time": "2022-10-26T05:26:01.690Z"
   },
   {
    "duration": 163,
    "start_time": "2022-10-26T05:26:01.856Z"
   },
   {
    "duration": 182,
    "start_time": "2022-10-26T05:26:02.021Z"
   },
   {
    "duration": 306,
    "start_time": "2022-10-26T05:26:02.204Z"
   },
   {
    "duration": 192,
    "start_time": "2022-10-26T05:26:02.511Z"
   },
   {
    "duration": 33,
    "start_time": "2022-10-26T05:26:02.705Z"
   },
   {
    "duration": 183,
    "start_time": "2022-10-26T05:26:02.740Z"
   },
   {
    "duration": 14,
    "start_time": "2022-10-26T05:27:54.634Z"
   },
   {
    "duration": 84,
    "start_time": "2022-10-26T05:27:59.573Z"
   },
   {
    "duration": 464,
    "start_time": "2023-03-09T06:40:42.530Z"
   },
   {
    "duration": 384,
    "start_time": "2023-03-09T06:40:42.997Z"
   },
   {
    "duration": 2775,
    "start_time": "2023-03-09T06:40:43.382Z"
   },
   {
    "duration": 20,
    "start_time": "2023-03-09T06:40:46.161Z"
   },
   {
    "duration": 14,
    "start_time": "2023-03-09T06:40:46.183Z"
   },
   {
    "duration": 45,
    "start_time": "2023-03-09T06:40:46.200Z"
   },
   {
    "duration": 26,
    "start_time": "2023-03-09T06:40:46.248Z"
   },
   {
    "duration": 72,
    "start_time": "2023-03-09T06:40:46.276Z"
   },
   {
    "duration": 40,
    "start_time": "2023-03-09T06:40:46.350Z"
   },
   {
    "duration": 197,
    "start_time": "2023-03-09T06:40:46.393Z"
   },
   {
    "duration": 265,
    "start_time": "2023-03-09T06:40:46.593Z"
   },
   {
    "duration": 289,
    "start_time": "2023-03-09T06:40:46.860Z"
   },
   {
    "duration": 177,
    "start_time": "2023-03-09T06:40:47.150Z"
   },
   {
    "duration": 6,
    "start_time": "2023-03-09T06:40:47.331Z"
   },
   {
    "duration": 285,
    "start_time": "2023-03-09T06:40:47.339Z"
   },
   {
    "duration": 321,
    "start_time": "2023-03-09T06:40:47.625Z"
   },
   {
    "duration": 245,
    "start_time": "2023-03-09T06:40:47.949Z"
   },
   {
    "duration": 240,
    "start_time": "2023-03-09T06:40:48.196Z"
   },
   {
    "duration": 226,
    "start_time": "2023-03-09T06:40:48.445Z"
   },
   {
    "duration": 227,
    "start_time": "2023-03-09T06:40:48.673Z"
   },
   {
    "duration": 241,
    "start_time": "2023-03-09T06:40:48.902Z"
   },
   {
    "duration": 219,
    "start_time": "2023-03-09T06:40:49.145Z"
   },
   {
    "duration": 249,
    "start_time": "2023-03-09T06:40:49.366Z"
   },
   {
    "duration": 285,
    "start_time": "2023-03-09T06:40:49.616Z"
   },
   {
    "duration": 222,
    "start_time": "2023-03-09T06:40:49.903Z"
   },
   {
    "duration": 208,
    "start_time": "2023-03-09T06:40:50.127Z"
   },
   {
    "duration": 214,
    "start_time": "2023-03-09T06:40:50.337Z"
   },
   {
    "duration": 208,
    "start_time": "2023-03-09T06:40:50.556Z"
   },
   {
    "duration": 263,
    "start_time": "2023-03-09T06:40:50.765Z"
   },
   {
    "duration": 233,
    "start_time": "2023-03-09T06:40:51.031Z"
   },
   {
    "duration": 203,
    "start_time": "2023-03-09T06:40:51.266Z"
   },
   {
    "duration": 207,
    "start_time": "2023-03-09T06:40:51.471Z"
   },
   {
    "duration": 190,
    "start_time": "2023-03-09T06:40:51.680Z"
   },
   {
    "duration": 174,
    "start_time": "2023-03-09T06:40:51.872Z"
   },
   {
    "duration": 302,
    "start_time": "2023-03-09T06:40:52.048Z"
   },
   {
    "duration": 206,
    "start_time": "2023-03-09T06:40:52.352Z"
   },
   {
    "duration": 205,
    "start_time": "2023-03-09T06:40:52.560Z"
   },
   {
    "duration": 195,
    "start_time": "2023-03-09T06:40:52.768Z"
   },
   {
    "duration": 24,
    "start_time": "2023-03-09T06:40:52.965Z"
   },
   {
    "duration": 215,
    "start_time": "2023-03-09T06:40:52.991Z"
   },
   {
    "duration": 446,
    "start_time": "2023-03-09T07:57:36.755Z"
   },
   {
    "duration": 167,
    "start_time": "2023-03-09T07:57:37.204Z"
   },
   {
    "duration": 2832,
    "start_time": "2023-03-09T07:57:37.373Z"
   },
   {
    "duration": 18,
    "start_time": "2023-03-09T07:57:40.207Z"
   },
   {
    "duration": 22,
    "start_time": "2023-03-09T07:57:40.227Z"
   },
   {
    "duration": 46,
    "start_time": "2023-03-09T07:57:40.251Z"
   },
   {
    "duration": 23,
    "start_time": "2023-03-09T07:57:40.299Z"
   },
   {
    "duration": 61,
    "start_time": "2023-03-09T07:57:40.325Z"
   },
   {
    "duration": 33,
    "start_time": "2023-03-09T07:57:40.388Z"
   },
   {
    "duration": 224,
    "start_time": "2023-03-09T07:57:40.433Z"
   },
   {
    "duration": 280,
    "start_time": "2023-03-09T07:57:40.659Z"
   },
   {
    "duration": 302,
    "start_time": "2023-03-09T07:57:40.941Z"
   },
   {
    "duration": 212,
    "start_time": "2023-03-09T07:57:41.246Z"
   },
   {
    "duration": 7,
    "start_time": "2023-03-09T07:57:41.460Z"
   },
   {
    "duration": 206,
    "start_time": "2023-03-09T07:57:41.469Z"
   },
   {
    "duration": 507,
    "start_time": "2023-03-09T07:57:41.678Z"
   },
   {
    "duration": 284,
    "start_time": "2023-03-09T07:57:42.188Z"
   },
   {
    "duration": 289,
    "start_time": "2023-03-09T07:57:42.474Z"
   },
   {
    "duration": 257,
    "start_time": "2023-03-09T07:57:42.765Z"
   },
   {
    "duration": 274,
    "start_time": "2023-03-09T07:57:43.031Z"
   },
   {
    "duration": 287,
    "start_time": "2023-03-09T07:57:43.307Z"
   },
   {
    "duration": 268,
    "start_time": "2023-03-09T07:57:43.596Z"
   },
   {
    "duration": 275,
    "start_time": "2023-03-09T07:57:43.867Z"
   },
   {
    "duration": 149,
    "start_time": "2023-03-09T07:57:44.153Z"
   },
   {
    "duration": 363,
    "start_time": "2023-03-09T07:57:44.304Z"
   },
   {
    "duration": 210,
    "start_time": "2023-03-09T07:57:44.669Z"
   },
   {
    "duration": 204,
    "start_time": "2023-03-09T07:57:44.881Z"
   },
   {
    "duration": 210,
    "start_time": "2023-03-09T07:57:45.089Z"
   },
   {
    "duration": 280,
    "start_time": "2023-03-09T07:57:45.302Z"
   },
   {
    "duration": 289,
    "start_time": "2023-03-09T07:57:45.585Z"
   },
   {
    "duration": 254,
    "start_time": "2023-03-09T07:57:45.877Z"
   },
   {
    "duration": 255,
    "start_time": "2023-03-09T07:57:46.141Z"
   },
   {
    "duration": 209,
    "start_time": "2023-03-09T07:57:46.398Z"
   },
   {
    "duration": 189,
    "start_time": "2023-03-09T07:57:46.609Z"
   },
   {
    "duration": 192,
    "start_time": "2023-03-09T07:57:46.800Z"
   },
   {
    "duration": 326,
    "start_time": "2023-03-09T07:57:46.995Z"
   },
   {
    "duration": 210,
    "start_time": "2023-03-09T07:57:47.323Z"
   },
   {
    "duration": 192,
    "start_time": "2023-03-09T07:57:47.535Z"
   },
   {
    "duration": 35,
    "start_time": "2023-03-09T07:57:47.733Z"
   },
   {
    "duration": 204,
    "start_time": "2023-03-09T07:57:47.770Z"
   },
   {
    "duration": 119,
    "start_time": "2023-03-09T07:58:03.067Z"
   },
   {
    "duration": 149,
    "start_time": "2023-03-09T07:58:05.779Z"
   }
  ],
  "kernelspec": {
   "display_name": "Python 3 (ipykernel)",
   "language": "python",
   "name": "python3"
  },
  "language_info": {
   "codemirror_mode": {
    "name": "ipython",
    "version": 3
   },
   "file_extension": ".py",
   "mimetype": "text/x-python",
   "name": "python",
   "nbconvert_exporter": "python",
   "pygments_lexer": "ipython3",
   "version": "3.9.5"
  },
  "toc": {
   "base_numbering": 1,
   "nav_menu": {},
   "number_sections": true,
   "sideBar": true,
   "skip_h1_title": true,
   "title_cell": "Table of Contents",
   "title_sidebar": "Contents",
   "toc_cell": false,
   "toc_position": {},
   "toc_section_display": true,
   "toc_window_display": false
  }
 },
 "nbformat": 4,
 "nbformat_minor": 2
}
