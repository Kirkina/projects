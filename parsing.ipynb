{
 "cells": [
  {
   "cell_type": "code",
   "execution_count": null,
   "id": "dc1f170f",
   "metadata": {},
   "outputs": [],
   "source": [
    "import pandas as pd\n",
    "from selenium import webdriver\n",
    "from tqdm import tqdm_notebook as tqdmn\n",
    "import pandas as pd\n",
    "import folium\n",
    "from selenium.webdriver.common.by import By\n",
    "import os\n",
    "import warnings\n",
    "warnings.filterwarnings('ignore')"
   ]
  },
  {
   "cell_type": "code",
   "execution_count": null,
   "id": "8d358228",
   "metadata": {},
   "outputs": [],
   "source": [
    "company = pd.read_excel('дома.xlsx')"
   ]
  },
  {
   "cell_type": "code",
   "execution_count": null,
   "id": "45fda9c3",
   "metadata": {},
   "outputs": [],
   "source": [
    "company.head()"
   ]
  },
  {
   "cell_type": "code",
   "execution_count": null,
   "id": "f1a9b5fe",
   "metadata": {},
   "outputs": [],
   "source": [
    "company.address = company.address.str.replace('/', ' ')\n",
    "company['url'] = ['https://www.google.com/maps/search/' + i for i in company['address']]\n",
    "url_with_coordinates = []"
   ]
  },
  {
   "cell_type": "code",
   "execution_count": null,
   "id": "404c391d",
   "metadata": {},
   "outputs": [],
   "source": [
    "company.head()"
   ]
  },
  {
   "cell_type": "code",
   "execution_count": null,
   "id": "e7bc9dbe",
   "metadata": {},
   "outputs": [],
   "source": [
    "from selenium import webdriver\n",
    "\n",
    "options = webdriver.ChromeOptions()\n",
    "prefs = {'profile.default_content_setting_values': {'images': 2}}\n",
    "\n",
    "options.add_experimental_option('prefs', prefs)\n",
    "\n",
    "driver = webdriver.Chrome(options=options)"
   ]
  },
  {
   "cell_type": "code",
   "execution_count": null,
   "id": "693dfce6",
   "metadata": {},
   "outputs": [],
   "source": [
    "for url in tqdmn(company.url, leave=False):\n",
    "    try:\n",
    "        driver.get(url)\n",
    "        url_with_coordinates.append(driver.find_element(By.CSS_SELECTOR, 'meta[itemprop=image]').get_attribute('content'))\n",
    "    except IndexError or NoSuchElementException:\n",
    "        continue\n",
    "        \n",
    "driver.close()"
   ]
  },
  {
   "cell_type": "code",
   "execution_count": null,
   "id": "31f5a97c",
   "metadata": {},
   "outputs": [],
   "source": [
    "url_with_coordinates"
   ]
  },
  {
   "cell_type": "code",
   "execution_count": null,
   "id": "288b2ac9",
   "metadata": {},
   "outputs": [],
   "source": [
    "for url in tqdmn(company.url, leave=False):\n",
    "    try:\n",
    "        company['url_with_coordinates'] = url_with_coordinates\n",
    "        company['lat'] = [url.split('?center=')[1].split('&zoom=')[0].split('%2C')[0] for url in company['url_with_coordinates'] ]\n",
    "        company['long'] = [url.split('?center=')[1].split('&zoom=')[0].split('%2C')[1] for url in company['url_with_coordinates'] ]\n",
    "    except IndexError:\n",
    "        continue"
   ]
  },
  {
   "cell_type": "code",
   "execution_count": null,
   "id": "fafe0811",
   "metadata": {},
   "outputs": [],
   "source": [
    "company.head()"
   ]
  },
  {
   "cell_type": "code",
   "execution_count": null,
   "id": "d7dcc73a",
   "metadata": {
    "scrolled": false
   },
   "outputs": [],
   "source": [
    "company['lat'] = company['lat'].astype('float')\n",
    "company['long'] = company['long'].astype('float')\n",
    "company.info()"
   ]
  },
  {
   "cell_type": "code",
   "execution_count": null,
   "id": "5daaa273",
   "metadata": {},
   "outputs": [],
   "source": [
    "company.to_excel('1.xlsx')"
   ]
  }
 ],
 "metadata": {
  "kernelspec": {
   "display_name": "Python 3 (ipykernel)",
   "language": "python",
   "name": "python3"
  },
  "language_info": {
   "codemirror_mode": {
    "name": "ipython",
    "version": 3
   },
   "file_extension": ".py",
   "mimetype": "text/x-python",
   "name": "python",
   "nbconvert_exporter": "python",
   "pygments_lexer": "ipython3",
   "version": "3.11.4"
  }
 },
 "nbformat": 4,
 "nbformat_minor": 5
}
