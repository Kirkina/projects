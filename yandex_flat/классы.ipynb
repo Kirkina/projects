{
 "cells": [
  {
   "cell_type": "markdown",
   "id": "94ad761d",
   "metadata": {},
   "source": [
    "import pandas as pd"
   ]
  },
  {
   "cell_type": "markdown",
   "id": "fa055c38",
   "metadata": {},
   "source": [
    "**Создание класса**"
   ]
  },
  {
   "cell_type": "code",
   "execution_count": 1,
   "id": "143ce33d",
   "metadata": {},
   "outputs": [],
   "source": [
    "# Создаем класс Car\n",
    "class Car:\n",
    " \n",
    "    # создаем атрибуты класса\n",
    "    name = \"c200\"\n",
    "    make = \"mercedez\"\n",
    "    model = 2008\n",
    " \n",
    "    # создаем методы класса\n",
    "    def start(self):\n",
    "        print (\"Заводим двигатель\")\n",
    " \n",
    "    def stop(self):\n",
    "        print (\"Отключаем двигатель\")"
   ]
  },
  {
   "cell_type": "markdown",
   "id": "3656029a",
   "metadata": {},
   "source": [
    "Создадим **объект класса** Car, который мы создали в предыдущем разделе"
   ]
  },
  {
   "cell_type": "code",
   "execution_count": 2,
   "id": "fad86fe1",
   "metadata": {},
   "outputs": [],
   "source": [
    "# Создаем объект класса Car под названием car_a\n",
    "car_a = Car()\n",
    " \n",
    "# Создаем объект класса Car под названием car_b\n",
    "car_b = Car()"
   ]
  },
  {
   "cell_type": "code",
   "execution_count": 3,
   "id": "f6dc8fd6",
   "metadata": {},
   "outputs": [
    {
     "name": "stdout",
     "output_type": "stream",
     "text": [
      "<class '__main__.Car'>\n"
     ]
    }
   ],
   "source": [
    "print(type(car_b))"
   ]
  },
  {
   "cell_type": "code",
   "execution_count": 4,
   "id": "ce79bf31",
   "metadata": {},
   "outputs": [
    {
     "name": "stdout",
     "output_type": "stream",
     "text": [
      "Заводим двигатель\n"
     ]
    }
   ],
   "source": [
    "car_b.start()"
   ]
  },
  {
   "cell_type": "code",
   "execution_count": 5,
   "id": "6219189b",
   "metadata": {},
   "outputs": [
    {
     "name": "stdout",
     "output_type": "stream",
     "text": [
      "Отключаем двигатель\n"
     ]
    }
   ],
   "source": [
    "Car().stop()"
   ]
  },
  {
   "cell_type": "code",
   "execution_count": 6,
   "id": "5641b13e",
   "metadata": {},
   "outputs": [
    {
     "name": "stdout",
     "output_type": "stream",
     "text": [
      "2008\n"
     ]
    }
   ],
   "source": [
    "print(car_b.model)"
   ]
  },
  {
   "cell_type": "code",
   "execution_count": 7,
   "id": "48d509bb",
   "metadata": {},
   "outputs": [
    {
     "data": {
      "text/plain": [
       "2008"
      ]
     },
     "execution_count": 7,
     "metadata": {},
     "output_type": "execute_result"
    }
   ],
   "source": [
    "Car().model"
   ]
  },
  {
   "cell_type": "code",
   "execution_count": 8,
   "id": "f6cb083a",
   "metadata": {},
   "outputs": [
    {
     "name": "stdout",
     "output_type": "stream",
     "text": [
      "Отключаем двигатель\n"
     ]
    }
   ],
   "source": [
    "Car().stop()"
   ]
  },
  {
   "cell_type": "markdown",
   "id": "c589aef8",
   "metadata": {},
   "source": [
    "**Атрибуты класса** "
   ]
  },
  {
   "cell_type": "code",
   "execution_count": 9,
   "id": "29cef57e",
   "metadata": {},
   "outputs": [
    {
     "name": "stdout",
     "output_type": "stream",
     "text": [
      "['__class__', '__delattr__', '__dict__', '__dir__', '__doc__', '__eq__', '__format__', '__ge__', '__getattribute__', '__getstate__', '__gt__', '__hash__', '__init__', '__init_subclass__', '__le__', '__lt__', '__module__', '__ne__', '__new__', '__reduce__', '__reduce_ex__', '__repr__', '__setattr__', '__sizeof__', '__str__', '__subclasshook__', '__weakref__', 'make', 'model', 'name', 'start', 'stop']\n"
     ]
    }
   ],
   "source": [
    "# атрибуты\n",
    "print(dir(car_b))"
   ]
  },
  {
   "cell_type": "markdown",
   "id": "c40722e3",
   "metadata": {},
   "source": [
    "**Атрибуты класса против атрибутов экземпляров**"
   ]
  },
  {
   "cell_type": "markdown",
   "id": "f267242b",
   "metadata": {},
   "source": [
    "Атрибуты класса делятся среди всех объектов класса, в то время как атрибуты экземпляров являются собственностью экземпляра."
   ]
  },
  {
   "cell_type": "markdown",
   "id": "176fdab2",
   "metadata": {},
   "source": [
    "Разница:\n",
    "- Атрибуты объекта (экземпляра) объявляются **внутри** любого метода\n",
    "- Атрибуты класса объявляются **вне** любого метода"
   ]
  },
  {
   "cell_type": "code",
   "execution_count": 10,
   "id": "2ce071c3",
   "metadata": {},
   "outputs": [],
   "source": [
    "class Car:\n",
    " \n",
    "    # создаем атрибуты класса\n",
    "    car_count = 0\n",
    " \n",
    "    # создаем методы класса\n",
    "    def start(self, name, make, model):\n",
    "        print(\"Двигатель заведен\")\n",
    "        self.name = name\n",
    "        self.make = make\n",
    "        self.model = model\n",
    "        Car.car_count += 1"
   ]
  },
  {
   "cell_type": "code",
   "execution_count": 11,
   "id": "bb2514a4",
   "metadata": {},
   "outputs": [
    {
     "name": "stdout",
     "output_type": "stream",
     "text": [
      "Двигатель заведен\n",
      "Corrola\n",
      "1\n"
     ]
    }
   ],
   "source": [
    "car_a = Car()  \n",
    "car_a.start(\"Corrola\", \"Toyota\", 2015)  \n",
    "print(car_a.name)  \n",
    "print(car_a.car_count)"
   ]
  },
  {
   "cell_type": "code",
   "execution_count": 12,
   "id": "3de41dd1",
   "metadata": {},
   "outputs": [
    {
     "name": "stdout",
     "output_type": "stream",
     "text": [
      "Двигатель заведен\n",
      "City\n",
      "2\n"
     ]
    }
   ],
   "source": [
    "car_b = Car()  \n",
    "car_b.start(\"City\", \"Honda\", 2013)  \n",
    "print(car_b.name)  \n",
    "print(car_b.car_count)"
   ]
  },
  {
   "cell_type": "markdown",
   "id": "e2745d97",
   "metadata": {},
   "source": [
    "### Методы"
   ]
  },
  {
   "cell_type": "markdown",
   "id": "1c3d752c",
   "metadata": {},
   "source": [
    "**Статичные методы**"
   ]
  },
  {
   "cell_type": "code",
   "execution_count": 13,
   "id": "c6abdf22",
   "metadata": {},
   "outputs": [
    {
     "name": "stdout",
     "output_type": "stream",
     "text": [
      "Это класс Car\n"
     ]
    }
   ],
   "source": [
    "class Car:\n",
    " \n",
    "    @staticmethod\n",
    "    def get_class_details():\n",
    "        print (\"Это класс Car\")\n",
    " \n",
    "Car.get_class_details()"
   ]
  },
  {
   "cell_type": "markdown",
   "id": "ec7b7c0a",
   "metadata": {},
   "source": [
    "**Возврат множественных значений из метода**"
   ]
  },
  {
   "cell_type": "code",
   "execution_count": 14,
   "id": "decebaa9",
   "metadata": {},
   "outputs": [
    {
     "data": {
      "text/plain": [
       "(9, 25)"
      ]
     },
     "execution_count": 14,
     "metadata": {},
     "output_type": "execute_result"
    }
   ],
   "source": [
    "class Square:\n",
    " \n",
    "    @staticmethod\n",
    "    def get_squares(a, b):\n",
    "        return a*a, b*b\n",
    " \n",
    "Square.get_squares(3, 5)"
   ]
  },
  {
   "cell_type": "markdown",
   "id": "3d26d8dc",
   "metadata": {},
   "source": [
    "**Метод str**"
   ]
  },
  {
   "cell_type": "code",
   "execution_count": 21,
   "id": "d73337aa",
   "metadata": {},
   "outputs": [
    {
     "name": "stdout",
     "output_type": "stream",
     "text": [
      "<__main__.Car object at 0x0000026D98696050>\n"
     ]
    }
   ],
   "source": [
    "class Car:\n",
    " \n",
    "    # создание методов класса\n",
    "    def start(self):\n",
    "        print (\"Двигатель заведен\")\n",
    " \n",
    "car_a = Car()  \n",
    "print(car_a)"
   ]
  },
  {
   "cell_type": "code",
   "execution_count": 23,
   "id": "0329c1f8",
   "metadata": {},
   "outputs": [
    {
     "name": "stdout",
     "output_type": "stream",
     "text": [
      "Двигатель заведен\n"
     ]
    }
   ],
   "source": [
    "Car().start()"
   ]
  },
  {
   "cell_type": "code",
   "execution_count": 20,
   "id": "56792787",
   "metadata": {},
   "outputs": [
    {
     "name": "stdout",
     "output_type": "stream",
     "text": [
      "ляля тополя\n"
     ]
    }
   ],
   "source": [
    "# создание класса Car\n",
    "class Car:\n",
    " \n",
    "    # создание методов класса\n",
    "    def __str__(self):\n",
    "        return \"ляля тополя\"\n",
    " \n",
    "    def start(self):\n",
    "        print (\"Двигатель заведен\")\n",
    " \n",
    "car_a = Car()  \n",
    "print(car_a)"
   ]
  },
  {
   "cell_type": "code",
   "execution_count": null,
   "id": "5373efb8",
   "metadata": {},
   "outputs": [],
   "source": []
  }
 ],
 "metadata": {
  "kernelspec": {
   "display_name": "Python 3 (ipykernel)",
   "language": "python",
   "name": "python3"
  },
  "language_info": {
   "codemirror_mode": {
    "name": "ipython",
    "version": 3
   },
   "file_extension": ".py",
   "mimetype": "text/x-python",
   "name": "python",
   "nbconvert_exporter": "python",
   "pygments_lexer": "ipython3",
   "version": "3.11.4"
  }
 },
 "nbformat": 4,
 "nbformat_minor": 5
}
